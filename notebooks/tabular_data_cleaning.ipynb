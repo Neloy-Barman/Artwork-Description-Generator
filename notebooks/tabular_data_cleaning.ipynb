{
  "nbformat": 4,
  "nbformat_minor": 0,
  "metadata": {
    "colab": {
      "provenance": []
    },
    "kernelspec": {
      "name": "python3",
      "display_name": "Python 3"
    },
    "language_info": {
      "name": "python"
    }
  },
  "cells": [
    {
      "cell_type": "markdown",
      "source": [
        "## **Magic functions**"
      ],
      "metadata": {
        "id": "8mGySFNY3lOq"
      }
    },
    {
      "cell_type": "code",
      "execution_count": 14,
      "metadata": {
        "id": "9Qpaqavjnh6p"
      },
      "outputs": [],
      "source": [
        "%reload_ext autoreload\n",
        "%autoreload 2\n",
        "%matplotlib inline"
      ]
    },
    {
      "cell_type": "markdown",
      "source": [
        "## **Required installation**"
      ],
      "metadata": {
        "id": "cL6_y13A3ojw"
      }
    },
    {
      "cell_type": "code",
      "source": [
        "!pip install fastai fastbook nbdev"
      ],
      "metadata": {
        "colab": {
          "base_uri": "https://localhost:8080/"
        },
        "id": "RIRQ0yFquXBL",
        "outputId": "c53536b9-eb7a-4bb9-cbdf-3c467ca5ad78"
      },
      "execution_count": 15,
      "outputs": [
        {
          "output_type": "stream",
          "name": "stdout",
          "text": [
            "Requirement already satisfied: fastai in /usr/local/lib/python3.10/dist-packages (2.7.14)\n",
            "Requirement already satisfied: fastbook in /usr/local/lib/python3.10/dist-packages (0.0.29)\n",
            "Requirement already satisfied: nbdev in /usr/local/lib/python3.10/dist-packages (2.3.13)\n",
            "Requirement already satisfied: pip in /usr/local/lib/python3.10/dist-packages (from fastai) (23.1.2)\n",
            "Requirement already satisfied: packaging in /usr/local/lib/python3.10/dist-packages (from fastai) (23.2)\n",
            "Requirement already satisfied: fastdownload<2,>=0.0.5 in /usr/local/lib/python3.10/dist-packages (from fastai) (0.0.7)\n",
            "Requirement already satisfied: fastcore<1.6,>=1.5.29 in /usr/local/lib/python3.10/dist-packages (from fastai) (1.5.29)\n",
            "Requirement already satisfied: torchvision>=0.11 in /usr/local/lib/python3.10/dist-packages (from fastai) (0.16.0+cu121)\n",
            "Requirement already satisfied: matplotlib in /usr/local/lib/python3.10/dist-packages (from fastai) (3.7.1)\n",
            "Requirement already satisfied: pandas in /usr/local/lib/python3.10/dist-packages (from fastai) (1.5.3)\n",
            "Requirement already satisfied: requests in /usr/local/lib/python3.10/dist-packages (from fastai) (2.31.0)\n",
            "Requirement already satisfied: pyyaml in /usr/local/lib/python3.10/dist-packages (from fastai) (6.0.1)\n",
            "Requirement already satisfied: fastprogress>=0.2.4 in /usr/local/lib/python3.10/dist-packages (from fastai) (1.0.3)\n",
            "Requirement already satisfied: pillow>=9.0.0 in /usr/local/lib/python3.10/dist-packages (from fastai) (9.4.0)\n",
            "Requirement already satisfied: scikit-learn in /usr/local/lib/python3.10/dist-packages (from fastai) (1.2.2)\n",
            "Requirement already satisfied: scipy in /usr/local/lib/python3.10/dist-packages (from fastai) (1.11.4)\n",
            "Requirement already satisfied: spacy<4 in /usr/local/lib/python3.10/dist-packages (from fastai) (3.7.4)\n",
            "Requirement already satisfied: torch<2.3,>=1.10 in /usr/local/lib/python3.10/dist-packages (from fastai) (2.1.0+cu121)\n",
            "Requirement already satisfied: graphviz in /usr/local/lib/python3.10/dist-packages (from fastbook) (0.20.1)\n",
            "Requirement already satisfied: transformers in /usr/local/lib/python3.10/dist-packages (from fastbook) (4.38.2)\n",
            "Requirement already satisfied: datasets in /usr/local/lib/python3.10/dist-packages (from fastbook) (2.18.0)\n",
            "Requirement already satisfied: ipywidgets<8 in /usr/local/lib/python3.10/dist-packages (from fastbook) (7.7.1)\n",
            "Requirement already satisfied: sentencepiece in /usr/local/lib/python3.10/dist-packages (from fastbook) (0.1.99)\n",
            "Requirement already satisfied: execnb>=0.1.4 in /usr/local/lib/python3.10/dist-packages (from nbdev) (0.1.5)\n",
            "Requirement already satisfied: astunparse in /usr/local/lib/python3.10/dist-packages (from nbdev) (1.6.3)\n",
            "Requirement already satisfied: ghapi>=1.0.3 in /usr/local/lib/python3.10/dist-packages (from nbdev) (1.0.4)\n",
            "Requirement already satisfied: watchdog in /usr/local/lib/python3.10/dist-packages (from nbdev) (4.0.0)\n",
            "Requirement already satisfied: asttokens in /usr/local/lib/python3.10/dist-packages (from nbdev) (2.4.1)\n",
            "Requirement already satisfied: ipython in /usr/local/lib/python3.10/dist-packages (from execnb>=0.1.4->nbdev) (7.34.0)\n",
            "Requirement already satisfied: ipykernel>=4.5.1 in /usr/local/lib/python3.10/dist-packages (from ipywidgets<8->fastbook) (5.5.6)\n",
            "Requirement already satisfied: ipython-genutils~=0.2.0 in /usr/local/lib/python3.10/dist-packages (from ipywidgets<8->fastbook) (0.2.0)\n",
            "Requirement already satisfied: traitlets>=4.3.1 in /usr/local/lib/python3.10/dist-packages (from ipywidgets<8->fastbook) (5.7.1)\n",
            "Requirement already satisfied: widgetsnbextension~=3.6.0 in /usr/local/lib/python3.10/dist-packages (from ipywidgets<8->fastbook) (3.6.6)\n",
            "Requirement already satisfied: jupyterlab-widgets>=1.0.0 in /usr/local/lib/python3.10/dist-packages (from ipywidgets<8->fastbook) (3.0.10)\n",
            "Requirement already satisfied: spacy-legacy<3.1.0,>=3.0.11 in /usr/local/lib/python3.10/dist-packages (from spacy<4->fastai) (3.0.12)\n",
            "Requirement already satisfied: spacy-loggers<2.0.0,>=1.0.0 in /usr/local/lib/python3.10/dist-packages (from spacy<4->fastai) (1.0.5)\n",
            "Requirement already satisfied: murmurhash<1.1.0,>=0.28.0 in /usr/local/lib/python3.10/dist-packages (from spacy<4->fastai) (1.0.10)\n",
            "Requirement already satisfied: cymem<2.1.0,>=2.0.2 in /usr/local/lib/python3.10/dist-packages (from spacy<4->fastai) (2.0.8)\n",
            "Requirement already satisfied: preshed<3.1.0,>=3.0.2 in /usr/local/lib/python3.10/dist-packages (from spacy<4->fastai) (3.0.9)\n",
            "Requirement already satisfied: thinc<8.3.0,>=8.2.2 in /usr/local/lib/python3.10/dist-packages (from spacy<4->fastai) (8.2.3)\n",
            "Requirement already satisfied: wasabi<1.2.0,>=0.9.1 in /usr/local/lib/python3.10/dist-packages (from spacy<4->fastai) (1.1.2)\n",
            "Requirement already satisfied: srsly<3.0.0,>=2.4.3 in /usr/local/lib/python3.10/dist-packages (from spacy<4->fastai) (2.4.8)\n",
            "Requirement already satisfied: catalogue<2.1.0,>=2.0.6 in /usr/local/lib/python3.10/dist-packages (from spacy<4->fastai) (2.0.10)\n",
            "Requirement already satisfied: weasel<0.4.0,>=0.1.0 in /usr/local/lib/python3.10/dist-packages (from spacy<4->fastai) (0.3.4)\n",
            "Requirement already satisfied: typer<0.10.0,>=0.3.0 in /usr/local/lib/python3.10/dist-packages (from spacy<4->fastai) (0.9.0)\n",
            "Requirement already satisfied: smart-open<7.0.0,>=5.2.1 in /usr/local/lib/python3.10/dist-packages (from spacy<4->fastai) (6.4.0)\n",
            "Requirement already satisfied: tqdm<5.0.0,>=4.38.0 in /usr/local/lib/python3.10/dist-packages (from spacy<4->fastai) (4.66.2)\n",
            "Requirement already satisfied: pydantic!=1.8,!=1.8.1,<3.0.0,>=1.7.4 in /usr/local/lib/python3.10/dist-packages (from spacy<4->fastai) (2.6.3)\n",
            "Requirement already satisfied: jinja2 in /usr/local/lib/python3.10/dist-packages (from spacy<4->fastai) (3.1.3)\n",
            "Requirement already satisfied: setuptools in /usr/local/lib/python3.10/dist-packages (from spacy<4->fastai) (67.7.2)\n",
            "Requirement already satisfied: langcodes<4.0.0,>=3.2.0 in /usr/local/lib/python3.10/dist-packages (from spacy<4->fastai) (3.3.0)\n",
            "Requirement already satisfied: numpy>=1.19.0 in /usr/local/lib/python3.10/dist-packages (from spacy<4->fastai) (1.25.2)\n",
            "Requirement already satisfied: charset-normalizer<4,>=2 in /usr/local/lib/python3.10/dist-packages (from requests->fastai) (3.3.2)\n",
            "Requirement already satisfied: idna<4,>=2.5 in /usr/local/lib/python3.10/dist-packages (from requests->fastai) (2.10)\n",
            "Requirement already satisfied: urllib3<3,>=1.21.1 in /usr/local/lib/python3.10/dist-packages (from requests->fastai) (2.0.7)\n",
            "Requirement already satisfied: certifi>=2017.4.17 in /usr/local/lib/python3.10/dist-packages (from requests->fastai) (2024.2.2)\n",
            "Requirement already satisfied: filelock in /usr/local/lib/python3.10/dist-packages (from torch<2.3,>=1.10->fastai) (3.13.1)\n",
            "Requirement already satisfied: typing-extensions in /usr/local/lib/python3.10/dist-packages (from torch<2.3,>=1.10->fastai) (4.10.0)\n",
            "Requirement already satisfied: sympy in /usr/local/lib/python3.10/dist-packages (from torch<2.3,>=1.10->fastai) (1.12)\n",
            "Requirement already satisfied: networkx in /usr/local/lib/python3.10/dist-packages (from torch<2.3,>=1.10->fastai) (3.2.1)\n",
            "Requirement already satisfied: fsspec in /usr/local/lib/python3.10/dist-packages (from torch<2.3,>=1.10->fastai) (2023.6.0)\n",
            "Requirement already satisfied: triton==2.1.0 in /usr/local/lib/python3.10/dist-packages (from torch<2.3,>=1.10->fastai) (2.1.0)\n",
            "Requirement already satisfied: six>=1.12.0 in /usr/local/lib/python3.10/dist-packages (from asttokens->nbdev) (1.16.0)\n",
            "Requirement already satisfied: wheel<1.0,>=0.23.0 in /usr/local/lib/python3.10/dist-packages (from astunparse->nbdev) (0.42.0)\n",
            "Requirement already satisfied: pyarrow>=12.0.0 in /usr/local/lib/python3.10/dist-packages (from datasets->fastbook) (14.0.2)\n",
            "Requirement already satisfied: pyarrow-hotfix in /usr/local/lib/python3.10/dist-packages (from datasets->fastbook) (0.6)\n",
            "Requirement already satisfied: dill<0.3.9,>=0.3.0 in /usr/local/lib/python3.10/dist-packages (from datasets->fastbook) (0.3.8)\n",
            "Requirement already satisfied: xxhash in /usr/local/lib/python3.10/dist-packages (from datasets->fastbook) (3.4.1)\n",
            "Requirement already satisfied: multiprocess in /usr/local/lib/python3.10/dist-packages (from datasets->fastbook) (0.70.16)\n",
            "Requirement already satisfied: aiohttp in /usr/local/lib/python3.10/dist-packages (from datasets->fastbook) (3.9.3)\n",
            "Requirement already satisfied: huggingface-hub>=0.19.4 in /usr/local/lib/python3.10/dist-packages (from datasets->fastbook) (0.20.3)\n",
            "Requirement already satisfied: contourpy>=1.0.1 in /usr/local/lib/python3.10/dist-packages (from matplotlib->fastai) (1.2.0)\n",
            "Requirement already satisfied: cycler>=0.10 in /usr/local/lib/python3.10/dist-packages (from matplotlib->fastai) (0.12.1)\n",
            "Requirement already satisfied: fonttools>=4.22.0 in /usr/local/lib/python3.10/dist-packages (from matplotlib->fastai) (4.49.0)\n",
            "Requirement already satisfied: kiwisolver>=1.0.1 in /usr/local/lib/python3.10/dist-packages (from matplotlib->fastai) (1.4.5)\n",
            "Requirement already satisfied: pyparsing>=2.3.1 in /usr/local/lib/python3.10/dist-packages (from matplotlib->fastai) (3.1.1)\n",
            "Requirement already satisfied: python-dateutil>=2.7 in /usr/local/lib/python3.10/dist-packages (from matplotlib->fastai) (2.8.2)\n",
            "Requirement already satisfied: pytz>=2020.1 in /usr/local/lib/python3.10/dist-packages (from pandas->fastai) (2023.4)\n",
            "Requirement already satisfied: joblib>=1.1.1 in /usr/local/lib/python3.10/dist-packages (from scikit-learn->fastai) (1.3.2)\n",
            "Requirement already satisfied: threadpoolctl>=2.0.0 in /usr/local/lib/python3.10/dist-packages (from scikit-learn->fastai) (3.3.0)\n",
            "Requirement already satisfied: regex!=2019.12.17 in /usr/local/lib/python3.10/dist-packages (from transformers->fastbook) (2023.12.25)\n",
            "Requirement already satisfied: tokenizers<0.19,>=0.14 in /usr/local/lib/python3.10/dist-packages (from transformers->fastbook) (0.15.2)\n",
            "Requirement already satisfied: safetensors>=0.4.1 in /usr/local/lib/python3.10/dist-packages (from transformers->fastbook) (0.4.2)\n",
            "Requirement already satisfied: aiosignal>=1.1.2 in /usr/local/lib/python3.10/dist-packages (from aiohttp->datasets->fastbook) (1.3.1)\n",
            "Requirement already satisfied: attrs>=17.3.0 in /usr/local/lib/python3.10/dist-packages (from aiohttp->datasets->fastbook) (23.2.0)\n",
            "Requirement already satisfied: frozenlist>=1.1.1 in /usr/local/lib/python3.10/dist-packages (from aiohttp->datasets->fastbook) (1.4.1)\n",
            "Requirement already satisfied: multidict<7.0,>=4.5 in /usr/local/lib/python3.10/dist-packages (from aiohttp->datasets->fastbook) (6.0.5)\n",
            "Requirement already satisfied: yarl<2.0,>=1.0 in /usr/local/lib/python3.10/dist-packages (from aiohttp->datasets->fastbook) (1.9.4)\n",
            "Requirement already satisfied: async-timeout<5.0,>=4.0 in /usr/local/lib/python3.10/dist-packages (from aiohttp->datasets->fastbook) (4.0.3)\n",
            "Requirement already satisfied: jupyter-client in /usr/local/lib/python3.10/dist-packages (from ipykernel>=4.5.1->ipywidgets<8->fastbook) (6.1.12)\n",
            "Requirement already satisfied: tornado>=4.2 in /usr/local/lib/python3.10/dist-packages (from ipykernel>=4.5.1->ipywidgets<8->fastbook) (6.3.3)\n",
            "Requirement already satisfied: jedi>=0.16 in /usr/local/lib/python3.10/dist-packages (from ipython->execnb>=0.1.4->nbdev) (0.19.1)\n",
            "Requirement already satisfied: decorator in /usr/local/lib/python3.10/dist-packages (from ipython->execnb>=0.1.4->nbdev) (4.4.2)\n",
            "Requirement already satisfied: pickleshare in /usr/local/lib/python3.10/dist-packages (from ipython->execnb>=0.1.4->nbdev) (0.7.5)\n",
            "Requirement already satisfied: prompt-toolkit!=3.0.0,!=3.0.1,<3.1.0,>=2.0.0 in /usr/local/lib/python3.10/dist-packages (from ipython->execnb>=0.1.4->nbdev) (3.0.43)\n",
            "Requirement already satisfied: pygments in /usr/local/lib/python3.10/dist-packages (from ipython->execnb>=0.1.4->nbdev) (2.16.1)\n",
            "Requirement already satisfied: backcall in /usr/local/lib/python3.10/dist-packages (from ipython->execnb>=0.1.4->nbdev) (0.2.0)\n",
            "Requirement already satisfied: matplotlib-inline in /usr/local/lib/python3.10/dist-packages (from ipython->execnb>=0.1.4->nbdev) (0.1.6)\n",
            "Requirement already satisfied: pexpect>4.3 in /usr/local/lib/python3.10/dist-packages (from ipython->execnb>=0.1.4->nbdev) (4.9.0)\n",
            "Requirement already satisfied: annotated-types>=0.4.0 in /usr/local/lib/python3.10/dist-packages (from pydantic!=1.8,!=1.8.1,<3.0.0,>=1.7.4->spacy<4->fastai) (0.6.0)\n",
            "Requirement already satisfied: pydantic-core==2.16.3 in /usr/local/lib/python3.10/dist-packages (from pydantic!=1.8,!=1.8.1,<3.0.0,>=1.7.4->spacy<4->fastai) (2.16.3)\n",
            "Requirement already satisfied: blis<0.8.0,>=0.7.8 in /usr/local/lib/python3.10/dist-packages (from thinc<8.3.0,>=8.2.2->spacy<4->fastai) (0.7.11)\n",
            "Requirement already satisfied: confection<1.0.0,>=0.0.1 in /usr/local/lib/python3.10/dist-packages (from thinc<8.3.0,>=8.2.2->spacy<4->fastai) (0.1.4)\n",
            "Requirement already satisfied: click<9.0.0,>=7.1.1 in /usr/local/lib/python3.10/dist-packages (from typer<0.10.0,>=0.3.0->spacy<4->fastai) (8.1.7)\n",
            "Requirement already satisfied: cloudpathlib<0.17.0,>=0.7.0 in /usr/local/lib/python3.10/dist-packages (from weasel<0.4.0,>=0.1.0->spacy<4->fastai) (0.16.0)\n",
            "Requirement already satisfied: notebook>=4.4.1 in /usr/local/lib/python3.10/dist-packages (from widgetsnbextension~=3.6.0->ipywidgets<8->fastbook) (6.5.5)\n",
            "Requirement already satisfied: MarkupSafe>=2.0 in /usr/local/lib/python3.10/dist-packages (from jinja2->spacy<4->fastai) (2.1.5)\n",
            "Requirement already satisfied: mpmath>=0.19 in /usr/local/lib/python3.10/dist-packages (from sympy->torch<2.3,>=1.10->fastai) (1.3.0)\n",
            "Requirement already satisfied: parso<0.9.0,>=0.8.3 in /usr/local/lib/python3.10/dist-packages (from jedi>=0.16->ipython->execnb>=0.1.4->nbdev) (0.8.3)\n",
            "Requirement already satisfied: pyzmq<25,>=17 in /usr/local/lib/python3.10/dist-packages (from notebook>=4.4.1->widgetsnbextension~=3.6.0->ipywidgets<8->fastbook) (23.2.1)\n",
            "Requirement already satisfied: argon2-cffi in /usr/local/lib/python3.10/dist-packages (from notebook>=4.4.1->widgetsnbextension~=3.6.0->ipywidgets<8->fastbook) (23.1.0)\n",
            "Requirement already satisfied: jupyter-core>=4.6.1 in /usr/local/lib/python3.10/dist-packages (from notebook>=4.4.1->widgetsnbextension~=3.6.0->ipywidgets<8->fastbook) (5.7.1)\n",
            "Requirement already satisfied: nbformat in /usr/local/lib/python3.10/dist-packages (from notebook>=4.4.1->widgetsnbextension~=3.6.0->ipywidgets<8->fastbook) (5.9.2)\n",
            "Requirement already satisfied: nbconvert>=5 in /usr/local/lib/python3.10/dist-packages (from notebook>=4.4.1->widgetsnbextension~=3.6.0->ipywidgets<8->fastbook) (6.5.4)\n",
            "Requirement already satisfied: nest-asyncio>=1.5 in /usr/local/lib/python3.10/dist-packages (from notebook>=4.4.1->widgetsnbextension~=3.6.0->ipywidgets<8->fastbook) (1.6.0)\n",
            "Requirement already satisfied: Send2Trash>=1.8.0 in /usr/local/lib/python3.10/dist-packages (from notebook>=4.4.1->widgetsnbextension~=3.6.0->ipywidgets<8->fastbook) (1.8.2)\n",
            "Requirement already satisfied: terminado>=0.8.3 in /usr/local/lib/python3.10/dist-packages (from notebook>=4.4.1->widgetsnbextension~=3.6.0->ipywidgets<8->fastbook) (0.18.0)\n",
            "Requirement already satisfied: prometheus-client in /usr/local/lib/python3.10/dist-packages (from notebook>=4.4.1->widgetsnbextension~=3.6.0->ipywidgets<8->fastbook) (0.20.0)\n",
            "Requirement already satisfied: nbclassic>=0.4.7 in /usr/local/lib/python3.10/dist-packages (from notebook>=4.4.1->widgetsnbextension~=3.6.0->ipywidgets<8->fastbook) (1.0.0)\n",
            "Requirement already satisfied: ptyprocess>=0.5 in /usr/local/lib/python3.10/dist-packages (from pexpect>4.3->ipython->execnb>=0.1.4->nbdev) (0.7.0)\n",
            "Requirement already satisfied: wcwidth in /usr/local/lib/python3.10/dist-packages (from prompt-toolkit!=3.0.0,!=3.0.1,<3.1.0,>=2.0.0->ipython->execnb>=0.1.4->nbdev) (0.2.13)\n",
            "Requirement already satisfied: platformdirs>=2.5 in /usr/local/lib/python3.10/dist-packages (from jupyter-core>=4.6.1->notebook>=4.4.1->widgetsnbextension~=3.6.0->ipywidgets<8->fastbook) (4.2.0)\n",
            "Requirement already satisfied: jupyter-server>=1.8 in /usr/local/lib/python3.10/dist-packages (from nbclassic>=0.4.7->notebook>=4.4.1->widgetsnbextension~=3.6.0->ipywidgets<8->fastbook) (1.24.0)\n",
            "Requirement already satisfied: notebook-shim>=0.2.3 in /usr/local/lib/python3.10/dist-packages (from nbclassic>=0.4.7->notebook>=4.4.1->widgetsnbextension~=3.6.0->ipywidgets<8->fastbook) (0.2.4)\n",
            "Requirement already satisfied: lxml in /usr/local/lib/python3.10/dist-packages (from nbconvert>=5->notebook>=4.4.1->widgetsnbextension~=3.6.0->ipywidgets<8->fastbook) (4.9.4)\n",
            "Requirement already satisfied: beautifulsoup4 in /usr/local/lib/python3.10/dist-packages (from nbconvert>=5->notebook>=4.4.1->widgetsnbextension~=3.6.0->ipywidgets<8->fastbook) (4.12.3)\n",
            "Requirement already satisfied: bleach in /usr/local/lib/python3.10/dist-packages (from nbconvert>=5->notebook>=4.4.1->widgetsnbextension~=3.6.0->ipywidgets<8->fastbook) (6.1.0)\n",
            "Requirement already satisfied: defusedxml in /usr/local/lib/python3.10/dist-packages (from nbconvert>=5->notebook>=4.4.1->widgetsnbextension~=3.6.0->ipywidgets<8->fastbook) (0.7.1)\n",
            "Requirement already satisfied: entrypoints>=0.2.2 in /usr/local/lib/python3.10/dist-packages (from nbconvert>=5->notebook>=4.4.1->widgetsnbextension~=3.6.0->ipywidgets<8->fastbook) (0.4)\n",
            "Requirement already satisfied: jupyterlab-pygments in /usr/local/lib/python3.10/dist-packages (from nbconvert>=5->notebook>=4.4.1->widgetsnbextension~=3.6.0->ipywidgets<8->fastbook) (0.3.0)\n",
            "Requirement already satisfied: mistune<2,>=0.8.1 in /usr/local/lib/python3.10/dist-packages (from nbconvert>=5->notebook>=4.4.1->widgetsnbextension~=3.6.0->ipywidgets<8->fastbook) (0.8.4)\n",
            "Requirement already satisfied: nbclient>=0.5.0 in /usr/local/lib/python3.10/dist-packages (from nbconvert>=5->notebook>=4.4.1->widgetsnbextension~=3.6.0->ipywidgets<8->fastbook) (0.9.0)\n",
            "Requirement already satisfied: pandocfilters>=1.4.1 in /usr/local/lib/python3.10/dist-packages (from nbconvert>=5->notebook>=4.4.1->widgetsnbextension~=3.6.0->ipywidgets<8->fastbook) (1.5.1)\n",
            "Requirement already satisfied: tinycss2 in /usr/local/lib/python3.10/dist-packages (from nbconvert>=5->notebook>=4.4.1->widgetsnbextension~=3.6.0->ipywidgets<8->fastbook) (1.2.1)\n",
            "Requirement already satisfied: fastjsonschema in /usr/local/lib/python3.10/dist-packages (from nbformat->notebook>=4.4.1->widgetsnbextension~=3.6.0->ipywidgets<8->fastbook) (2.19.1)\n",
            "Requirement already satisfied: jsonschema>=2.6 in /usr/local/lib/python3.10/dist-packages (from nbformat->notebook>=4.4.1->widgetsnbextension~=3.6.0->ipywidgets<8->fastbook) (4.19.2)\n",
            "Requirement already satisfied: argon2-cffi-bindings in /usr/local/lib/python3.10/dist-packages (from argon2-cffi->notebook>=4.4.1->widgetsnbextension~=3.6.0->ipywidgets<8->fastbook) (21.2.0)\n",
            "Requirement already satisfied: jsonschema-specifications>=2023.03.6 in /usr/local/lib/python3.10/dist-packages (from jsonschema>=2.6->nbformat->notebook>=4.4.1->widgetsnbextension~=3.6.0->ipywidgets<8->fastbook) (2023.12.1)\n",
            "Requirement already satisfied: referencing>=0.28.4 in /usr/local/lib/python3.10/dist-packages (from jsonschema>=2.6->nbformat->notebook>=4.4.1->widgetsnbextension~=3.6.0->ipywidgets<8->fastbook) (0.33.0)\n",
            "Requirement already satisfied: rpds-py>=0.7.1 in /usr/local/lib/python3.10/dist-packages (from jsonschema>=2.6->nbformat->notebook>=4.4.1->widgetsnbextension~=3.6.0->ipywidgets<8->fastbook) (0.18.0)\n",
            "Requirement already satisfied: anyio<4,>=3.1.0 in /usr/local/lib/python3.10/dist-packages (from jupyter-server>=1.8->nbclassic>=0.4.7->notebook>=4.4.1->widgetsnbextension~=3.6.0->ipywidgets<8->fastbook) (3.7.1)\n",
            "Requirement already satisfied: websocket-client in /usr/local/lib/python3.10/dist-packages (from jupyter-server>=1.8->nbclassic>=0.4.7->notebook>=4.4.1->widgetsnbextension~=3.6.0->ipywidgets<8->fastbook) (1.7.0)\n",
            "Requirement already satisfied: cffi>=1.0.1 in /usr/local/lib/python3.10/dist-packages (from argon2-cffi-bindings->argon2-cffi->notebook>=4.4.1->widgetsnbextension~=3.6.0->ipywidgets<8->fastbook) (1.16.0)\n",
            "Requirement already satisfied: soupsieve>1.2 in /usr/local/lib/python3.10/dist-packages (from beautifulsoup4->nbconvert>=5->notebook>=4.4.1->widgetsnbextension~=3.6.0->ipywidgets<8->fastbook) (2.5)\n",
            "Requirement already satisfied: webencodings in /usr/local/lib/python3.10/dist-packages (from bleach->nbconvert>=5->notebook>=4.4.1->widgetsnbextension~=3.6.0->ipywidgets<8->fastbook) (0.5.1)\n",
            "Requirement already satisfied: sniffio>=1.1 in /usr/local/lib/python3.10/dist-packages (from anyio<4,>=3.1.0->jupyter-server>=1.8->nbclassic>=0.4.7->notebook>=4.4.1->widgetsnbextension~=3.6.0->ipywidgets<8->fastbook) (1.3.1)\n",
            "Requirement already satisfied: exceptiongroup in /usr/local/lib/python3.10/dist-packages (from anyio<4,>=3.1.0->jupyter-server>=1.8->nbclassic>=0.4.7->notebook>=4.4.1->widgetsnbextension~=3.6.0->ipywidgets<8->fastbook) (1.2.0)\n",
            "Requirement already satisfied: pycparser in /usr/local/lib/python3.10/dist-packages (from cffi>=1.0.1->argon2-cffi-bindings->argon2-cffi->notebook>=4.4.1->widgetsnbextension~=3.6.0->ipywidgets<8->fastbook) (2.21)\n"
          ]
        }
      ]
    },
    {
      "cell_type": "markdown",
      "source": [
        "## **Necessary imports**"
      ],
      "metadata": {
        "id": "jag_Lg063sWY"
      }
    },
    {
      "cell_type": "code",
      "source": [
        "import os\n",
        "import nltk\n",
        "import numpy as np\n",
        "import pandas as pd\n",
        "from fastai import *\n",
        "from fastbook import *\n",
        "from fastai.vision.all import *"
      ],
      "metadata": {
        "id": "DI3hhkXkuXEp"
      },
      "execution_count": 16,
      "outputs": []
    },
    {
      "cell_type": "markdown",
      "source": [
        "## **Mounting drive**"
      ],
      "metadata": {
        "id": "aM3FM5ck3vwQ"
      }
    },
    {
      "cell_type": "code",
      "source": [
        "from google.colab import drive\n",
        "drive.mount('/content/drive')"
      ],
      "metadata": {
        "colab": {
          "base_uri": "https://localhost:8080/"
        },
        "id": "DVqMMKhNuhRs",
        "outputId": "2c61216f-957a-4c5e-cfc7-bd9d29674ced"
      },
      "execution_count": 17,
      "outputs": [
        {
          "output_type": "stream",
          "name": "stdout",
          "text": [
            "Drive already mounted at /content/drive; to attempt to forcibly remount, call drive.mount(\"/content/drive\", force_remount=True).\n"
          ]
        }
      ]
    },
    {
      "cell_type": "markdown",
      "source": [
        "## **Folder initialization**"
      ],
      "metadata": {
        "id": "JfTTI1UP3yLQ"
      }
    },
    {
      "cell_type": "code",
      "source": [
        "%cd /content/drive/MyDrive/artwork_description_generator/data/\n",
        "\n",
        "images_path = 'images'\n",
        "csv = \"csvFiles/\""
      ],
      "metadata": {
        "colab": {
          "base_uri": "https://localhost:8080/"
        },
        "id": "eUMKlQqbufsa",
        "outputId": "1a14f3b1-241e-4688-d9c1-0da2a31d37fe"
      },
      "execution_count": 18,
      "outputs": [
        {
          "output_type": "stream",
          "name": "stdout",
          "text": [
            "/content/drive/MyDrive/artwork_description_generator/data\n"
          ]
        }
      ]
    },
    {
      "cell_type": "markdown",
      "source": [
        "## **Fetching csv files**"
      ],
      "metadata": {
        "id": "WBYgYV2trEh8"
      }
    },
    {
      "cell_type": "code",
      "source": [
        "files = os.listdir(f'{csv}')\n",
        "files"
      ],
      "metadata": {
        "id": "JJYsBpL8ufwZ",
        "colab": {
          "base_uri": "https://localhost:8080/"
        },
        "outputId": "bb33fbcc-5843-4fa3-92ac-d072aed7cf48"
      },
      "execution_count": 19,
      "outputs": [
        {
          "output_type": "execute_result",
          "data": {
            "text/plain": [
              "['Netherlands.csv', 'UnitedStates.csv', 'China.csv']"
            ]
          },
          "metadata": {},
          "execution_count": 19
        }
      ]
    },
    {
      "cell_type": "markdown",
      "source": [
        "## **Merging and creation of the dataframe**"
      ],
      "metadata": {
        "id": "U91OjVWt372f"
      }
    },
    {
      "cell_type": "code",
      "source": [
        "df = pd.DataFrame()\n",
        "for file in files:\n",
        "  data_frame = pd.read_csv(f\"{csv}/{file}\")\n",
        "  df = pd.concat([df, data_frame], ignore_index = True)"
      ],
      "metadata": {
        "id": "uQwYdDD9v_KA"
      },
      "execution_count": 20,
      "outputs": []
    },
    {
      "cell_type": "markdown",
      "source": [
        "## **Function to view shape**"
      ],
      "metadata": {
        "id": "fxoUp9uX3_zf"
      }
    },
    {
      "cell_type": "code",
      "source": [
        "def df_shape(df):\n",
        "  print(f'Number of rows: {df.shape[0]}')\n",
        "  print(f'Number of columns: {df.shape[1]}')"
      ],
      "metadata": {
        "id": "VPZFl3whv_Ov"
      },
      "execution_count": 21,
      "outputs": []
    },
    {
      "cell_type": "markdown",
      "source": [
        "## **Viewing dataframe**"
      ],
      "metadata": {
        "id": "fxzl36WC4D9_"
      }
    },
    {
      "cell_type": "code",
      "source": [
        "df.head()"
      ],
      "metadata": {
        "colab": {
          "base_uri": "https://localhost:8080/",
          "height": 519
        },
        "id": "ul29IQqav_Vv",
        "outputId": "61c3fffb-fdfa-4bd8-ea54-9d022dbded7e"
      },
      "execution_count": 22,
      "outputs": [
        {
          "output_type": "execute_result",
          "data": {
            "text/plain": [
              "    ids                    artists                    mediums  \\\n",
              "0  nl_1              Piet Mondrian              Oil on canvas   \n",
              "1  nl_2   Jan Sanders van Hemessen               Oil on panel   \n",
              "2  nl_3  Joachim Antonisz. Wtewael              Oil on copper   \n",
              "3  nl_4              Paulus Potter               Oil on panel   \n",
              "4  nl_5        Pieter Jansz. Quast  Etching in black on paper   \n",
              "\n",
              "                                                                             titles  \\\n",
              "0                       Lozenge Composition with Yellow, Black, Blue, Red, and Gray   \n",
              "1                                                                            Judith   \n",
              "2                                        The Battle between the Gods and the Giants   \n",
              "3                              Two Cows and a Young Bull beside a Fence in a Meadow   \n",
              "4  Lame Beggar Asking for Alms, from T is al verwart-gaern (It’s already confusing)   \n",
              "\n",
              "                                                                                                                                                                                                                                                                                                                                                                                                                                                                                                                                                                                                              descriptions  \\\n",
              "0  Piet Mondrian, a painter of the revolutionary international movement De Stijl (the Style), argued that “the straight line tells the truth.” Why, then, we might wonder, would he choose to hang a painting off axis, where its edges imply dynamic diagonals? Among other motivations, rotating the canvas allowed Mondrian to reconsider a question he spent his career exploring, namely, the relationship between the contents of a painting and what contains them. In Lozenge Composition, the squared-off black lines imply enclosure, while a single line (above the blue area) extends to the slanted edge, ...   \n",
              "1  Judith was considered one of the most heroic women of the Old Testament. According to the biblical story, when her city was besieged by the Assyrian army, the beautiful young widow gained access to the quarters of the general Holofernes. After winning his confidence and getting him drunk, she took his sword and cut off his head, thereby saving the Jewish people. Although Judith was often shown richly and exotically clothed, Jan Sanders van Hemessen chose to present her as a monumental nude, aggressively brandishing her sword even after severing Holofernes’s head.Van Hemessen was one of the...   \n",
              "2  The subject of the victory of the gods of Olympus over the ancient race of giants provided Joachim Wtewael with the opportunity to depict exaggerated athletic poses and striking contrasts of space and light. From the clouds, the Olympian gods wield their attributes as weapons: Jupiter hurls thunderbolts; Neptune brandishes his triton; and Mercury uses his caduceus as a spear. The helmeted figure on the right is Minerva, the goddess of wisdom and war. The painting’s gemlike effect results from the use of a copper support and from its small scale. The artist’s self-conscious display of his s...   \n",
              "3                                                                                                                          Paulus Potter, a prolific painter and etcher during his short life, elevated images of cows, oxen, and other domestic animals to majestic emblems of nature. His lavish attention to the physical appearances of such beasts—the varied texture and coloring of their hair, their characteristic poses, their bulky contours—borders on portraiture and likely derived from drawings he made from life. With Potter, animal painting blossomed into an independent genre in the Dutch Republic.   \n",
              "4                                                                                                                                                                                                                                                                                                                                                                                                                                                                                                                                                                                                                      NaN   \n",
              "\n",
              "                                                                                                              urls  \n",
              "0                    https://www.artic.edu/artworks/109819/lozenge-composition-with-yellow-black-blue-red-and-gray  \n",
              "1                                                                       https://www.artic.edu/artworks/4575/judith  \n",
              "2                                 https://www.artic.edu/artworks/105466/the-battle-between-the-gods-and-the-giants  \n",
              "3                       https://www.artic.edu/artworks/146953/two-cows-and-a-young-bull-beside-a-fence-in-a-meadow  \n",
              "4  https://www.artic.edu/artworks/81/lame-beggar-asking-for-alms-from-t-is-al-verwart-gaern-it-s-already-confusing  "
            ],
            "text/html": [
              "\n",
              "  <div id=\"df-21a9ce8e-5a71-40f8-8fd1-2e4f447dac59\" class=\"colab-df-container\">\n",
              "    <div>\n",
              "<style scoped>\n",
              "    .dataframe tbody tr th:only-of-type {\n",
              "        vertical-align: middle;\n",
              "    }\n",
              "\n",
              "    .dataframe tbody tr th {\n",
              "        vertical-align: top;\n",
              "    }\n",
              "\n",
              "    .dataframe thead th {\n",
              "        text-align: right;\n",
              "    }\n",
              "</style>\n",
              "<table border=\"1\" class=\"dataframe\">\n",
              "  <thead>\n",
              "    <tr style=\"text-align: right;\">\n",
              "      <th></th>\n",
              "      <th>ids</th>\n",
              "      <th>artists</th>\n",
              "      <th>mediums</th>\n",
              "      <th>titles</th>\n",
              "      <th>descriptions</th>\n",
              "      <th>urls</th>\n",
              "    </tr>\n",
              "  </thead>\n",
              "  <tbody>\n",
              "    <tr>\n",
              "      <th>0</th>\n",
              "      <td>nl_1</td>\n",
              "      <td>Piet Mondrian</td>\n",
              "      <td>Oil on canvas</td>\n",
              "      <td>Lozenge Composition with Yellow, Black, Blue, Red, and Gray</td>\n",
              "      <td>Piet Mondrian, a painter of the revolutionary international movement De Stijl (the Style), argued that “the straight line tells the truth.” Why, then, we might wonder, would he choose to hang a painting off axis, where its edges imply dynamic diagonals? Among other motivations, rotating the canvas allowed Mondrian to reconsider a question he spent his career exploring, namely, the relationship between the contents of a painting and what contains them. In Lozenge Composition, the squared-off black lines imply enclosure, while a single line (above the blue area) extends to the slanted edge, ...</td>\n",
              "      <td>https://www.artic.edu/artworks/109819/lozenge-composition-with-yellow-black-blue-red-and-gray</td>\n",
              "    </tr>\n",
              "    <tr>\n",
              "      <th>1</th>\n",
              "      <td>nl_2</td>\n",
              "      <td>Jan Sanders van Hemessen</td>\n",
              "      <td>Oil on panel</td>\n",
              "      <td>Judith</td>\n",
              "      <td>Judith was considered one of the most heroic women of the Old Testament. According to the biblical story, when her city was besieged by the Assyrian army, the beautiful young widow gained access to the quarters of the general Holofernes. After winning his confidence and getting him drunk, she took his sword and cut off his head, thereby saving the Jewish people. Although Judith was often shown richly and exotically clothed, Jan Sanders van Hemessen chose to present her as a monumental nude, aggressively brandishing her sword even after severing Holofernes’s head.Van Hemessen was one of the...</td>\n",
              "      <td>https://www.artic.edu/artworks/4575/judith</td>\n",
              "    </tr>\n",
              "    <tr>\n",
              "      <th>2</th>\n",
              "      <td>nl_3</td>\n",
              "      <td>Joachim Antonisz. Wtewael</td>\n",
              "      <td>Oil on copper</td>\n",
              "      <td>The Battle between the Gods and the Giants</td>\n",
              "      <td>The subject of the victory of the gods of Olympus over the ancient race of giants provided Joachim Wtewael with the opportunity to depict exaggerated athletic poses and striking contrasts of space and light. From the clouds, the Olympian gods wield their attributes as weapons: Jupiter hurls thunderbolts; Neptune brandishes his triton; and Mercury uses his caduceus as a spear. The helmeted figure on the right is Minerva, the goddess of wisdom and war. The painting’s gemlike effect results from the use of a copper support and from its small scale. The artist’s self-conscious display of his s...</td>\n",
              "      <td>https://www.artic.edu/artworks/105466/the-battle-between-the-gods-and-the-giants</td>\n",
              "    </tr>\n",
              "    <tr>\n",
              "      <th>3</th>\n",
              "      <td>nl_4</td>\n",
              "      <td>Paulus Potter</td>\n",
              "      <td>Oil on panel</td>\n",
              "      <td>Two Cows and a Young Bull beside a Fence in a Meadow</td>\n",
              "      <td>Paulus Potter, a prolific painter and etcher during his short life, elevated images of cows, oxen, and other domestic animals to majestic emblems of nature. His lavish attention to the physical appearances of such beasts—the varied texture and coloring of their hair, their characteristic poses, their bulky contours—borders on portraiture and likely derived from drawings he made from life. With Potter, animal painting blossomed into an independent genre in the Dutch Republic.</td>\n",
              "      <td>https://www.artic.edu/artworks/146953/two-cows-and-a-young-bull-beside-a-fence-in-a-meadow</td>\n",
              "    </tr>\n",
              "    <tr>\n",
              "      <th>4</th>\n",
              "      <td>nl_5</td>\n",
              "      <td>Pieter Jansz. Quast</td>\n",
              "      <td>Etching in black on paper</td>\n",
              "      <td>Lame Beggar Asking for Alms, from T is al verwart-gaern (It’s already confusing)</td>\n",
              "      <td>NaN</td>\n",
              "      <td>https://www.artic.edu/artworks/81/lame-beggar-asking-for-alms-from-t-is-al-verwart-gaern-it-s-already-confusing</td>\n",
              "    </tr>\n",
              "  </tbody>\n",
              "</table>\n",
              "</div>\n",
              "    <div class=\"colab-df-buttons\">\n",
              "\n",
              "  <div class=\"colab-df-container\">\n",
              "    <button class=\"colab-df-convert\" onclick=\"convertToInteractive('df-21a9ce8e-5a71-40f8-8fd1-2e4f447dac59')\"\n",
              "            title=\"Convert this dataframe to an interactive table.\"\n",
              "            style=\"display:none;\">\n",
              "\n",
              "  <svg xmlns=\"http://www.w3.org/2000/svg\" height=\"24px\" viewBox=\"0 -960 960 960\">\n",
              "    <path d=\"M120-120v-720h720v720H120Zm60-500h600v-160H180v160Zm220 220h160v-160H400v160Zm0 220h160v-160H400v160ZM180-400h160v-160H180v160Zm440 0h160v-160H620v160ZM180-180h160v-160H180v160Zm440 0h160v-160H620v160Z\"/>\n",
              "  </svg>\n",
              "    </button>\n",
              "\n",
              "  <style>\n",
              "    .colab-df-container {\n",
              "      display:flex;\n",
              "      gap: 12px;\n",
              "    }\n",
              "\n",
              "    .colab-df-convert {\n",
              "      background-color: #E8F0FE;\n",
              "      border: none;\n",
              "      border-radius: 50%;\n",
              "      cursor: pointer;\n",
              "      display: none;\n",
              "      fill: #1967D2;\n",
              "      height: 32px;\n",
              "      padding: 0 0 0 0;\n",
              "      width: 32px;\n",
              "    }\n",
              "\n",
              "    .colab-df-convert:hover {\n",
              "      background-color: #E2EBFA;\n",
              "      box-shadow: 0px 1px 2px rgba(60, 64, 67, 0.3), 0px 1px 3px 1px rgba(60, 64, 67, 0.15);\n",
              "      fill: #174EA6;\n",
              "    }\n",
              "\n",
              "    .colab-df-buttons div {\n",
              "      margin-bottom: 4px;\n",
              "    }\n",
              "\n",
              "    [theme=dark] .colab-df-convert {\n",
              "      background-color: #3B4455;\n",
              "      fill: #D2E3FC;\n",
              "    }\n",
              "\n",
              "    [theme=dark] .colab-df-convert:hover {\n",
              "      background-color: #434B5C;\n",
              "      box-shadow: 0px 1px 3px 1px rgba(0, 0, 0, 0.15);\n",
              "      filter: drop-shadow(0px 1px 2px rgba(0, 0, 0, 0.3));\n",
              "      fill: #FFFFFF;\n",
              "    }\n",
              "  </style>\n",
              "\n",
              "    <script>\n",
              "      const buttonEl =\n",
              "        document.querySelector('#df-21a9ce8e-5a71-40f8-8fd1-2e4f447dac59 button.colab-df-convert');\n",
              "      buttonEl.style.display =\n",
              "        google.colab.kernel.accessAllowed ? 'block' : 'none';\n",
              "\n",
              "      async function convertToInteractive(key) {\n",
              "        const element = document.querySelector('#df-21a9ce8e-5a71-40f8-8fd1-2e4f447dac59');\n",
              "        const dataTable =\n",
              "          await google.colab.kernel.invokeFunction('convertToInteractive',\n",
              "                                                    [key], {});\n",
              "        if (!dataTable) return;\n",
              "\n",
              "        const docLinkHtml = 'Like what you see? Visit the ' +\n",
              "          '<a target=\"_blank\" href=https://colab.research.google.com/notebooks/data_table.ipynb>data table notebook</a>'\n",
              "          + ' to learn more about interactive tables.';\n",
              "        element.innerHTML = '';\n",
              "        dataTable['output_type'] = 'display_data';\n",
              "        await google.colab.output.renderOutput(dataTable, element);\n",
              "        const docLink = document.createElement('div');\n",
              "        docLink.innerHTML = docLinkHtml;\n",
              "        element.appendChild(docLink);\n",
              "      }\n",
              "    </script>\n",
              "  </div>\n",
              "\n",
              "\n",
              "<div id=\"df-f35a4ef0-ca39-4f88-838d-e82d0ffa3b6b\">\n",
              "  <button class=\"colab-df-quickchart\" onclick=\"quickchart('df-f35a4ef0-ca39-4f88-838d-e82d0ffa3b6b')\"\n",
              "            title=\"Suggest charts\"\n",
              "            style=\"display:none;\">\n",
              "\n",
              "<svg xmlns=\"http://www.w3.org/2000/svg\" height=\"24px\"viewBox=\"0 0 24 24\"\n",
              "     width=\"24px\">\n",
              "    <g>\n",
              "        <path d=\"M19 3H5c-1.1 0-2 .9-2 2v14c0 1.1.9 2 2 2h14c1.1 0 2-.9 2-2V5c0-1.1-.9-2-2-2zM9 17H7v-7h2v7zm4 0h-2V7h2v10zm4 0h-2v-4h2v4z\"/>\n",
              "    </g>\n",
              "</svg>\n",
              "  </button>\n",
              "\n",
              "<style>\n",
              "  .colab-df-quickchart {\n",
              "      --bg-color: #E8F0FE;\n",
              "      --fill-color: #1967D2;\n",
              "      --hover-bg-color: #E2EBFA;\n",
              "      --hover-fill-color: #174EA6;\n",
              "      --disabled-fill-color: #AAA;\n",
              "      --disabled-bg-color: #DDD;\n",
              "  }\n",
              "\n",
              "  [theme=dark] .colab-df-quickchart {\n",
              "      --bg-color: #3B4455;\n",
              "      --fill-color: #D2E3FC;\n",
              "      --hover-bg-color: #434B5C;\n",
              "      --hover-fill-color: #FFFFFF;\n",
              "      --disabled-bg-color: #3B4455;\n",
              "      --disabled-fill-color: #666;\n",
              "  }\n",
              "\n",
              "  .colab-df-quickchart {\n",
              "    background-color: var(--bg-color);\n",
              "    border: none;\n",
              "    border-radius: 50%;\n",
              "    cursor: pointer;\n",
              "    display: none;\n",
              "    fill: var(--fill-color);\n",
              "    height: 32px;\n",
              "    padding: 0;\n",
              "    width: 32px;\n",
              "  }\n",
              "\n",
              "  .colab-df-quickchart:hover {\n",
              "    background-color: var(--hover-bg-color);\n",
              "    box-shadow: 0 1px 2px rgba(60, 64, 67, 0.3), 0 1px 3px 1px rgba(60, 64, 67, 0.15);\n",
              "    fill: var(--button-hover-fill-color);\n",
              "  }\n",
              "\n",
              "  .colab-df-quickchart-complete:disabled,\n",
              "  .colab-df-quickchart-complete:disabled:hover {\n",
              "    background-color: var(--disabled-bg-color);\n",
              "    fill: var(--disabled-fill-color);\n",
              "    box-shadow: none;\n",
              "  }\n",
              "\n",
              "  .colab-df-spinner {\n",
              "    border: 2px solid var(--fill-color);\n",
              "    border-color: transparent;\n",
              "    border-bottom-color: var(--fill-color);\n",
              "    animation:\n",
              "      spin 1s steps(1) infinite;\n",
              "  }\n",
              "\n",
              "  @keyframes spin {\n",
              "    0% {\n",
              "      border-color: transparent;\n",
              "      border-bottom-color: var(--fill-color);\n",
              "      border-left-color: var(--fill-color);\n",
              "    }\n",
              "    20% {\n",
              "      border-color: transparent;\n",
              "      border-left-color: var(--fill-color);\n",
              "      border-top-color: var(--fill-color);\n",
              "    }\n",
              "    30% {\n",
              "      border-color: transparent;\n",
              "      border-left-color: var(--fill-color);\n",
              "      border-top-color: var(--fill-color);\n",
              "      border-right-color: var(--fill-color);\n",
              "    }\n",
              "    40% {\n",
              "      border-color: transparent;\n",
              "      border-right-color: var(--fill-color);\n",
              "      border-top-color: var(--fill-color);\n",
              "    }\n",
              "    60% {\n",
              "      border-color: transparent;\n",
              "      border-right-color: var(--fill-color);\n",
              "    }\n",
              "    80% {\n",
              "      border-color: transparent;\n",
              "      border-right-color: var(--fill-color);\n",
              "      border-bottom-color: var(--fill-color);\n",
              "    }\n",
              "    90% {\n",
              "      border-color: transparent;\n",
              "      border-bottom-color: var(--fill-color);\n",
              "    }\n",
              "  }\n",
              "</style>\n",
              "\n",
              "  <script>\n",
              "    async function quickchart(key) {\n",
              "      const quickchartButtonEl =\n",
              "        document.querySelector('#' + key + ' button');\n",
              "      quickchartButtonEl.disabled = true;  // To prevent multiple clicks.\n",
              "      quickchartButtonEl.classList.add('colab-df-spinner');\n",
              "      try {\n",
              "        const charts = await google.colab.kernel.invokeFunction(\n",
              "            'suggestCharts', [key], {});\n",
              "      } catch (error) {\n",
              "        console.error('Error during call to suggestCharts:', error);\n",
              "      }\n",
              "      quickchartButtonEl.classList.remove('colab-df-spinner');\n",
              "      quickchartButtonEl.classList.add('colab-df-quickchart-complete');\n",
              "    }\n",
              "    (() => {\n",
              "      let quickchartButtonEl =\n",
              "        document.querySelector('#df-f35a4ef0-ca39-4f88-838d-e82d0ffa3b6b button');\n",
              "      quickchartButtonEl.style.display =\n",
              "        google.colab.kernel.accessAllowed ? 'block' : 'none';\n",
              "    })();\n",
              "  </script>\n",
              "</div>\n",
              "\n",
              "    </div>\n",
              "  </div>\n"
            ],
            "application/vnd.google.colaboratory.intrinsic+json": {
              "type": "dataframe",
              "variable_name": "df",
              "summary": "{\n  \"name\": \"df\",\n  \"rows\": 8421,\n  \"fields\": [\n    {\n      \"column\": \"ids\",\n      \"properties\": {\n        \"dtype\": \"string\",\n        \"num_unique_values\": 8421,\n        \"samples\": [\n          \"usa_432\",\n          \"nl_34\",\n          \"ch_3742\"\n        ],\n        \"semantic_type\": \"\",\n        \"description\": \"\"\n      }\n    },\n    {\n      \"column\": \"artists\",\n      \"properties\": {\n        \"dtype\": \"category\",\n        \"num_unique_values\": 1427,\n        \"samples\": [\n          \"Dirk Langendijk\",\n          \"Jack Youngerman\",\n          \"Todd Webb\"\n        ],\n        \"semantic_type\": \"\",\n        \"description\": \"\"\n      }\n    },\n    {\n      \"column\": \"mediums\",\n      \"properties\": {\n        \"dtype\": \"category\",\n        \"num_unique_values\": 2985,\n        \"samples\": [\n          \"Engraving in black on paper\",\n          \"Hanging scroll; ink rubbing on paper\",\n          \"Porcelain with copper-red glaze and underglaze incised decoration\"\n        ],\n        \"semantic_type\": \"\",\n        \"description\": \"\"\n      }\n    },\n    {\n      \"column\": \"titles\",\n      \"properties\": {\n        \"dtype\": \"string\",\n        \"num_unique_values\": 6255,\n        \"samples\": [\n          \"The Terrace, Vizcaya\",\n          \"E-3: English Reception Room of the Jacobean Period, 1625-55\",\n          \"Mother\\u2019s Goodnight Kiss\"\n        ],\n        \"semantic_type\": \"\",\n        \"description\": \"\"\n      }\n    },\n    {\n      \"column\": \"descriptions\",\n      \"properties\": {\n        \"dtype\": \"category\",\n        \"num_unique_values\": 1193,\n        \"samples\": [\n          \"Robert Mapplethorpe produced a body of work ranging from sensual floral still lifes and celebrity portraiture to explicit images of sadomasochism. Yet even his erotic male nudes evoke a classical aesthetic, balancing contemporaneity against timeless form. In 1980 Mapplethorpe met Lisa Lyon, who won the first World Women\\u2019s Bodybuilding Championship. Attracted to her muscular physique, which reminded him of Michelangelo\\u2019s rendering of the female figure, Mapplethorpe began a collaboration with her that culminated in the 1983 book Lady, Lisa Lyon. Depicting Lyon in nude, full-body portraits as well as a variety of character roles\\u2014society woman, dominatrix, mystic\\u2014this series celebrates ideals of female beauty from Antiquity and the Renaissance while simultaneously challenging stereotypical femininity today. Here, the framing of one flexed arm and a single breast suggests a double allegory of strength and sensuality.\",\n          \"Philip Beam has identified the site for Prout\\u2019s Neck, Breaking Wave as \\u201cthe shoreline a little above water\\u2019s edge in the vicinity of Cannon Rock, looking toward High Cliff,\\u201d adding that Homer \\u201cfished from this point almost daily during the summer and fall and must have seen such waves \\u201ca thousand times\\u201d (Beam 1966, n.p.). Homer\\u2019s familiarity with the site is born out by the techniques that he used to capture the relentless churning movement of the massive wave. Although he used very little graphite in this work, he mapped out the frothy whites of the wave by making staccato marks with resist, probably using chalk for this purpose. Homer used almost every trick he knew to achieve the varied textures of water, shore, and sky, including layering, blotting, rewetting, and scraping. Although carefully planned and carried out, the final effect is vigorous and immediate.\",\n          \"In 1939, Twentieth-Century Fox commissioned Benton to create six lithographs-with reproduction rights to a billboard-size reproduction-as a promotional ploy for its filming of John Steinbeck\\u2019s The Grapes of Wrath. One of these was the melancholy synopsis of destitute, migrant \\u201cOkies\\u201d from drought-stricken Oklahoma in The Departure of the Joads.\"\n        ],\n        \"semantic_type\": \"\",\n        \"description\": \"\"\n      }\n    },\n    {\n      \"column\": \"urls\",\n      \"properties\": {\n        \"dtype\": \"string\",\n        \"num_unique_values\": 7897,\n        \"samples\": [\n          \"https://www.artic.edu/artworks/69918/ring\",\n          \"https://www.artic.edu/artworks/112507/the-mystic-marriage-of-saint-catherine\",\n          \"https://www.artic.edu/artworks/120855/e-town-new-mexico\"\n        ],\n        \"semantic_type\": \"\",\n        \"description\": \"\"\n      }\n    }\n  ]\n}"
            }
          },
          "metadata": {},
          "execution_count": 22
        }
      ]
    },
    {
      "cell_type": "markdown",
      "source": [
        "## **Checking NaN values**"
      ],
      "metadata": {
        "id": "Xn8sZ0H9rTG8"
      }
    },
    {
      "cell_type": "code",
      "source": [
        "df['titles'][:100]"
      ],
      "metadata": {
        "colab": {
          "base_uri": "https://localhost:8080/"
        },
        "id": "1jnVldu7lEsv",
        "outputId": "7c11fed5-1203-4eb7-b35a-a2891ad76743"
      },
      "execution_count": 72,
      "outputs": [
        {
          "output_type": "execute_result",
          "data": {
            "text/plain": [
              "0                          Lozenge Composition with Yellow, Black, Blue, Red, and Gray\n",
              "1                                                                               Judith\n",
              "2                                           The Battle between the Gods and the Giants\n",
              "3                                 Two Cows and a Young Bull beside a Fence in a Meadow\n",
              "4     Lame Beggar Asking for Alms, from T is al verwart-gaern (It’s already confusing)\n",
              "                                            ...                                       \n",
              "95                                                                       Drawing Hands\n",
              "96                                                                Tarquin and Lucretia\n",
              "97                “Hilton Head Island, S.C., USA, June 27, 1992,” from Beach Portraits\n",
              "98                                                             Ascending and Decending\n",
              "99                      Amit, Golani Brigade, Orev Unit, Elyacim, Israel, May 26, 1999\n",
              "Name: titles, Length: 100, dtype: object"
            ]
          },
          "metadata": {},
          "execution_count": 72
        }
      ]
    },
    {
      "cell_type": "code",
      "source": [
        "df.isna().sum()"
      ],
      "metadata": {
        "colab": {
          "base_uri": "https://localhost:8080/"
        },
        "id": "0e3_Zlunv_Yu",
        "outputId": "63ca8c17-6e36-4908-bab8-11efb82dc616"
      },
      "execution_count": 23,
      "outputs": [
        {
          "output_type": "execute_result",
          "data": {
            "text/plain": [
              "ids                0\n",
              "artists         2946\n",
              "mediums           71\n",
              "titles             3\n",
              "descriptions    7049\n",
              "urls               0\n",
              "dtype: int64"
            ]
          },
          "metadata": {},
          "execution_count": 23
        }
      ]
    },
    {
      "cell_type": "markdown",
      "source": [
        "## **Fetching images sub-folders**"
      ],
      "metadata": {
        "id": "nvASNoiVeuBB"
      }
    },
    {
      "cell_type": "code",
      "source": [
        "img_folders = os.listdir(f'{images_path}')\n",
        "img_folders"
      ],
      "metadata": {
        "id": "Ybzk2u3Vxzmz",
        "colab": {
          "base_uri": "https://localhost:8080/"
        },
        "outputId": "61f8e95c-84d4-4862-a857-43a07ad86458"
      },
      "execution_count": 24,
      "outputs": [
        {
          "output_type": "execute_result",
          "data": {
            "text/plain": [
              "['UnitedStates', 'Netherlands', 'China']"
            ]
          },
          "metadata": {},
          "execution_count": 24
        }
      ]
    },
    {
      "cell_type": "code",
      "source": [
        "# str(get_image_files(f\"{images_path}/{img_folders[0]}\")[0]).split(\"/\")[2].split(\".\")[0]"
      ],
      "metadata": {
        "id": "Xb-WFlhFxztD"
      },
      "execution_count": 25,
      "outputs": []
    },
    {
      "cell_type": "code",
      "source": [
        "# get_image_files_sorted(f\"{images_path}/{img_folders[0]}\")"
      ],
      "metadata": {
        "id": "X0eIvyna0tvn"
      },
      "execution_count": 13,
      "outputs": []
    },
    {
      "cell_type": "markdown",
      "source": [
        "## **Fetching working image ids**"
      ],
      "metadata": {
        "id": "_K_QPiGr1ACX"
      }
    },
    {
      "cell_type": "code",
      "source": [
        "img_ids = []\n",
        "\n",
        "for folder in img_folders:\n",
        "  temp = [str(path).split(\"/\")[2].split(\".\")[0] for path in get_image_files_sorted(f\"{images_path}/{folder}\")]\n",
        "  img_ids.extend(temp)\n",
        "\n",
        "len(img_ids)"
      ],
      "metadata": {
        "id": "6zwvZ2eW1ZWs",
        "colab": {
          "base_uri": "https://localhost:8080/"
        },
        "outputId": "e4db9be9-df91-42c2-8db6-82f7b18d3e1c"
      },
      "execution_count": 26,
      "outputs": [
        {
          "output_type": "execute_result",
          "data": {
            "text/plain": [
              "8460"
            ]
          },
          "metadata": {},
          "execution_count": 26
        }
      ]
    },
    {
      "cell_type": "code",
      "source": [
        "df.columns"
      ],
      "metadata": {
        "colab": {
          "base_uri": "https://localhost:8080/"
        },
        "id": "4JyAsITU22yi",
        "outputId": "35d1c868-8600-44f4-bf77-b3102c715ba9"
      },
      "execution_count": 27,
      "outputs": [
        {
          "output_type": "execute_result",
          "data": {
            "text/plain": [
              "Index(['ids', 'artists', 'mediums', 'titles', 'descriptions', 'urls'], dtype='object')"
            ]
          },
          "metadata": {},
          "execution_count": 27
        }
      ]
    },
    {
      "cell_type": "markdown",
      "source": [
        "## **Fetching corrupted image ids**"
      ],
      "metadata": {
        "id": "2oe3_BVbrg2b"
      }
    },
    {
      "cell_type": "code",
      "source": [
        "corrupted_image_indices_to_drop = [index for index in range(len(df)) if df.iloc[index]['ids'] not in img_ids]\n",
        "len(corrupted_image_indices_to_drop)"
      ],
      "metadata": {
        "id": "-qE-710J2Mqj",
        "colab": {
          "base_uri": "https://localhost:8080/"
        },
        "outputId": "fe0d2835-04bf-45e9-c2ee-9b29aa7cb333"
      },
      "execution_count": 28,
      "outputs": [
        {
          "output_type": "execute_result",
          "data": {
            "text/plain": [
              "143"
            ]
          },
          "metadata": {},
          "execution_count": 28
        }
      ]
    },
    {
      "cell_type": "code",
      "source": [
        "# df.iloc[72]"
      ],
      "metadata": {
        "id": "loXxOsoE3TQR"
      },
      "execution_count": 29,
      "outputs": []
    },
    {
      "cell_type": "markdown",
      "source": [
        "## **Removing corrupted image rows**"
      ],
      "metadata": {
        "id": "OqM4wMRFrmUM"
      }
    },
    {
      "cell_type": "code",
      "source": [
        "df = df.drop(corrupted_image_indices_to_drop).reset_index(drop=True)"
      ],
      "metadata": {
        "id": "q-cQkax043HG"
      },
      "execution_count": 30,
      "outputs": []
    },
    {
      "cell_type": "code",
      "source": [
        "df_shape(df)"
      ],
      "metadata": {
        "colab": {
          "base_uri": "https://localhost:8080/"
        },
        "id": "2QRoO4r65Kvl",
        "outputId": "8ec542be-fa18-4382-c5c7-628a86653daf"
      },
      "execution_count": 31,
      "outputs": [
        {
          "output_type": "stream",
          "name": "stdout",
          "text": [
            "Number of rows: 8278\n",
            "Number of columns: 6\n"
          ]
        }
      ]
    },
    {
      "cell_type": "code",
      "source": [
        "# for path in get_image_files_sorted(f\"{images_path}/{img_folders[0]}\"):\n",
        "#   print(path)\n",
        "#   print(str(path).split(\"/\")[2].split(\".\")[0])"
      ],
      "metadata": {
        "id": "yrDfkLUDxzwU"
      },
      "execution_count": null,
      "outputs": []
    },
    {
      "cell_type": "code",
      "source": [
        "# df['descriptions'].value_counts().sum()"
      ],
      "metadata": {
        "id": "opT1rOThxz3K"
      },
      "execution_count": null,
      "outputs": []
    },
    {
      "cell_type": "code",
      "source": [
        "# df['artists'].value_counts()"
      ],
      "metadata": {
        "id": "14umifXl5590"
      },
      "execution_count": null,
      "outputs": []
    },
    {
      "cell_type": "code",
      "source": [
        "# df['titles'].value_counts()"
      ],
      "metadata": {
        "id": "tm_XE4L65iHM"
      },
      "execution_count": null,
      "outputs": []
    },
    {
      "cell_type": "code",
      "source": [
        "# df['titles'].value_counts().sum()"
      ],
      "metadata": {
        "id": "3VBXvqk9xz7U"
      },
      "execution_count": null,
      "outputs": []
    },
    {
      "cell_type": "code",
      "source": [
        "# df['mediums'].value_counts().sum()"
      ],
      "metadata": {
        "id": "06X6NLu-xz-K"
      },
      "execution_count": null,
      "outputs": []
    },
    {
      "cell_type": "code",
      "source": [
        "# df['mediums'].value_counts()"
      ],
      "metadata": {
        "id": "Oqng4KGO5wOl"
      },
      "execution_count": null,
      "outputs": []
    },
    {
      "cell_type": "markdown",
      "source": [
        "## **Images Root folder path**"
      ],
      "metadata": {
        "id": "GXQ02DIVW21u"
      }
    },
    {
      "cell_type": "code",
      "source": [
        "images_root_path = \"/content/drive/MyDrive/artwork_description_generator/data/images/\""
      ],
      "metadata": {
        "id": "2r3Qj12_TWK1"
      },
      "execution_count": 32,
      "outputs": []
    },
    {
      "cell_type": "markdown",
      "source": [
        "## **Mapping abbreviations with root folders**"
      ],
      "metadata": {
        "id": "6aXiW0MZW5sN"
      }
    },
    {
      "cell_type": "code",
      "source": [
        "path_dict = {\n",
        "    'usa' : 'UnitedStates',\n",
        "    'nl' : 'Netherlands',\n",
        "    'ch' : 'China'\n",
        "}"
      ],
      "metadata": {
        "id": "BC__7N6mWyLm"
      },
      "execution_count": 33,
      "outputs": []
    },
    {
      "cell_type": "markdown",
      "source": [
        "## **Listing image paths**"
      ],
      "metadata": {
        "id": "2v1LDrwmXCed"
      }
    },
    {
      "cell_type": "code",
      "source": [
        "image_paths = [ f\"{images_root_path}{path_dict[df.iloc[i]['ids'].split('_')[0]]}/{df.iloc[i]['ids']}.jpg\" for i in range(len(df))]\n",
        "image_paths[:5]"
      ],
      "metadata": {
        "id": "sOc57IENT4Oj",
        "colab": {
          "base_uri": "https://localhost:8080/"
        },
        "outputId": "80974c66-dbb3-421a-ba50-0e0a74219393"
      },
      "execution_count": 34,
      "outputs": [
        {
          "output_type": "execute_result",
          "data": {
            "text/plain": [
              "['/content/drive/MyDrive/artwork_description_generator/data/images/Netherlands/nl_1.jpg',\n",
              " '/content/drive/MyDrive/artwork_description_generator/data/images/Netherlands/nl_2.jpg',\n",
              " '/content/drive/MyDrive/artwork_description_generator/data/images/Netherlands/nl_3.jpg',\n",
              " '/content/drive/MyDrive/artwork_description_generator/data/images/Netherlands/nl_4.jpg',\n",
              " '/content/drive/MyDrive/artwork_description_generator/data/images/Netherlands/nl_5.jpg']"
            ]
          },
          "metadata": {},
          "execution_count": 34
        }
      ]
    },
    {
      "cell_type": "markdown",
      "source": [
        "## **New column with image paths**"
      ],
      "metadata": {
        "id": "8pysurn9XOKd"
      }
    },
    {
      "cell_type": "code",
      "source": [
        "df['images_path'] = image_paths"
      ],
      "metadata": {
        "id": "JJ2ilZaFV1bI"
      },
      "execution_count": 35,
      "outputs": []
    },
    {
      "cell_type": "code",
      "source": [
        "# for i in range(len(df)):\n",
        "#   prefix = df.iloc[i]['ids'].split(\"_\")[0]\n",
        "#   country = path_dict[prefix]\n",
        "#   image_paths.append(f\"{images_root_path}{country}/{df.iloc[i]['ids']}.jpg\")"
      ],
      "metadata": {
        "id": "cAsUU3XqTzCV"
      },
      "execution_count": null,
      "outputs": []
    },
    {
      "cell_type": "code",
      "source": [
        "# image_paths"
      ],
      "metadata": {
        "id": "Mr_Ht7DRU4D7"
      },
      "execution_count": null,
      "outputs": []
    },
    {
      "cell_type": "markdown",
      "source": [
        "## **Creating a title count dictionary if multiple same title exists**"
      ],
      "metadata": {
        "id": "xEa7n9LDr7Vz"
      }
    },
    {
      "cell_type": "code",
      "source": [
        "titles_dict = df['titles'].value_counts().to_dict()"
      ],
      "metadata": {
        "id": "yFBwP_ceTWSM"
      },
      "execution_count": 36,
      "outputs": []
    },
    {
      "cell_type": "markdown",
      "source": [
        "## **Mapping titles with multiple counts**"
      ],
      "metadata": {
        "id": "bBj2RagRsENS"
      }
    },
    {
      "cell_type": "code",
      "source": [
        "multiple_same_titles = {key: 0 for key, value in titles_dict.items() if value > 1}"
      ],
      "metadata": {
        "id": "s3VCMNIMYqCL"
      },
      "execution_count": 37,
      "outputs": []
    },
    {
      "cell_type": "markdown",
      "source": [
        "## **Keeping one value removing rows having titles with same values**"
      ],
      "metadata": {
        "id": "wXKAK2J4sItU"
      }
    },
    {
      "cell_type": "code",
      "source": [
        "indices_to_drop = []\n",
        "\n",
        "for i in range(len(df)):\n",
        "  if df.iloc[i]['titles'] in multiple_same_titles.keys() and multiple_same_titles[df.iloc[i]['titles']] == 0:\n",
        "    multiple_same_titles[df.iloc[i]['titles']] = 1\n",
        "  elif df.iloc[i]['titles'] in multiple_same_titles.keys() and multiple_same_titles[df.iloc[i]['titles']] == 1:\n",
        "    indices_to_drop.append(i)\n",
        "\n",
        "len(indices_to_drop)"
      ],
      "metadata": {
        "id": "CqzajvjmY7sy",
        "colab": {
          "base_uri": "https://localhost:8080/"
        },
        "outputId": "822c80d9-9cb8-4fdb-b88c-a406c80ad2fe"
      },
      "execution_count": 38,
      "outputs": [
        {
          "output_type": "execute_result",
          "data": {
            "text/plain": [
              "2129"
            ]
          },
          "metadata": {},
          "execution_count": 38
        }
      ]
    },
    {
      "cell_type": "markdown",
      "source": [
        "## **Removing indices**"
      ],
      "metadata": {
        "id": "ZCx1ILnFsnND"
      }
    },
    {
      "cell_type": "code",
      "source": [
        "df = df.drop(indices_to_drop).reset_index(drop=True)"
      ],
      "metadata": {
        "id": "ljI1hDF-aXxH"
      },
      "execution_count": 39,
      "outputs": []
    },
    {
      "cell_type": "markdown",
      "source": [
        "## **Viewinfg shape after removal**"
      ],
      "metadata": {
        "id": "NhS3jeq6sp7p"
      }
    },
    {
      "cell_type": "code",
      "source": [
        "df_shape(df)"
      ],
      "metadata": {
        "colab": {
          "base_uri": "https://localhost:8080/"
        },
        "id": "JREDGuKSaf8_",
        "outputId": "a3fb8b6f-c0ae-4110-9546-866066eb363f"
      },
      "execution_count": 40,
      "outputs": [
        {
          "output_type": "stream",
          "name": "stdout",
          "text": [
            "Number of rows: 6149\n",
            "Number of columns: 7\n"
          ]
        }
      ]
    },
    {
      "cell_type": "markdown",
      "source": [
        "## **Deleting redundant columns for workings**"
      ],
      "metadata": {
        "id": "r-il_BYUsxTj"
      }
    },
    {
      "cell_type": "code",
      "source": [
        "df = df.drop(columns=['ids', 'artists', 'mediums', 'descriptions', 'urls'], axis=1)"
      ],
      "metadata": {
        "id": "D-3t2af1arwm"
      },
      "execution_count": 41,
      "outputs": []
    },
    {
      "cell_type": "code",
      "source": [
        "!pip install langdetect"
      ],
      "metadata": {
        "colab": {
          "base_uri": "https://localhost:8080/"
        },
        "id": "ucIT2z-XQXfv",
        "outputId": "dba12738-faf0-4b7c-c129-d1397fb34636"
      },
      "execution_count": 42,
      "outputs": [
        {
          "output_type": "stream",
          "name": "stdout",
          "text": [
            "Requirement already satisfied: langdetect in /usr/local/lib/python3.10/dist-packages (1.0.9)\n",
            "Requirement already satisfied: six in /usr/local/lib/python3.10/dist-packages (from langdetect) (1.16.0)\n"
          ]
        }
      ]
    },
    {
      "cell_type": "code",
      "source": [
        "from langdetect import detect\n",
        "# detect('Lozenge Composition with Yellow, Black, Blue, Red, and Gray')\n",
        "detect('Portrait of a Sixty-year-old Woman, from Recueil d’estampes d’après les plus célèbres tableaux de la Galerie Royale de Dresde')"
      ],
      "metadata": {
        "colab": {
          "base_uri": "https://localhost:8080/",
          "height": 35
        },
        "id": "nsXJyhDmQGR2",
        "outputId": "2f38faee-00b5-4784-a36c-e5a49ce0a244"
      },
      "execution_count": 43,
      "outputs": [
        {
          "output_type": "execute_result",
          "data": {
            "text/plain": [
              "'fr'"
            ],
            "application/vnd.google.colaboratory.intrinsic+json": {
              "type": "string"
            }
          },
          "metadata": {},
          "execution_count": 43
        }
      ]
    },
    {
      "cell_type": "code",
      "source": [
        "len(df['titles'])"
      ],
      "metadata": {
        "colab": {
          "base_uri": "https://localhost:8080/"
        },
        "id": "iO95mvYJRizV",
        "outputId": "29893cae-a4b5-4fa5-d515-180958b36059"
      },
      "execution_count": 44,
      "outputs": [
        {
          "output_type": "execute_result",
          "data": {
            "text/plain": [
              "6149"
            ]
          },
          "metadata": {},
          "execution_count": 44
        }
      ]
    },
    {
      "cell_type": "code",
      "source": [
        "\" \".join(df['titles'][6145].split())"
      ],
      "metadata": {
        "colab": {
          "base_uri": "https://localhost:8080/",
          "height": 35
        },
        "id": "0fL1MehZRv6U",
        "outputId": "7dae39ce-b4ab-46c2-c114-02689274e7bc"
      },
      "execution_count": 45,
      "outputs": [
        {
          "output_type": "execute_result",
          "data": {
            "text/plain": [
              "'Chair Back'"
            ],
            "application/vnd.google.colaboratory.intrinsic+json": {
              "type": "string"
            }
          },
          "metadata": {},
          "execution_count": 45
        }
      ]
    },
    {
      "cell_type": "code",
      "source": [
        "# df['titles'] = df['titles'].filter(lambda x: x if detect(x) == 'en')"
      ],
      "metadata": {
        "id": "k0o10PBCQ2me"
      },
      "execution_count": 46,
      "outputs": []
    },
    {
      "cell_type": "code",
      "source": [
        "# df.filter(lambda x:)"
      ],
      "metadata": {
        "id": "RzOBpp8gQwI2"
      },
      "execution_count": 47,
      "outputs": []
    },
    {
      "cell_type": "code",
      "source": [
        "df.shape"
      ],
      "metadata": {
        "colab": {
          "base_uri": "https://localhost:8080/"
        },
        "id": "Nd-msd-mQE9_",
        "outputId": "ea590618-4850-480f-f217-392b731bf538"
      },
      "execution_count": 48,
      "outputs": [
        {
          "output_type": "execute_result",
          "data": {
            "text/plain": [
              "(6149, 2)"
            ]
          },
          "metadata": {},
          "execution_count": 48
        }
      ]
    },
    {
      "cell_type": "markdown",
      "source": [
        "## **Cheking if NaN value exists in the final data**"
      ],
      "metadata": {
        "id": "9obJnVmbs1jy"
      }
    },
    {
      "cell_type": "code",
      "source": [
        "df.isna().sum()"
      ],
      "metadata": {
        "id": "vOdyGfPss1Bi",
        "colab": {
          "base_uri": "https://localhost:8080/"
        },
        "outputId": "65228f3c-d43b-4609-9955-0cd8cc5389ea"
      },
      "execution_count": 49,
      "outputs": [
        {
          "output_type": "execute_result",
          "data": {
            "text/plain": [
              "titles         3\n",
              "images_path    0\n",
              "dtype: int64"
            ]
          },
          "metadata": {},
          "execution_count": 49
        }
      ]
    },
    {
      "cell_type": "markdown",
      "source": [
        "## **Dropping NaN value rows**"
      ],
      "metadata": {
        "id": "R6L6rJucs5Vx"
      }
    },
    {
      "cell_type": "code",
      "source": [
        "df = df.dropna().reset_index(drop=True)"
      ],
      "metadata": {
        "id": "k2zsxsr6s6pK"
      },
      "execution_count": 50,
      "outputs": []
    },
    {
      "cell_type": "code",
      "source": [
        "# detect('Interior'), detect('Invitation'), detect('Lisa Lyon, Joshua Tree')"
      ],
      "metadata": {
        "id": "CNH8jfraW47L"
      },
      "execution_count": 51,
      "outputs": []
    },
    {
      "cell_type": "code",
      "source": [
        "# for i, title in enumerate(df['titles']):\n",
        "#     print(title)\n",
        "#     if detect(title) != 'en':\n",
        "#       print(f'Language: {detect(title)}')"
      ],
      "metadata": {
        "id": "8VDUL1JRYbIY"
      },
      "execution_count": 62,
      "outputs": []
    },
    {
      "cell_type": "code",
      "source": [
        "# for i, title in enumerate(df['titles']):\n",
        "#   # print(title)\n",
        "#   try:\n",
        "#     if detect(title) != 'en':\n",
        "#       print(f'Title: {title}, ')\n",
        "#       # print(f\"English Not Detected......\")\n",
        "#   except:\n",
        "#     print(title)"
      ],
      "metadata": {
        "id": "ft9Vr2_USvPL"
      },
      "execution_count": 63,
      "outputs": []
    },
    {
      "cell_type": "code",
      "source": [
        "s = \"Portrait of a Sixty-year-old Woman, from Recueil d’estampes d’après les plus célèbres tableaux de la Galerie Royale de Dresde\"\n",
        "n_s = re.sub(r'[^\\w\\s]', ' ', s)\n",
        "print(n_s)\n",
        "translator.translate(n_s)"
      ],
      "metadata": {
        "colab": {
          "base_uri": "https://localhost:8080/",
          "height": 53
        },
        "id": "idmrj3ZYkjxx",
        "outputId": "a0db1078-7926-4899-d0c3-044a01060e36"
      },
      "execution_count": 70,
      "outputs": [
        {
          "output_type": "stream",
          "name": "stdout",
          "text": [
            "Portrait of a Sixty year old Woman  from Recueil d estampes d après les plus célèbres tableaux de la Galerie Royale de Dresde\n"
          ]
        },
        {
          "output_type": "execute_result",
          "data": {
            "text/plain": [
              "'Portrait of a Sixty year old Woman from Collection of prints based on the most famous paintings from the Royal Gallery in Dresden'"
            ],
            "application/vnd.google.colaboratory.intrinsic+json": {
              "type": "string"
            }
          },
          "metadata": {},
          "execution_count": 70
        }
      ]
    },
    {
      "cell_type": "code",
      "source": [
        "detect(\"flesh smaller than tears are the little blue flowers\")"
      ],
      "metadata": {
        "colab": {
          "base_uri": "https://localhost:8080/",
          "height": 35
        },
        "id": "zaSNbGb0XiKZ",
        "outputId": "c16b2779-1143-467b-c1a9-c798fa8b6752"
      },
      "execution_count": 52,
      "outputs": [
        {
          "output_type": "execute_result",
          "data": {
            "text/plain": [
              "'en'"
            ],
            "application/vnd.google.colaboratory.intrinsic+json": {
              "type": "string"
            }
          },
          "metadata": {},
          "execution_count": 52
        }
      ]
    },
    {
      "cell_type": "code",
      "source": [
        "df['titles'].tolist()"
      ],
      "metadata": {
        "colab": {
          "base_uri": "https://localhost:8080/"
        },
        "id": "MAtV1w5jlgPe",
        "outputId": "cd5e2ce7-c886-41a1-f34d-1a91e5262881"
      },
      "execution_count": 76,
      "outputs": [
        {
          "output_type": "execute_result",
          "data": {
            "text/plain": [
              "['Lozenge Composition with Yellow, Black, Blue, Red, and Gray',\n",
              " 'Judith',\n",
              " 'The Battle between the Gods and the Giants',\n",
              " 'Two Cows and a Young Bull beside a Fence in a Meadow',\n",
              " 'Lame Beggar Asking for Alms, from T is al verwart-gaern (It’s already confusing)',\n",
              " 'A Young Man Caressing the Young Hostess',\n",
              " 'Portrait of a Sixty-year-old Woman, from Recueil d’estampes d’après les plus célèbres tableaux de la Galerie Royale de Dresde',\n",
              " 'Andromeda',\n",
              " 'The Marriage of the Virgin',\n",
              " 'Farm near Duivendrecht',\n",
              " 'Trompe-l’Oeil Still Life with a Flower Garland and a Curtain',\n",
              " 'Composition (No. 1) Gray-Red',\n",
              " 'Mater Dolorosa (Sorrowing Virgin)',\n",
              " 'Portrait of a Man with a Pink',\n",
              " 'Still Life',\n",
              " 'The Garden of Paradise',\n",
              " 'The Quick and the Dead',\n",
              " 'Self-Portrait Etching at a Window',\n",
              " 'A Lady Reading (Saint Mary Magdalene)',\n",
              " 'Weeping Tree',\n",
              " 'The Music Lesson',\n",
              " 'Weeping Woman',\n",
              " 'Adoration of the Magi',\n",
              " 'A Family Meal',\n",
              " 'The Adoration of the Christ Child',\n",
              " 'Lamentation over the Body of Christ',\n",
              " 'Virgin and Child',\n",
              " 'Tetards (Pollards)',\n",
              " 'Coast Scene',\n",
              " 'The Battle of Zama',\n",
              " 'Cottages with a Woman Working in the Middle Ground',\n",
              " 'Woman Milking a Cow, plate 3 from Four Landscapes',\n",
              " 'Aether, plate six from Demogorgon and the Deities',\n",
              " 'Brilliant Gloom',\n",
              " 'Counter-Composition VIII',\n",
              " 'Cypresses',\n",
              " 'The Carrot Puller',\n",
              " 'The Dragon Devouring the Companions of Cadmus',\n",
              " 'Landscape with Tournament and Hunters',\n",
              " 'Fishing Boats in a Calm',\n",
              " 'Emperor Heraclius Denied Entry into Jerusalem',\n",
              " 'The Denial of Saint Peter',\n",
              " 'Saint Anthony of Padua',\n",
              " 'Two Studies of a Roma Woman and a Roma Boy in a Large Hat',\n",
              " '“Dubrovnik, Croatia, July 16, 1996,” from Beach Portraits',\n",
              " 'Fishing Boats off an Estuary',\n",
              " '“Dubrovnik, Croatia, July 13, 1996,” from Beach Portraits',\n",
              " 'Church Façade',\n",
              " 'Landscape at Arles',\n",
              " 'Film : die serie monografieën over filmkunst',\n",
              " '“Hilton Head Island, S.C., USA, June 22, 1992,” from Beach Portraits',\n",
              " 'Portrait of a Seated Woman',\n",
              " 'Portrait of a Young Woman',\n",
              " 'Hercules Killing Cacus',\n",
              " 'Construction Work',\n",
              " 'Portrait of a Court Lady',\n",
              " 'The Phoenix or The Statue Overthrown',\n",
              " 'Portrait of Don Juan of Austria',\n",
              " 'Portrait of Dr. Gachet',\n",
              " 'Sailboats on Sea',\n",
              " '“Coney Island, N.Y., U.S.A, June 20, 1993,” from Beach Portraits',\n",
              " 'The Adoration of the Magi',\n",
              " 'The Monk in the Cornfield',\n",
              " 'Amsterdam, Winter',\n",
              " 'Boar Hunt',\n",
              " 'Still Life with Ostrich Egg Cup and the Whitfield Heirlooms',\n",
              " '“Brighton, England, August 21, 1992,” from Beach Portraits',\n",
              " 'Democritus, the Laughing Philosopher',\n",
              " 'Demogorgon in the Cave of Eternity, plate one from Demogorgon and the Deities',\n",
              " 'Emperor Heraclius Slays the King of Persia',\n",
              " '“Hel, Poland, August 12, 1998,” from Beach Portraits',\n",
              " 'Christ on the Road to Emmaus',\n",
              " 'The Rommel-Pot Player',\n",
              " 'Landzicht Farm: Compositional Study',\n",
              " 'Study for a Composition',\n",
              " '“De Panne, Belgium, August 7, 1992,” from Beach Portraits',\n",
              " 'Nonza, Corsica',\n",
              " 'The Virgin and Saint John the Evangelist',\n",
              " 'Annemiek, February 11, 1997',\n",
              " '“Hilton Head Island, S.C., USA, June 24, 1992,” from Beach Portraits',\n",
              " 'Vries, Frederik de (died 1613) son of the painter Dirck de Vries, pupil of Goltzius, with Goltzius’s dog',\n",
              " 'Portrait of a Young Girl',\n",
              " '“Kolobrzeg, Poland, July 26, 1992,” from Beach Portraits',\n",
              " 'Geinrust Farm: Close Frontal View',\n",
              " 'Abigail Before David',\n",
              " 'Amsterdam Skyline Viewed from the West',\n",
              " 'Cubic Space Division (Cube Space Filling)',\n",
              " '“Hilton Head Island, S.C., U.S.A., June 24, 1992,” from Beach Portraits',\n",
              " 'Plane Filling I',\n",
              " 'Airborne Snotty Vase: Influenza',\n",
              " 'The Anatomical Lesson of Professor Pauw',\n",
              " 'The Resurrection',\n",
              " 'Wooded Landscape with Cottage and Horseman',\n",
              " 'Jacob’s Farewell to Benjamin',\n",
              " 'Three Spheres II',\n",
              " 'Drawing Hands',\n",
              " 'Tarquin and Lucretia',\n",
              " '“Hilton Head Island, S.C., USA, June 27, 1992,” from Beach Portraits',\n",
              " 'Ascending and Decending',\n",
              " 'Amit, Golani Brigade, Orev Unit, Elyacim, Israel, May 26, 1999',\n",
              " 'Untitled',\n",
              " 'The Hare Hunters',\n",
              " 'Pomander',\n",
              " 'The Rape of a Sabine Woman, Frontal View',\n",
              " 'Adam and Eve (The Fall of Man)',\n",
              " 'Liberation of Saint Peter from Prison',\n",
              " 'Print Gallery',\n",
              " '“Kolobrzeg, Poland, July 23, 1992,” from Beach Portraits',\n",
              " 'The Robbery of Horses, A Moonlight Scene',\n",
              " 'Cattle in Water',\n",
              " 'Up and Down',\n",
              " 'Student at a Table by Candlelight',\n",
              " '“Odessa, Ukraine, August 4, 1993,” from Beach Portraits',\n",
              " 'Female Nude Reclining with Arm Raised',\n",
              " 'Waterfall',\n",
              " 'Three Worlds',\n",
              " '“Jalta, Ukraine, July 30, 1993,” from Beach Portraits',\n",
              " 'The Physician Considered as God, plate one from Allegories of the Medical Profession.',\n",
              " 'Close Helmet',\n",
              " 'A Boy Blowing on a Firebrand',\n",
              " '“Oostende, Belgium, August 7, 1992,” from Beach Portraits',\n",
              " 'A Nude Female Figure Fleeing to the Right with Arms Outstretched, with Sketch of a Bust of Secondary Figure (recto); A Sketch of a Nude, Kneeling Female Figure, Supported by Another Standing (verso)',\n",
              " 'Outside of Haarlem',\n",
              " '“Kolobrzeg, Poland, July 27, 1992,” from Beach Portraits',\n",
              " 'Two Old Men beside a Sled Bearing the Coats of Arms of Amsterdam and Utrecht',\n",
              " 'The Rape of a Sabine Woman, View from Behind',\n",
              " 'Contrast (Order and Chaos)',\n",
              " 'Chinese in Amsterdam',\n",
              " 'The Baptism of Christ in the River Jordan',\n",
              " 'The Judgement of Zaleucus',\n",
              " 'Portrait of a Man',\n",
              " 'David Playing the Harp Before Saul',\n",
              " '“Jalta, Ukraine, July 29, 1993,” from Beach Portraits',\n",
              " 'Man at Coffee Table',\n",
              " 'A Dune Landscape',\n",
              " 'Side Chair',\n",
              " 'Germaine Richier',\n",
              " 'Christ and the Woman Taken in Adultery',\n",
              " 'The Crucifixion (Coup de Lance)',\n",
              " '“Long Island, N.Y., USA, July 1, 1993,” from Beach Portraits',\n",
              " 'The Last Judgment',\n",
              " 'Christ Tempted by the Devil',\n",
              " 'Ornament with Owl Mocked by Day Birds',\n",
              " 'Abigail',\n",
              " 'Jonsberg Vase',\n",
              " 'The Mass of St. Gregory, from a Book of Hours',\n",
              " 'The Dance of Saint Mary Magdalene',\n",
              " 'Landscape with the Sacrifice of Isaac within a Decorative Border of Plants and Animals',\n",
              " 'View of IJsselmonde Seen Across the New Maas',\n",
              " 'Nymphs Bathing',\n",
              " 'The Calvary',\n",
              " 'The Expulsion from Paradise',\n",
              " 'Genazzano, Abruzzi',\n",
              " 'Drinking in Hogan’s Bar',\n",
              " 'The Last Supper',\n",
              " 'The Mocking of Ceres',\n",
              " 'Judith Slaying Holofernes, plate six from The Story of Judith and Holofernes',\n",
              " 'Market near a Canal',\n",
              " 'Belvedere',\n",
              " 'Young Man with a Skull',\n",
              " 'A Man Caressing the Young Hostess',\n",
              " 'Carolus Clusius',\n",
              " 'Mordechai Overhears the Conspiracy from the Story of Esther',\n",
              " 'Book of Hours',\n",
              " 'Felt Stool',\n",
              " 'The Standard Bearer, Turned to Left',\n",
              " 'S. Cosimo Ravello',\n",
              " 'The Three Graces',\n",
              " 'A Romanesque Ruin',\n",
              " 'Standing Sheep and Two Lambs',\n",
              " 'Hans Arp',\n",
              " 'View of Tivoli with the Bridge Over the Anio Waterfall',\n",
              " 'Self-Portrait',\n",
              " 'The Strappado, plate ten from The Large Miseries of War',\n",
              " 'Carpet',\n",
              " 'Sampler',\n",
              " 'Solomon’s Idolatry',\n",
              " 'Saint Luke Painting the Virgin and Child',\n",
              " 'Ship with Sails Furled and Arrow Pointing to the Right',\n",
              " 'Carbon Chair',\n",
              " 'Hercules and Telephos, plate two from Three Famous Antique Sculptures',\n",
              " 'Symmetry of Diplomacy',\n",
              " 'Old Woman Warming her Hands',\n",
              " 'Happy Gouda',\n",
              " 'Mohammed and the Monk Sergius',\n",
              " 'Cabinet on Stand',\n",
              " 'Still Life with Travelling Trunk',\n",
              " 'Woman from Arles (L’Arlésienne)',\n",
              " 'Ballet Students #2',\n",
              " 'The Last Supper, plate one from The Passion of Christ',\n",
              " 'Four Courts, Dublin-A',\n",
              " 'Leper House at Cleves',\n",
              " 'Country Fair',\n",
              " 'Plate Three, from Five Wise and Five Foolish Virgins',\n",
              " 'Saint Luke',\n",
              " 'Judith Displaying Holofernes’s Head to the People of Bethulia, plate seven from The Story of Judith and Holofernes',\n",
              " 'The Large Ecce Homo',\n",
              " 'Knotted Chair',\n",
              " 'The Apollo Belvedere, plate 3 from Three Famous Antique Sculptures',\n",
              " 'Joan of Arc',\n",
              " 'Plate Five, from Five Wise and Five Foolish Virgins',\n",
              " 'The Net Menders',\n",
              " 'Nox, plate seven from Demogorgon and the Deities',\n",
              " 'Headdress',\n",
              " 'Spring, from The Four Seasons',\n",
              " 'Vanity, Vanity, All is Vanity',\n",
              " 'ITF (International Film Festival)',\n",
              " 'Landscape with Gypsy Women Near a Farm Building',\n",
              " 'A Huntsman with a Dead Hare and a Dog (Study for “Terra”)',\n",
              " 'Esther Before Ahasuerus',\n",
              " 'The Musicians',\n",
              " 'parallel occurrence',\n",
              " 'The Descent from the Cross by Torchlight',\n",
              " 'The Holy Family with the Infant John the Baptist, plate six from The Birth and Early Life of Christ',\n",
              " 'Page from the Canticum Canticorum (The Song of Solomon)',\n",
              " 'The Round Passion: Christ Carrying the Cross',\n",
              " 'The Port of Honfleur',\n",
              " 'The Arrival of the Muses of Art at Architecture',\n",
              " 'Achior Pleading with Holofernes for the Israelites, plate one from The Story of Judith and Holofernes',\n",
              " 'Judith Addressing the Elders of Bethulia, plate three from The Story of Judith and Holofernes',\n",
              " 'Gillis van Breen',\n",
              " 'Marching Beggar Woman with a Basket, from T is al verwart-gaern (It’s already confusing)',\n",
              " 'Two Putti Supporting a Torch',\n",
              " 'Saint Jerome',\n",
              " 'Bald Man in a Fur Cloak: Bust',\n",
              " 'Jupiter and Mercury in the House of Philemon and Baucis',\n",
              " 'Television Room with Vanishing Points (graphite drawing on wall)',\n",
              " 'The Farnesian Hercules, plate one from Three Famous Antique Sculptures',\n",
              " 'Morning, plate one from Four Times of Day',\n",
              " 'Lot and his Daughters',\n",
              " 'The Conversion of Saint Paul',\n",
              " 'Avenue of Pollard Birches and Poplars',\n",
              " 'The Flute Player',\n",
              " 'The Miracle of the Five Loaves',\n",
              " 'Landscape with a Waterfall, from Four Small Landscapes',\n",
              " 'Village on Sunny Hillside',\n",
              " 'Salt',\n",
              " 'Woodland with a Pond and Swans',\n",
              " 'Matchlock Musket for Target Shooting for the Court of Christian II, Elector of Saxony',\n",
              " 'Celestial Venus (recto); Main Hall, Baths of Diocletian (verso)',\n",
              " 'Samson and Delilah',\n",
              " 'In the Art Institute',\n",
              " 'Table Carpet (Depicting Scenes from the Life of Christ)',\n",
              " 'Family and Filmstrips',\n",
              " 'The Return of the Prodigal Son',\n",
              " 'Abraham and Isaac',\n",
              " 'Television Room with Vanishing Points',\n",
              " 'The Circumcision, plate four from The Birth and Early Life of Christ',\n",
              " 'Night, plate four from Four Times of Day',\n",
              " 'Portrait of a Woman',\n",
              " 'In Deering Library',\n",
              " 'Scipio Returning the Spanish Bride to Her Family',\n",
              " 'Hampton Court, plate six from Britannia Illustrata',\n",
              " 'The Raising of Lazarus',\n",
              " 'Atlas of the Conflict: Israel-Palestine',\n",
              " 'The Coronation of the Virgin, from a Book of Hours',\n",
              " 'Panorama',\n",
              " 'The Milkmaid',\n",
              " 'The Poet Virgil Suspended in a Basket',\n",
              " 'A Castle, plate 22 after Pictures of Farms, Country Houses and Rustic Villages (Praediorum villarum et rusticarum casularum icones)',\n",
              " 'Ossip Zadkine',\n",
              " 'Three Peasants by a Fireplace',\n",
              " 'Woman Cutting her Mistress’s Nails (Bathsheba)',\n",
              " 'Bookcover',\n",
              " 'Couple and cat',\n",
              " 'Spring',\n",
              " 'Girl Surrounded by Students in Saint-Germain-Des-Pres',\n",
              " 'Christ Carrying the Cross',\n",
              " 'The Painter',\n",
              " 'The Virgin and Child with Two Angels',\n",
              " 'Midday, plate three from Four Times of Day',\n",
              " 'Cover page, from Cahier de six eaux-fortes, vues de Hollande',\n",
              " 'Judith Presented to Holofernes, plate five from The Story of Judith and Holofernes',\n",
              " 'Red-Blue Chair',\n",
              " 'Cashiobury, plate 28 from Britannia Illustrata',\n",
              " 'Apollo',\n",
              " 'Evening, plate two from Four Times of Day',\n",
              " 'Girl and Reflection',\n",
              " 'Autumn, from The Four Seasons',\n",
              " 'The Young Innkeeper',\n",
              " 'The Pious Old Couple',\n",
              " 'Reve',\n",
              " 'Landscape with Waterfalls and Bridges, Peasants in the Foreground',\n",
              " 'Cimon and Pero',\n",
              " 'Three Men Struggling in an Interior',\n",
              " 'View of the Ponte Rotto, Rome, with Watermills',\n",
              " 'The Circumcision',\n",
              " 'Garlic Crusher',\n",
              " 'Landscape with Philemon and Baucis, from Large Landscapes',\n",
              " 'Jan Cornelius Sylvius',\n",
              " 'Summer, from The Four Seasons',\n",
              " 'Winter Landscape with a Man Crossing',\n",
              " 'Wollaton Hall in the County of Nottingham, plate 68 from Britannia Illustrata',\n",
              " 'Saint Anthony',\n",
              " 'Plate Four, from Five Wise and Five Foolish Virgins',\n",
              " 'Psychology Student',\n",
              " 'Moses Striking Water from the Rock',\n",
              " 'The Tribute Money',\n",
              " 'Dirck Volckertsz. Coornhert (1522-1590), Author, Secretary of the City of Haarlem, Printmaker, Goltzius’s Teacher',\n",
              " 'Landscape with a Farmhouse, from Four Small Landscapes',\n",
              " 'Saint George Liberating the Princess',\n",
              " 'Winter, from The Four Seasons',\n",
              " 'Christ Crowned with Thorns',\n",
              " 'Seated Old Man',\n",
              " 'A Forest Interior, with a Seated Figure',\n",
              " 'The Discovery of Holofernes’s Corpse, plate eight from The Story of Judith and Holofernes',\n",
              " 'Christ Taken Captive',\n",
              " 'Black Gold Biscuit Box',\n",
              " 'Judith Preparing Herself to Leave for the Enemies’ Camp, plate four from The Story of Judith and Holofernes',\n",
              " 'Black Gold Coffee Pot',\n",
              " 'The Israelites Finding Achior Tied to a Tree, plate two from The Story of Judith and Holofernes',\n",
              " 'At Arlington Park',\n",
              " 'The Holy Family',\n",
              " 'Repeat Textile',\n",
              " 'A Portrait of a Woman',\n",
              " 'The Artist’s Mother Seated at a Table, Looking Right: Three Quarter Length',\n",
              " 'Grazing Horse, plate three from Series of Horses',\n",
              " 'Caritas Romana',\n",
              " 'Two Male Heads after the Antique, the Sons of Laocoön',\n",
              " 'In Cousin Deborah’s Porch Swing',\n",
              " 'Face Down on Bed in the Royal Suite of the Drake Hotel',\n",
              " 'The Visitation, plate two from The Birth and Early Life of Christ',\n",
              " 'Satyr Among the Peasants',\n",
              " 'In the Shedd Aquarium',\n",
              " 'A Skirmish Between the Cavalry Officers and Footsoldiers with Bayonets',\n",
              " 'Downtown Crossing State Street in the Crowd',\n",
              " 'Running in Wrigley Field',\n",
              " 'Tramp with a Sling, from T is al verwart-gaern (It’s already confusing)',\n",
              " 'Antoon Triest',\n",
              " 'The Canal, from Cahier de six eaux-fortes, vues de Hollande',\n",
              " 'The Triumph of Mordecai',\n",
              " 'The Coronation of the Virgin and The Flight into Egypt',\n",
              " 'Emperor Decius from Icones Imperatorum Romanorum, plate 60 from Woodcuts from Books of the XVI Century',\n",
              " 'Leaf from De humani corporis fabrica (skull), plate 100 from Woodcuts from Books of the XVI Century',\n",
              " 'The Triumph of Time (recto); Sketch of a Stag (verso)',\n",
              " 'Blanka, Andre, rock make a Brancusi',\n",
              " 'Adoration of the Shepherds',\n",
              " 'Sears Tower',\n",
              " 'Dilapidated Hut, Plate 4 from Landscapes',\n",
              " 'Jacob Shown Joseph’s Blood-Stained Coat',\n",
              " 'Model Field Cannon with Carriage',\n",
              " 'The Rape of a Sabine Woman, Lateral View',\n",
              " 'Wall III, Mendocino',\n",
              " 'Gas Station, Hwy. 99',\n",
              " 'Half Buried in the Illinois-Indiana Sanddunes',\n",
              " 'An Allegory of Relations between the Generations',\n",
              " 'Rearing Horse, Near a Stable, plate one from Series of Horses',\n",
              " 'Portrait of Théophile Alexandre Steinlen',\n",
              " '2 Postage Stamps',\n",
              " 'Ewer',\n",
              " 'Plate One, from Five Wise and Five Foolish Virgins',\n",
              " 'The Madonna with the Christ Child, with the infant John the Baptist and another Child (Caritas)',\n",
              " 'Aurora',\n",
              " 'Saint Christopher',\n",
              " 'Rocky Landscape',\n",
              " 'The City Walls of Utrecht by the “Plompetoren”',\n",
              " 'Three Large Trees on a Hill, plate five from Set of Landscapes',\n",
              " 'Ecce Homo, from The Passion',\n",
              " 'Tobias and the Angel',\n",
              " 'The Rest on the Flight into Egypt, known as The Madonna della Pappa',\n",
              " 'Jupiter and Semele',\n",
              " 'Travellers in Front of the Minerva Medica Temple in Rome',\n",
              " 'The Nurse, from Cahier de six eaux-fortes, vues de Hollande',\n",
              " 'A Traveller Riding a Mule, from Six Landscapes',\n",
              " 'Gerard van Schoonhoven',\n",
              " 'Plowing Oxen',\n",
              " 'Village Road, plate four after Pictures of Farms, Country Houses and Rustic Villages (Praediorum villarum et rusticarum casularum icones)',\n",
              " 'Saint Willibrord',\n",
              " 'Illuminated Initial “G” from a Bible Historiale',\n",
              " 'Joseph’s Brothers Showing His Coat to Jacob',\n",
              " 'Landscape with Abraham and Angels',\n",
              " 'Dutch Ship with Ornamental Prow Seen from Starboard Quarter',\n",
              " 'Christ, after His Transfiguration, Exorcises the Devil from the Lunatic, from Leven Christi (Life of Christ), Plate 44 from Woodcuts from Books of the 15th Century',\n",
              " 'Summer Enchantment',\n",
              " 'Title Page, from Cahier de six eaux-fortes, vues de Hollande',\n",
              " 'Black Gold Cup',\n",
              " 'Herd of Cattle at a Ford Near a Watermill',\n",
              " 'Whixley, plate 78 from Britannia Illustrata',\n",
              " 'Plate Two, from Five Wise and Five Foolish Virgins',\n",
              " 'Salomé Triptych',\n",
              " 'Maria Magdalena of Austria',\n",
              " 'Chilon of Sparta',\n",
              " 'Melton Constable in the County of Norfolk, plate 51 from Britannia Illustrata',\n",
              " 'Composite Smallsword and Scabbard',\n",
              " 'Batavia',\n",
              " 'Three Smokers at a Window',\n",
              " 'Christina of Lorraine',\n",
              " 'Village Road, plate three after Pictures of Farms, Country Houses and Rustic Villages (Praediorum villarum et rusticarum casularum icones)',\n",
              " 'The Virgin and Child Appearing to Saint Francis Xavier',\n",
              " 'Landscape with Cattle',\n",
              " 'Fortune-Teller',\n",
              " 'Two Plough Horses, plate seven from Series of Horses',\n",
              " 'The Annunciation, plate one from The Birth and Early Life of Christ',\n",
              " 'Illuminated Initial “G” from a Prayerbook',\n",
              " 'The Judgment of Solomon',\n",
              " 'Landscape with a Man in a Boat',\n",
              " 'Allegory with a Woman in Roman Dress on a Triumphal Chariot',\n",
              " 'Martyrdom of Saint Cipriano from Heiligenleben (Lives of the Saints), Plate 18 from Woodcuts from Books of the 15th Century',\n",
              " 'The Adoration of the Shepherds',\n",
              " 'Flute',\n",
              " 'Grimthorp in the County of Lincoln, plate 23 from Britannia Illustrata',\n",
              " 'Knowle in the Parish of Sevenoaks in Kent, plate 24 from Britannia Illustrata',\n",
              " 'Title Page, after Pictures of Farms, Country Houses and Rustic Villages (Praediorum villarum et rusticarum casularum icones)',\n",
              " 'Plundering and Burning a Village, plate seven from The Large Miseries of War',\n",
              " 'Saint Matthew, plate one from The Four Evangelists',\n",
              " 'The Two Sailboats, from Cahier de six eaux-fortes, vues de Hollande',\n",
              " 'Londesburgh, plate 31 from Britannia Illustrata',\n",
              " 'Acklam in Cleveland in the County of Yorke, plate 64 from Britannia Illustrata',\n",
              " 'The Resurrection of Christ',\n",
              " 'Landscape with a Shepherd Couple, from Four Small Landscapes',\n",
              " 'Kabelfabriek NKF Delft',\n",
              " 'At the Twin 1-2-3 Drive-in',\n",
              " 'Abijah, Asa, Jehosafat, plate two, from The Twelve Kings of Israel',\n",
              " 'Drenth Heath',\n",
              " 'The Moored Boat, from Cahier de six eaux-fortes, vues de Hollande',\n",
              " 'Male Warrior Running with Drawn Sword',\n",
              " 'Cecrops’ Daughters Uncover Erichthonius (recto); A Battle Scene (verso)',\n",
              " 'Maddingley, plate 57 from Britannia Illustrata',\n",
              " 'Woman at the Bath with a Hat Beside Her',\n",
              " 'Courtyard on Wellington Street',\n",
              " 'South Side Junkyard',\n",
              " 'Fair Lawn in the County of Kent, plate 49 from Britannia Illustrata',\n",
              " 'The Tower of London, plate five from Britannia Illustrata',\n",
              " 'NKF (Nederlandsche Kabelfariek Delft)',\n",
              " 'Torso hiak, Baarlo',\n",
              " 'Wall IV, Mendocino',\n",
              " 'David, Solomon, Rehoboam, plate one, from The Twelve Kings of Israel',\n",
              " 'Christ in the Garden of Olives',\n",
              " 'O’Hare',\n",
              " 'Kneeling in a Pew at St. Hyacinth’s Polish Church',\n",
              " 'Inhabited for a Survey (First Floor Plan from “Self-Portrait as a Building”)',\n",
              " 'Housing Rental Office (Verloop Woning Bureau)',\n",
              " 'Garzia de’ Medici',\n",
              " 'Blanka, floating, Etang de Chancellade',\n",
              " 'On the “EL”',\n",
              " 'An album of Dutch political prints and pamphlets dealing with Prince Maurits of Orange and Johan van Oldenbarnevelt',\n",
              " 'Pluto, plate four from Demogorgon and the Deities',\n",
              " 'Horseman and Hunter in the Woods of Doorwerth, Near Arnhem',\n",
              " 'Large Walled Farm, plate 23 after Pictures of Farms, Country Houses and Rustic Villages (Praediorum villarum et rusticarum casularum icones)',\n",
              " 'Plundering a Large Farmhouse, plate five from The Large Miseries of War',\n",
              " 'Acis and Galatea',\n",
              " 'Narcissism',\n",
              " 'Philips Galle  (1537-1612), Pupil of Coornhert from Haarlem, Engraver and Publisher in Antwerp from 1570; The Baptism of the Eunuch in Background Left',\n",
              " 'Robert Dudley, Earl of Leicester (1532-1588), English Nobleman, Governor-General of the United Provinces in 1585-87',\n",
              " 'Torsohous Waspien, partly unveiled',\n",
              " 'The Forest that Disappeared, Peyras le chateau',\n",
              " 'The Parable of the Blind',\n",
              " 'Advertisement for Wij Nu, Experimenteel Tooneel, Den Haag',\n",
              " 'A Portrait of a Man',\n",
              " 'Salome Dancing Before Herod',\n",
              " 'Adrian Wesel, Cleric in Amsterdam',\n",
              " 'Emperor Maximilian I',\n",
              " 'Fields and a Road, plate 24 after Pictures of Farms, Country Houses and Rustic Villages (Praediorum villarum et rusticarum casularum icones)',\n",
              " 'Etang de Chancellade, early morning, Summer',\n",
              " 'Japanese Torso',\n",
              " 'Blanka, the tunnel',\n",
              " 'Village Road, plate twenty after Pictures of Farms, Country Houses and Rustic Villages (Praediorum villarum et rusticarum casularum icones)',\n",
              " 'MJ’s Earrings',\n",
              " 'Execution of Arminians in Leiden',\n",
              " 'Holy Family Passing Four Men',\n",
              " 'Venus and Mercury',\n",
              " 'A Pond, plate eighteen after Pictures of Farms, Country Houses and Rustic Villages (Praediorum villarum et rusticarum casularum icones)',\n",
              " 'Botanica Plastic Eco-Vase',\n",
              " 'Town Gate, plate two after Pictures of Farms, Country Houses and Rustic Villages (Praediorum villarum et rusticarum casularum icones)',\n",
              " 'Blanka, forêt de Chancellade',\n",
              " 'Portrait of Taddeus de Lantman, Preacher',\n",
              " 'The Cascade, from the series Set of Landscapes',\n",
              " 'Great Ribston, plate 61 from Britannia Illustrata',\n",
              " 'Repeat Classic Houndstooth',\n",
              " 'Landscape with Barnstable, Seated Woman, and Child',\n",
              " 'Armed Galleon Seen from Starboard Quarter',\n",
              " 'Scene of Pillage, plate four from The Large Miseries of War',\n",
              " 'The Adoration of the Shepherds, plate three from The Birth and Early Life of Christ',\n",
              " 'Nehemiah before King Artaxerxes, initial ‘C’ from a Bible',\n",
              " 'ID/Cutlery',\n",
              " 'Venus and Adonis',\n",
              " 'Advertising insert for N.K.F. Delft (“…50000 … 13000 … 50000..”)',\n",
              " 'Pietá',\n",
              " 'Carondelet',\n",
              " 'On the Auditorium Theatre stage',\n",
              " 'Blanka, shielding her eye against the early morning sun, Chancellade',\n",
              " 'The Stake, plate thirteen from The Large Miseries of War',\n",
              " 'Lovers in a Garden',\n",
              " 'Illustration from Die Bibel (Vorsterman), plate 57 from Woodcuts from Books of the XVI Century',\n",
              " 'Allegory on the Futility of Peace Talks with Spain',\n",
              " 'Devil’s Playground',\n",
              " 'The Mystic Marriage of Saint Catherine',\n",
              " 'Attack on a Coach, plate eight from The Large Miseries of War',\n",
              " 'Cliff on a Seashore, from Four Small Landscapes',\n",
              " 'Proserpine, plate five from Demogorgon and the Deities',\n",
              " 'Bag',\n",
              " 'The Peasants Avenge Themselves, plate seventeen from The Large Miseries of War',\n",
              " 'Bull Grazing and Three Sheep',\n",
              " 'Ahaz, Hezekiah, Manasses, plate four, from The Twelve Kings of Israel',\n",
              " 'Neptune',\n",
              " 'Advertisement for NKF tin coated copper cable (Vertinde Gevlochten Koper Kabel)',\n",
              " 'Merchant Ships',\n",
              " 'Overpass on the Kennedy Expressway',\n",
              " 'Bowl and Spoon',\n",
              " 'Jehoram, Uzziah, Jotham, plate three, from The Twelve Kings of Israel',\n",
              " 'Black Gold Plate',\n",
              " 'Punta Boca',\n",
              " 'In Saint Paul’s Woods',\n",
              " 'Man Mounting Plank to Boat',\n",
              " 'Marie Louise d’Orleans',\n",
              " 'Public Laundry House, Bujalend',\n",
              " 'The Firing Squad, plate twelve from The Large Miseries of War',\n",
              " 'Althrop in the County of Northampton, plate 27 from Britannia Illustrata',\n",
              " 'Buildings Amid Ruins in Roman Campagna',\n",
              " 'Temple at Tivoli',\n",
              " 'Salad Bowl and Fork',\n",
              " 'Wimple in the County of Cambridge, plate 32 from Britannia Illustrata',\n",
              " 'Three Half-Length Figures',\n",
              " 'A coté de la route vers Eymouthiers',\n",
              " 'Table Carpet',\n",
              " 'The Hanging, plate eleven from The Large Miseries of War',\n",
              " 'Entry of His Majesty William III, King of Great Britain, etc., in Holland; or Detailed Descriptions of Everything Related to His Arrival and Sojourn in the Hague and Elsewhere, as Decorations of Honor Were Erected Everywhere (Komste van Zyne Majesteit Willem III, Koning van Groot Britanje, enz. in Holland; ofte Omstandelyke Beschrijving van Alles, Het Welke op des Zelfs Komste en Geduurende Zyn Verblyf, in ‘s-Graavenhaage en Elders, ten Teeken van Vreugde en Eere, is Opgerecht en Voorgevallen)',\n",
              " 'Rustic Scene with Sheep, Sheds, and Spreading Trees',\n",
              " 'Oceanus, plate two from Demogorgon and the Deities',\n",
              " 'Barn, Belgium, Blanka, Summer',\n",
              " 'Ships in Full Sail with Small Boats',\n",
              " 'The Birth and Naming of Saint John the Baptist',\n",
              " 'Rollerskating at the Axle',\n",
              " 'Nymph of Fontainebleau',\n",
              " 'Study',\n",
              " 'Advertising insert for Nederlansche Kabelfabriek (N.K.F.) Delft (“10-25-50.kv Hoogspanningskabels met papierisolatie”)',\n",
              " 'Execution of Arminians in The Hague',\n",
              " 'The Wheel, plate fourteen from The Large Miseries of War',\n",
              " 'Winged Goblet (Flügelglas)',\n",
              " 'Blanka’s splitting image, Ausauces.',\n",
              " 'Calvary',\n",
              " 'Ingleby Mannor, plate 60 from Britannia Illustrata',\n",
              " 'Blanka, Moulin du Pont de la Torês',\n",
              " 'Announcement for furniture exhibition at Metz & Co.',\n",
              " 'Hercules and Antaeus Design for a Fountain',\n",
              " 'Woman Seated on Bench and Three Sketches of Heads',\n",
              " 'Dying Soldiers by the Roadside, plate sixteen from The Large Miseries of War',\n",
              " 'Napkin',\n",
              " 'Andros',\n",
              " 'Hussars',\n",
              " 'The Forester’s Cart',\n",
              " 'Chimney Sweep',\n",
              " 'Beyond the New: a search for ideals in design',\n",
              " 'Portrait of Pieter Cornelisz. Hooft',\n",
              " 'Linen Cupboard (Kast)',\n",
              " 'Discovery of the Criminal Soldiers, plate nine from The Large Miseries of War',\n",
              " 'Distribution of Rewards, plate eighteen from The Large Miseries of War',\n",
              " 'Artilleryman',\n",
              " 'Saint Mark, plate two from The Four Evangelists',\n",
              " '“Leer de jeugd samenwerken met de post; geef het boek van PTT”',\n",
              " 'Seven Putti at Play with Symbols of Vanity',\n",
              " 'Advertisement for Bruynzeel Lijstwek',\n",
              " 'Advertisement for Metz & Co. (”Sunfirm”): “Meubelstaffen Tapijten Meubelen”',\n",
              " 'Road into a Village, plate nineteen after Pictures of Farms, Country Houses and Rustic Villages (Praediorum villarum et rusticarum casularum icones)',\n",
              " 'Couple, Bull and Sheep by River with Castles in Background',\n",
              " 'Blanka, Carellage Ausances',\n",
              " 'Panel',\n",
              " 'Hector of Troy, Alexander of Macedon, Julius Caesar, from The Nine Heroes',\n",
              " 'Advertising brochure for “Witboor Palen”',\n",
              " 'Saint Luke, plate three from The Four Evangelists',\n",
              " 'NKF advertisement',\n",
              " 'Portrait of the Poet Pietro Aretino, from Cabinet Reynst; Variarum imaginum a celeberrimis artificibus pictarum Caelaturae (Cabinet Reynst: Engravings of various images painted by famous artists)',\n",
              " 'Hendrik Count van de Bergh',\n",
              " 'The Old Watchman',\n",
              " 'Rape of the Sabines',\n",
              " 'Sword (Pappenheimer Rapier)',\n",
              " 'T 70-27',\n",
              " 'Verzend per luchtpost Amserterdam-Batavia 12 dagen',\n",
              " 'Harbor Scene with Ships and Fisherman',\n",
              " 'Fragment',\n",
              " 'Klachten zijn ons / Welkom',\n",
              " 'Stationary and envelope for Wij Nu, Experimenteel Tooneel, Den Haag',\n",
              " 'Radiotelefoondienst - Advertisement in Ons Nederland',\n",
              " 'Recruitment of Troops, plate two from The Large Miseries of War',\n",
              " '“Olveh Van 1879” Apartments, Rotterdam, Netherlands, Perspective',\n",
              " 'Ortensia Mancini, Duchess of Mazarin',\n",
              " 'Portrait of Jacob van Campen',\n",
              " 'Homage to a Young Woman',\n",
              " 'Ein Jungling (Titus)',\n",
              " 'St. Anne, The Virgin and Child',\n",
              " 'Portrait',\n",
              " 'The Sphinx, les Beaux',\n",
              " 'Italianate Landscape with Traveling Peasants in Foreground',\n",
              " 'Three Ships at Sea',\n",
              " 'Peregrinatio in terram sanctam (Journey to the Holy Land)',\n",
              " 'Travelers with Two Mules',\n",
              " 'Chantier des chevaliers, Peyrat le chateau',\n",
              " 'The Gentlewoman, Issue 1, Spring and Summer',\n",
              " 'Bruges Mill',\n",
              " 'Thistle (recto) and Thistle buds (verso) from Gart Der Gesundheit (also called Hortus sanitatis, or Garden of Health), Plate 32 from Woodcuts from Books of the 15th Century',\n",
              " 'Saint John, plate four from The Four Evangelists',\n",
              " 'Paper: Insulated High Tension Cables',\n",
              " 'Émigré Magazine',\n",
              " 'Machinezetsel / Monotype advertisement, Reklame',\n",
              " 'Rape of Ganymede',\n",
              " 'Untitled, from Pour Jorn',\n",
              " 'Sifnos',\n",
              " 'Harbor Scene with Ships at Rest and Piling',\n",
              " 'Mother and Child',\n",
              " 'Typographical Experiment',\n",
              " 'Koperdraad steeds uit voorraad leverbaar (Cooper wire still deliverable out of stocks)',\n",
              " 'Layers Garden Double',\n",
              " 'Landscape with Shepherd Sleeping under Tree',\n",
              " 'Battle Scene',\n",
              " 'Seascape',\n",
              " 'Zig-Zag Chair',\n",
              " 'Portrait of Cornelis Tromp',\n",
              " 'Untitled, from De Bungalow Ynyswidden',\n",
              " 'Boats on Ocean',\n",
              " 'The Farm in the Dunes',\n",
              " 'View Near Kampen, plate 4 from Views of Dutch Villages',\n",
              " 'View of a Landscape',\n",
              " 'The Gentlewoman, Issue 3, Spring and Summer',\n",
              " 'Magdalena Moons, from Quatuor Personae',\n",
              " 'Pietà',\n",
              " 'Danck-Predikatien, Gedaen over de laste slach by Worcheseter, op den 18 September 1651',\n",
              " 'Bottom Ash Observatory',\n",
              " 'Lady and Gentleman Walking to the Right',\n",
              " 'Beaker',\n",
              " 'Portrait of D. Hieronymous van Beverningk',\n",
              " 'Wine Glass',\n",
              " 'Landscape of Road through Trees and Hills; Figure on Donkey in Distance',\n",
              " 'Three Men, One Bending Over Vessels',\n",
              " 'Psyche Asleep',\n",
              " 'Man Crossing Log Bridge over Torrent',\n",
              " 'Prudence and Justice',\n",
              " 'Miracle of the Host',\n",
              " 'Shooting at Father’s Corpse',\n",
              " 'Boats at Sea',\n",
              " 'Spangen',\n",
              " 'Judgement of Paris',\n",
              " 'Christ Being Nailed to the Cross',\n",
              " 'Leopard Hunt in Persia',\n",
              " 'Old Man Supporting Young Man',\n",
              " 'Falcon Hunt',\n",
              " 'Hunter with Dog, Other Figures in Landscape with Villa, Canal, Pyramid',\n",
              " 'Pastoral Scene: Men Hunting Birds, Couples Seated on Ground',\n",
              " 'Architectural Fragments',\n",
              " 'Men and Women Resting in Wooded Landscape with River, Villas, Church',\n",
              " 'Peter and John at the Temple Gate',\n",
              " 'Chimney Strip',\n",
              " 'Double Ribbon-Handled Porringer',\n",
              " 'Birth Glass',\n",
              " 'Warships and Other Boats in Harbor',\n",
              " 'Baby Satyrs and Putti Playing with Donkey',\n",
              " 'St. John with the Lamb',\n",
              " 'Christ on the Cross',\n",
              " 'Length of Woven Silk',\n",
              " 'Covered Tankard',\n",
              " 'Roemer',\n",
              " 'Wineglass with Tribunal Scene',\n",
              " 'Goblet',\n",
              " 'Mary Magdalene',\n",
              " 'Barefoot Child with Woman in Mountains',\n",
              " 'The Gentlewoman, Issue 8, Autumn and Winter',\n",
              " 'The Gentlewoman, Issue 11, Spring and Summer',\n",
              " 'The Gentlewoman, Issue 12, Autumn and Winter',\n",
              " 'The Gentlewoman, Issue 17, Spring and Summer',\n",
              " 'Venus, Cupid and Ceres',\n",
              " 'The Neri Oxman: Material Ecology Catalogue',\n",
              " 'Gnoli Domenico',\n",
              " 'Elements of Architecture',\n",
              " 'Maharam Stories',\n",
              " 'Piet Oudolf, Landschap in Landshap',\n",
              " 'Gerco de Ruyter, Grid Corrections',\n",
              " 'Seth Siegelaub, Beyond Conceptual Art',\n",
              " 'Robert Zandvliet, I Owe You The Truth In Painting',\n",
              " 'Knoll Velvet (Amber)',\n",
              " 'Knoll Velvet (Camel)',\n",
              " 'Knoll Velvet (Gray)',\n",
              " 'Vinaigrette',\n",
              " 'Sponge Box',\n",
              " 'Basket-Shaped Sponge Box',\n",
              " 'Paper Porcelain, Mug Prototype, nr. 4',\n",
              " 'Paper Porcelain, Tea Cup and Saucer Prototypes, nr. 4',\n",
              " 'Charles II, King of England, from Effigies Variae…',\n",
              " 'Mary Stuart, wife of William II, from Nine Portraits',\n",
              " 'Saint Liduina, from Saints of the North and South Netherlands',\n",
              " 'Amalia van Solms, wife of Frederick Henry, from Nine Portraits',\n",
              " 'Peter Scriverius',\n",
              " 'Frederick Henry, Prince of Orange, from Nine Portraits',\n",
              " 'William II, Prince of Orange, from Nine Portraits',\n",
              " 'Louise Henrietta, Princess of Orange Nassau, from Nine Portraits',\n",
              " 'Albertine Agnes, Princess of Orange Nassau, from Nine Portraits',\n",
              " 'Mary, Princess of Orange Nassau, from Nine Portraits',\n",
              " 'Saint Egbert the Abbot, from Saints of the North and South Netherlands',\n",
              " 'Saint Gregory of Utrecht, from Saints of the North and South Netherlands',\n",
              " 'Saint Frederick of Utrecht, from Saints of the North and South Netherlands',\n",
              " 'Saint Swithbert, from Saints of the North and South Netherlands',\n",
              " 'Saint Wulfram, from Saints of the North and South Netherlands',\n",
              " 'Saint Marcellinus, from Saints of the North and South Netherlands',\n",
              " 'Saint Lebuin, from Saints of the North and South Netherlands',\n",
              " 'Saint Werenfridus, from Saints of the North and South Netherlands',\n",
              " 'Saint Odulf, from Saints of the North and South Netherlands',\n",
              " 'Saint Gangulphus, from Saints of the North and South Netherlands',\n",
              " 'Saint Bavo, from Saints of the North and South Netherlands',\n",
              " 'The Pancake Woman',\n",
              " 'The  Second Bohemian (Tweede Heidinne - Seconde Bohemienne)',\n",
              " 'Grand Bernard Rose Jug',\n",
              " 'NAi Maastricht Jean Prouvé: The Poetics of the Technical Object Poster',\n",
              " 'Layers Vineyard',\n",
              " 'De TOEGEPASTE KUNSTEN IN NEDERLAND (The Art in the Netherlands)',\n",
              " 'Eindhoven invite',\n",
              " 'Exhibition announcement “Tentoonstelling Handweeferk”',\n",
              " 'Advertisement for Bruynzeel’s Deurenfabriek Zaandam (“7 maanden winter!”)',\n",
              " 'Pallas Athena, from Three Goddesses',\n",
              " 'Allegory of Visual Perception',\n",
              " 'Allegory of Transcience ‘Homo Bulla’',\n",
              " 'Susanna',\n",
              " 'Jacob de Gheyn II',\n",
              " 'Perspective view of a street',\n",
              " 'St Petrus, from Sinners of the Old and New Testament',\n",
              " 'Road Leading to a Stable and a Barn, from Master of the Small Landscape Series',\n",
              " 'Beached Sperm Whale at Noordwijk',\n",
              " 'The Martyrdom of Christ, from The Martyrdom of Christ and the Apostles',\n",
              " 'Bust of a Man in Profile',\n",
              " 'Adam Naming the Animals, from History of the First Parents of Man',\n",
              " 'Saturn Presiding over Agriculture, from Seven Planetary Gods',\n",
              " 'St Gregory, from The Fathers of the Church',\n",
              " 'The Cachalot Stranded between Noordwijk and Zandvoort',\n",
              " 'Title, from Views in the Surroundings of Haarlem (Plaisante Plaetsen)',\n",
              " 'Demogorgon in the Cave of Eternity, from The Deities',\n",
              " 'The Punishment of Niobe (Plate 1)',\n",
              " 'Meeting of Moses and Jethro, plate 1 from Thrones of Justice (Thronus Iustitiae)',\n",
              " 'Vanitas Vanitatum et Omnia Vanitas',\n",
              " 'Hendrick Goltzius',\n",
              " 'The Abduction of a Sabine Woman',\n",
              " 'The Flight into Egypt',\n",
              " 'Study for Portrait of a Man in an Arm Chair, from Collection d’imitations de Dessins d’après les Principaux Maîtres Hollandais et Flamands',\n",
              " 'Table of power 2',\n",
              " 'Grimmerschors, Private Art Collection',\n",
              " 'Anton Corbijn, Hollands Deep. A Retrospective',\n",
              " 'Irma Boom IBO',\n",
              " 'Represent',\n",
              " 'Every Thing Design, The Collections of the Museum für Gestaltung Zürich',\n",
              " 'Irma Boom, The architecture of the book',\n",
              " 'Matthijs Maris at Work',\n",
              " 'Matthijs Maris',\n",
              " 'Berend Strik, Deciphering the Artist’s Mind',\n",
              " 'Olafur Eliasson, Verklighetsmaskiner',\n",
              " 'Daily Flower Report',\n",
              " 'Liquid Intelligence, Ellen Gallagher with Edgar Cleijne',\n",
              " 'Herzog & de Meuron + Ai Weiwei: Serpentine Gallery Pavilion',\n",
              " 'Foto Vincent Mentzel',\n",
              " 'Martin Margiela at Lafayette Anticipations',\n",
              " 'Bladeren door het Amerikaanse landschap, een index van boeken en beelden',\n",
              " 'Graphic design in the Netherlands',\n",
              " 'Modern Times, Photography in the 20th Century',\n",
              " 'GEO BIO Miami',\n",
              " '50 Years, U50 Years United Arab Emirates',\n",
              " 'Viviane Sassen, Hot Mirror',\n",
              " 'Viviane Sassen, Umbra',\n",
              " 'Memory Traces, Cary Markerink',\n",
              " 'History of an Art School',\n",
              " 'Songeun Museum',\n",
              " 'Thyssen-Bornemisza Art Contemporary, The Commissions Book',\n",
              " 'Sheila Hicks, Minimes, Weaving As a Metaphore',\n",
              " 'Steven Aalders, The Fifth Line, Thoughts of a Painter',\n",
              " 'Werner Welzig Worte',\n",
              " 'Experience On The Border, The Guide',\n",
              " 'Resource Hungry, Our Cultured Landscape and its Ecological Impact',\n",
              " 'Size Matters! (De)Growth of the 21st Century Art Museum',\n",
              " 'More Than Real, Art in the Digital Age',\n",
              " 'We Are Many, Art, the Political and Multiple Truths',\n",
              " 'One Work, Sheila Hicks at the Mint',\n",
              " 'Vincent Mentzel, foto’s',\n",
              " 'Feest ! Ed van der Elsken zijn nooit verschenen boek (NL)',\n",
              " 'Feest ! Ed van der Elsken the book he never published (ENG)',\n",
              " 'Making Design: Cooper Hewitt, Smithsonian Design Museum Collections',\n",
              " 'Rembrandt x Rijksmuseum',\n",
              " 'Small Wonders',\n",
              " 'Studio Creole, A Brief History of World Literature',\n",
              " '50 Years UAE, special mini version',\n",
              " 'Calphurnius, from The Roman Heroes',\n",
              " 'Titus Manlius on Horseback, from The Roman Heroes',\n",
              " 'Marcus Valerius Corvus, from The Roman Heroes',\n",
              " 'Allegory of Fame and History, from The Roman Heroes',\n",
              " 'Titus Manlius Torquatus, from The Roman Heroes',\n",
              " 'Fool Holding a Staff (Tis om te lachen)',\n",
              " 'Portrait of a Bearded Man (so-called portrait of Giorgione), from Cabinet Reynst; Variarum imaginum a celeberrimis artificibus pictarum Caelaturae (Cabinet Reynst: Engravings of various images painted by famous artists)',\n",
              " 'Covered Jar (Firmament)',\n",
              " 'Christopher Columbus',\n",
              " 'Amerigo Vespucci',\n",
              " 'René de Laudonnière',\n",
              " 'Henry IV, King of France',\n",
              " 'Sol, from The Seven Planets',\n",
              " 'Venus, from The Seven Planets',\n",
              " 'Mercury, from The Seven Planets',\n",
              " 'Luna, from The Seven Planets',\n",
              " 'Vanitas',\n",
              " 'Prophet Elijah with the Widow of Zarephath',\n",
              " 'Homage Paid to Bacchus',\n",
              " 'Sine Cerere et Baccho Friget Venus',\n",
              " 'Salome Dancing before Herod',\n",
              " 'Wise Virgins Gathered Together in a Landscape Before the Preaching of the Baptist, from Parable of the Wise and Foolish Virgins',\n",
              " 'Foolish Virgins Revelling, from Parable of the Wise and Foolish Virgins',\n",
              " 'Virgins Receiving their Lamps, from Parable of the Wise and Foolish Virgins',\n",
              " 'Wise Virgins Received by Our Lord, from Parable of the Wise and Foolish Virgins',\n",
              " 'Foolish Virgins Missing their Rendezvous with Our Lord, from Parable of the Wise and Foolish Virgins',\n",
              " 'Young Couples Celebrating and Dancing',\n",
              " 'Broadside with a Barge Sailing on Ice',\n",
              " 'Victoria Surrounded by Prisoners and Trophies of War',\n",
              " 'The Denial of the Apostle Peter',\n",
              " 'January, from The Twelve Months of the Year',\n",
              " 'February, from The Twelve Months of the Year',\n",
              " 'March, from The Twelve Months of the Year',\n",
              " 'April, from The Twelve Months of the Year',\n",
              " 'May, from The Twelve Months of the Year',\n",
              " 'June, from The Twelve Months of the Year',\n",
              " 'July, from The Twelve Months of the Year',\n",
              " 'August, from The Twelve Months of the Year',\n",
              " 'September, from The Twelve Months of the Year',\n",
              " 'October, from The Twelve Months of the Year',\n",
              " 'November, from The Twelve Months of the Year',\n",
              " 'December, from The Twelve Months of the Year',\n",
              " 'The Annunciation',\n",
              " 'Miracle of the Loaves',\n",
              " 'Christ on the Cross between Two Thieves',\n",
              " 'Allegory of Lust, Wealth and Stupidity',\n",
              " 'Watch-Tower Near a River, from Landscapes (Playsante Lantschappen)',\n",
              " 'Town Situated at a River, from Landscapes (Playsante Lantschappen)',\n",
              " 'Town Gate, from Landscapes (Playsante Lantschappen)',\n",
              " 'Square Tower Used as Inn Near a River, from Landscapes (Playsante Lantschappen)',\n",
              " 'Three Figures in Conversation Near an Inn, from Landscapes (Playsante Lantschappen)',\n",
              " 'Country Road Along a Village with a Bastion, from Landscapes (Playsante Lantschappen)',\n",
              " 'Tent with Country People, from Landscapes (Playsante Lantschappen)',\n",
              " 'Winter Landscape, from Landscapes (Playsante Lantschappen)',\n",
              " 'A Peasant with a Horse on a Road Near City Walls, from Landscapes (Playsante Lantschappen)',\n",
              " 'Village on a River, from Landscapes (Playsante Lantschappen)',\n",
              " 'Bleaching-Field in Front of a Fort on a River, from Landscapes (Playsante Lantschappen)',\n",
              " 'The Three Gunners, from Landscapes (Playsante Lantschappen)',\n",
              " 'Watch-Tower by a River, from Landscapes (Playsante Lantschappen)',\n",
              " 'Philips Galle',\n",
              " 'Jan Goltz II, Father of the Artist',\n",
              " 'Gerardus Mercator',\n",
              " 'Jan Nicquet, Art Collector in Amsterdam',\n",
              " 'Christopher Plantin, Publisher in Antwerp',\n",
              " 'Johannes Stradanus',\n",
              " 'Jan van Zuren, Burgomaster of Haarlem',\n",
              " 'Anna Fullings, Mother of the Artist',\n",
              " 'Dirck Volkertsz. Coornhert',\n",
              " 'Jan Pietersz. Sweelinck, Organist and Composer in Amsterdam',\n",
              " 'Joost Buyck, Burgomaster of Amsterdam',\n",
              " 'Tycho Brahe, Astronomer',\n",
              " 'Carolus Clusius, Physician and Botanist',\n",
              " 'Frederik Hendrik, Prince of Orange',\n",
              " 'Jan van de Velde the Elder, Calligrapher in Haarlem',\n",
              " 'Venus and Cupid, from Three Goddesses',\n",
              " 'Juno, from Three Goddesses',\n",
              " 'Bacchus, from Three Pagan Gods and Goddesses',\n",
              " 'Venus and Amor, from Three Pagan Gods or Goddesses',\n",
              " 'Ceres, from Three Pagan Gods or Goddesses',\n",
              " 'Summer (Boy with Sheaf of Wheat and Girl Wearing a Yoke), from The Four Seasons',\n",
              " 'Autumn (Boy and Girl Harvesting Fruit), from The Four Seasons',\n",
              " 'Winter (Young Couple Skating), from The Four Seasons',\n",
              " 'Spring (Music-Making Couple), from The Four Seasons',\n",
              " 'Summer (Peasants Harvesting Wheat), from The Four Seasons',\n",
              " 'Autumn (Harvesting and Wine Tasting), from The Four Seasons',\n",
              " 'Winter (Banquet with Bacchus Waiting on an Elderly Couple), from The Four Seasons',\n",
              " 'Morning, from The Four Times of Day',\n",
              " 'Farmer and His Wife at Market',\n",
              " 'Two Peasants',\n",
              " 'Cimon and Iphigenia',\n",
              " 'Susanna and the Elders',\n",
              " 'Sarah, from The Wives of the Patriarchs',\n",
              " 'Rebecca, from The Wives of the Patriarchs',\n",
              " 'Lea and Rachel, from The Wives of the Patriarchs',\n",
              " 'Christ and the Woman of Samaria',\n",
              " 'Salvator Mundi',\n",
              " 'Saint Mary Magdalene Repentant',\n",
              " 'Venus, Cupid and Pluto',\n",
              " 'Bacchus, plate 2 from Series of Three Gods',\n",
              " 'Envy, plate 5 from The Vices',\n",
              " 'Allegory of Transience  (Quis Evadet?)',\n",
              " 'Calliope, The Muse of Epic Poetry and Eloquence, from The Nine Muses',\n",
              " 'Thalia, The Muse of Comedy, from The Nine Muses',\n",
              " 'Melpomene, The Muse of Tragedy, from The Nine Muses',\n",
              " 'Clio, The Muse of History, from The Nine Muses',\n",
              " 'Terpsichore, The Muse of Dance, from The Nine Muses',\n",
              " 'Euterpe, The Muse of Music, from The Nine Muses',\n",
              " 'Erato, The Muse of Lyric Poetry, from The Nine Muses',\n",
              " 'Polyhymnia, The Muse of Choral Poetry, from The Nine Muses',\n",
              " 'Urania, The Muse of Astronomy, from The Nine Muses',\n",
              " 'The Banquet of Tarquinius Collatinus, from The Story of Lucretia',\n",
              " 'Lucretia and her Women Spinning, from The Story of Lucretia',\n",
              " 'Tarquinius and Lucretia, from The Story of Lucretia',\n",
              " 'Lucretia Killing Herself, from The Story of Lucretia',\n",
              " 'The Fall of Man',\n",
              " 'Judith with the Head of Holofernes',\n",
              " 'Rest on the Flight to Egypt',\n",
              " 'Oreads Pulling a Thorn from a Satyr’s Foot',\n",
              " 'Minerva and Cupid Leading Hercules and Scipio to the Path of Virtue',\n",
              " 'Venus Honored by the Nymphs',\n",
              " 'Landscape with a Waterfall',\n",
              " 'Landscape with a Shepherd Couple',\n",
              " 'Landscape with a Farmhouse',\n",
              " 'Cliff on a Seashore',\n",
              " 'Standing Young Man with a Cane',\n",
              " 'Return from the Flight into Egypt',\n",
              " 'Virgin and Child with St. John the Baptist',\n",
              " 'Matthew, from The Evangelists',\n",
              " 'Mark, from The Evangelists',\n",
              " 'Luke, from The Evangelists',\n",
              " 'John, from The Evangelists',\n",
              " 'Landscape with the Fall of Icarus, from Landscapes',\n",
              " 'Landscape with Roma People, from Landscapes',\n",
              " 'Landscape with a Stag on a Bridge, from Landscapes',\n",
              " 'Winter Landscape with Ice Skaters, from Landscapes',\n",
              " 'Landscape with a Grotto and Hermits, from Landscapes',\n",
              " 'Perseus Liberating Andromeda',\n",
              " 'Portrait of Julius Caesar Scaliger',\n",
              " 'Unequal Justice, plate 4 from The Abuses of The Law',\n",
              " 'Angel with Manoah and His Wife',\n",
              " 'Judah and Thamar',\n",
              " 'The Pious Old Couple (Vreedsamich Paer)',\n",
              " 'The Apostle St Peter',\n",
              " 'Fortuna Pouring Out the Horn of Plenty Before Hercules',\n",
              " 'Sleeping Mars',\n",
              " 'Triton Blowing on a Conch',\n",
              " 'Sleep',\n",
              " 'Diana and Callisto',\n",
              " 'Peasant Family',\n",
              " 'Tobias and the Angel Gabriel',\n",
              " 'Aurora, Landscape at Dawn',\n",
              " 'The Son Receiving his Heritage, from The Parable of the Prodigal Son',\n",
              " 'The Son Saying Farewell, from The Parable of the Prodigal Son',\n",
              " 'The Son Wasting his Heritage with Riotous Living, from The Parable of the Prodigal Son',\n",
              " 'The Son Chased out of the Brothel, from The Parable of the Prodigal Son',\n",
              " 'The Son Feeding the Swine, from The Parable of the Prodigal Son',\n",
              " 'The Return of the Prodigal Son, from The Parable of the Prodigal Son',\n",
              " 'Eurus, from The Winds',\n",
              " 'Auster, from The Winds',\n",
              " 'Zephyrus, from The Winds',\n",
              " 'Boreas, from The Winds',\n",
              " 'View from a canal of the gate bridge with shutters of a fortified town, street façade on the right',\n",
              " 'Bird’s-eye view of a town with a street going uphill from bottom right to top left',\n",
              " 'View of a castle with tower and entrance building, placed in a pond and surrounded by a garden',\n",
              " 'View of a castle, on the left a fortified wall, on the right a trellis-work gangway and pavilion',\n",
              " 'Argus Attending his Herd, from The Story of Mercury and Argus',\n",
              " 'Mercury Lulling Argus to Sleep, from The Story of Mercury and Argus',\n",
              " 'Mercury Slays Argus, from The Story of Mercury and Argus',\n",
              " 'Rocky Landscape with Three Travelers',\n",
              " 'The Man Wounded by the Thieves, from Landscapes with the Story of the Good Samaritan',\n",
              " 'The Priest Passing the Man, from Landscapes with the Story of the Good Samaritan',\n",
              " 'The Samaritan Finding the Man, from Landscapes with the Story of the Good Samaritan',\n",
              " 'The Samaritan Approaches the Inn, from Landscapes with the Story of the Good Samaritan',\n",
              " 'The Flight into Egypt, from Landscapes with Scenes from the Life of Christ',\n",
              " 'The Adoration of the Magi, from Landscapes with Scenes from the Life of Christ',\n",
              " 'The Tribute Money, from Landscapes with Scenes from the Life of Christ',\n",
              " 'Parable of the Sower, from Landscapes with Scenes from the Life of Christ',\n",
              " 'Christ Healing the Bloody Woman, from Landscapes with Scenes from the Life of Christ',\n",
              " 'Healing of the Paralytic, from Landscapes with Scenes from the Life of Christ',\n",
              " 'Interior with Musicians and Dancing Couples',\n",
              " 'Le François (The French)',\n",
              " 'L’Anglois (The English)',\n",
              " 'De Eenhorns Sluys, from Views of Amsterdam',\n",
              " 'De Noorder Marckt met de Kerck, from Views of Amsterdam',\n",
              " 'De Roowaensche Kaey, from Views of Amsterdam',\n",
              " 'Landscape with a Path up a Mountain through a Village, from Topographia Variarum Regionum',\n",
              " 'Man with a Donkey walking by a Village, from Topographia Variarum Regionum',\n",
              " 'Alpine River Valley, from Topographia Variarum Regionum',\n",
              " 'Pair of Figures Walking Under a Rock Bridge, from Topographia Variarum Regionum',\n",
              " 'Hilly Landscape with Three Couples, from Topographia Variarum Regionum',\n",
              " 'Landscape with a River Valley and a Church on a Hill, from Topographia Variarum Regionum',\n",
              " 'The Ruinous Cottage',\n",
              " 'Jupiter, from Gods and Goddesses',\n",
              " 'Mercury, from Gods and Goddesses',\n",
              " 'Juno, from Gods and Goddesses',\n",
              " 'Minerva, from Gods and Goddesses',\n",
              " 'Venus, from Gods and Goddesses',\n",
              " 'Paris, from Gods and Goddesses',\n",
              " 'Françoise van Egmond',\n",
              " 'Jacques de la Faille',\n",
              " 'Josina Hamels',\n",
              " 'Frederick II, King of Denmark and Norway',\n",
              " 'Spring (Two Children Playing with Bird), from The Four Seasons',\n",
              " 'Farm before Trees in Hilly Country, from Twelve Landscapes',\n",
              " 'Traveler on a Path before Three Trees on a Knoll at Right, from Twelve Landscapes',\n",
              " 'Villa Incorporating Ruins on a Rise to Right of River, from Twelve Landscapes',\n",
              " 'Riders on a Wooded Path to Left of Pond, from Six Landscapes',\n",
              " 'Figures by a Dilapidated Tower: Moonlit Nocturne, from Six Landscapes',\n",
              " 'Title Page, from Twelve landscapes with Figures',\n",
              " 'Path Before Farm Dominated by a Round Tower, from Twelve landscapes with Figures',\n",
              " 'Path to Left of a Farm Dominated by a Round Tower, from Twelve landscapes with Figures',\n",
              " 'Road to Left of a Moated and Walled Country House, from Twelve landscapes with Figures',\n",
              " 'Men with Muskets on a Path leading through Woods, from Twelve landscapes with Figures',\n",
              " 'Path between Roman Ruins, from Twelve landscapes with Figures',\n",
              " 'Path to Left of Walled Building Complex Amid Trees, from Twelve landscapes with Figures',\n",
              " 'Pond before Wooden Bridge and a House, from Twelve landscapes with Figures',\n",
              " 'Hilly Panorama, from Twelve landscapes with Figures',\n",
              " 'Path to Right of Water; Roman Ruins Beyond at Left, from Twelve landscapes with Figures',\n",
              " 'Fields Before Ruins Transformed into Farms, from Twelve landscapes with Figures',\n",
              " 'Several Men on Path Before a Farm, from Twelve landscapes with Figures',\n",
              " 'Farm to the Right of a River',\n",
              " 'St Paulus, from Sinners of the Old and New Testament',\n",
              " 'Zachaeus, from Sinners of the Old and New Testament',\n",
              " 'Magdalena, from Sinners of the Old and New Testament',\n",
              " 'Saulus Rex, from Sinners of the Old and New Testament',\n",
              " 'Judas Iscarioth, from Sinners of the Old and New Testament',\n",
              " 'The Devil painting man’s heart, from Allegory of the Misuse of Worldly Property',\n",
              " ...]"
            ]
          },
          "metadata": {},
          "execution_count": 76
        }
      ]
    },
    {
      "cell_type": "code",
      "source": [
        "s = \"“Hilton Head Island, S.C., USA, June 27, 1992,” from Beach Portraits\"\n",
        "n_s = re.sub(r'[^\\w\\s]', ' ', s)\n",
        "print(n_s)\n",
        "translator.translate(\" \".join(n_s.split()))\n"
      ],
      "metadata": {
        "colab": {
          "base_uri": "https://localhost:8080/",
          "height": 53
        },
        "id": "nzfcWU7jlR5G",
        "outputId": "1a32cf03-8b79-4edd-f086-f8726796d632"
      },
      "execution_count": 74,
      "outputs": [
        {
          "output_type": "stream",
          "name": "stdout",
          "text": [
            " Hilton Head Island  S C   USA  June 27  1992   from Beach Portraits\n"
          ]
        },
        {
          "output_type": "execute_result",
          "data": {
            "text/plain": [
              "'Hilton Head Island S C USA June 27 1992 from Beach Portraits'"
            ],
            "application/vnd.google.colaboratory.intrinsic+json": {
              "type": "string"
            }
          },
          "metadata": {},
          "execution_count": 74
        }
      ]
    },
    {
      "cell_type": "code",
      "source": [
        "s = \"Watch-Tower Near a River, from Landscapes (Playsante Lantschappen)\"\n",
        "n_s = re.sub(r'[^\\w\\s]', ' ', s)\n",
        "print(n_s)\n",
        "translator.translate(\" \".join(n_s.split()))\n"
      ],
      "metadata": {
        "colab": {
          "base_uri": "https://localhost:8080/",
          "height": 53
        },
        "id": "HRq00-ellusO",
        "outputId": "f2ea7d92-186d-4dea-9482-6b7f496f2b7e"
      },
      "execution_count": 77,
      "outputs": [
        {
          "output_type": "stream",
          "name": "stdout",
          "text": [
            "Watch Tower Near a River  from Landscapes  Playsante Lantschappen \n"
          ]
        },
        {
          "output_type": "execute_result",
          "data": {
            "text/plain": [
              "'Watch Tower Near a River from Landscapes Playsante Lantschappen'"
            ],
            "application/vnd.google.colaboratory.intrinsic+json": {
              "type": "string"
            }
          },
          "metadata": {},
          "execution_count": 77
        }
      ]
    },
    {
      "cell_type": "code",
      "source": [
        "# !pip install translators"
      ],
      "metadata": {
        "id": "X0mnYmbcdHWP"
      },
      "execution_count": 54,
      "outputs": []
    },
    {
      "cell_type": "code",
      "source": [
        "# import translators as ts\n",
        "# ts.google()"
      ],
      "metadata": {
        "id": "PgsyIs9bdJ--"
      },
      "execution_count": 55,
      "outputs": []
    },
    {
      "cell_type": "code",
      "source": [
        "# ts.translate_text(from_language='',query_text= \"Portrait of a Sixty-year-old Woman, from Recueil d’estampes d’après les plus célèbres tableaux de la Galerie Royale de Dresde\", to_language='en')"
      ],
      "metadata": {
        "id": "arEd3qM2f9vi"
      },
      "execution_count": 56,
      "outputs": []
    },
    {
      "cell_type": "code",
      "source": [
        "# translator.translate().text"
      ],
      "metadata": {
        "id": "fuBQwrn5eESF"
      },
      "execution_count": 57,
      "outputs": []
    },
    {
      "cell_type": "code",
      "source": [
        "!pip install deep_translator"
      ],
      "metadata": {
        "colab": {
          "base_uri": "https://localhost:8080/"
        },
        "id": "x1bSA1PKgtyQ",
        "outputId": "2aa1cc44-f263-4db2-a983-f3968386a1c1"
      },
      "execution_count": 58,
      "outputs": [
        {
          "output_type": "stream",
          "name": "stdout",
          "text": [
            "Requirement already satisfied: deep_translator in /usr/local/lib/python3.10/dist-packages (1.11.4)\n",
            "Requirement already satisfied: beautifulsoup4<5.0.0,>=4.9.1 in /usr/local/lib/python3.10/dist-packages (from deep_translator) (4.12.3)\n",
            "Requirement already satisfied: requests<3.0.0,>=2.23.0 in /usr/local/lib/python3.10/dist-packages (from deep_translator) (2.31.0)\n",
            "Requirement already satisfied: soupsieve>1.2 in /usr/local/lib/python3.10/dist-packages (from beautifulsoup4<5.0.0,>=4.9.1->deep_translator) (2.5)\n",
            "Requirement already satisfied: charset-normalizer<4,>=2 in /usr/local/lib/python3.10/dist-packages (from requests<3.0.0,>=2.23.0->deep_translator) (3.3.2)\n",
            "Requirement already satisfied: idna<4,>=2.5 in /usr/local/lib/python3.10/dist-packages (from requests<3.0.0,>=2.23.0->deep_translator) (2.10)\n",
            "Requirement already satisfied: urllib3<3,>=1.21.1 in /usr/local/lib/python3.10/dist-packages (from requests<3.0.0,>=2.23.0->deep_translator) (2.0.7)\n",
            "Requirement already satisfied: certifi>=2017.4.17 in /usr/local/lib/python3.10/dist-packages (from requests<3.0.0,>=2.23.0->deep_translator) (2024.2.2)\n"
          ]
        }
      ]
    },
    {
      "cell_type": "code",
      "source": [
        "from deep_translator import GoogleTranslator\n",
        "translator = GoogleTranslator(source='auto', target='en')"
      ],
      "metadata": {
        "id": "Z5j1_EUGgokY"
      },
      "execution_count": 66,
      "outputs": []
    },
    {
      "cell_type": "code",
      "source": [
        "detect('-')"
      ],
      "metadata": {
        "colab": {
          "base_uri": "https://localhost:8080/",
          "height": 287
        },
        "id": "Z6TzWSd8jTXz",
        "outputId": "fda6faf1-a5ef-49a7-8c21-da4b21d961fe"
      },
      "execution_count": 61,
      "outputs": [
        {
          "output_type": "error",
          "ename": "LangDetectException",
          "evalue": "No features in text.",
          "traceback": [
            "\u001b[0;31m---------------------------------------------------------------------------\u001b[0m",
            "\u001b[0;31mLangDetectException\u001b[0m                       Traceback (most recent call last)",
            "\u001b[0;32m<ipython-input-61-903d3fc5968c>\u001b[0m in \u001b[0;36m<cell line: 1>\u001b[0;34m()\u001b[0m\n\u001b[0;32m----> 1\u001b[0;31m \u001b[0mdetect\u001b[0m\u001b[0;34m(\u001b[0m\u001b[0;34m'-'\u001b[0m\u001b[0;34m)\u001b[0m\u001b[0;34m\u001b[0m\u001b[0;34m\u001b[0m\u001b[0m\n\u001b[0m",
            "\u001b[0;32m/usr/local/lib/python3.10/dist-packages/langdetect/detector_factory.py\u001b[0m in \u001b[0;36mdetect\u001b[0;34m(text)\u001b[0m\n\u001b[1;32m    128\u001b[0m     \u001b[0mdetector\u001b[0m \u001b[0;34m=\u001b[0m \u001b[0m_factory\u001b[0m\u001b[0;34m.\u001b[0m\u001b[0mcreate\u001b[0m\u001b[0;34m(\u001b[0m\u001b[0;34m)\u001b[0m\u001b[0;34m\u001b[0m\u001b[0;34m\u001b[0m\u001b[0m\n\u001b[1;32m    129\u001b[0m     \u001b[0mdetector\u001b[0m\u001b[0;34m.\u001b[0m\u001b[0mappend\u001b[0m\u001b[0;34m(\u001b[0m\u001b[0mtext\u001b[0m\u001b[0;34m)\u001b[0m\u001b[0;34m\u001b[0m\u001b[0;34m\u001b[0m\u001b[0m\n\u001b[0;32m--> 130\u001b[0;31m     \u001b[0;32mreturn\u001b[0m \u001b[0mdetector\u001b[0m\u001b[0;34m.\u001b[0m\u001b[0mdetect\u001b[0m\u001b[0;34m(\u001b[0m\u001b[0;34m)\u001b[0m\u001b[0;34m\u001b[0m\u001b[0;34m\u001b[0m\u001b[0m\n\u001b[0m\u001b[1;32m    131\u001b[0m \u001b[0;34m\u001b[0m\u001b[0m\n\u001b[1;32m    132\u001b[0m \u001b[0;34m\u001b[0m\u001b[0m\n",
            "\u001b[0;32m/usr/local/lib/python3.10/dist-packages/langdetect/detector.py\u001b[0m in \u001b[0;36mdetect\u001b[0;34m(self)\u001b[0m\n\u001b[1;32m    134\u001b[0m         \u001b[0mwhich\u001b[0m \u001b[0mhas\u001b[0m \u001b[0mthe\u001b[0m \u001b[0mhighest\u001b[0m \u001b[0mprobability\u001b[0m\u001b[0;34m.\u001b[0m\u001b[0;34m\u001b[0m\u001b[0;34m\u001b[0m\u001b[0m\n\u001b[1;32m    135\u001b[0m         '''\n\u001b[0;32m--> 136\u001b[0;31m         \u001b[0mprobabilities\u001b[0m \u001b[0;34m=\u001b[0m \u001b[0mself\u001b[0m\u001b[0;34m.\u001b[0m\u001b[0mget_probabilities\u001b[0m\u001b[0;34m(\u001b[0m\u001b[0;34m)\u001b[0m\u001b[0;34m\u001b[0m\u001b[0;34m\u001b[0m\u001b[0m\n\u001b[0m\u001b[1;32m    137\u001b[0m         \u001b[0;32mif\u001b[0m \u001b[0mprobabilities\u001b[0m\u001b[0;34m:\u001b[0m\u001b[0;34m\u001b[0m\u001b[0;34m\u001b[0m\u001b[0m\n\u001b[1;32m    138\u001b[0m             \u001b[0;32mreturn\u001b[0m \u001b[0mprobabilities\u001b[0m\u001b[0;34m[\u001b[0m\u001b[0;36m0\u001b[0m\u001b[0;34m]\u001b[0m\u001b[0;34m.\u001b[0m\u001b[0mlang\u001b[0m\u001b[0;34m\u001b[0m\u001b[0;34m\u001b[0m\u001b[0m\n",
            "\u001b[0;32m/usr/local/lib/python3.10/dist-packages/langdetect/detector.py\u001b[0m in \u001b[0;36mget_probabilities\u001b[0;34m(self)\u001b[0m\n\u001b[1;32m    141\u001b[0m     \u001b[0;32mdef\u001b[0m \u001b[0mget_probabilities\u001b[0m\u001b[0;34m(\u001b[0m\u001b[0mself\u001b[0m\u001b[0;34m)\u001b[0m\u001b[0;34m:\u001b[0m\u001b[0;34m\u001b[0m\u001b[0;34m\u001b[0m\u001b[0m\n\u001b[1;32m    142\u001b[0m         \u001b[0;32mif\u001b[0m \u001b[0mself\u001b[0m\u001b[0;34m.\u001b[0m\u001b[0mlangprob\u001b[0m \u001b[0;32mis\u001b[0m \u001b[0;32mNone\u001b[0m\u001b[0;34m:\u001b[0m\u001b[0;34m\u001b[0m\u001b[0;34m\u001b[0m\u001b[0m\n\u001b[0;32m--> 143\u001b[0;31m             \u001b[0mself\u001b[0m\u001b[0;34m.\u001b[0m\u001b[0m_detect_block\u001b[0m\u001b[0;34m(\u001b[0m\u001b[0;34m)\u001b[0m\u001b[0;34m\u001b[0m\u001b[0;34m\u001b[0m\u001b[0m\n\u001b[0m\u001b[1;32m    144\u001b[0m         \u001b[0;32mreturn\u001b[0m \u001b[0mself\u001b[0m\u001b[0;34m.\u001b[0m\u001b[0m_sort_probability\u001b[0m\u001b[0;34m(\u001b[0m\u001b[0mself\u001b[0m\u001b[0;34m.\u001b[0m\u001b[0mlangprob\u001b[0m\u001b[0;34m)\u001b[0m\u001b[0;34m\u001b[0m\u001b[0;34m\u001b[0m\u001b[0m\n\u001b[1;32m    145\u001b[0m \u001b[0;34m\u001b[0m\u001b[0m\n",
            "\u001b[0;32m/usr/local/lib/python3.10/dist-packages/langdetect/detector.py\u001b[0m in \u001b[0;36m_detect_block\u001b[0;34m(self)\u001b[0m\n\u001b[1;32m    148\u001b[0m         \u001b[0mngrams\u001b[0m \u001b[0;34m=\u001b[0m \u001b[0mself\u001b[0m\u001b[0;34m.\u001b[0m\u001b[0m_extract_ngrams\u001b[0m\u001b[0;34m(\u001b[0m\u001b[0;34m)\u001b[0m\u001b[0;34m\u001b[0m\u001b[0;34m\u001b[0m\u001b[0m\n\u001b[1;32m    149\u001b[0m         \u001b[0;32mif\u001b[0m \u001b[0;32mnot\u001b[0m \u001b[0mngrams\u001b[0m\u001b[0;34m:\u001b[0m\u001b[0;34m\u001b[0m\u001b[0;34m\u001b[0m\u001b[0m\n\u001b[0;32m--> 150\u001b[0;31m             \u001b[0;32mraise\u001b[0m \u001b[0mLangDetectException\u001b[0m\u001b[0;34m(\u001b[0m\u001b[0mErrorCode\u001b[0m\u001b[0;34m.\u001b[0m\u001b[0mCantDetectError\u001b[0m\u001b[0;34m,\u001b[0m \u001b[0;34m'No features in text.'\u001b[0m\u001b[0;34m)\u001b[0m\u001b[0;34m\u001b[0m\u001b[0;34m\u001b[0m\u001b[0m\n\u001b[0m\u001b[1;32m    151\u001b[0m \u001b[0;34m\u001b[0m\u001b[0m\n\u001b[1;32m    152\u001b[0m         \u001b[0mself\u001b[0m\u001b[0;34m.\u001b[0m\u001b[0mlangprob\u001b[0m \u001b[0;34m=\u001b[0m \u001b[0;34m[\u001b[0m\u001b[0;36m0.0\u001b[0m\u001b[0;34m]\u001b[0m \u001b[0;34m*\u001b[0m \u001b[0mlen\u001b[0m\u001b[0;34m(\u001b[0m\u001b[0mself\u001b[0m\u001b[0;34m.\u001b[0m\u001b[0mlanglist\u001b[0m\u001b[0;34m)\u001b[0m\u001b[0;34m\u001b[0m\u001b[0;34m\u001b[0m\u001b[0m\n",
            "\u001b[0;31mLangDetectException\u001b[0m: No features in text."
          ]
        }
      ]
    },
    {
      "cell_type": "code",
      "source": [
        "translator.translate(\" \")"
      ],
      "metadata": {
        "colab": {
          "base_uri": "https://localhost:8080/",
          "height": 35
        },
        "id": "MzGuSf77jPcK",
        "outputId": "3a663566-c420-4fa3-f767-4674359ee396"
      },
      "execution_count": 11,
      "outputs": [
        {
          "output_type": "execute_result",
          "data": {
            "text/plain": [
              "''"
            ],
            "application/vnd.google.colaboratory.intrinsic+json": {
              "type": "string"
            }
          },
          "metadata": {},
          "execution_count": 11
        }
      ]
    },
    {
      "cell_type": "code",
      "source": [
        "# df['titles'].apply(lambda x: x if detect(x) == 'en' else translator.translate(x))"
      ],
      "metadata": {
        "colab": {
          "base_uri": "https://localhost:8080/",
          "height": 287
        },
        "id": "02t_AofUi9zD",
        "outputId": "121761b9-dea4-451c-e192-4b7ea502a832"
      },
      "execution_count": 78,
      "outputs": [
        {
          "output_type": "error",
          "ename": "LangDetectException",
          "evalue": "No features in text.",
          "traceback": [
            "\u001b[0;31m---------------------------------------------------------------------------\u001b[0m",
            "\u001b[0;31mLangDetectException\u001b[0m                       Traceback (most recent call last)",
            "\u001b[0;32m<ipython-input-78-e83ccfaa0dd0>\u001b[0m in \u001b[0;36m<cell line: 1>\u001b[0;34m()\u001b[0m\n\u001b[0;32m----> 1\u001b[0;31m \u001b[0mdf\u001b[0m\u001b[0;34m[\u001b[0m\u001b[0;34m'titles'\u001b[0m\u001b[0;34m]\u001b[0m\u001b[0;34m.\u001b[0m\u001b[0mapply\u001b[0m\u001b[0;34m(\u001b[0m\u001b[0;32mlambda\u001b[0m \u001b[0mx\u001b[0m\u001b[0;34m:\u001b[0m \u001b[0mx\u001b[0m \u001b[0;32mif\u001b[0m \u001b[0mdetect\u001b[0m\u001b[0;34m(\u001b[0m\u001b[0mx\u001b[0m\u001b[0;34m)\u001b[0m \u001b[0;34m==\u001b[0m \u001b[0;34m'en'\u001b[0m \u001b[0;32melse\u001b[0m \u001b[0mtranslator\u001b[0m\u001b[0;34m.\u001b[0m\u001b[0mtranslate\u001b[0m\u001b[0;34m(\u001b[0m\u001b[0mx\u001b[0m\u001b[0;34m)\u001b[0m\u001b[0;34m)\u001b[0m\u001b[0;34m\u001b[0m\u001b[0;34m\u001b[0m\u001b[0m\n\u001b[0m",
            "\u001b[0;32m/usr/local/lib/python3.10/dist-packages/pandas/core/series.py\u001b[0m in \u001b[0;36mapply\u001b[0;34m(self, func, convert_dtype, args, **kwargs)\u001b[0m\n\u001b[1;32m   4769\u001b[0m         \u001b[0mdtype\u001b[0m\u001b[0;34m:\u001b[0m \u001b[0mfloat64\u001b[0m\u001b[0;34m\u001b[0m\u001b[0;34m\u001b[0m\u001b[0m\n\u001b[1;32m   4770\u001b[0m         \"\"\"\n\u001b[0;32m-> 4771\u001b[0;31m         \u001b[0;32mreturn\u001b[0m \u001b[0mSeriesApply\u001b[0m\u001b[0;34m(\u001b[0m\u001b[0mself\u001b[0m\u001b[0;34m,\u001b[0m \u001b[0mfunc\u001b[0m\u001b[0;34m,\u001b[0m \u001b[0mconvert_dtype\u001b[0m\u001b[0;34m,\u001b[0m \u001b[0margs\u001b[0m\u001b[0;34m,\u001b[0m \u001b[0mkwargs\u001b[0m\u001b[0;34m)\u001b[0m\u001b[0;34m.\u001b[0m\u001b[0mapply\u001b[0m\u001b[0;34m(\u001b[0m\u001b[0;34m)\u001b[0m\u001b[0;34m\u001b[0m\u001b[0;34m\u001b[0m\u001b[0m\n\u001b[0m\u001b[1;32m   4772\u001b[0m \u001b[0;34m\u001b[0m\u001b[0m\n\u001b[1;32m   4773\u001b[0m     def _reduce(\n",
            "\u001b[0;32m/usr/local/lib/python3.10/dist-packages/pandas/core/apply.py\u001b[0m in \u001b[0;36mapply\u001b[0;34m(self)\u001b[0m\n\u001b[1;32m   1121\u001b[0m \u001b[0;34m\u001b[0m\u001b[0m\n\u001b[1;32m   1122\u001b[0m         \u001b[0;31m# self.f is Callable\u001b[0m\u001b[0;34m\u001b[0m\u001b[0;34m\u001b[0m\u001b[0m\n\u001b[0;32m-> 1123\u001b[0;31m         \u001b[0;32mreturn\u001b[0m \u001b[0mself\u001b[0m\u001b[0;34m.\u001b[0m\u001b[0mapply_standard\u001b[0m\u001b[0;34m(\u001b[0m\u001b[0;34m)\u001b[0m\u001b[0;34m\u001b[0m\u001b[0;34m\u001b[0m\u001b[0m\n\u001b[0m\u001b[1;32m   1124\u001b[0m \u001b[0;34m\u001b[0m\u001b[0m\n\u001b[1;32m   1125\u001b[0m     \u001b[0;32mdef\u001b[0m \u001b[0magg\u001b[0m\u001b[0;34m(\u001b[0m\u001b[0mself\u001b[0m\u001b[0;34m)\u001b[0m\u001b[0;34m:\u001b[0m\u001b[0;34m\u001b[0m\u001b[0;34m\u001b[0m\u001b[0m\n",
            "\u001b[0;32m/usr/local/lib/python3.10/dist-packages/pandas/core/apply.py\u001b[0m in \u001b[0;36mapply_standard\u001b[0;34m(self)\u001b[0m\n\u001b[1;32m   1172\u001b[0m             \u001b[0;32melse\u001b[0m\u001b[0;34m:\u001b[0m\u001b[0;34m\u001b[0m\u001b[0;34m\u001b[0m\u001b[0m\n\u001b[1;32m   1173\u001b[0m                 \u001b[0mvalues\u001b[0m \u001b[0;34m=\u001b[0m \u001b[0mobj\u001b[0m\u001b[0;34m.\u001b[0m\u001b[0mastype\u001b[0m\u001b[0;34m(\u001b[0m\u001b[0mobject\u001b[0m\u001b[0;34m)\u001b[0m\u001b[0;34m.\u001b[0m\u001b[0m_values\u001b[0m\u001b[0;34m\u001b[0m\u001b[0;34m\u001b[0m\u001b[0m\n\u001b[0;32m-> 1174\u001b[0;31m                 mapped = lib.map_infer(\n\u001b[0m\u001b[1;32m   1175\u001b[0m                     \u001b[0mvalues\u001b[0m\u001b[0;34m,\u001b[0m\u001b[0;34m\u001b[0m\u001b[0;34m\u001b[0m\u001b[0m\n\u001b[1;32m   1176\u001b[0m                     \u001b[0mf\u001b[0m\u001b[0;34m,\u001b[0m\u001b[0;34m\u001b[0m\u001b[0;34m\u001b[0m\u001b[0m\n",
            "\u001b[0;32m/usr/local/lib/python3.10/dist-packages/pandas/_libs/lib.pyx\u001b[0m in \u001b[0;36mpandas._libs.lib.map_infer\u001b[0;34m()\u001b[0m\n",
            "\u001b[0;32m<ipython-input-78-e83ccfaa0dd0>\u001b[0m in \u001b[0;36m<lambda>\u001b[0;34m(x)\u001b[0m\n\u001b[0;32m----> 1\u001b[0;31m \u001b[0mdf\u001b[0m\u001b[0;34m[\u001b[0m\u001b[0;34m'titles'\u001b[0m\u001b[0;34m]\u001b[0m\u001b[0;34m.\u001b[0m\u001b[0mapply\u001b[0m\u001b[0;34m(\u001b[0m\u001b[0;32mlambda\u001b[0m \u001b[0mx\u001b[0m\u001b[0;34m:\u001b[0m \u001b[0mx\u001b[0m \u001b[0;32mif\u001b[0m \u001b[0mdetect\u001b[0m\u001b[0;34m(\u001b[0m\u001b[0mx\u001b[0m\u001b[0;34m)\u001b[0m \u001b[0;34m==\u001b[0m \u001b[0;34m'en'\u001b[0m \u001b[0;32melse\u001b[0m \u001b[0mtranslator\u001b[0m\u001b[0;34m.\u001b[0m\u001b[0mtranslate\u001b[0m\u001b[0;34m(\u001b[0m\u001b[0mx\u001b[0m\u001b[0;34m)\u001b[0m\u001b[0;34m)\u001b[0m\u001b[0;34m\u001b[0m\u001b[0;34m\u001b[0m\u001b[0m\n\u001b[0m",
            "\u001b[0;32m/usr/local/lib/python3.10/dist-packages/langdetect/detector_factory.py\u001b[0m in \u001b[0;36mdetect\u001b[0;34m(text)\u001b[0m\n\u001b[1;32m    128\u001b[0m     \u001b[0mdetector\u001b[0m \u001b[0;34m=\u001b[0m \u001b[0m_factory\u001b[0m\u001b[0;34m.\u001b[0m\u001b[0mcreate\u001b[0m\u001b[0;34m(\u001b[0m\u001b[0;34m)\u001b[0m\u001b[0;34m\u001b[0m\u001b[0;34m\u001b[0m\u001b[0m\n\u001b[1;32m    129\u001b[0m     \u001b[0mdetector\u001b[0m\u001b[0;34m.\u001b[0m\u001b[0mappend\u001b[0m\u001b[0;34m(\u001b[0m\u001b[0mtext\u001b[0m\u001b[0;34m)\u001b[0m\u001b[0;34m\u001b[0m\u001b[0;34m\u001b[0m\u001b[0m\n\u001b[0;32m--> 130\u001b[0;31m     \u001b[0;32mreturn\u001b[0m \u001b[0mdetector\u001b[0m\u001b[0;34m.\u001b[0m\u001b[0mdetect\u001b[0m\u001b[0;34m(\u001b[0m\u001b[0;34m)\u001b[0m\u001b[0;34m\u001b[0m\u001b[0;34m\u001b[0m\u001b[0m\n\u001b[0m\u001b[1;32m    131\u001b[0m \u001b[0;34m\u001b[0m\u001b[0m\n\u001b[1;32m    132\u001b[0m \u001b[0;34m\u001b[0m\u001b[0m\n",
            "\u001b[0;32m/usr/local/lib/python3.10/dist-packages/langdetect/detector.py\u001b[0m in \u001b[0;36mdetect\u001b[0;34m(self)\u001b[0m\n\u001b[1;32m    134\u001b[0m         \u001b[0mwhich\u001b[0m \u001b[0mhas\u001b[0m \u001b[0mthe\u001b[0m \u001b[0mhighest\u001b[0m \u001b[0mprobability\u001b[0m\u001b[0;34m.\u001b[0m\u001b[0;34m\u001b[0m\u001b[0;34m\u001b[0m\u001b[0m\n\u001b[1;32m    135\u001b[0m         '''\n\u001b[0;32m--> 136\u001b[0;31m         \u001b[0mprobabilities\u001b[0m \u001b[0;34m=\u001b[0m \u001b[0mself\u001b[0m\u001b[0;34m.\u001b[0m\u001b[0mget_probabilities\u001b[0m\u001b[0;34m(\u001b[0m\u001b[0;34m)\u001b[0m\u001b[0;34m\u001b[0m\u001b[0;34m\u001b[0m\u001b[0m\n\u001b[0m\u001b[1;32m    137\u001b[0m         \u001b[0;32mif\u001b[0m \u001b[0mprobabilities\u001b[0m\u001b[0;34m:\u001b[0m\u001b[0;34m\u001b[0m\u001b[0;34m\u001b[0m\u001b[0m\n\u001b[1;32m    138\u001b[0m             \u001b[0;32mreturn\u001b[0m \u001b[0mprobabilities\u001b[0m\u001b[0;34m[\u001b[0m\u001b[0;36m0\u001b[0m\u001b[0;34m]\u001b[0m\u001b[0;34m.\u001b[0m\u001b[0mlang\u001b[0m\u001b[0;34m\u001b[0m\u001b[0;34m\u001b[0m\u001b[0m\n",
            "\u001b[0;32m/usr/local/lib/python3.10/dist-packages/langdetect/detector.py\u001b[0m in \u001b[0;36mget_probabilities\u001b[0;34m(self)\u001b[0m\n\u001b[1;32m    141\u001b[0m     \u001b[0;32mdef\u001b[0m \u001b[0mget_probabilities\u001b[0m\u001b[0;34m(\u001b[0m\u001b[0mself\u001b[0m\u001b[0;34m)\u001b[0m\u001b[0;34m:\u001b[0m\u001b[0;34m\u001b[0m\u001b[0;34m\u001b[0m\u001b[0m\n\u001b[1;32m    142\u001b[0m         \u001b[0;32mif\u001b[0m \u001b[0mself\u001b[0m\u001b[0;34m.\u001b[0m\u001b[0mlangprob\u001b[0m \u001b[0;32mis\u001b[0m \u001b[0;32mNone\u001b[0m\u001b[0;34m:\u001b[0m\u001b[0;34m\u001b[0m\u001b[0;34m\u001b[0m\u001b[0m\n\u001b[0;32m--> 143\u001b[0;31m             \u001b[0mself\u001b[0m\u001b[0;34m.\u001b[0m\u001b[0m_detect_block\u001b[0m\u001b[0;34m(\u001b[0m\u001b[0;34m)\u001b[0m\u001b[0;34m\u001b[0m\u001b[0;34m\u001b[0m\u001b[0m\n\u001b[0m\u001b[1;32m    144\u001b[0m         \u001b[0;32mreturn\u001b[0m \u001b[0mself\u001b[0m\u001b[0;34m.\u001b[0m\u001b[0m_sort_probability\u001b[0m\u001b[0;34m(\u001b[0m\u001b[0mself\u001b[0m\u001b[0;34m.\u001b[0m\u001b[0mlangprob\u001b[0m\u001b[0;34m)\u001b[0m\u001b[0;34m\u001b[0m\u001b[0;34m\u001b[0m\u001b[0m\n\u001b[1;32m    145\u001b[0m \u001b[0;34m\u001b[0m\u001b[0m\n",
            "\u001b[0;32m/usr/local/lib/python3.10/dist-packages/langdetect/detector.py\u001b[0m in \u001b[0;36m_detect_block\u001b[0;34m(self)\u001b[0m\n\u001b[1;32m    148\u001b[0m         \u001b[0mngrams\u001b[0m \u001b[0;34m=\u001b[0m \u001b[0mself\u001b[0m\u001b[0;34m.\u001b[0m\u001b[0m_extract_ngrams\u001b[0m\u001b[0;34m(\u001b[0m\u001b[0;34m)\u001b[0m\u001b[0;34m\u001b[0m\u001b[0;34m\u001b[0m\u001b[0m\n\u001b[1;32m    149\u001b[0m         \u001b[0;32mif\u001b[0m \u001b[0;32mnot\u001b[0m \u001b[0mngrams\u001b[0m\u001b[0;34m:\u001b[0m\u001b[0;34m\u001b[0m\u001b[0;34m\u001b[0m\u001b[0m\n\u001b[0;32m--> 150\u001b[0;31m             \u001b[0;32mraise\u001b[0m \u001b[0mLangDetectException\u001b[0m\u001b[0;34m(\u001b[0m\u001b[0mErrorCode\u001b[0m\u001b[0;34m.\u001b[0m\u001b[0mCantDetectError\u001b[0m\u001b[0;34m,\u001b[0m \u001b[0;34m'No features in text.'\u001b[0m\u001b[0;34m)\u001b[0m\u001b[0;34m\u001b[0m\u001b[0;34m\u001b[0m\u001b[0m\n\u001b[0m\u001b[1;32m    151\u001b[0m \u001b[0;34m\u001b[0m\u001b[0m\n\u001b[1;32m    152\u001b[0m         \u001b[0mself\u001b[0m\u001b[0;34m.\u001b[0m\u001b[0mlangprob\u001b[0m \u001b[0;34m=\u001b[0m \u001b[0;34m[\u001b[0m\u001b[0;36m0.0\u001b[0m\u001b[0;34m]\u001b[0m \u001b[0;34m*\u001b[0m \u001b[0mlen\u001b[0m\u001b[0;34m(\u001b[0m\u001b[0mself\u001b[0m\u001b[0;34m.\u001b[0m\u001b[0mlanglist\u001b[0m\u001b[0;34m)\u001b[0m\u001b[0;34m\u001b[0m\u001b[0;34m\u001b[0m\u001b[0m\n",
            "\u001b[0;31mLangDetectException\u001b[0m: No features in text."
          ]
        }
      ]
    },
    {
      "cell_type": "code",
      "source": [
        "translator.translate(\"Portrait of a Sixty-year-old Woman, from Recueil d’estampes d’après les plus célèbres tableaux de la Galerie Royale de Dresde\")"
      ],
      "metadata": {
        "colab": {
          "base_uri": "https://localhost:8080/",
          "height": 35
        },
        "id": "vQnZAmbIg3__",
        "outputId": "2c6b8eba-2275-4672-d196-8ca1a0e16f35"
      },
      "execution_count": 8,
      "outputs": [
        {
          "output_type": "execute_result",
          "data": {
            "text/plain": [
              "'Portrait of a Sixty-year-old Woman, from Collection of prints based on the most famous paintings from the Royal Gallery in Dresden'"
            ],
            "application/vnd.google.colaboratory.intrinsic+json": {
              "type": "string"
            }
          },
          "metadata": {},
          "execution_count": 8
        }
      ]
    },
    {
      "cell_type": "code",
      "source": [
        "translator.translate(\"1951-52\")"
      ],
      "metadata": {
        "colab": {
          "base_uri": "https://localhost:8080/",
          "height": 35
        },
        "id": "MOBV1EBfhK-X",
        "outputId": "677cb268-54e1-4460-815a-458604cf3aca"
      },
      "execution_count": 10,
      "outputs": [
        {
          "output_type": "execute_result",
          "data": {
            "text/plain": [
              "'1951-52'"
            ],
            "application/vnd.google.colaboratory.intrinsic+json": {
              "type": "string"
            }
          },
          "metadata": {},
          "execution_count": 10
        }
      ]
    },
    {
      "cell_type": "code",
      "source": [
        "import re\n",
        "my_string = \"Hello! How are you? I'm doing well, thanks.\"\n",
        "my_string = \"1951-52\"\n",
        "my_string = 'Portrait of a Sixty-year-old Woman, from Recueil d’estampes d’après les plus célèbres tableaux de la Galerie Royale de Dresde'\n",
        "\n",
        "new = re.sub(r'[^\\w\\s]', ' ', my_string)\n",
        "print(new)"
      ],
      "metadata": {
        "colab": {
          "base_uri": "https://localhost:8080/"
        },
        "id": "xV2jD35BUeRf",
        "outputId": "ba4e7b11-ba40-4973-d8fd-eb096ab95100"
      },
      "execution_count": 62,
      "outputs": [
        {
          "output_type": "stream",
          "name": "stdout",
          "text": [
            "Portrait of a Sixty year old Woman  from Recueil d estampes d après les plus célèbres tableaux de la Galerie Royale de Dresde\n"
          ]
        }
      ]
    },
    {
      "cell_type": "code",
      "source": [
        "# Removing punctuations\n",
        "df['titles'] = df['titles'].apply(lambda x: re.sub(r'[^\\w\\s]', ' ', x))\n",
        "# Lowercasing the title\n",
        "df['titles'] = df['titles'].apply(lambda x: x.lower())\n",
        "# Removing digits\n",
        "df['titles'] = df['titles'].apply(lambda x: re.sub(r'[0-9]', '', x))\n",
        "# Removing spaces\n",
        "df['titles'] = df['titles'].apply(lambda x: \" \".join(x.split()))\n",
        "# Conversion all sentences to english\n",
        "df['titles'] = df['titles'].apply(lambda x: x if detect(x) == 'en' else translator.translate(x))"
      ],
      "metadata": {
        "colab": {
          "base_uri": "https://localhost:8080/",
          "height": 321
        },
        "id": "GcEGAXtUVo90",
        "outputId": "fd703518-02c7-44c4-8ac7-e0961f567821"
      },
      "execution_count": 79,
      "outputs": [
        {
          "output_type": "error",
          "ename": "LangDetectException",
          "evalue": "No features in text.",
          "traceback": [
            "\u001b[0;31m---------------------------------------------------------------------------\u001b[0m",
            "\u001b[0;31mLangDetectException\u001b[0m                       Traceback (most recent call last)",
            "\u001b[0;32m<ipython-input-79-71cb01355a7a>\u001b[0m in \u001b[0;36m<cell line: 10>\u001b[0;34m()\u001b[0m\n\u001b[1;32m      8\u001b[0m \u001b[0mdf\u001b[0m\u001b[0;34m[\u001b[0m\u001b[0;34m'titles'\u001b[0m\u001b[0;34m]\u001b[0m \u001b[0;34m=\u001b[0m \u001b[0mdf\u001b[0m\u001b[0;34m[\u001b[0m\u001b[0;34m'titles'\u001b[0m\u001b[0;34m]\u001b[0m\u001b[0;34m.\u001b[0m\u001b[0mapply\u001b[0m\u001b[0;34m(\u001b[0m\u001b[0;32mlambda\u001b[0m \u001b[0mx\u001b[0m\u001b[0;34m:\u001b[0m \u001b[0;34m\" \"\u001b[0m\u001b[0;34m.\u001b[0m\u001b[0mjoin\u001b[0m\u001b[0;34m(\u001b[0m\u001b[0mx\u001b[0m\u001b[0;34m.\u001b[0m\u001b[0msplit\u001b[0m\u001b[0;34m(\u001b[0m\u001b[0;34m)\u001b[0m\u001b[0;34m)\u001b[0m\u001b[0;34m)\u001b[0m\u001b[0;34m\u001b[0m\u001b[0;34m\u001b[0m\u001b[0m\n\u001b[1;32m      9\u001b[0m \u001b[0;31m# Conversion all sentences to english\u001b[0m\u001b[0;34m\u001b[0m\u001b[0;34m\u001b[0m\u001b[0m\n\u001b[0;32m---> 10\u001b[0;31m \u001b[0mdf\u001b[0m\u001b[0;34m[\u001b[0m\u001b[0;34m'titles'\u001b[0m\u001b[0;34m]\u001b[0m \u001b[0;34m=\u001b[0m \u001b[0mdf\u001b[0m\u001b[0;34m[\u001b[0m\u001b[0;34m'titles'\u001b[0m\u001b[0;34m]\u001b[0m\u001b[0;34m.\u001b[0m\u001b[0mapply\u001b[0m\u001b[0;34m(\u001b[0m\u001b[0;32mlambda\u001b[0m \u001b[0mx\u001b[0m\u001b[0;34m:\u001b[0m \u001b[0mx\u001b[0m \u001b[0;32mif\u001b[0m \u001b[0mdetect\u001b[0m\u001b[0;34m(\u001b[0m\u001b[0mx\u001b[0m\u001b[0;34m)\u001b[0m \u001b[0;34m==\u001b[0m \u001b[0;34m'en'\u001b[0m \u001b[0;32melse\u001b[0m \u001b[0mtranslator\u001b[0m\u001b[0;34m.\u001b[0m\u001b[0mtranslate\u001b[0m\u001b[0;34m(\u001b[0m\u001b[0mx\u001b[0m\u001b[0;34m)\u001b[0m\u001b[0;34m)\u001b[0m\u001b[0;34m\u001b[0m\u001b[0;34m\u001b[0m\u001b[0m\n\u001b[0m",
            "\u001b[0;32m/usr/local/lib/python3.10/dist-packages/pandas/core/series.py\u001b[0m in \u001b[0;36mapply\u001b[0;34m(self, func, convert_dtype, args, **kwargs)\u001b[0m\n\u001b[1;32m   4769\u001b[0m         \u001b[0mdtype\u001b[0m\u001b[0;34m:\u001b[0m \u001b[0mfloat64\u001b[0m\u001b[0;34m\u001b[0m\u001b[0;34m\u001b[0m\u001b[0m\n\u001b[1;32m   4770\u001b[0m         \"\"\"\n\u001b[0;32m-> 4771\u001b[0;31m         \u001b[0;32mreturn\u001b[0m \u001b[0mSeriesApply\u001b[0m\u001b[0;34m(\u001b[0m\u001b[0mself\u001b[0m\u001b[0;34m,\u001b[0m \u001b[0mfunc\u001b[0m\u001b[0;34m,\u001b[0m \u001b[0mconvert_dtype\u001b[0m\u001b[0;34m,\u001b[0m \u001b[0margs\u001b[0m\u001b[0;34m,\u001b[0m \u001b[0mkwargs\u001b[0m\u001b[0;34m)\u001b[0m\u001b[0;34m.\u001b[0m\u001b[0mapply\u001b[0m\u001b[0;34m(\u001b[0m\u001b[0;34m)\u001b[0m\u001b[0;34m\u001b[0m\u001b[0;34m\u001b[0m\u001b[0m\n\u001b[0m\u001b[1;32m   4772\u001b[0m \u001b[0;34m\u001b[0m\u001b[0m\n\u001b[1;32m   4773\u001b[0m     def _reduce(\n",
            "\u001b[0;32m/usr/local/lib/python3.10/dist-packages/pandas/core/apply.py\u001b[0m in \u001b[0;36mapply\u001b[0;34m(self)\u001b[0m\n\u001b[1;32m   1121\u001b[0m \u001b[0;34m\u001b[0m\u001b[0m\n\u001b[1;32m   1122\u001b[0m         \u001b[0;31m# self.f is Callable\u001b[0m\u001b[0;34m\u001b[0m\u001b[0;34m\u001b[0m\u001b[0m\n\u001b[0;32m-> 1123\u001b[0;31m         \u001b[0;32mreturn\u001b[0m \u001b[0mself\u001b[0m\u001b[0;34m.\u001b[0m\u001b[0mapply_standard\u001b[0m\u001b[0;34m(\u001b[0m\u001b[0;34m)\u001b[0m\u001b[0;34m\u001b[0m\u001b[0;34m\u001b[0m\u001b[0m\n\u001b[0m\u001b[1;32m   1124\u001b[0m \u001b[0;34m\u001b[0m\u001b[0m\n\u001b[1;32m   1125\u001b[0m     \u001b[0;32mdef\u001b[0m \u001b[0magg\u001b[0m\u001b[0;34m(\u001b[0m\u001b[0mself\u001b[0m\u001b[0;34m)\u001b[0m\u001b[0;34m:\u001b[0m\u001b[0;34m\u001b[0m\u001b[0;34m\u001b[0m\u001b[0m\n",
            "\u001b[0;32m/usr/local/lib/python3.10/dist-packages/pandas/core/apply.py\u001b[0m in \u001b[0;36mapply_standard\u001b[0;34m(self)\u001b[0m\n\u001b[1;32m   1172\u001b[0m             \u001b[0;32melse\u001b[0m\u001b[0;34m:\u001b[0m\u001b[0;34m\u001b[0m\u001b[0;34m\u001b[0m\u001b[0m\n\u001b[1;32m   1173\u001b[0m                 \u001b[0mvalues\u001b[0m \u001b[0;34m=\u001b[0m \u001b[0mobj\u001b[0m\u001b[0;34m.\u001b[0m\u001b[0mastype\u001b[0m\u001b[0;34m(\u001b[0m\u001b[0mobject\u001b[0m\u001b[0;34m)\u001b[0m\u001b[0;34m.\u001b[0m\u001b[0m_values\u001b[0m\u001b[0;34m\u001b[0m\u001b[0;34m\u001b[0m\u001b[0m\n\u001b[0;32m-> 1174\u001b[0;31m                 mapped = lib.map_infer(\n\u001b[0m\u001b[1;32m   1175\u001b[0m                     \u001b[0mvalues\u001b[0m\u001b[0;34m,\u001b[0m\u001b[0;34m\u001b[0m\u001b[0;34m\u001b[0m\u001b[0m\n\u001b[1;32m   1176\u001b[0m                     \u001b[0mf\u001b[0m\u001b[0;34m,\u001b[0m\u001b[0;34m\u001b[0m\u001b[0;34m\u001b[0m\u001b[0m\n",
            "\u001b[0;32m/usr/local/lib/python3.10/dist-packages/pandas/_libs/lib.pyx\u001b[0m in \u001b[0;36mpandas._libs.lib.map_infer\u001b[0;34m()\u001b[0m\n",
            "\u001b[0;32m<ipython-input-79-71cb01355a7a>\u001b[0m in \u001b[0;36m<lambda>\u001b[0;34m(x)\u001b[0m\n\u001b[1;32m      8\u001b[0m \u001b[0mdf\u001b[0m\u001b[0;34m[\u001b[0m\u001b[0;34m'titles'\u001b[0m\u001b[0;34m]\u001b[0m \u001b[0;34m=\u001b[0m \u001b[0mdf\u001b[0m\u001b[0;34m[\u001b[0m\u001b[0;34m'titles'\u001b[0m\u001b[0;34m]\u001b[0m\u001b[0;34m.\u001b[0m\u001b[0mapply\u001b[0m\u001b[0;34m(\u001b[0m\u001b[0;32mlambda\u001b[0m \u001b[0mx\u001b[0m\u001b[0;34m:\u001b[0m \u001b[0;34m\" \"\u001b[0m\u001b[0;34m.\u001b[0m\u001b[0mjoin\u001b[0m\u001b[0;34m(\u001b[0m\u001b[0mx\u001b[0m\u001b[0;34m.\u001b[0m\u001b[0msplit\u001b[0m\u001b[0;34m(\u001b[0m\u001b[0;34m)\u001b[0m\u001b[0;34m)\u001b[0m\u001b[0;34m)\u001b[0m\u001b[0;34m\u001b[0m\u001b[0;34m\u001b[0m\u001b[0m\n\u001b[1;32m      9\u001b[0m \u001b[0;31m# Conversion all sentences to english\u001b[0m\u001b[0;34m\u001b[0m\u001b[0;34m\u001b[0m\u001b[0m\n\u001b[0;32m---> 10\u001b[0;31m \u001b[0mdf\u001b[0m\u001b[0;34m[\u001b[0m\u001b[0;34m'titles'\u001b[0m\u001b[0;34m]\u001b[0m \u001b[0;34m=\u001b[0m \u001b[0mdf\u001b[0m\u001b[0;34m[\u001b[0m\u001b[0;34m'titles'\u001b[0m\u001b[0;34m]\u001b[0m\u001b[0;34m.\u001b[0m\u001b[0mapply\u001b[0m\u001b[0;34m(\u001b[0m\u001b[0;32mlambda\u001b[0m \u001b[0mx\u001b[0m\u001b[0;34m:\u001b[0m \u001b[0mx\u001b[0m \u001b[0;32mif\u001b[0m \u001b[0mdetect\u001b[0m\u001b[0;34m(\u001b[0m\u001b[0mx\u001b[0m\u001b[0;34m)\u001b[0m \u001b[0;34m==\u001b[0m \u001b[0;34m'en'\u001b[0m \u001b[0;32melse\u001b[0m \u001b[0mtranslator\u001b[0m\u001b[0;34m.\u001b[0m\u001b[0mtranslate\u001b[0m\u001b[0;34m(\u001b[0m\u001b[0mx\u001b[0m\u001b[0;34m)\u001b[0m\u001b[0;34m)\u001b[0m\u001b[0;34m\u001b[0m\u001b[0;34m\u001b[0m\u001b[0m\n\u001b[0m",
            "\u001b[0;32m/usr/local/lib/python3.10/dist-packages/langdetect/detector_factory.py\u001b[0m in \u001b[0;36mdetect\u001b[0;34m(text)\u001b[0m\n\u001b[1;32m    128\u001b[0m     \u001b[0mdetector\u001b[0m \u001b[0;34m=\u001b[0m \u001b[0m_factory\u001b[0m\u001b[0;34m.\u001b[0m\u001b[0mcreate\u001b[0m\u001b[0;34m(\u001b[0m\u001b[0;34m)\u001b[0m\u001b[0;34m\u001b[0m\u001b[0;34m\u001b[0m\u001b[0m\n\u001b[1;32m    129\u001b[0m     \u001b[0mdetector\u001b[0m\u001b[0;34m.\u001b[0m\u001b[0mappend\u001b[0m\u001b[0;34m(\u001b[0m\u001b[0mtext\u001b[0m\u001b[0;34m)\u001b[0m\u001b[0;34m\u001b[0m\u001b[0;34m\u001b[0m\u001b[0m\n\u001b[0;32m--> 130\u001b[0;31m     \u001b[0;32mreturn\u001b[0m \u001b[0mdetector\u001b[0m\u001b[0;34m.\u001b[0m\u001b[0mdetect\u001b[0m\u001b[0;34m(\u001b[0m\u001b[0;34m)\u001b[0m\u001b[0;34m\u001b[0m\u001b[0;34m\u001b[0m\u001b[0m\n\u001b[0m\u001b[1;32m    131\u001b[0m \u001b[0;34m\u001b[0m\u001b[0m\n\u001b[1;32m    132\u001b[0m \u001b[0;34m\u001b[0m\u001b[0m\n",
            "\u001b[0;32m/usr/local/lib/python3.10/dist-packages/langdetect/detector.py\u001b[0m in \u001b[0;36mdetect\u001b[0;34m(self)\u001b[0m\n\u001b[1;32m    134\u001b[0m         \u001b[0mwhich\u001b[0m \u001b[0mhas\u001b[0m \u001b[0mthe\u001b[0m \u001b[0mhighest\u001b[0m \u001b[0mprobability\u001b[0m\u001b[0;34m.\u001b[0m\u001b[0;34m\u001b[0m\u001b[0;34m\u001b[0m\u001b[0m\n\u001b[1;32m    135\u001b[0m         '''\n\u001b[0;32m--> 136\u001b[0;31m         \u001b[0mprobabilities\u001b[0m \u001b[0;34m=\u001b[0m \u001b[0mself\u001b[0m\u001b[0;34m.\u001b[0m\u001b[0mget_probabilities\u001b[0m\u001b[0;34m(\u001b[0m\u001b[0;34m)\u001b[0m\u001b[0;34m\u001b[0m\u001b[0;34m\u001b[0m\u001b[0m\n\u001b[0m\u001b[1;32m    137\u001b[0m         \u001b[0;32mif\u001b[0m \u001b[0mprobabilities\u001b[0m\u001b[0;34m:\u001b[0m\u001b[0;34m\u001b[0m\u001b[0;34m\u001b[0m\u001b[0m\n\u001b[1;32m    138\u001b[0m             \u001b[0;32mreturn\u001b[0m \u001b[0mprobabilities\u001b[0m\u001b[0;34m[\u001b[0m\u001b[0;36m0\u001b[0m\u001b[0;34m]\u001b[0m\u001b[0;34m.\u001b[0m\u001b[0mlang\u001b[0m\u001b[0;34m\u001b[0m\u001b[0;34m\u001b[0m\u001b[0m\n",
            "\u001b[0;32m/usr/local/lib/python3.10/dist-packages/langdetect/detector.py\u001b[0m in \u001b[0;36mget_probabilities\u001b[0;34m(self)\u001b[0m\n\u001b[1;32m    141\u001b[0m     \u001b[0;32mdef\u001b[0m \u001b[0mget_probabilities\u001b[0m\u001b[0;34m(\u001b[0m\u001b[0mself\u001b[0m\u001b[0;34m)\u001b[0m\u001b[0;34m:\u001b[0m\u001b[0;34m\u001b[0m\u001b[0;34m\u001b[0m\u001b[0m\n\u001b[1;32m    142\u001b[0m         \u001b[0;32mif\u001b[0m \u001b[0mself\u001b[0m\u001b[0;34m.\u001b[0m\u001b[0mlangprob\u001b[0m \u001b[0;32mis\u001b[0m \u001b[0;32mNone\u001b[0m\u001b[0;34m:\u001b[0m\u001b[0;34m\u001b[0m\u001b[0;34m\u001b[0m\u001b[0m\n\u001b[0;32m--> 143\u001b[0;31m             \u001b[0mself\u001b[0m\u001b[0;34m.\u001b[0m\u001b[0m_detect_block\u001b[0m\u001b[0;34m(\u001b[0m\u001b[0;34m)\u001b[0m\u001b[0;34m\u001b[0m\u001b[0;34m\u001b[0m\u001b[0m\n\u001b[0m\u001b[1;32m    144\u001b[0m         \u001b[0;32mreturn\u001b[0m \u001b[0mself\u001b[0m\u001b[0;34m.\u001b[0m\u001b[0m_sort_probability\u001b[0m\u001b[0;34m(\u001b[0m\u001b[0mself\u001b[0m\u001b[0;34m.\u001b[0m\u001b[0mlangprob\u001b[0m\u001b[0;34m)\u001b[0m\u001b[0;34m\u001b[0m\u001b[0;34m\u001b[0m\u001b[0m\n\u001b[1;32m    145\u001b[0m \u001b[0;34m\u001b[0m\u001b[0m\n",
            "\u001b[0;32m/usr/local/lib/python3.10/dist-packages/langdetect/detector.py\u001b[0m in \u001b[0;36m_detect_block\u001b[0;34m(self)\u001b[0m\n\u001b[1;32m    148\u001b[0m         \u001b[0mngrams\u001b[0m \u001b[0;34m=\u001b[0m \u001b[0mself\u001b[0m\u001b[0;34m.\u001b[0m\u001b[0m_extract_ngrams\u001b[0m\u001b[0;34m(\u001b[0m\u001b[0;34m)\u001b[0m\u001b[0;34m\u001b[0m\u001b[0;34m\u001b[0m\u001b[0m\n\u001b[1;32m    149\u001b[0m         \u001b[0;32mif\u001b[0m \u001b[0;32mnot\u001b[0m \u001b[0mngrams\u001b[0m\u001b[0;34m:\u001b[0m\u001b[0;34m\u001b[0m\u001b[0;34m\u001b[0m\u001b[0m\n\u001b[0;32m--> 150\u001b[0;31m             \u001b[0;32mraise\u001b[0m \u001b[0mLangDetectException\u001b[0m\u001b[0;34m(\u001b[0m\u001b[0mErrorCode\u001b[0m\u001b[0;34m.\u001b[0m\u001b[0mCantDetectError\u001b[0m\u001b[0;34m,\u001b[0m \u001b[0;34m'No features in text.'\u001b[0m\u001b[0;34m)\u001b[0m\u001b[0;34m\u001b[0m\u001b[0;34m\u001b[0m\u001b[0m\n\u001b[0m\u001b[1;32m    151\u001b[0m \u001b[0;34m\u001b[0m\u001b[0m\n\u001b[1;32m    152\u001b[0m         \u001b[0mself\u001b[0m\u001b[0;34m.\u001b[0m\u001b[0mlangprob\u001b[0m \u001b[0;34m=\u001b[0m \u001b[0;34m[\u001b[0m\u001b[0;36m0.0\u001b[0m\u001b[0;34m]\u001b[0m \u001b[0;34m*\u001b[0m \u001b[0mlen\u001b[0m\u001b[0;34m(\u001b[0m\u001b[0mself\u001b[0m\u001b[0;34m.\u001b[0m\u001b[0mlanglist\u001b[0m\u001b[0;34m)\u001b[0m\u001b[0;34m\u001b[0m\u001b[0;34m\u001b[0m\u001b[0m\n",
            "\u001b[0;31mLangDetectException\u001b[0m: No features in text."
          ]
        }
      ]
    },
    {
      "cell_type": "code",
      "source": [
        "df['titles']"
      ],
      "metadata": {
        "colab": {
          "base_uri": "https://localhost:8080/"
        },
        "id": "sBUR6qyGann0",
        "outputId": "eee72a33-6c87-45a2-f47a-bfc4e683b29b"
      },
      "execution_count": 90,
      "outputs": [
        {
          "output_type": "execute_result",
          "data": {
            "text/plain": [
              "0                             lozenge composition with yellow black blue red and gray\n",
              "1                                                                              judith\n",
              "2                                          the battle between the gods and the giants\n",
              "3                                two cows and a young bull beside a fence in a meadow\n",
              "4       lame beggar asking for alms from t is al verwart gaern it s already confusing\n",
              "                                            ...                                      \n",
              "6141                                            spouted ewer with twisted rope handle\n",
              "6142                                                                       chair back\n",
              "6143                                                               panel trouser band\n",
              "6144                                                                    child s tunic\n",
              "6145                                                      fragment from a chair strip\n",
              "Name: titles, Length: 6146, dtype: object"
            ]
          },
          "metadata": {},
          "execution_count": 90
        }
      ]
    },
    {
      "cell_type": "code",
      "source": [
        "df.head()"
      ],
      "metadata": {
        "colab": {
          "base_uri": "https://localhost:8080/",
          "height": 206
        },
        "id": "YdAnTNMuWHRk",
        "outputId": "f6b13a60-4f52-4c8d-de4b-883065b0dc62"
      },
      "execution_count": 72,
      "outputs": [
        {
          "output_type": "execute_result",
          "data": {
            "text/plain": [
              "                                                                             titles  \\\n",
              "0                       lozenge composition with yellow  black  blue  red  and gray   \n",
              "1                                                                            judith   \n",
              "2                                        the battle between the gods and the giants   \n",
              "3                              two cows and a young bull beside a fence in a meadow   \n",
              "4  lame beggar asking for alms  from t is al verwart gaern  it s already confusing    \n",
              "\n",
              "                                                                             images_path  \n",
              "0  /content/drive/MyDrive/artwork_description_generator/data/images/Netherlands/nl_1.jpg  \n",
              "1  /content/drive/MyDrive/artwork_description_generator/data/images/Netherlands/nl_2.jpg  \n",
              "2  /content/drive/MyDrive/artwork_description_generator/data/images/Netherlands/nl_3.jpg  \n",
              "3  /content/drive/MyDrive/artwork_description_generator/data/images/Netherlands/nl_4.jpg  \n",
              "4  /content/drive/MyDrive/artwork_description_generator/data/images/Netherlands/nl_5.jpg  "
            ],
            "text/html": [
              "\n",
              "  <div id=\"df-f2c95c2a-c27d-4b91-ade9-afb6a34f5680\" class=\"colab-df-container\">\n",
              "    <div>\n",
              "<style scoped>\n",
              "    .dataframe tbody tr th:only-of-type {\n",
              "        vertical-align: middle;\n",
              "    }\n",
              "\n",
              "    .dataframe tbody tr th {\n",
              "        vertical-align: top;\n",
              "    }\n",
              "\n",
              "    .dataframe thead th {\n",
              "        text-align: right;\n",
              "    }\n",
              "</style>\n",
              "<table border=\"1\" class=\"dataframe\">\n",
              "  <thead>\n",
              "    <tr style=\"text-align: right;\">\n",
              "      <th></th>\n",
              "      <th>titles</th>\n",
              "      <th>images_path</th>\n",
              "    </tr>\n",
              "  </thead>\n",
              "  <tbody>\n",
              "    <tr>\n",
              "      <th>0</th>\n",
              "      <td>lozenge composition with yellow  black  blue  red  and gray</td>\n",
              "      <td>/content/drive/MyDrive/artwork_description_generator/data/images/Netherlands/nl_1.jpg</td>\n",
              "    </tr>\n",
              "    <tr>\n",
              "      <th>1</th>\n",
              "      <td>judith</td>\n",
              "      <td>/content/drive/MyDrive/artwork_description_generator/data/images/Netherlands/nl_2.jpg</td>\n",
              "    </tr>\n",
              "    <tr>\n",
              "      <th>2</th>\n",
              "      <td>the battle between the gods and the giants</td>\n",
              "      <td>/content/drive/MyDrive/artwork_description_generator/data/images/Netherlands/nl_3.jpg</td>\n",
              "    </tr>\n",
              "    <tr>\n",
              "      <th>3</th>\n",
              "      <td>two cows and a young bull beside a fence in a meadow</td>\n",
              "      <td>/content/drive/MyDrive/artwork_description_generator/data/images/Netherlands/nl_4.jpg</td>\n",
              "    </tr>\n",
              "    <tr>\n",
              "      <th>4</th>\n",
              "      <td>lame beggar asking for alms  from t is al verwart gaern  it s already confusing</td>\n",
              "      <td>/content/drive/MyDrive/artwork_description_generator/data/images/Netherlands/nl_5.jpg</td>\n",
              "    </tr>\n",
              "  </tbody>\n",
              "</table>\n",
              "</div>\n",
              "    <div class=\"colab-df-buttons\">\n",
              "\n",
              "  <div class=\"colab-df-container\">\n",
              "    <button class=\"colab-df-convert\" onclick=\"convertToInteractive('df-f2c95c2a-c27d-4b91-ade9-afb6a34f5680')\"\n",
              "            title=\"Convert this dataframe to an interactive table.\"\n",
              "            style=\"display:none;\">\n",
              "\n",
              "  <svg xmlns=\"http://www.w3.org/2000/svg\" height=\"24px\" viewBox=\"0 -960 960 960\">\n",
              "    <path d=\"M120-120v-720h720v720H120Zm60-500h600v-160H180v160Zm220 220h160v-160H400v160Zm0 220h160v-160H400v160ZM180-400h160v-160H180v160Zm440 0h160v-160H620v160ZM180-180h160v-160H180v160Zm440 0h160v-160H620v160Z\"/>\n",
              "  </svg>\n",
              "    </button>\n",
              "\n",
              "  <style>\n",
              "    .colab-df-container {\n",
              "      display:flex;\n",
              "      gap: 12px;\n",
              "    }\n",
              "\n",
              "    .colab-df-convert {\n",
              "      background-color: #E8F0FE;\n",
              "      border: none;\n",
              "      border-radius: 50%;\n",
              "      cursor: pointer;\n",
              "      display: none;\n",
              "      fill: #1967D2;\n",
              "      height: 32px;\n",
              "      padding: 0 0 0 0;\n",
              "      width: 32px;\n",
              "    }\n",
              "\n",
              "    .colab-df-convert:hover {\n",
              "      background-color: #E2EBFA;\n",
              "      box-shadow: 0px 1px 2px rgba(60, 64, 67, 0.3), 0px 1px 3px 1px rgba(60, 64, 67, 0.15);\n",
              "      fill: #174EA6;\n",
              "    }\n",
              "\n",
              "    .colab-df-buttons div {\n",
              "      margin-bottom: 4px;\n",
              "    }\n",
              "\n",
              "    [theme=dark] .colab-df-convert {\n",
              "      background-color: #3B4455;\n",
              "      fill: #D2E3FC;\n",
              "    }\n",
              "\n",
              "    [theme=dark] .colab-df-convert:hover {\n",
              "      background-color: #434B5C;\n",
              "      box-shadow: 0px 1px 3px 1px rgba(0, 0, 0, 0.15);\n",
              "      filter: drop-shadow(0px 1px 2px rgba(0, 0, 0, 0.3));\n",
              "      fill: #FFFFFF;\n",
              "    }\n",
              "  </style>\n",
              "\n",
              "    <script>\n",
              "      const buttonEl =\n",
              "        document.querySelector('#df-f2c95c2a-c27d-4b91-ade9-afb6a34f5680 button.colab-df-convert');\n",
              "      buttonEl.style.display =\n",
              "        google.colab.kernel.accessAllowed ? 'block' : 'none';\n",
              "\n",
              "      async function convertToInteractive(key) {\n",
              "        const element = document.querySelector('#df-f2c95c2a-c27d-4b91-ade9-afb6a34f5680');\n",
              "        const dataTable =\n",
              "          await google.colab.kernel.invokeFunction('convertToInteractive',\n",
              "                                                    [key], {});\n",
              "        if (!dataTable) return;\n",
              "\n",
              "        const docLinkHtml = 'Like what you see? Visit the ' +\n",
              "          '<a target=\"_blank\" href=https://colab.research.google.com/notebooks/data_table.ipynb>data table notebook</a>'\n",
              "          + ' to learn more about interactive tables.';\n",
              "        element.innerHTML = '';\n",
              "        dataTable['output_type'] = 'display_data';\n",
              "        await google.colab.output.renderOutput(dataTable, element);\n",
              "        const docLink = document.createElement('div');\n",
              "        docLink.innerHTML = docLinkHtml;\n",
              "        element.appendChild(docLink);\n",
              "      }\n",
              "    </script>\n",
              "  </div>\n",
              "\n",
              "\n",
              "<div id=\"df-ba58fb2a-2a7d-4cba-ba2e-28fd048bb3d4\">\n",
              "  <button class=\"colab-df-quickchart\" onclick=\"quickchart('df-ba58fb2a-2a7d-4cba-ba2e-28fd048bb3d4')\"\n",
              "            title=\"Suggest charts\"\n",
              "            style=\"display:none;\">\n",
              "\n",
              "<svg xmlns=\"http://www.w3.org/2000/svg\" height=\"24px\"viewBox=\"0 0 24 24\"\n",
              "     width=\"24px\">\n",
              "    <g>\n",
              "        <path d=\"M19 3H5c-1.1 0-2 .9-2 2v14c0 1.1.9 2 2 2h14c1.1 0 2-.9 2-2V5c0-1.1-.9-2-2-2zM9 17H7v-7h2v7zm4 0h-2V7h2v10zm4 0h-2v-4h2v4z\"/>\n",
              "    </g>\n",
              "</svg>\n",
              "  </button>\n",
              "\n",
              "<style>\n",
              "  .colab-df-quickchart {\n",
              "      --bg-color: #E8F0FE;\n",
              "      --fill-color: #1967D2;\n",
              "      --hover-bg-color: #E2EBFA;\n",
              "      --hover-fill-color: #174EA6;\n",
              "      --disabled-fill-color: #AAA;\n",
              "      --disabled-bg-color: #DDD;\n",
              "  }\n",
              "\n",
              "  [theme=dark] .colab-df-quickchart {\n",
              "      --bg-color: #3B4455;\n",
              "      --fill-color: #D2E3FC;\n",
              "      --hover-bg-color: #434B5C;\n",
              "      --hover-fill-color: #FFFFFF;\n",
              "      --disabled-bg-color: #3B4455;\n",
              "      --disabled-fill-color: #666;\n",
              "  }\n",
              "\n",
              "  .colab-df-quickchart {\n",
              "    background-color: var(--bg-color);\n",
              "    border: none;\n",
              "    border-radius: 50%;\n",
              "    cursor: pointer;\n",
              "    display: none;\n",
              "    fill: var(--fill-color);\n",
              "    height: 32px;\n",
              "    padding: 0;\n",
              "    width: 32px;\n",
              "  }\n",
              "\n",
              "  .colab-df-quickchart:hover {\n",
              "    background-color: var(--hover-bg-color);\n",
              "    box-shadow: 0 1px 2px rgba(60, 64, 67, 0.3), 0 1px 3px 1px rgba(60, 64, 67, 0.15);\n",
              "    fill: var(--button-hover-fill-color);\n",
              "  }\n",
              "\n",
              "  .colab-df-quickchart-complete:disabled,\n",
              "  .colab-df-quickchart-complete:disabled:hover {\n",
              "    background-color: var(--disabled-bg-color);\n",
              "    fill: var(--disabled-fill-color);\n",
              "    box-shadow: none;\n",
              "  }\n",
              "\n",
              "  .colab-df-spinner {\n",
              "    border: 2px solid var(--fill-color);\n",
              "    border-color: transparent;\n",
              "    border-bottom-color: var(--fill-color);\n",
              "    animation:\n",
              "      spin 1s steps(1) infinite;\n",
              "  }\n",
              "\n",
              "  @keyframes spin {\n",
              "    0% {\n",
              "      border-color: transparent;\n",
              "      border-bottom-color: var(--fill-color);\n",
              "      border-left-color: var(--fill-color);\n",
              "    }\n",
              "    20% {\n",
              "      border-color: transparent;\n",
              "      border-left-color: var(--fill-color);\n",
              "      border-top-color: var(--fill-color);\n",
              "    }\n",
              "    30% {\n",
              "      border-color: transparent;\n",
              "      border-left-color: var(--fill-color);\n",
              "      border-top-color: var(--fill-color);\n",
              "      border-right-color: var(--fill-color);\n",
              "    }\n",
              "    40% {\n",
              "      border-color: transparent;\n",
              "      border-right-color: var(--fill-color);\n",
              "      border-top-color: var(--fill-color);\n",
              "    }\n",
              "    60% {\n",
              "      border-color: transparent;\n",
              "      border-right-color: var(--fill-color);\n",
              "    }\n",
              "    80% {\n",
              "      border-color: transparent;\n",
              "      border-right-color: var(--fill-color);\n",
              "      border-bottom-color: var(--fill-color);\n",
              "    }\n",
              "    90% {\n",
              "      border-color: transparent;\n",
              "      border-bottom-color: var(--fill-color);\n",
              "    }\n",
              "  }\n",
              "</style>\n",
              "\n",
              "  <script>\n",
              "    async function quickchart(key) {\n",
              "      const quickchartButtonEl =\n",
              "        document.querySelector('#' + key + ' button');\n",
              "      quickchartButtonEl.disabled = true;  // To prevent multiple clicks.\n",
              "      quickchartButtonEl.classList.add('colab-df-spinner');\n",
              "      try {\n",
              "        const charts = await google.colab.kernel.invokeFunction(\n",
              "            'suggestCharts', [key], {});\n",
              "      } catch (error) {\n",
              "        console.error('Error during call to suggestCharts:', error);\n",
              "      }\n",
              "      quickchartButtonEl.classList.remove('colab-df-spinner');\n",
              "      quickchartButtonEl.classList.add('colab-df-quickchart-complete');\n",
              "    }\n",
              "    (() => {\n",
              "      let quickchartButtonEl =\n",
              "        document.querySelector('#df-ba58fb2a-2a7d-4cba-ba2e-28fd048bb3d4 button');\n",
              "      quickchartButtonEl.style.display =\n",
              "        google.colab.kernel.accessAllowed ? 'block' : 'none';\n",
              "    })();\n",
              "  </script>\n",
              "</div>\n",
              "\n",
              "    </div>\n",
              "  </div>\n"
            ],
            "application/vnd.google.colaboratory.intrinsic+json": {
              "type": "dataframe",
              "variable_name": "df",
              "summary": "{\n  \"name\": \"df\",\n  \"rows\": 6146,\n  \"fields\": [\n    {\n      \"column\": \"titles\",\n      \"properties\": {\n        \"dtype\": \"string\",\n        \"num_unique_values\": 5996,\n        \"samples\": [\n          \"cubic space division  cube space filling \",\n          \"miniature rectangular vase\",\n          \"foolish virgins missing their rendezvous with our lord  from parable of the wise and foolish virgins\"\n        ],\n        \"semantic_type\": \"\",\n        \"description\": \"\"\n      }\n    },\n    {\n      \"column\": \"images_path\",\n      \"properties\": {\n        \"dtype\": \"string\",\n        \"num_unique_values\": 6146,\n        \"samples\": [\n          \"/content/drive/MyDrive/artwork_description_generator/data/images/China/ch_1876.jpg\",\n          \"/content/drive/MyDrive/artwork_description_generator/data/images/UnitedStates/usa_801.jpg\",\n          \"/content/drive/MyDrive/artwork_description_generator/data/images/UnitedStates/usa_1792.jpg\"\n        ],\n        \"semantic_type\": \"\",\n        \"description\": \"\"\n      }\n    }\n  ]\n}"
            }
          },
          "metadata": {},
          "execution_count": 72
        }
      ]
    },
    {
      "cell_type": "code",
      "source": [
        "detect(new)"
      ],
      "metadata": {
        "colab": {
          "base_uri": "https://localhost:8080/",
          "height": 35
        },
        "id": "BngHqpTVViYV",
        "outputId": "80256a87-33d2-4985-e7a5-5f06bce3ef0a"
      },
      "execution_count": 63,
      "outputs": [
        {
          "output_type": "execute_result",
          "data": {
            "text/plain": [
              "'fr'"
            ],
            "application/vnd.google.colaboratory.intrinsic+json": {
              "type": "string"
            }
          },
          "metadata": {},
          "execution_count": 63
        }
      ]
    },
    {
      "cell_type": "code",
      "source": [
        "detect(\"Portrait of a Sixty-year-old Woman, from Recueil d’estampes d’après les plus célèbres tableaux de la Galerie Royale de Dresde\")"
      ],
      "metadata": {
        "colab": {
          "base_uri": "https://localhost:8080/",
          "height": 35
        },
        "id": "I_a8OssETK3x",
        "outputId": "52a823ec-dd8e-429d-cfbc-dfb0a0c6b238"
      },
      "execution_count": 58,
      "outputs": [
        {
          "output_type": "execute_result",
          "data": {
            "text/plain": [
              "'fr'"
            ],
            "application/vnd.google.colaboratory.intrinsic+json": {
              "type": "string"
            }
          },
          "metadata": {},
          "execution_count": 58
        }
      ]
    },
    {
      "cell_type": "code",
      "source": [
        "english_titles = [title if detect(title) == 'en' else None for title in df['titles']]\n",
        "len(english_titles)"
      ],
      "metadata": {
        "colab": {
          "base_uri": "https://localhost:8080/",
          "height": 304
        },
        "id": "8dFduuRPSIaS",
        "outputId": "be715ae8-01c3-400b-f86f-ab0d8ba7bfac"
      },
      "execution_count": 48,
      "outputs": [
        {
          "output_type": "error",
          "ename": "LangDetectException",
          "evalue": "No features in text.",
          "traceback": [
            "\u001b[0;31m---------------------------------------------------------------------------\u001b[0m",
            "\u001b[0;31mLangDetectException\u001b[0m                       Traceback (most recent call last)",
            "\u001b[0;32m<ipython-input-48-877633c3a302>\u001b[0m in \u001b[0;36m<cell line: 1>\u001b[0;34m()\u001b[0m\n\u001b[0;32m----> 1\u001b[0;31m \u001b[0menglish_titles\u001b[0m \u001b[0;34m=\u001b[0m \u001b[0;34m[\u001b[0m\u001b[0mtitle\u001b[0m \u001b[0;32mif\u001b[0m \u001b[0mdetect\u001b[0m\u001b[0;34m(\u001b[0m\u001b[0mtitle\u001b[0m\u001b[0;34m)\u001b[0m \u001b[0;34m==\u001b[0m \u001b[0;34m'en'\u001b[0m \u001b[0;32melse\u001b[0m \u001b[0;32mNone\u001b[0m \u001b[0;32mfor\u001b[0m \u001b[0mtitle\u001b[0m \u001b[0;32min\u001b[0m \u001b[0mdf\u001b[0m\u001b[0;34m[\u001b[0m\u001b[0;34m'titles'\u001b[0m\u001b[0;34m]\u001b[0m\u001b[0;34m]\u001b[0m\u001b[0;34m\u001b[0m\u001b[0;34m\u001b[0m\u001b[0m\n\u001b[0m\u001b[1;32m      2\u001b[0m \u001b[0mlen\u001b[0m\u001b[0;34m(\u001b[0m\u001b[0menglish_titles\u001b[0m\u001b[0;34m)\u001b[0m\u001b[0;34m\u001b[0m\u001b[0;34m\u001b[0m\u001b[0m\n",
            "\u001b[0;32m<ipython-input-48-877633c3a302>\u001b[0m in \u001b[0;36m<listcomp>\u001b[0;34m(.0)\u001b[0m\n\u001b[0;32m----> 1\u001b[0;31m \u001b[0menglish_titles\u001b[0m \u001b[0;34m=\u001b[0m \u001b[0;34m[\u001b[0m\u001b[0mtitle\u001b[0m \u001b[0;32mif\u001b[0m \u001b[0mdetect\u001b[0m\u001b[0;34m(\u001b[0m\u001b[0mtitle\u001b[0m\u001b[0;34m)\u001b[0m \u001b[0;34m==\u001b[0m \u001b[0;34m'en'\u001b[0m \u001b[0;32melse\u001b[0m \u001b[0;32mNone\u001b[0m \u001b[0;32mfor\u001b[0m \u001b[0mtitle\u001b[0m \u001b[0;32min\u001b[0m \u001b[0mdf\u001b[0m\u001b[0;34m[\u001b[0m\u001b[0;34m'titles'\u001b[0m\u001b[0;34m]\u001b[0m\u001b[0;34m]\u001b[0m\u001b[0;34m\u001b[0m\u001b[0;34m\u001b[0m\u001b[0m\n\u001b[0m\u001b[1;32m      2\u001b[0m \u001b[0mlen\u001b[0m\u001b[0;34m(\u001b[0m\u001b[0menglish_titles\u001b[0m\u001b[0;34m)\u001b[0m\u001b[0;34m\u001b[0m\u001b[0;34m\u001b[0m\u001b[0m\n",
            "\u001b[0;32m/usr/local/lib/python3.10/dist-packages/langdetect/detector_factory.py\u001b[0m in \u001b[0;36mdetect\u001b[0;34m(text)\u001b[0m\n\u001b[1;32m    128\u001b[0m     \u001b[0mdetector\u001b[0m \u001b[0;34m=\u001b[0m \u001b[0m_factory\u001b[0m\u001b[0;34m.\u001b[0m\u001b[0mcreate\u001b[0m\u001b[0;34m(\u001b[0m\u001b[0;34m)\u001b[0m\u001b[0;34m\u001b[0m\u001b[0;34m\u001b[0m\u001b[0m\n\u001b[1;32m    129\u001b[0m     \u001b[0mdetector\u001b[0m\u001b[0;34m.\u001b[0m\u001b[0mappend\u001b[0m\u001b[0;34m(\u001b[0m\u001b[0mtext\u001b[0m\u001b[0;34m)\u001b[0m\u001b[0;34m\u001b[0m\u001b[0;34m\u001b[0m\u001b[0m\n\u001b[0;32m--> 130\u001b[0;31m     \u001b[0;32mreturn\u001b[0m \u001b[0mdetector\u001b[0m\u001b[0;34m.\u001b[0m\u001b[0mdetect\u001b[0m\u001b[0;34m(\u001b[0m\u001b[0;34m)\u001b[0m\u001b[0;34m\u001b[0m\u001b[0;34m\u001b[0m\u001b[0m\n\u001b[0m\u001b[1;32m    131\u001b[0m \u001b[0;34m\u001b[0m\u001b[0m\n\u001b[1;32m    132\u001b[0m \u001b[0;34m\u001b[0m\u001b[0m\n",
            "\u001b[0;32m/usr/local/lib/python3.10/dist-packages/langdetect/detector.py\u001b[0m in \u001b[0;36mdetect\u001b[0;34m(self)\u001b[0m\n\u001b[1;32m    134\u001b[0m         \u001b[0mwhich\u001b[0m \u001b[0mhas\u001b[0m \u001b[0mthe\u001b[0m \u001b[0mhighest\u001b[0m \u001b[0mprobability\u001b[0m\u001b[0;34m.\u001b[0m\u001b[0;34m\u001b[0m\u001b[0;34m\u001b[0m\u001b[0m\n\u001b[1;32m    135\u001b[0m         '''\n\u001b[0;32m--> 136\u001b[0;31m         \u001b[0mprobabilities\u001b[0m \u001b[0;34m=\u001b[0m \u001b[0mself\u001b[0m\u001b[0;34m.\u001b[0m\u001b[0mget_probabilities\u001b[0m\u001b[0;34m(\u001b[0m\u001b[0;34m)\u001b[0m\u001b[0;34m\u001b[0m\u001b[0;34m\u001b[0m\u001b[0m\n\u001b[0m\u001b[1;32m    137\u001b[0m         \u001b[0;32mif\u001b[0m \u001b[0mprobabilities\u001b[0m\u001b[0;34m:\u001b[0m\u001b[0;34m\u001b[0m\u001b[0;34m\u001b[0m\u001b[0m\n\u001b[1;32m    138\u001b[0m             \u001b[0;32mreturn\u001b[0m \u001b[0mprobabilities\u001b[0m\u001b[0;34m[\u001b[0m\u001b[0;36m0\u001b[0m\u001b[0;34m]\u001b[0m\u001b[0;34m.\u001b[0m\u001b[0mlang\u001b[0m\u001b[0;34m\u001b[0m\u001b[0;34m\u001b[0m\u001b[0m\n",
            "\u001b[0;32m/usr/local/lib/python3.10/dist-packages/langdetect/detector.py\u001b[0m in \u001b[0;36mget_probabilities\u001b[0;34m(self)\u001b[0m\n\u001b[1;32m    141\u001b[0m     \u001b[0;32mdef\u001b[0m \u001b[0mget_probabilities\u001b[0m\u001b[0;34m(\u001b[0m\u001b[0mself\u001b[0m\u001b[0;34m)\u001b[0m\u001b[0;34m:\u001b[0m\u001b[0;34m\u001b[0m\u001b[0;34m\u001b[0m\u001b[0m\n\u001b[1;32m    142\u001b[0m         \u001b[0;32mif\u001b[0m \u001b[0mself\u001b[0m\u001b[0;34m.\u001b[0m\u001b[0mlangprob\u001b[0m \u001b[0;32mis\u001b[0m \u001b[0;32mNone\u001b[0m\u001b[0;34m:\u001b[0m\u001b[0;34m\u001b[0m\u001b[0;34m\u001b[0m\u001b[0m\n\u001b[0;32m--> 143\u001b[0;31m             \u001b[0mself\u001b[0m\u001b[0;34m.\u001b[0m\u001b[0m_detect_block\u001b[0m\u001b[0;34m(\u001b[0m\u001b[0;34m)\u001b[0m\u001b[0;34m\u001b[0m\u001b[0;34m\u001b[0m\u001b[0m\n\u001b[0m\u001b[1;32m    144\u001b[0m         \u001b[0;32mreturn\u001b[0m \u001b[0mself\u001b[0m\u001b[0;34m.\u001b[0m\u001b[0m_sort_probability\u001b[0m\u001b[0;34m(\u001b[0m\u001b[0mself\u001b[0m\u001b[0;34m.\u001b[0m\u001b[0mlangprob\u001b[0m\u001b[0;34m)\u001b[0m\u001b[0;34m\u001b[0m\u001b[0;34m\u001b[0m\u001b[0m\n\u001b[1;32m    145\u001b[0m \u001b[0;34m\u001b[0m\u001b[0m\n",
            "\u001b[0;32m/usr/local/lib/python3.10/dist-packages/langdetect/detector.py\u001b[0m in \u001b[0;36m_detect_block\u001b[0;34m(self)\u001b[0m\n\u001b[1;32m    148\u001b[0m         \u001b[0mngrams\u001b[0m \u001b[0;34m=\u001b[0m \u001b[0mself\u001b[0m\u001b[0;34m.\u001b[0m\u001b[0m_extract_ngrams\u001b[0m\u001b[0;34m(\u001b[0m\u001b[0;34m)\u001b[0m\u001b[0;34m\u001b[0m\u001b[0;34m\u001b[0m\u001b[0m\n\u001b[1;32m    149\u001b[0m         \u001b[0;32mif\u001b[0m \u001b[0;32mnot\u001b[0m \u001b[0mngrams\u001b[0m\u001b[0;34m:\u001b[0m\u001b[0;34m\u001b[0m\u001b[0;34m\u001b[0m\u001b[0m\n\u001b[0;32m--> 150\u001b[0;31m             \u001b[0;32mraise\u001b[0m \u001b[0mLangDetectException\u001b[0m\u001b[0;34m(\u001b[0m\u001b[0mErrorCode\u001b[0m\u001b[0;34m.\u001b[0m\u001b[0mCantDetectError\u001b[0m\u001b[0;34m,\u001b[0m \u001b[0;34m'No features in text.'\u001b[0m\u001b[0;34m)\u001b[0m\u001b[0;34m\u001b[0m\u001b[0;34m\u001b[0m\u001b[0m\n\u001b[0m\u001b[1;32m    151\u001b[0m \u001b[0;34m\u001b[0m\u001b[0m\n\u001b[1;32m    152\u001b[0m         \u001b[0mself\u001b[0m\u001b[0;34m.\u001b[0m\u001b[0mlangprob\u001b[0m \u001b[0;34m=\u001b[0m \u001b[0;34m[\u001b[0m\u001b[0;36m0.0\u001b[0m\u001b[0;34m]\u001b[0m \u001b[0;34m*\u001b[0m \u001b[0mlen\u001b[0m\u001b[0;34m(\u001b[0m\u001b[0mself\u001b[0m\u001b[0;34m.\u001b[0m\u001b[0mlanglist\u001b[0m\u001b[0;34m)\u001b[0m\u001b[0;34m\u001b[0m\u001b[0;34m\u001b[0m\u001b[0m\n",
            "\u001b[0;31mLangDetectException\u001b[0m: No features in text."
          ]
        }
      ]
    },
    {
      "cell_type": "markdown",
      "source": [
        "## **Checking final dataframe shape**"
      ],
      "metadata": {
        "id": "rFlQr0fis_Ul"
      }
    },
    {
      "cell_type": "code",
      "source": [
        "df_shape(df)"
      ],
      "metadata": {
        "id": "Gs06VHB-tBEZ",
        "colab": {
          "base_uri": "https://localhost:8080/"
        },
        "outputId": "f4ae377b-9c16-409d-c60b-34f5a572521a"
      },
      "execution_count": null,
      "outputs": [
        {
          "output_type": "stream",
          "name": "stdout",
          "text": [
            "Number of rows: 6146\n",
            "Number of columns: 2\n"
          ]
        }
      ]
    },
    {
      "cell_type": "markdown",
      "source": [
        "## **Viewing final dataframe**"
      ],
      "metadata": {
        "id": "ZYf_5FXutDZJ"
      }
    },
    {
      "cell_type": "code",
      "source": [
        "df.head()"
      ],
      "metadata": {
        "colab": {
          "base_uri": "https://localhost:8080/",
          "height": 484
        },
        "id": "PpX7D34rco5z",
        "outputId": "a208c960-d34c-40fe-fb71-fe82a25d0acd"
      },
      "execution_count": null,
      "outputs": [
        {
          "output_type": "execute_result",
          "data": {
            "text/plain": [
              "                                                                             titles  \\\n",
              "0                       Lozenge Composition with Yellow, Black, Blue, Red, and Gray   \n",
              "1                                                                            Judith   \n",
              "2                                        The Battle between the Gods and the Giants   \n",
              "3                              Two Cows and a Young Bull beside a Fence in a Meadow   \n",
              "4  Lame Beggar Asking for Alms, from T is al verwart-gaern (It’s already confusing)   \n",
              "\n",
              "                                                                             images_path  \n",
              "0  /content/drive/MyDrive/artwork_description_generator/data/images/Netherlands/nl_1.jpg  \n",
              "1  /content/drive/MyDrive/artwork_description_generator/data/images/Netherlands/nl_2.jpg  \n",
              "2  /content/drive/MyDrive/artwork_description_generator/data/images/Netherlands/nl_3.jpg  \n",
              "3  /content/drive/MyDrive/artwork_description_generator/data/images/Netherlands/nl_4.jpg  \n",
              "4  /content/drive/MyDrive/artwork_description_generator/data/images/Netherlands/nl_5.jpg  "
            ],
            "text/html": [
              "\n",
              "  <div id=\"df-ab9a46e5-44fb-45f9-9a49-aaa49900aeea\" class=\"colab-df-container\">\n",
              "    <div>\n",
              "<style scoped>\n",
              "    .dataframe tbody tr th:only-of-type {\n",
              "        vertical-align: middle;\n",
              "    }\n",
              "\n",
              "    .dataframe tbody tr th {\n",
              "        vertical-align: top;\n",
              "    }\n",
              "\n",
              "    .dataframe thead th {\n",
              "        text-align: right;\n",
              "    }\n",
              "</style>\n",
              "<table border=\"1\" class=\"dataframe\">\n",
              "  <thead>\n",
              "    <tr style=\"text-align: right;\">\n",
              "      <th></th>\n",
              "      <th>titles</th>\n",
              "      <th>images_path</th>\n",
              "    </tr>\n",
              "  </thead>\n",
              "  <tbody>\n",
              "    <tr>\n",
              "      <th>0</th>\n",
              "      <td>Lozenge Composition with Yellow, Black, Blue, Red, and Gray</td>\n",
              "      <td>/content/drive/MyDrive/artwork_description_generator/data/images/Netherlands/nl_1.jpg</td>\n",
              "    </tr>\n",
              "    <tr>\n",
              "      <th>1</th>\n",
              "      <td>Judith</td>\n",
              "      <td>/content/drive/MyDrive/artwork_description_generator/data/images/Netherlands/nl_2.jpg</td>\n",
              "    </tr>\n",
              "    <tr>\n",
              "      <th>2</th>\n",
              "      <td>The Battle between the Gods and the Giants</td>\n",
              "      <td>/content/drive/MyDrive/artwork_description_generator/data/images/Netherlands/nl_3.jpg</td>\n",
              "    </tr>\n",
              "    <tr>\n",
              "      <th>3</th>\n",
              "      <td>Two Cows and a Young Bull beside a Fence in a Meadow</td>\n",
              "      <td>/content/drive/MyDrive/artwork_description_generator/data/images/Netherlands/nl_4.jpg</td>\n",
              "    </tr>\n",
              "    <tr>\n",
              "      <th>4</th>\n",
              "      <td>Lame Beggar Asking for Alms, from T is al verwart-gaern (It’s already confusing)</td>\n",
              "      <td>/content/drive/MyDrive/artwork_description_generator/data/images/Netherlands/nl_5.jpg</td>\n",
              "    </tr>\n",
              "  </tbody>\n",
              "</table>\n",
              "</div>\n",
              "    <div class=\"colab-df-buttons\">\n",
              "\n",
              "  <div class=\"colab-df-container\">\n",
              "    <button class=\"colab-df-convert\" onclick=\"convertToInteractive('df-ab9a46e5-44fb-45f9-9a49-aaa49900aeea')\"\n",
              "            title=\"Convert this dataframe to an interactive table.\"\n",
              "            style=\"display:none;\">\n",
              "\n",
              "  <svg xmlns=\"http://www.w3.org/2000/svg\" height=\"24px\" viewBox=\"0 -960 960 960\">\n",
              "    <path d=\"M120-120v-720h720v720H120Zm60-500h600v-160H180v160Zm220 220h160v-160H400v160Zm0 220h160v-160H400v160ZM180-400h160v-160H180v160Zm440 0h160v-160H620v160ZM180-180h160v-160H180v160Zm440 0h160v-160H620v160Z\"/>\n",
              "  </svg>\n",
              "    </button>\n",
              "\n",
              "  <style>\n",
              "    .colab-df-container {\n",
              "      display:flex;\n",
              "      gap: 12px;\n",
              "    }\n",
              "\n",
              "    .colab-df-convert {\n",
              "      background-color: #E8F0FE;\n",
              "      border: none;\n",
              "      border-radius: 50%;\n",
              "      cursor: pointer;\n",
              "      display: none;\n",
              "      fill: #1967D2;\n",
              "      height: 32px;\n",
              "      padding: 0 0 0 0;\n",
              "      width: 32px;\n",
              "    }\n",
              "\n",
              "    .colab-df-convert:hover {\n",
              "      background-color: #E2EBFA;\n",
              "      box-shadow: 0px 1px 2px rgba(60, 64, 67, 0.3), 0px 1px 3px 1px rgba(60, 64, 67, 0.15);\n",
              "      fill: #174EA6;\n",
              "    }\n",
              "\n",
              "    .colab-df-buttons div {\n",
              "      margin-bottom: 4px;\n",
              "    }\n",
              "\n",
              "    [theme=dark] .colab-df-convert {\n",
              "      background-color: #3B4455;\n",
              "      fill: #D2E3FC;\n",
              "    }\n",
              "\n",
              "    [theme=dark] .colab-df-convert:hover {\n",
              "      background-color: #434B5C;\n",
              "      box-shadow: 0px 1px 3px 1px rgba(0, 0, 0, 0.15);\n",
              "      filter: drop-shadow(0px 1px 2px rgba(0, 0, 0, 0.3));\n",
              "      fill: #FFFFFF;\n",
              "    }\n",
              "  </style>\n",
              "\n",
              "    <script>\n",
              "      const buttonEl =\n",
              "        document.querySelector('#df-ab9a46e5-44fb-45f9-9a49-aaa49900aeea button.colab-df-convert');\n",
              "      buttonEl.style.display =\n",
              "        google.colab.kernel.accessAllowed ? 'block' : 'none';\n",
              "\n",
              "      async function convertToInteractive(key) {\n",
              "        const element = document.querySelector('#df-ab9a46e5-44fb-45f9-9a49-aaa49900aeea');\n",
              "        const dataTable =\n",
              "          await google.colab.kernel.invokeFunction('convertToInteractive',\n",
              "                                                    [key], {});\n",
              "        if (!dataTable) return;\n",
              "\n",
              "        const docLinkHtml = 'Like what you see? Visit the ' +\n",
              "          '<a target=\"_blank\" href=https://colab.research.google.com/notebooks/data_table.ipynb>data table notebook</a>'\n",
              "          + ' to learn more about interactive tables.';\n",
              "        element.innerHTML = '';\n",
              "        dataTable['output_type'] = 'display_data';\n",
              "        await google.colab.output.renderOutput(dataTable, element);\n",
              "        const docLink = document.createElement('div');\n",
              "        docLink.innerHTML = docLinkHtml;\n",
              "        element.appendChild(docLink);\n",
              "      }\n",
              "    </script>\n",
              "  </div>\n",
              "\n",
              "\n",
              "<div id=\"df-78b6a3b6-8c26-416d-9352-8573f4eacc30\">\n",
              "  <button class=\"colab-df-quickchart\" onclick=\"quickchart('df-78b6a3b6-8c26-416d-9352-8573f4eacc30')\"\n",
              "            title=\"Suggest charts\"\n",
              "            style=\"display:none;\">\n",
              "\n",
              "<svg xmlns=\"http://www.w3.org/2000/svg\" height=\"24px\"viewBox=\"0 0 24 24\"\n",
              "     width=\"24px\">\n",
              "    <g>\n",
              "        <path d=\"M19 3H5c-1.1 0-2 .9-2 2v14c0 1.1.9 2 2 2h14c1.1 0 2-.9 2-2V5c0-1.1-.9-2-2-2zM9 17H7v-7h2v7zm4 0h-2V7h2v10zm4 0h-2v-4h2v4z\"/>\n",
              "    </g>\n",
              "</svg>\n",
              "  </button>\n",
              "\n",
              "<style>\n",
              "  .colab-df-quickchart {\n",
              "      --bg-color: #E8F0FE;\n",
              "      --fill-color: #1967D2;\n",
              "      --hover-bg-color: #E2EBFA;\n",
              "      --hover-fill-color: #174EA6;\n",
              "      --disabled-fill-color: #AAA;\n",
              "      --disabled-bg-color: #DDD;\n",
              "  }\n",
              "\n",
              "  [theme=dark] .colab-df-quickchart {\n",
              "      --bg-color: #3B4455;\n",
              "      --fill-color: #D2E3FC;\n",
              "      --hover-bg-color: #434B5C;\n",
              "      --hover-fill-color: #FFFFFF;\n",
              "      --disabled-bg-color: #3B4455;\n",
              "      --disabled-fill-color: #666;\n",
              "  }\n",
              "\n",
              "  .colab-df-quickchart {\n",
              "    background-color: var(--bg-color);\n",
              "    border: none;\n",
              "    border-radius: 50%;\n",
              "    cursor: pointer;\n",
              "    display: none;\n",
              "    fill: var(--fill-color);\n",
              "    height: 32px;\n",
              "    padding: 0;\n",
              "    width: 32px;\n",
              "  }\n",
              "\n",
              "  .colab-df-quickchart:hover {\n",
              "    background-color: var(--hover-bg-color);\n",
              "    box-shadow: 0 1px 2px rgba(60, 64, 67, 0.3), 0 1px 3px 1px rgba(60, 64, 67, 0.15);\n",
              "    fill: var(--button-hover-fill-color);\n",
              "  }\n",
              "\n",
              "  .colab-df-quickchart-complete:disabled,\n",
              "  .colab-df-quickchart-complete:disabled:hover {\n",
              "    background-color: var(--disabled-bg-color);\n",
              "    fill: var(--disabled-fill-color);\n",
              "    box-shadow: none;\n",
              "  }\n",
              "\n",
              "  .colab-df-spinner {\n",
              "    border: 2px solid var(--fill-color);\n",
              "    border-color: transparent;\n",
              "    border-bottom-color: var(--fill-color);\n",
              "    animation:\n",
              "      spin 1s steps(1) infinite;\n",
              "  }\n",
              "\n",
              "  @keyframes spin {\n",
              "    0% {\n",
              "      border-color: transparent;\n",
              "      border-bottom-color: var(--fill-color);\n",
              "      border-left-color: var(--fill-color);\n",
              "    }\n",
              "    20% {\n",
              "      border-color: transparent;\n",
              "      border-left-color: var(--fill-color);\n",
              "      border-top-color: var(--fill-color);\n",
              "    }\n",
              "    30% {\n",
              "      border-color: transparent;\n",
              "      border-left-color: var(--fill-color);\n",
              "      border-top-color: var(--fill-color);\n",
              "      border-right-color: var(--fill-color);\n",
              "    }\n",
              "    40% {\n",
              "      border-color: transparent;\n",
              "      border-right-color: var(--fill-color);\n",
              "      border-top-color: var(--fill-color);\n",
              "    }\n",
              "    60% {\n",
              "      border-color: transparent;\n",
              "      border-right-color: var(--fill-color);\n",
              "    }\n",
              "    80% {\n",
              "      border-color: transparent;\n",
              "      border-right-color: var(--fill-color);\n",
              "      border-bottom-color: var(--fill-color);\n",
              "    }\n",
              "    90% {\n",
              "      border-color: transparent;\n",
              "      border-bottom-color: var(--fill-color);\n",
              "    }\n",
              "  }\n",
              "</style>\n",
              "\n",
              "  <script>\n",
              "    async function quickchart(key) {\n",
              "      const quickchartButtonEl =\n",
              "        document.querySelector('#' + key + ' button');\n",
              "      quickchartButtonEl.disabled = true;  // To prevent multiple clicks.\n",
              "      quickchartButtonEl.classList.add('colab-df-spinner');\n",
              "      try {\n",
              "        const charts = await google.colab.kernel.invokeFunction(\n",
              "            'suggestCharts', [key], {});\n",
              "      } catch (error) {\n",
              "        console.error('Error during call to suggestCharts:', error);\n",
              "      }\n",
              "      quickchartButtonEl.classList.remove('colab-df-spinner');\n",
              "      quickchartButtonEl.classList.add('colab-df-quickchart-complete');\n",
              "    }\n",
              "    (() => {\n",
              "      let quickchartButtonEl =\n",
              "        document.querySelector('#df-78b6a3b6-8c26-416d-9352-8573f4eacc30 button');\n",
              "      quickchartButtonEl.style.display =\n",
              "        google.colab.kernel.accessAllowed ? 'block' : 'none';\n",
              "    })();\n",
              "  </script>\n",
              "</div>\n",
              "\n",
              "    </div>\n",
              "  </div>\n"
            ],
            "application/vnd.google.colaboratory.intrinsic+json": {
              "type": "dataframe",
              "variable_name": "df",
              "summary": "{\n  \"name\": \"df\",\n  \"rows\": 6146,\n  \"fields\": [\n    {\n      \"column\": \"titles\",\n      \"properties\": {\n        \"dtype\": \"string\",\n        \"num_unique_values\": 6146,\n        \"samples\": [\n          \"Peony Cup\",\n          \"Hortensia\",\n          \"Circum I\"\n        ],\n        \"semantic_type\": \"\",\n        \"description\": \"\"\n      }\n    },\n    {\n      \"column\": \"images_path\",\n      \"properties\": {\n        \"dtype\": \"string\",\n        \"num_unique_values\": 6146,\n        \"samples\": [\n          \"/content/drive/MyDrive/artwork_description_generator/data/images/China/ch_1876.jpg\",\n          \"/content/drive/MyDrive/artwork_description_generator/data/images/UnitedStates/usa_801.jpg\",\n          \"/content/drive/MyDrive/artwork_description_generator/data/images/UnitedStates/usa_1792.jpg\"\n        ],\n        \"semantic_type\": \"\",\n        \"description\": \"\"\n      }\n    }\n  ]\n}"
            }
          },
          "metadata": {},
          "execution_count": 72
        }
      ]
    },
    {
      "cell_type": "markdown",
      "source": [
        "## **Exporting to final .csv file**"
      ],
      "metadata": {
        "id": "oUmp2fnOqNHu"
      }
    },
    {
      "cell_type": "code",
      "source": [
        "df.to_csv(\"image_title_generation_data.csv\", index=False)"
      ],
      "metadata": {
        "id": "VeiIyWjcdXfh"
      },
      "execution_count": null,
      "outputs": []
    }
  ]
}