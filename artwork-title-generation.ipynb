{
 "cells": [
  {
   "cell_type": "code",
   "execution_count": 1,
   "id": "38375828",
   "metadata": {
    "_cell_guid": "b1076dfc-b9ad-4769-8c92-a6c4dae69d19",
    "_uuid": "8f2839f25d086af736a60e9eeb907d3b93b6e0e5",
    "execution": {
     "iopub.execute_input": "2024-02-26T07:36:40.956712Z",
     "iopub.status.busy": "2024-02-26T07:36:40.956127Z",
     "iopub.status.idle": "2024-02-26T07:37:03.991632Z",
     "shell.execute_reply": "2024-02-26T07:37:03.989347Z"
    },
    "papermill": {
     "duration": 23.048655,
     "end_time": "2024-02-26T07:37:03.995040",
     "exception": false,
     "start_time": "2024-02-26T07:36:40.946385",
     "status": "completed"
    },
    "tags": []
   },
   "outputs": [],
   "source": [
    "!pip install -q fastai fastbook nbdev transformers"
   ]
  },
  {
   "cell_type": "code",
   "execution_count": 2,
   "id": "6b2fe8e5",
   "metadata": {
    "execution": {
     "iopub.execute_input": "2024-02-26T07:37:04.013308Z",
     "iopub.status.busy": "2024-02-26T07:37:04.012842Z",
     "iopub.status.idle": "2024-02-26T07:37:21.149998Z",
     "shell.execute_reply": "2024-02-26T07:37:21.148458Z"
    },
    "papermill": {
     "duration": 17.152137,
     "end_time": "2024-02-26T07:37:21.154371",
     "exception": false,
     "start_time": "2024-02-26T07:37:04.002234",
     "status": "completed"
    },
    "tags": []
   },
   "outputs": [],
   "source": [
    "import os\n",
    "import numpy as np\n",
    "import pandas as pd\n",
    "from fastai import *\n",
    "from PIL import Image\n",
    "from fastbook import *\n",
    "from fastai.vision.all import *\n",
    "import matplotlib.pyplot as plt\n",
    "from distutils.dir_util import copy_tree"
   ]
  },
  {
   "cell_type": "code",
   "execution_count": 3,
   "id": "9f471ce1",
   "metadata": {
    "execution": {
     "iopub.execute_input": "2024-02-26T07:37:21.172946Z",
     "iopub.status.busy": "2024-02-26T07:37:21.172419Z",
     "iopub.status.idle": "2024-02-26T07:37:21.182121Z",
     "shell.execute_reply": "2024-02-26T07:37:21.181032Z"
    },
    "papermill": {
     "duration": 0.022223,
     "end_time": "2024-02-26T07:37:21.184768",
     "exception": false,
     "start_time": "2024-02-26T07:37:21.162545",
     "status": "completed"
    },
    "tags": []
   },
   "outputs": [
    {
     "name": "stdout",
     "output_type": "stream",
     "text": [
      "/kaggle/input/artwork-title-generator\n"
     ]
    }
   ],
   "source": [
    "%cd /kaggle/input/artwork-title-generator"
   ]
  },
  {
   "cell_type": "code",
   "execution_count": 4,
   "id": "4b3d4227",
   "metadata": {
    "execution": {
     "iopub.execute_input": "2024-02-26T07:37:21.201472Z",
     "iopub.status.busy": "2024-02-26T07:37:21.200709Z",
     "iopub.status.idle": "2024-02-26T07:37:21.213817Z",
     "shell.execute_reply": "2024-02-26T07:37:21.212077Z"
    },
    "papermill": {
     "duration": 0.025566,
     "end_time": "2024-02-26T07:37:21.217305",
     "exception": false,
     "start_time": "2024-02-26T07:37:21.191739",
     "status": "completed"
    },
    "tags": []
   },
   "outputs": [
    {
     "data": {
      "text/plain": [
       "['UnitedStates', 'Netherlands', 'China']"
      ]
     },
     "execution_count": 4,
     "metadata": {},
     "output_type": "execute_result"
    }
   ],
   "source": [
    "img_folders = os.listdir()\n",
    "img_folders"
   ]
  },
  {
   "cell_type": "code",
   "execution_count": 5,
   "id": "6f6d4a32",
   "metadata": {
    "execution": {
     "iopub.execute_input": "2024-02-26T07:37:21.233826Z",
     "iopub.status.busy": "2024-02-26T07:37:21.233389Z",
     "iopub.status.idle": "2024-02-26T07:38:19.133075Z",
     "shell.execute_reply": "2024-02-26T07:38:19.131328Z"
    },
    "papermill": {
     "duration": 57.912127,
     "end_time": "2024-02-26T07:38:19.136870",
     "exception": false,
     "start_time": "2024-02-26T07:37:21.224743",
     "status": "completed"
    },
    "tags": []
   },
   "outputs": [],
   "source": [
    "input_path = \"/kaggle/input/artwork-title-generator\"\n",
    "output_path = \"/kaggle/working/images/\"\n",
    "\n",
    "for folder in img_folders:\n",
    "    copy_tree(input_path+'/'+folder, output_path+folder)"
   ]
  },
  {
   "cell_type": "code",
   "execution_count": 6,
   "id": "d514ff83",
   "metadata": {
    "execution": {
     "iopub.execute_input": "2024-02-26T07:38:19.159956Z",
     "iopub.status.busy": "2024-02-26T07:38:19.158436Z",
     "iopub.status.idle": "2024-02-26T07:38:19.167245Z",
     "shell.execute_reply": "2024-02-26T07:38:19.166028Z"
    },
    "papermill": {
     "duration": 0.020421,
     "end_time": "2024-02-26T07:38:19.169785",
     "exception": false,
     "start_time": "2024-02-26T07:38:19.149364",
     "status": "completed"
    },
    "tags": []
   },
   "outputs": [
    {
     "name": "stdout",
     "output_type": "stream",
     "text": [
      "/kaggle/working/images\n"
     ]
    }
   ],
   "source": [
    "%cd /kaggle/working/images/"
   ]
  },
  {
   "cell_type": "code",
   "execution_count": 7,
   "id": "9ae0272a",
   "metadata": {
    "execution": {
     "iopub.execute_input": "2024-02-26T07:38:19.191720Z",
     "iopub.status.busy": "2024-02-26T07:38:19.190611Z",
     "iopub.status.idle": "2024-02-26T07:38:19.199719Z",
     "shell.execute_reply": "2024-02-26T07:38:19.198136Z"
    },
    "papermill": {
     "duration": 0.024331,
     "end_time": "2024-02-26T07:38:19.203386",
     "exception": false,
     "start_time": "2024-02-26T07:38:19.179055",
     "status": "completed"
    },
    "tags": []
   },
   "outputs": [
    {
     "data": {
      "text/plain": [
       "['Netherlands', 'China', 'UnitedStates']"
      ]
     },
     "execution_count": 7,
     "metadata": {},
     "output_type": "execute_result"
    }
   ],
   "source": [
    "img_folders = os.listdir()\n",
    "img_folders"
   ]
  },
  {
   "cell_type": "code",
   "execution_count": 8,
   "id": "605e6b7d",
   "metadata": {
    "execution": {
     "iopub.execute_input": "2024-02-26T07:38:19.222122Z",
     "iopub.status.busy": "2024-02-26T07:38:19.221640Z",
     "iopub.status.idle": "2024-02-26T07:38:19.230627Z",
     "shell.execute_reply": "2024-02-26T07:38:19.228395Z"
    },
    "papermill": {
     "duration": 0.021805,
     "end_time": "2024-02-26T07:38:19.233800",
     "exception": false,
     "start_time": "2024-02-26T07:38:19.211995",
     "status": "completed"
    },
    "tags": []
   },
   "outputs": [],
   "source": [
    "def plot_images_distribution(dic):\n",
    "  labels = dic.keys()\n",
    "  number_of_images = dic.values()\n",
    "  plt.bar(labels, number_of_images)\n",
    "  plt.xlabel('Labels')\n",
    "  plt.xticks(rotation=90)\n",
    "  plt.ylabel('Number of images')\n",
    "  plt.title('Images distribiution')\n",
    "  plt.show()"
   ]
  },
  {
   "cell_type": "code",
   "execution_count": 9,
   "id": "fad7c9e4",
   "metadata": {
    "execution": {
     "iopub.execute_input": "2024-02-26T07:38:19.250210Z",
     "iopub.status.busy": "2024-02-26T07:38:19.249741Z",
     "iopub.status.idle": "2024-02-26T07:38:19.256598Z",
     "shell.execute_reply": "2024-02-26T07:38:19.255190Z"
    },
    "papermill": {
     "duration": 0.018183,
     "end_time": "2024-02-26T07:38:19.259435",
     "exception": false,
     "start_time": "2024-02-26T07:38:19.241252",
     "status": "completed"
    },
    "tags": []
   },
   "outputs": [],
   "source": [
    "def img_numbers() -> dict: return { folder_name: len(get_image_files_sorted(folder_name)) for folder_name in img_folders}"
   ]
  },
  {
   "cell_type": "code",
   "execution_count": 10,
   "id": "327582d3",
   "metadata": {
    "execution": {
     "iopub.execute_input": "2024-02-26T07:38:19.277218Z",
     "iopub.status.busy": "2024-02-26T07:38:19.276789Z",
     "iopub.status.idle": "2024-02-26T07:38:19.737172Z",
     "shell.execute_reply": "2024-02-26T07:38:19.735821Z"
    },
    "papermill": {
     "duration": 0.474069,
     "end_time": "2024-02-26T07:38:19.741551",
     "exception": false,
     "start_time": "2024-02-26T07:38:19.267482",
     "status": "completed"
    },
    "tags": []
   },
   "outputs": [
    {
     "name": "stdout",
     "output_type": "stream",
     "text": [
      "{'Netherlands': 2034, 'China': 3573, 'UnitedStates': 2998}\n"
     ]
    },
    {
     "data": {
      "image/png": "[encoded data removed]",
      "text/plain": [
       "<Figure size 640x480 with 1 Axes>"
      ]
     },
     "metadata": {},
     "output_type": "display_data"
    }
   ],
   "source": [
    "img_dict = img_numbers()\n",
    "print(img_dict)\n",
    "plot_images_distribution(img_dict)"
   ]
  },
  {
   "cell_type": "code",
   "execution_count": 11,
   "id": "49bb6812",
   "metadata": {
    "execution": {
     "iopub.execute_input": "2024-02-26T07:38:19.760484Z",
     "iopub.status.busy": "2024-02-26T07:38:19.758884Z",
     "iopub.status.idle": "2024-02-26T07:38:19.765988Z",
     "shell.execute_reply": "2024-02-26T07:38:19.765063Z"
    },
    "papermill": {
     "duration": 0.019348,
     "end_time": "2024-02-26T07:38:19.768660",
     "exception": false,
     "start_time": "2024-02-26T07:38:19.749312",
     "status": "completed"
    },
    "tags": []
   },
   "outputs": [],
   "source": [
    "def image_verification(folders):\n",
    "  for folder in folders:\n",
    "    failed = verify_images(get_image_files_sorted(folder))\n",
    "    for img in failed:\n",
    "      os.remove(img)"
   ]
  },
  {
   "cell_type": "code",
   "execution_count": 12,
   "id": "4ca0b521",
   "metadata": {
    "execution": {
     "iopub.execute_input": "2024-02-26T07:38:19.787192Z",
     "iopub.status.busy": "2024-02-26T07:38:19.786261Z",
     "iopub.status.idle": "2024-02-26T07:39:06.536145Z",
     "shell.execute_reply": "2024-02-26T07:39:06.533969Z"
    },
    "papermill": {
     "duration": 46.763019,
     "end_time": "2024-02-26T07:39:06.539602",
     "exception": false,
     "start_time": "2024-02-26T07:38:19.776583",
     "status": "completed"
    },
    "tags": []
   },
   "outputs": [],
   "source": [
    "image_verification(folders = img_folders)"
   ]
  },
  {
   "cell_type": "code",
   "execution_count": 13,
   "id": "08736835",
   "metadata": {
    "execution": {
     "iopub.execute_input": "2024-02-26T07:39:06.560399Z",
     "iopub.status.busy": "2024-02-26T07:39:06.559302Z",
     "iopub.status.idle": "2024-02-26T07:39:06.947013Z",
     "shell.execute_reply": "2024-02-26T07:39:06.945464Z"
    },
    "papermill": {
     "duration": 0.40068,
     "end_time": "2024-02-26T07:39:06.950152",
     "exception": false,
     "start_time": "2024-02-26T07:39:06.549472",
     "status": "completed"
    },
    "tags": []
   },
   "outputs": [
    {
     "name": "stdout",
     "output_type": "stream",
     "text": [
      "{'Netherlands': 2011, 'China': 3494, 'UnitedStates': 2970}\n"
     ]
    },
    {
     "data": {
      "image/png": "[encoded data removed]",
      "text/plain": [
       "<Figure size 640x480 with 1 Axes>"
      ]
     },
     "metadata": {},
     "output_type": "display_data"
    }
   ],
   "source": [
    "img_dict = img_numbers()\n",
    "print(img_dict)\n",
    "plot_images_distribution(img_dict)"
   ]
  },
  {
   "cell_type": "code",
   "execution_count": 14,
   "id": "8d0afb86",
   "metadata": {
    "execution": {
     "iopub.execute_input": "2024-02-26T07:39:06.969393Z",
     "iopub.status.busy": "2024-02-26T07:39:06.968925Z",
     "iopub.status.idle": "2024-02-26T07:40:59.421349Z",
     "shell.execute_reply": "2024-02-26T07:40:59.419603Z"
    },
    "papermill": {
     "duration": 112.466648,
     "end_time": "2024-02-26T07:40:59.425420",
     "exception": false,
     "start_time": "2024-02-26T07:39:06.958772",
     "status": "completed"
    },
    "tags": []
   },
   "outputs": [],
   "source": [
    "gray_scale_images = [image_path for folder in img_folders for image_path in get_image_files_sorted(folder) if np.array(Image.open(image_path)).ndim not in [3,4]]"
   ]
  },
  {
   "cell_type": "code",
   "execution_count": 15,
   "id": "71bbc44d",
   "metadata": {
    "execution": {
     "iopub.execute_input": "2024-02-26T07:40:59.447519Z",
     "iopub.status.busy": "2024-02-26T07:40:59.446124Z",
     "iopub.status.idle": "2024-02-26T07:40:59.454565Z",
     "shell.execute_reply": "2024-02-26T07:40:59.453200Z"
    },
    "papermill": {
     "duration": 0.022507,
     "end_time": "2024-02-26T07:40:59.457727",
     "exception": false,
     "start_time": "2024-02-26T07:40:59.435220",
     "status": "completed"
    },
    "tags": []
   },
   "outputs": [],
   "source": [
    "for path in gray_scale_images: \n",
    "    os.remove(path)"
   ]
  },
  {
   "cell_type": "code",
   "execution_count": 16,
   "id": "0c785902",
   "metadata": {
    "execution": {
     "iopub.execute_input": "2024-02-26T07:40:59.476305Z",
     "iopub.status.busy": "2024-02-26T07:40:59.475894Z",
     "iopub.status.idle": "2024-02-26T07:40:59.881940Z",
     "shell.execute_reply": "2024-02-26T07:40:59.880374Z"
    },
    "papermill": {
     "duration": 0.418714,
     "end_time": "2024-02-26T07:40:59.884979",
     "exception": false,
     "start_time": "2024-02-26T07:40:59.466265",
     "status": "completed"
    },
    "tags": []
   },
   "outputs": [
    {
     "name": "stdout",
     "output_type": "stream",
     "text": [
      "{'Netherlands': 2008, 'China': 3488, 'UnitedStates': 2964}\n"
     ]
    },
    {
     "data": {
      "image/png": "[encoded data removed]",
      "text/plain": [
       "<Figure size 640x480 with 1 Axes>"
      ]
     },
     "metadata": {},
     "output_type": "display_data"
    }
   ],
   "source": [
    "img_dict = img_numbers()\n",
    "print(img_dict)\n",
    "plot_images_distribution(img_dict)"
   ]
  },
  {
   "cell_type": "code",
   "execution_count": null,
   "id": "2d3ae648",
   "metadata": {
    "papermill": {
     "duration": 0.009027,
     "end_time": "2024-02-26T07:40:59.903532",
     "exception": false,
     "start_time": "2024-02-26T07:40:59.894505",
     "status": "completed"
    },
    "tags": []
   },
   "outputs": [],
   "source": []
  }
 ],
 "metadata": {
  "kaggle": {
   "accelerator": "none",
   "dataSources": [
    {
     "datasetId": 4491410,
     "sourceId": 7702386,
     "sourceType": "datasetVersion"
    }
   ],
   "dockerImageVersionId": 30646,
   "isGpuEnabled": false,
   "isInternetEnabled": true,
   "language": "python",
   "sourceType": "notebook"
  },
  "kernelspec": {
   "display_name": "Python 3",
   "language": "python",
   "name": "python3"
  },
  "language_info": {
   "codemirror_mode": {
    "name": "ipython",
    "version": 3
   },
   "file_extension": ".py",
   "mimetype": "text/x-python",
   "name": "python",
   "nbconvert_exporter": "python",
   "pygments_lexer": "ipython3",
   "version": "3.10.13"
  },
  "papermill": {
   "default_parameters": {},
   "duration": 265.571963,
   "end_time": "2024-02-26T07:41:02.923941",
   "environment_variables": {},
   "exception": null,
   "input_path": "__notebook__.ipynb",
   "output_path": "__notebook__.ipynb",
   "parameters": {},
   "start_time": "2024-02-26T07:36:37.351978",
   "version": "2.5.0"
  }
 },
 "nbformat": 4,
 "nbformat_minor": 5
}
