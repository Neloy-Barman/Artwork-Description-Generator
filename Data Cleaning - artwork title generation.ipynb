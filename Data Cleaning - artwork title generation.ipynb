{
 "cells": [
  {
   "cell_type": "markdown",
   "id": "a2def9b1",
   "metadata": {
    "papermill": {
     "duration": 0.021788,
     "end_time": "2024-02-26T14:19:35.671854",
     "exception": false,
     "start_time": "2024-02-26T14:19:35.650066",
     "status": "completed"
    },
    "tags": []
   },
   "source": [
    "## **Required Installation**"
   ]
  },
  {
   "cell_type": "code",
   "execution_count": 1,
   "id": "a1a9941f",
   "metadata": {
    "_cell_guid": "b1076dfc-b9ad-4769-8c92-a6c4dae69d19",
    "_uuid": "8f2839f25d086af736a60e9eeb907d3b93b6e0e5",
    "execution": {
     "iopub.execute_input": "2024-02-26T14:19:35.716236Z",
     "iopub.status.busy": "2024-02-26T14:19:35.715428Z",
     "iopub.status.idle": "2024-02-26T14:19:56.624749Z",
     "shell.execute_reply": "2024-02-26T14:19:56.623164Z"
    },
    "papermill": {
     "duration": 20.935173,
     "end_time": "2024-02-26T14:19:56.628217",
     "exception": false,
     "start_time": "2024-02-26T14:19:35.693044",
     "status": "completed"
    },
    "tags": []
   },
   "outputs": [],
   "source": [
    "!pip install -q fastai fastbook nbdev transformers"
   ]
  },
  {
   "cell_type": "markdown",
   "id": "f6d72326",
   "metadata": {
    "papermill": {
     "duration": 0.020688,
     "end_time": "2024-02-26T14:19:56.671061",
     "exception": false,
     "start_time": "2024-02-26T14:19:56.650373",
     "status": "completed"
    },
    "tags": []
   },
   "source": [
    "## **Necessary packages**"
   ]
  },
  {
   "cell_type": "code",
   "execution_count": 2,
   "id": "c10d6520",
   "metadata": {
    "execution": {
     "iopub.execute_input": "2024-02-26T14:19:56.716852Z",
     "iopub.status.busy": "2024-02-26T14:19:56.716370Z",
     "iopub.status.idle": "2024-02-26T14:20:11.032517Z",
     "shell.execute_reply": "2024-02-26T14:20:11.031293Z"
    },
    "papermill": {
     "duration": 14.341967,
     "end_time": "2024-02-26T14:20:11.035795",
     "exception": false,
     "start_time": "2024-02-26T14:19:56.693828",
     "status": "completed"
    },
    "tags": []
   },
   "outputs": [],
   "source": [
    "import os\n",
    "import numpy as np\n",
    "import pandas as pd\n",
    "from fastai import *\n",
    "from PIL import Image\n",
    "from fastbook import *\n",
    "from fastai.vision.all import *\n",
    "import matplotlib.pyplot as plt\n",
    "from distutils.dir_util import copy_tree"
   ]
  },
  {
   "cell_type": "markdown",
   "id": "ecceefaa",
   "metadata": {
    "papermill": {
     "duration": 0.020045,
     "end_time": "2024-02-26T14:20:11.076944",
     "exception": false,
     "start_time": "2024-02-26T14:20:11.056899",
     "status": "completed"
    },
    "tags": []
   },
   "source": [
    "## **Initial directory**"
   ]
  },
  {
   "cell_type": "code",
   "execution_count": 3,
   "id": "ecc4fe6b",
   "metadata": {
    "execution": {
     "iopub.execute_input": "2024-02-26T14:20:11.120204Z",
     "iopub.status.busy": "2024-02-26T14:20:11.119701Z",
     "iopub.status.idle": "2024-02-26T14:20:11.130431Z",
     "shell.execute_reply": "2024-02-26T14:20:11.129281Z"
    },
    "papermill": {
     "duration": 0.036093,
     "end_time": "2024-02-26T14:20:11.133489",
     "exception": false,
     "start_time": "2024-02-26T14:20:11.097396",
     "status": "completed"
    },
    "tags": []
   },
   "outputs": [
    {
     "name": "stdout",
     "output_type": "stream",
     "text": [
      "/kaggle/input/artwork-title-generator\n"
     ]
    }
   ],
   "source": [
    "%cd /kaggle/input/artwork-title-generator"
   ]
  },
  {
   "cell_type": "markdown",
   "id": "813cf992",
   "metadata": {
    "papermill": {
     "duration": 0.020225,
     "end_time": "2024-02-26T14:20:11.174351",
     "exception": false,
     "start_time": "2024-02-26T14:20:11.154126",
     "status": "completed"
    },
    "tags": []
   },
   "source": [
    "## **Fetching sub-folders**"
   ]
  },
  {
   "cell_type": "code",
   "execution_count": 4,
   "id": "3f71b678",
   "metadata": {
    "execution": {
     "iopub.execute_input": "2024-02-26T14:20:11.217782Z",
     "iopub.status.busy": "2024-02-26T14:20:11.217008Z",
     "iopub.status.idle": "2024-02-26T14:20:11.229791Z",
     "shell.execute_reply": "2024-02-26T14:20:11.228644Z"
    },
    "papermill": {
     "duration": 0.037395,
     "end_time": "2024-02-26T14:20:11.232246",
     "exception": false,
     "start_time": "2024-02-26T14:20:11.194851",
     "status": "completed"
    },
    "tags": []
   },
   "outputs": [
    {
     "data": {
      "text/plain": [
       "['UnitedStates', 'Netherlands', 'China']"
      ]
     },
     "execution_count": 4,
     "metadata": {},
     "output_type": "execute_result"
    }
   ],
   "source": [
    "img_folders = os.listdir()\n",
    "img_folders.remove('csvFiles')\n",
    "img_folders.remove('artwork_title_generator_data.csv')\n",
    "img_folders"
   ]
  },
  {
   "cell_type": "markdown",
   "id": "9d712bc9",
   "metadata": {
    "papermill": {
     "duration": 0.020671,
     "end_time": "2024-02-26T14:20:11.274022",
     "exception": false,
     "start_time": "2024-02-26T14:20:11.253351",
     "status": "completed"
    },
    "tags": []
   },
   "source": [
    "## **Copying files to the working directory**"
   ]
  },
  {
   "cell_type": "code",
   "execution_count": 5,
   "id": "fdac0b28",
   "metadata": {
    "execution": {
     "iopub.execute_input": "2024-02-26T14:20:11.318825Z",
     "iopub.status.busy": "2024-02-26T14:20:11.318390Z",
     "iopub.status.idle": "2024-02-26T14:21:01.743194Z",
     "shell.execute_reply": "2024-02-26T14:21:01.741958Z"
    },
    "papermill": {
     "duration": 50.451319,
     "end_time": "2024-02-26T14:21:01.746289",
     "exception": false,
     "start_time": "2024-02-26T14:20:11.294970",
     "status": "completed"
    },
    "tags": []
   },
   "outputs": [],
   "source": [
    "input_path = \"/kaggle/input/artwork-title-generator\"\n",
    "output_path = \"/kaggle/working/images/\"\n",
    "\n",
    "for folder in img_folders:\n",
    "    copy_tree(input_path+'/'+folder, output_path+folder)"
   ]
  },
  {
   "cell_type": "code",
   "execution_count": 6,
   "id": "1cab02db",
   "metadata": {
    "execution": {
     "iopub.execute_input": "2024-02-26T14:21:01.790668Z",
     "iopub.status.busy": "2024-02-26T14:21:01.790206Z",
     "iopub.status.idle": "2024-02-26T14:21:01.861717Z",
     "shell.execute_reply": "2024-02-26T14:21:01.860494Z"
    },
    "papermill": {
     "duration": 0.097016,
     "end_time": "2024-02-26T14:21:01.864575",
     "exception": false,
     "start_time": "2024-02-26T14:21:01.767559",
     "status": "completed"
    },
    "tags": []
   },
   "outputs": [
    {
     "data": {
      "text/plain": [
       "['/kaggle/working/csvFiles/csvFiles/Netherlands.csv',\n",
       " '/kaggle/working/csvFiles/csvFiles/China.csv',\n",
       " '/kaggle/working/csvFiles/csvFiles/UnitedStates.csv']"
      ]
     },
     "execution_count": 6,
     "metadata": {},
     "output_type": "execute_result"
    }
   ],
   "source": [
    "input_path = \"/kaggle/input/artwork-title-generator/csvFiles\"\n",
    "output_path = \"/kaggle/working/csvFiles/\"\n",
    "\n",
    "copy_tree(input_path, output_path)"
   ]
  },
  {
   "cell_type": "markdown",
   "id": "12e69697",
   "metadata": {
    "papermill": {
     "duration": 0.020459,
     "end_time": "2024-02-26T14:21:01.906910",
     "exception": false,
     "start_time": "2024-02-26T14:21:01.886451",
     "status": "completed"
    },
    "tags": []
   },
   "source": [
    "## **Working directories initialization**"
   ]
  },
  {
   "cell_type": "code",
   "execution_count": 7,
   "id": "7aa03623",
   "metadata": {
    "execution": {
     "iopub.execute_input": "2024-02-26T14:21:01.950488Z",
     "iopub.status.busy": "2024-02-26T14:21:01.949405Z",
     "iopub.status.idle": "2024-02-26T14:21:01.956987Z",
     "shell.execute_reply": "2024-02-26T14:21:01.955776Z"
    },
    "papermill": {
     "duration": 0.031986,
     "end_time": "2024-02-26T14:21:01.959454",
     "exception": false,
     "start_time": "2024-02-26T14:21:01.927468",
     "status": "completed"
    },
    "tags": []
   },
   "outputs": [
    {
     "name": "stdout",
     "output_type": "stream",
     "text": [
      "/kaggle/working\n"
     ]
    }
   ],
   "source": [
    "%cd /kaggle/working/\n",
    "\n",
    "images_path = \"images/\"\n",
    "csv_path = \"csvFiles/csvFiles\""
   ]
  },
  {
   "cell_type": "markdown",
   "id": "85f7ce4a",
   "metadata": {
    "papermill": {
     "duration": 0.020611,
     "end_time": "2024-02-26T14:21:02.003001",
     "exception": false,
     "start_time": "2024-02-26T14:21:01.982390",
     "status": "completed"
    },
    "tags": []
   },
   "source": [
    "## **Fetching sub-folders in the working directory**"
   ]
  },
  {
   "cell_type": "code",
   "execution_count": 8,
   "id": "2d3b3577",
   "metadata": {
    "execution": {
     "iopub.execute_input": "2024-02-26T14:21:02.046863Z",
     "iopub.status.busy": "2024-02-26T14:21:02.046380Z",
     "iopub.status.idle": "2024-02-26T14:21:02.054860Z",
     "shell.execute_reply": "2024-02-26T14:21:02.053948Z"
    },
    "papermill": {
     "duration": 0.03365,
     "end_time": "2024-02-26T14:21:02.057367",
     "exception": false,
     "start_time": "2024-02-26T14:21:02.023717",
     "status": "completed"
    },
    "tags": []
   },
   "outputs": [
    {
     "data": {
      "text/plain": [
       "['UnitedStates', 'China', 'Netherlands']"
      ]
     },
     "execution_count": 8,
     "metadata": {},
     "output_type": "execute_result"
    }
   ],
   "source": [
    "img_folders = os.listdir(images_path)\n",
    "img_folders"
   ]
  },
  {
   "cell_type": "markdown",
   "id": "91676763",
   "metadata": {
    "papermill": {
     "duration": 0.020593,
     "end_time": "2024-02-26T14:21:02.099432",
     "exception": false,
     "start_time": "2024-02-26T14:21:02.078839",
     "status": "completed"
    },
    "tags": []
   },
   "source": [
    "## **Function to view images distribution**"
   ]
  },
  {
   "cell_type": "code",
   "execution_count": 9,
   "id": "f7615783",
   "metadata": {
    "execution": {
     "iopub.execute_input": "2024-02-26T14:21:02.144852Z",
     "iopub.status.busy": "2024-02-26T14:21:02.144351Z",
     "iopub.status.idle": "2024-02-26T14:21:02.151532Z",
     "shell.execute_reply": "2024-02-26T14:21:02.150380Z"
    },
    "papermill": {
     "duration": 0.033031,
     "end_time": "2024-02-26T14:21:02.154206",
     "exception": false,
     "start_time": "2024-02-26T14:21:02.121175",
     "status": "completed"
    },
    "tags": []
   },
   "outputs": [],
   "source": [
    "def plot_images_distribution(dic):\n",
    "  labels = dic.keys()\n",
    "  number_of_images = dic.values()\n",
    "  plt.bar(labels, number_of_images)\n",
    "  plt.xlabel('Labels')\n",
    "  plt.xticks(rotation=90)\n",
    "  plt.ylabel('Number of images')\n",
    "  plt.title('Images distribiution')\n",
    "  plt.show()"
   ]
  },
  {
   "cell_type": "markdown",
   "id": "8bde3ef2",
   "metadata": {
    "papermill": {
     "duration": 0.020875,
     "end_time": "2024-02-26T14:21:02.196287",
     "exception": false,
     "start_time": "2024-02-26T14:21:02.175412",
     "status": "completed"
    },
    "tags": []
   },
   "source": [
    "## **Number of images within folders**"
   ]
  },
  {
   "cell_type": "code",
   "execution_count": 10,
   "id": "a734d9b2",
   "metadata": {
    "execution": {
     "iopub.execute_input": "2024-02-26T14:21:02.241244Z",
     "iopub.status.busy": "2024-02-26T14:21:02.240758Z",
     "iopub.status.idle": "2024-02-26T14:21:02.246806Z",
     "shell.execute_reply": "2024-02-26T14:21:02.245706Z"
    },
    "papermill": {
     "duration": 0.031884,
     "end_time": "2024-02-26T14:21:02.249437",
     "exception": false,
     "start_time": "2024-02-26T14:21:02.217553",
     "status": "completed"
    },
    "tags": []
   },
   "outputs": [],
   "source": [
    "def img_numbers() -> dict: return { folder_name: len(get_image_files_sorted(images_path+'/'+folder_name)) for folder_name in img_folders}"
   ]
  },
  {
   "cell_type": "markdown",
   "id": "7153b9a3",
   "metadata": {
    "papermill": {
     "duration": 0.109356,
     "end_time": "2024-02-26T14:21:02.379999",
     "exception": false,
     "start_time": "2024-02-26T14:21:02.270643",
     "status": "completed"
    },
    "tags": []
   },
   "source": [
    "## **Viewing initial images distribution**"
   ]
  },
  {
   "cell_type": "code",
   "execution_count": 11,
   "id": "45e241f6",
   "metadata": {
    "execution": {
     "iopub.execute_input": "2024-02-26T14:21:02.425347Z",
     "iopub.status.busy": "2024-02-26T14:21:02.424426Z",
     "iopub.status.idle": "2024-02-26T14:21:02.847613Z",
     "shell.execute_reply": "2024-02-26T14:21:02.846090Z"
    },
    "papermill": {
     "duration": 0.449535,
     "end_time": "2024-02-26T14:21:02.850663",
     "exception": false,
     "start_time": "2024-02-26T14:21:02.401128",
     "status": "completed"
    },
    "tags": []
   },
   "outputs": [
    {
     "name": "stdout",
     "output_type": "stream",
     "text": [
      "{'UnitedStates': 2998, 'China': 3573, 'Netherlands': 2034}\n"
     ]
    },
    {
     "data": {
      "image/png": "[encoded data removed]",
      "text/plain": [
       "<Figure size 640x480 with 1 Axes>"
      ]
     },
     "metadata": {},
     "output_type": "display_data"
    }
   ],
   "source": [
    "img_dict = img_numbers()\n",
    "print(img_dict)\n",
    "plot_images_distribution(img_dict)"
   ]
  },
  {
   "cell_type": "markdown",
   "id": "b8c8809e",
   "metadata": {
    "papermill": {
     "duration": 0.030449,
     "end_time": "2024-02-26T14:21:02.912297",
     "exception": false,
     "start_time": "2024-02-26T14:21:02.881848",
     "status": "completed"
    },
    "tags": []
   },
   "source": [
    "## **Function to verify images**"
   ]
  },
  {
   "cell_type": "code",
   "execution_count": 12,
   "id": "c311210a",
   "metadata": {
    "execution": {
     "iopub.execute_input": "2024-02-26T14:21:02.970640Z",
     "iopub.status.busy": "2024-02-26T14:21:02.970162Z",
     "iopub.status.idle": "2024-02-26T14:21:02.976226Z",
     "shell.execute_reply": "2024-02-26T14:21:02.975074Z"
    },
    "papermill": {
     "duration": 0.035343,
     "end_time": "2024-02-26T14:21:02.978792",
     "exception": false,
     "start_time": "2024-02-26T14:21:02.943449",
     "status": "completed"
    },
    "tags": []
   },
   "outputs": [],
   "source": [
    "def image_verification(path, folders):\n",
    "  for folder in folders:\n",
    "    failed = verify_images(get_image_files_sorted(path+'/'+folder))\n",
    "    for img in failed:\n",
    "      os.remove(img)"
   ]
  },
  {
   "cell_type": "markdown",
   "id": "3014fa58",
   "metadata": {
    "papermill": {
     "duration": 0.021375,
     "end_time": "2024-02-26T14:21:03.024590",
     "exception": false,
     "start_time": "2024-02-26T14:21:03.003215",
     "status": "completed"
    },
    "tags": []
   },
   "source": [
    "## **Verifying images**"
   ]
  },
  {
   "cell_type": "code",
   "execution_count": 13,
   "id": "7e2cc072",
   "metadata": {
    "execution": {
     "iopub.execute_input": "2024-02-26T14:21:03.070448Z",
     "iopub.status.busy": "2024-02-26T14:21:03.069987Z",
     "iopub.status.idle": "2024-02-26T14:21:45.194261Z",
     "shell.execute_reply": "2024-02-26T14:21:45.192672Z"
    },
    "papermill": {
     "duration": 42.15102,
     "end_time": "2024-02-26T14:21:45.197643",
     "exception": false,
     "start_time": "2024-02-26T14:21:03.046623",
     "status": "completed"
    },
    "tags": []
   },
   "outputs": [],
   "source": [
    "image_verification(path = images_path, folders = img_folders)"
   ]
  },
  {
   "cell_type": "markdown",
   "id": "a2bec9ff",
   "metadata": {
    "papermill": {
     "duration": 0.021389,
     "end_time": "2024-02-26T14:21:45.243727",
     "exception": false,
     "start_time": "2024-02-26T14:21:45.222338",
     "status": "completed"
    },
    "tags": []
   },
   "source": [
    "## **Images distribution after cleaning**"
   ]
  },
  {
   "cell_type": "code",
   "execution_count": 14,
   "id": "85a5bfe2",
   "metadata": {
    "execution": {
     "iopub.execute_input": "2024-02-26T14:21:45.290550Z",
     "iopub.status.busy": "2024-02-26T14:21:45.290105Z",
     "iopub.status.idle": "2024-02-26T14:21:45.664573Z",
     "shell.execute_reply": "2024-02-26T14:21:45.663323Z"
    },
    "papermill": {
     "duration": 0.400819,
     "end_time": "2024-02-26T14:21:45.666917",
     "exception": false,
     "start_time": "2024-02-26T14:21:45.266098",
     "status": "completed"
    },
    "tags": []
   },
   "outputs": [
    {
     "name": "stdout",
     "output_type": "stream",
     "text": [
      "{'UnitedStates': 2970, 'China': 3494, 'Netherlands': 2011}\n"
     ]
    },
    {
     "data": {
      "image/png": "[encoded data removed]",
      "text/plain": [
       "<Figure size 640x480 with 1 Axes>"
      ]
     },
     "metadata": {},
     "output_type": "display_data"
    }
   ],
   "source": [
    "img_dict = img_numbers()\n",
    "print(img_dict)\n",
    "plot_images_distribution(img_dict)"
   ]
  },
  {
   "cell_type": "markdown",
   "id": "840dc07d",
   "metadata": {
    "papermill": {
     "duration": 0.021886,
     "end_time": "2024-02-26T14:21:45.711099",
     "exception": false,
     "start_time": "2024-02-26T14:21:45.689213",
     "status": "completed"
    },
    "tags": []
   },
   "source": [
    "## **Identifying grayscale images**"
   ]
  },
  {
   "cell_type": "code",
   "execution_count": 15,
   "id": "da9f1aea",
   "metadata": {
    "execution": {
     "iopub.execute_input": "2024-02-26T14:21:45.757448Z",
     "iopub.status.busy": "2024-02-26T14:21:45.757012Z",
     "iopub.status.idle": "2024-02-26T14:23:23.879853Z",
     "shell.execute_reply": "2024-02-26T14:23:23.878649Z"
    },
    "papermill": {
     "duration": 98.171053,
     "end_time": "2024-02-26T14:23:23.904370",
     "exception": false,
     "start_time": "2024-02-26T14:21:45.733317",
     "status": "completed"
    },
    "tags": []
   },
   "outputs": [
    {
     "data": {
      "text/plain": [
       "15"
      ]
     },
     "execution_count": 15,
     "metadata": {},
     "output_type": "execute_result"
    }
   ],
   "source": [
    "gray_scale_images = [image_path for folder in img_folders for image_path in get_image_files_sorted(images_path+'/'+folder) if np.array(Image.open(image_path)).ndim not in [3,4]]\n",
    "len(gray_scale_images)"
   ]
  },
  {
   "cell_type": "markdown",
   "id": "fac0b025",
   "metadata": {
    "papermill": {
     "duration": 0.021967,
     "end_time": "2024-02-26T14:23:23.948561",
     "exception": false,
     "start_time": "2024-02-26T14:23:23.926594",
     "status": "completed"
    },
    "tags": []
   },
   "source": [
    "## **Removing grayscale images**"
   ]
  },
  {
   "cell_type": "code",
   "execution_count": 16,
   "id": "18408b2b",
   "metadata": {
    "execution": {
     "iopub.execute_input": "2024-02-26T14:23:23.995697Z",
     "iopub.status.busy": "2024-02-26T14:23:23.995292Z",
     "iopub.status.idle": "2024-02-26T14:23:24.001215Z",
     "shell.execute_reply": "2024-02-26T14:23:24.000208Z"
    },
    "papermill": {
     "duration": 0.032423,
     "end_time": "2024-02-26T14:23:24.003696",
     "exception": false,
     "start_time": "2024-02-26T14:23:23.971273",
     "status": "completed"
    },
    "tags": []
   },
   "outputs": [],
   "source": [
    "for path in gray_scale_images: \n",
    "    os.remove(path)"
   ]
  },
  {
   "cell_type": "markdown",
   "id": "edcb3b8e",
   "metadata": {
    "papermill": {
     "duration": 0.02232,
     "end_time": "2024-02-26T14:23:24.048911",
     "exception": false,
     "start_time": "2024-02-26T14:23:24.026591",
     "status": "completed"
    },
    "tags": []
   },
   "source": [
    "## **Images distribution after removal**"
   ]
  },
  {
   "cell_type": "code",
   "execution_count": 17,
   "id": "92b590aa",
   "metadata": {
    "execution": {
     "iopub.execute_input": "2024-02-26T14:23:24.096461Z",
     "iopub.status.busy": "2024-02-26T14:23:24.095551Z",
     "iopub.status.idle": "2024-02-26T14:23:24.461213Z",
     "shell.execute_reply": "2024-02-26T14:23:24.459915Z"
    },
    "papermill": {
     "duration": 0.392632,
     "end_time": "2024-02-26T14:23:24.464174",
     "exception": false,
     "start_time": "2024-02-26T14:23:24.071542",
     "status": "completed"
    },
    "tags": []
   },
   "outputs": [
    {
     "name": "stdout",
     "output_type": "stream",
     "text": [
      "{'UnitedStates': 2964, 'China': 3488, 'Netherlands': 2008}\n"
     ]
    },
    {
     "data": {
      "image/png": "[encoded data removed]",
      "text/plain": [
       "<Figure size 640x480 with 1 Axes>"
      ]
     },
     "metadata": {},
     "output_type": "display_data"
    }
   ],
   "source": [
    "img_dict = img_numbers()\n",
    "print(img_dict)\n",
    "plot_images_distribution(img_dict)"
   ]
  },
  {
   "cell_type": "markdown",
   "id": "b10a859e",
   "metadata": {
    "papermill": {
     "duration": 0.023474,
     "end_time": "2024-02-26T14:23:24.511527",
     "exception": false,
     "start_time": "2024-02-26T14:23:24.488053",
     "status": "completed"
    },
    "tags": []
   },
   "source": [
    "## **Fetching csv files**"
   ]
  },
  {
   "cell_type": "code",
   "execution_count": 18,
   "id": "fb027ad9",
   "metadata": {
    "execution": {
     "iopub.execute_input": "2024-02-26T14:23:24.561176Z",
     "iopub.status.busy": "2024-02-26T14:23:24.560449Z",
     "iopub.status.idle": "2024-02-26T14:23:24.567629Z",
     "shell.execute_reply": "2024-02-26T14:23:24.566525Z"
    },
    "papermill": {
     "duration": 0.034715,
     "end_time": "2024-02-26T14:23:24.569836",
     "exception": false,
     "start_time": "2024-02-26T14:23:24.535121",
     "status": "completed"
    },
    "tags": []
   },
   "outputs": [
    {
     "data": {
      "text/plain": [
       "['Netherlands.csv', 'China.csv', 'UnitedStates.csv']"
      ]
     },
     "execution_count": 18,
     "metadata": {},
     "output_type": "execute_result"
    }
   ],
   "source": [
    "files = os.listdir(csv_path)\n",
    "files"
   ]
  },
  {
   "cell_type": "markdown",
   "id": "375a3f3e",
   "metadata": {
    "papermill": {
     "duration": 0.022974,
     "end_time": "2024-02-26T14:23:24.616189",
     "exception": false,
     "start_time": "2024-02-26T14:23:24.593215",
     "status": "completed"
    },
    "tags": []
   },
   "source": [
    "## **Merging and creation of a dataframe**"
   ]
  },
  {
   "cell_type": "code",
   "execution_count": 19,
   "id": "f68ad968",
   "metadata": {
    "execution": {
     "iopub.execute_input": "2024-02-26T14:23:24.666246Z",
     "iopub.status.busy": "2024-02-26T14:23:24.665782Z",
     "iopub.status.idle": "2024-02-26T14:23:24.741562Z",
     "shell.execute_reply": "2024-02-26T14:23:24.740331Z"
    },
    "papermill": {
     "duration": 0.104972,
     "end_time": "2024-02-26T14:23:24.744647",
     "exception": false,
     "start_time": "2024-02-26T14:23:24.639675",
     "status": "completed"
    },
    "tags": []
   },
   "outputs": [],
   "source": [
    "df = pd.DataFrame()\n",
    "for file in files:\n",
    "  data_frame = pd.read_csv(f\"{csv_path}/{file}\")\n",
    "  df = pd.concat([df, data_frame], ignore_index = True)"
   ]
  },
  {
   "cell_type": "markdown",
   "id": "a46a077a",
   "metadata": {
    "papermill": {
     "duration": 0.023055,
     "end_time": "2024-02-26T14:23:24.791254",
     "exception": false,
     "start_time": "2024-02-26T14:23:24.768199",
     "status": "completed"
    },
    "tags": []
   },
   "source": [
    "## **Viewing dataframe**"
   ]
  },
  {
   "cell_type": "code",
   "execution_count": 20,
   "id": "4a3e6f17",
   "metadata": {
    "execution": {
     "iopub.execute_input": "2024-02-26T14:23:24.840055Z",
     "iopub.status.busy": "2024-02-26T14:23:24.839577Z",
     "iopub.status.idle": "2024-02-26T14:23:24.860943Z",
     "shell.execute_reply": "2024-02-26T14:23:24.859893Z"
    },
    "papermill": {
     "duration": 0.049323,
     "end_time": "2024-02-26T14:23:24.864064",
     "exception": false,
     "start_time": "2024-02-26T14:23:24.814741",
     "status": "completed"
    },
    "tags": []
   },
   "outputs": [
    {
     "data": {
      "text/html": [
       "<div>\n",
       "<style scoped>\n",
       "    .dataframe tbody tr th:only-of-type {\n",
       "        vertical-align: middle;\n",
       "    }\n",
       "\n",
       "    .dataframe tbody tr th {\n",
       "        vertical-align: top;\n",
       "    }\n",
       "\n",
       "    .dataframe thead th {\n",
       "        text-align: right;\n",
       "    }\n",
       "</style>\n",
       "<table border=\"1\" class=\"dataframe\">\n",
       "  <thead>\n",
       "    <tr style=\"text-align: right;\">\n",
       "      <th></th>\n",
       "      <th>ids</th>\n",
       "      <th>artists</th>\n",
       "      <th>mediums</th>\n",
       "      <th>titles</th>\n",
       "      <th>descriptions</th>\n",
       "      <th>urls</th>\n",
       "    </tr>\n",
       "  </thead>\n",
       "  <tbody>\n",
       "    <tr>\n",
       "      <th>0</th>\n",
       "      <td>nl_1</td>\n",
       "      <td>Piet Mondrian</td>\n",
       "      <td>Oil on canvas</td>\n",
       "      <td>Lozenge Composition with Yellow, Black, Blue, Red, and Gray</td>\n",
       "      <td>Piet Mondrian, a painter of the revolutionary international movement De Stijl (the Style), argued that “the straight line tells the truth.” Why, then, we might wonder, would he choose to hang a painting off axis, where its edges imply dynamic diagonals? Among other motivations, rotating the canvas allowed Mondrian to reconsider a question he spent his career exploring, namely, the relationship between the contents of a painting and what contains them. In Lozenge Composition, the squared-off black lines imply enclosure, while a single line (above the blue area) extends to the slanted edge, ...</td>\n",
       "      <td>https://www.artic.edu/artworks/109819/lozenge-composition-with-yellow-black-blue-red-and-gray</td>\n",
       "    </tr>\n",
       "    <tr>\n",
       "      <th>1</th>\n",
       "      <td>nl_2</td>\n",
       "      <td>Jan Sanders van Hemessen</td>\n",
       "      <td>Oil on panel</td>\n",
       "      <td>Judith</td>\n",
       "      <td>Judith was considered one of the most heroic women of the Old Testament. According to the biblical story, when her city was besieged by the Assyrian army, the beautiful young widow gained access to the quarters of the general Holofernes. After winning his confidence and getting him drunk, she took his sword and cut off his head, thereby saving the Jewish people. Although Judith was often shown richly and exotically clothed, Jan Sanders van Hemessen chose to present her as a monumental nude, aggressively brandishing her sword even after severing Holofernes’s head.Van Hemessen was one of the...</td>\n",
       "      <td>https://www.artic.edu/artworks/4575/judith</td>\n",
       "    </tr>\n",
       "    <tr>\n",
       "      <th>2</th>\n",
       "      <td>nl_3</td>\n",
       "      <td>Joachim Antonisz. Wtewael</td>\n",
       "      <td>Oil on copper</td>\n",
       "      <td>The Battle between the Gods and the Giants</td>\n",
       "      <td>The subject of the victory of the gods of Olympus over the ancient race of giants provided Joachim Wtewael with the opportunity to depict exaggerated athletic poses and striking contrasts of space and light. From the clouds, the Olympian gods wield their attributes as weapons: Jupiter hurls thunderbolts; Neptune brandishes his triton; and Mercury uses his caduceus as a spear. The helmeted figure on the right is Minerva, the goddess of wisdom and war. The painting’s gemlike effect results from the use of a copper support and from its small scale. The artist’s self-conscious display of his s...</td>\n",
       "      <td>https://www.artic.edu/artworks/105466/the-battle-between-the-gods-and-the-giants</td>\n",
       "    </tr>\n",
       "    <tr>\n",
       "      <th>3</th>\n",
       "      <td>nl_4</td>\n",
       "      <td>Paulus Potter</td>\n",
       "      <td>Oil on panel</td>\n",
       "      <td>Two Cows and a Young Bull beside a Fence in a Meadow</td>\n",
       "      <td>Paulus Potter, a prolific painter and etcher during his short life, elevated images of cows, oxen, and other domestic animals to majestic emblems of nature. His lavish attention to the physical appearances of such beasts—the varied texture and coloring of their hair, their characteristic poses, their bulky contours—borders on portraiture and likely derived from drawings he made from life. With Potter, animal painting blossomed into an independent genre in the Dutch Republic.</td>\n",
       "      <td>https://www.artic.edu/artworks/146953/two-cows-and-a-young-bull-beside-a-fence-in-a-meadow</td>\n",
       "    </tr>\n",
       "    <tr>\n",
       "      <th>4</th>\n",
       "      <td>nl_5</td>\n",
       "      <td>Pieter Jansz. Quast</td>\n",
       "      <td>Etching in black on paper</td>\n",
       "      <td>Lame Beggar Asking for Alms, from T is al verwart-gaern (It’s already confusing)</td>\n",
       "      <td>NaN</td>\n",
       "      <td>https://www.artic.edu/artworks/81/lame-beggar-asking-for-alms-from-t-is-al-verwart-gaern-it-s-already-confusing</td>\n",
       "    </tr>\n",
       "  </tbody>\n",
       "</table>\n",
       "</div>"
      ],
      "text/plain": [
       "    ids                    artists                    mediums  \\\n",
       "0  nl_1              Piet Mondrian              Oil on canvas   \n",
       "1  nl_2   Jan Sanders van Hemessen               Oil on panel   \n",
       "2  nl_3  Joachim Antonisz. Wtewael              Oil on copper   \n",
       "3  nl_4              Paulus Potter               Oil on panel   \n",
       "4  nl_5        Pieter Jansz. Quast  Etching in black on paper   \n",
       "\n",
       "                                                                             titles  \\\n",
       "0                       Lozenge Composition with Yellow, Black, Blue, Red, and Gray   \n",
       "1                                                                            Judith   \n",
       "2                                        The Battle between the Gods and the Giants   \n",
       "3                              Two Cows and a Young Bull beside a Fence in a Meadow   \n",
       "4  Lame Beggar Asking for Alms, from T is al verwart-gaern (It’s already confusing)   \n",
       "\n",
       "                                                                                                                                                                                                                                                                                                                                                                                                                                                                                                                                                                                                              descriptions  \\\n",
       "0  Piet Mondrian, a painter of the revolutionary international movement De Stijl (the Style), argued that “the straight line tells the truth.” Why, then, we might wonder, would he choose to hang a painting off axis, where its edges imply dynamic diagonals? Among other motivations, rotating the canvas allowed Mondrian to reconsider a question he spent his career exploring, namely, the relationship between the contents of a painting and what contains them. In Lozenge Composition, the squared-off black lines imply enclosure, while a single line (above the blue area) extends to the slanted edge, ...   \n",
       "1  Judith was considered one of the most heroic women of the Old Testament. According to the biblical story, when her city was besieged by the Assyrian army, the beautiful young widow gained access to the quarters of the general Holofernes. After winning his confidence and getting him drunk, she took his sword and cut off his head, thereby saving the Jewish people. Although Judith was often shown richly and exotically clothed, Jan Sanders van Hemessen chose to present her as a monumental nude, aggressively brandishing her sword even after severing Holofernes’s head.Van Hemessen was one of the...   \n",
       "2  The subject of the victory of the gods of Olympus over the ancient race of giants provided Joachim Wtewael with the opportunity to depict exaggerated athletic poses and striking contrasts of space and light. From the clouds, the Olympian gods wield their attributes as weapons: Jupiter hurls thunderbolts; Neptune brandishes his triton; and Mercury uses his caduceus as a spear. The helmeted figure on the right is Minerva, the goddess of wisdom and war. The painting’s gemlike effect results from the use of a copper support and from its small scale. The artist’s self-conscious display of his s...   \n",
       "3                                                                                                                          Paulus Potter, a prolific painter and etcher during his short life, elevated images of cows, oxen, and other domestic animals to majestic emblems of nature. His lavish attention to the physical appearances of such beasts—the varied texture and coloring of their hair, their characteristic poses, their bulky contours—borders on portraiture and likely derived from drawings he made from life. With Potter, animal painting blossomed into an independent genre in the Dutch Republic.   \n",
       "4                                                                                                                                                                                                                                                                                                                                                                                                                                                                                                                                                                                                                      NaN   \n",
       "\n",
       "                                                                                                              urls  \n",
       "0                    https://www.artic.edu/artworks/109819/lozenge-composition-with-yellow-black-blue-red-and-gray  \n",
       "1                                                                       https://www.artic.edu/artworks/4575/judith  \n",
       "2                                 https://www.artic.edu/artworks/105466/the-battle-between-the-gods-and-the-giants  \n",
       "3                       https://www.artic.edu/artworks/146953/two-cows-and-a-young-bull-beside-a-fence-in-a-meadow  \n",
       "4  https://www.artic.edu/artworks/81/lame-beggar-asking-for-alms-from-t-is-al-verwart-gaern-it-s-already-confusing  "
      ]
     },
     "execution_count": 20,
     "metadata": {},
     "output_type": "execute_result"
    }
   ],
   "source": [
    "df.head()"
   ]
  },
  {
   "cell_type": "markdown",
   "id": "39227737",
   "metadata": {
    "papermill": {
     "duration": 0.023918,
     "end_time": "2024-02-26T14:23:24.912316",
     "exception": false,
     "start_time": "2024-02-26T14:23:24.888398",
     "status": "completed"
    },
    "tags": []
   },
   "source": [
    "## **Function to view shape**"
   ]
  },
  {
   "cell_type": "code",
   "execution_count": 21,
   "id": "19636fe1",
   "metadata": {
    "execution": {
     "iopub.execute_input": "2024-02-26T14:23:24.962208Z",
     "iopub.status.busy": "2024-02-26T14:23:24.961744Z",
     "iopub.status.idle": "2024-02-26T14:23:24.966625Z",
     "shell.execute_reply": "2024-02-26T14:23:24.965510Z"
    },
    "papermill": {
     "duration": 0.032926,
     "end_time": "2024-02-26T14:23:24.969341",
     "exception": false,
     "start_time": "2024-02-26T14:23:24.936415",
     "status": "completed"
    },
    "tags": []
   },
   "outputs": [],
   "source": [
    "def df_shape(df):\n",
    "  print(f'Number of rows: {df.shape[0]}')\n",
    "  print(f'Number of columns: {df.shape[1]}')"
   ]
  },
  {
   "cell_type": "markdown",
   "id": "44309b7c",
   "metadata": {
    "papermill": {
     "duration": 0.023708,
     "end_time": "2024-02-26T14:23:25.017522",
     "exception": false,
     "start_time": "2024-02-26T14:23:24.993814",
     "status": "completed"
    },
    "tags": []
   },
   "source": [
    "## **Viewing dataframe shape**"
   ]
  },
  {
   "cell_type": "code",
   "execution_count": 22,
   "id": "bb98c40c",
   "metadata": {
    "execution": {
     "iopub.execute_input": "2024-02-26T14:23:25.067173Z",
     "iopub.status.busy": "2024-02-26T14:23:25.066736Z",
     "iopub.status.idle": "2024-02-26T14:23:25.072000Z",
     "shell.execute_reply": "2024-02-26T14:23:25.070958Z"
    },
    "papermill": {
     "duration": 0.034245,
     "end_time": "2024-02-26T14:23:25.075836",
     "exception": false,
     "start_time": "2024-02-26T14:23:25.041591",
     "status": "completed"
    },
    "tags": []
   },
   "outputs": [
    {
     "name": "stdout",
     "output_type": "stream",
     "text": [
      "Number of rows: 8421\n",
      "Number of columns: 6\n"
     ]
    }
   ],
   "source": [
    "df_shape(df)"
   ]
  },
  {
   "cell_type": "markdown",
   "id": "e8478692",
   "metadata": {
    "papermill": {
     "duration": 0.023705,
     "end_time": "2024-02-26T14:23:25.123664",
     "exception": false,
     "start_time": "2024-02-26T14:23:25.099959",
     "status": "completed"
    },
    "tags": []
   },
   "source": [
    "## **Checking NaN values**"
   ]
  },
  {
   "cell_type": "code",
   "execution_count": 23,
   "id": "ce0359ad",
   "metadata": {
    "execution": {
     "iopub.execute_input": "2024-02-26T14:23:25.173784Z",
     "iopub.status.busy": "2024-02-26T14:23:25.173385Z",
     "iopub.status.idle": "2024-02-26T14:23:25.187924Z",
     "shell.execute_reply": "2024-02-26T14:23:25.186890Z"
    },
    "papermill": {
     "duration": 0.042224,
     "end_time": "2024-02-26T14:23:25.190220",
     "exception": false,
     "start_time": "2024-02-26T14:23:25.147996",
     "status": "completed"
    },
    "tags": []
   },
   "outputs": [
    {
     "data": {
      "text/plain": [
       "ids                0\n",
       "artists         2946\n",
       "mediums           71\n",
       "titles             3\n",
       "descriptions    7049\n",
       "urls               0\n",
       "dtype: int64"
      ]
     },
     "execution_count": 23,
     "metadata": {},
     "output_type": "execute_result"
    }
   ],
   "source": [
    "df.isna().sum()"
   ]
  },
  {
   "cell_type": "markdown",
   "id": "b4c0a1d2",
   "metadata": {
    "papermill": {
     "duration": 0.024434,
     "end_time": "2024-02-26T14:23:25.239195",
     "exception": false,
     "start_time": "2024-02-26T14:23:25.214761",
     "status": "completed"
    },
    "tags": []
   },
   "source": [
    "## **Fetching working image ids** "
   ]
  },
  {
   "cell_type": "code",
   "execution_count": 24,
   "id": "05417fcd",
   "metadata": {
    "execution": {
     "iopub.execute_input": "2024-02-26T14:23:25.290387Z",
     "iopub.status.busy": "2024-02-26T14:23:25.289987Z",
     "iopub.status.idle": "2024-02-26T14:23:25.490074Z",
     "shell.execute_reply": "2024-02-26T14:23:25.488948Z"
    },
    "papermill": {
     "duration": 0.229617,
     "end_time": "2024-02-26T14:23:25.493215",
     "exception": false,
     "start_time": "2024-02-26T14:23:25.263598",
     "status": "completed"
    },
    "tags": []
   },
   "outputs": [
    {
     "data": {
      "text/plain": [
       "8460"
      ]
     },
     "execution_count": 24,
     "metadata": {},
     "output_type": "execute_result"
    }
   ],
   "source": [
    "img_ids = []\n",
    "\n",
    "for folder in img_folders:\n",
    "  temp = [str(path).split(\"/\")[3].split(\".\")[0] for path in get_image_files_sorted(f\"{images_path}{folder}/\")]\n",
    "  img_ids.extend(temp)\n",
    "len(img_ids)"
   ]
  },
  {
   "cell_type": "markdown",
   "id": "ca3eb977",
   "metadata": {
    "papermill": {
     "duration": 0.024774,
     "end_time": "2024-02-26T14:23:25.542850",
     "exception": false,
     "start_time": "2024-02-26T14:23:25.518076",
     "status": "completed"
    },
    "tags": []
   },
   "source": [
    "## **Fetching corrupted image ids**"
   ]
  },
  {
   "cell_type": "code",
   "execution_count": 25,
   "id": "7dc3b061",
   "metadata": {
    "execution": {
     "iopub.execute_input": "2024-02-26T14:23:25.595598Z",
     "iopub.status.busy": "2024-02-26T14:23:25.594551Z",
     "iopub.status.idle": "2024-02-26T14:23:26.618221Z",
     "shell.execute_reply": "2024-02-26T14:23:26.617103Z"
    },
    "papermill": {
     "duration": 1.053156,
     "end_time": "2024-02-26T14:23:26.621072",
     "exception": false,
     "start_time": "2024-02-26T14:23:25.567916",
     "status": "completed"
    },
    "tags": []
   },
   "outputs": [
    {
     "data": {
      "text/plain": [
       "143"
      ]
     },
     "execution_count": 25,
     "metadata": {},
     "output_type": "execute_result"
    }
   ],
   "source": [
    "corrupted_image_indices_to_drop = [index for index in range(len(df)) if df.iloc[index]['ids'] not in img_ids]\n",
    "len(corrupted_image_indices_to_drop)"
   ]
  },
  {
   "cell_type": "markdown",
   "id": "db5d018f",
   "metadata": {
    "papermill": {
     "duration": 0.025838,
     "end_time": "2024-02-26T14:23:26.671690",
     "exception": false,
     "start_time": "2024-02-26T14:23:26.645852",
     "status": "completed"
    },
    "tags": []
   },
   "source": [
    "## **Removing corrupted image rows** "
   ]
  },
  {
   "cell_type": "code",
   "execution_count": 26,
   "id": "4acc3b6d",
   "metadata": {
    "execution": {
     "iopub.execute_input": "2024-02-26T14:23:26.724618Z",
     "iopub.status.busy": "2024-02-26T14:23:26.724216Z",
     "iopub.status.idle": "2024-02-26T14:23:26.733710Z",
     "shell.execute_reply": "2024-02-26T14:23:26.732789Z"
    },
    "papermill": {
     "duration": 0.038788,
     "end_time": "2024-02-26T14:23:26.736299",
     "exception": false,
     "start_time": "2024-02-26T14:23:26.697511",
     "status": "completed"
    },
    "tags": []
   },
   "outputs": [],
   "source": [
    "df = df.drop(corrupted_image_indices_to_drop).reset_index(drop=True)"
   ]
  },
  {
   "cell_type": "markdown",
   "id": "fb6f09b4",
   "metadata": {
    "papermill": {
     "duration": 0.024068,
     "end_time": "2024-02-26T14:23:26.785163",
     "exception": false,
     "start_time": "2024-02-26T14:23:26.761095",
     "status": "completed"
    },
    "tags": []
   },
   "source": [
    "## **Images root path**"
   ]
  },
  {
   "cell_type": "code",
   "execution_count": 27,
   "id": "9d2198d6",
   "metadata": {
    "execution": {
     "iopub.execute_input": "2024-02-26T14:23:26.836062Z",
     "iopub.status.busy": "2024-02-26T14:23:26.835568Z",
     "iopub.status.idle": "2024-02-26T14:23:26.840753Z",
     "shell.execute_reply": "2024-02-26T14:23:26.839640Z"
    },
    "papermill": {
     "duration": 0.033474,
     "end_time": "2024-02-26T14:23:26.843076",
     "exception": false,
     "start_time": "2024-02-26T14:23:26.809602",
     "status": "completed"
    },
    "tags": []
   },
   "outputs": [],
   "source": [
    "images_root_path = \"/kaggle/working/images/\""
   ]
  },
  {
   "cell_type": "markdown",
   "id": "1d756910",
   "metadata": {
    "papermill": {
     "duration": 0.026097,
     "end_time": "2024-02-26T14:23:26.894687",
     "exception": false,
     "start_time": "2024-02-26T14:23:26.868590",
     "status": "completed"
    },
    "tags": []
   },
   "source": [
    "## **Mapping abbreviations with root folder**"
   ]
  },
  {
   "cell_type": "code",
   "execution_count": 28,
   "id": "d73ed0ac",
   "metadata": {
    "execution": {
     "iopub.execute_input": "2024-02-26T14:23:26.945783Z",
     "iopub.status.busy": "2024-02-26T14:23:26.945387Z",
     "iopub.status.idle": "2024-02-26T14:23:26.949431Z",
     "shell.execute_reply": "2024-02-26T14:23:26.948684Z"
    },
    "papermill": {
     "duration": 0.032197,
     "end_time": "2024-02-26T14:23:26.951530",
     "exception": false,
     "start_time": "2024-02-26T14:23:26.919333",
     "status": "completed"
    },
    "tags": []
   },
   "outputs": [],
   "source": [
    "path_dict = {\n",
    "    'usa' : 'UnitedStates',\n",
    "    'nl' : 'Netherlands',\n",
    "    'ch' : 'China'\n",
    "}"
   ]
  },
  {
   "cell_type": "markdown",
   "id": "67265f74",
   "metadata": {
    "papermill": {
     "duration": 0.024239,
     "end_time": "2024-02-26T14:23:27.000259",
     "exception": false,
     "start_time": "2024-02-26T14:23:26.976020",
     "status": "completed"
    },
    "tags": []
   },
   "source": [
    "## **Listing image paths**"
   ]
  },
  {
   "cell_type": "code",
   "execution_count": 29,
   "id": "9985b4fa",
   "metadata": {
    "execution": {
     "iopub.execute_input": "2024-02-26T14:23:27.051537Z",
     "iopub.status.busy": "2024-02-26T14:23:27.050494Z",
     "iopub.status.idle": "2024-02-26T14:23:28.066365Z",
     "shell.execute_reply": "2024-02-26T14:23:28.065203Z"
    },
    "papermill": {
     "duration": 1.044347,
     "end_time": "2024-02-26T14:23:28.068977",
     "exception": false,
     "start_time": "2024-02-26T14:23:27.024630",
     "status": "completed"
    },
    "tags": []
   },
   "outputs": [
    {
     "data": {
      "text/plain": [
       "['/kaggle/working/images/Netherlands/Netherlands/nl_1.jpg',\n",
       " '/kaggle/working/images/Netherlands/Netherlands/nl_2.jpg',\n",
       " '/kaggle/working/images/Netherlands/Netherlands/nl_3.jpg',\n",
       " '/kaggle/working/images/Netherlands/Netherlands/nl_4.jpg',\n",
       " '/kaggle/working/images/Netherlands/Netherlands/nl_5.jpg']"
      ]
     },
     "execution_count": 29,
     "metadata": {},
     "output_type": "execute_result"
    }
   ],
   "source": [
    "image_paths = [ f\"{images_root_path}{path_dict[df.iloc[i]['ids'].split('_')[0]]}/{path_dict[df.iloc[i]['ids'].split('_')[0]]}/{df.iloc[i]['ids']}.jpg\" for i in range(len(df))]\n",
    "image_paths[:5]"
   ]
  },
  {
   "cell_type": "markdown",
   "id": "45ba2a41",
   "metadata": {
    "papermill": {
     "duration": 0.024151,
     "end_time": "2024-02-26T14:23:28.117751",
     "exception": false,
     "start_time": "2024-02-26T14:23:28.093600",
     "status": "completed"
    },
    "tags": []
   },
   "source": [
    "## **New column with image paths**"
   ]
  },
  {
   "cell_type": "code",
   "execution_count": 30,
   "id": "3b8c88a1",
   "metadata": {
    "execution": {
     "iopub.execute_input": "2024-02-26T14:23:28.169379Z",
     "iopub.status.busy": "2024-02-26T14:23:28.168344Z",
     "iopub.status.idle": "2024-02-26T14:23:28.175743Z",
     "shell.execute_reply": "2024-02-26T14:23:28.174945Z"
    },
    "papermill": {
     "duration": 0.035745,
     "end_time": "2024-02-26T14:23:28.178093",
     "exception": false,
     "start_time": "2024-02-26T14:23:28.142348",
     "status": "completed"
    },
    "tags": []
   },
   "outputs": [],
   "source": [
    "df['images_path'] = image_paths"
   ]
  },
  {
   "cell_type": "markdown",
   "id": "0da0ddd9",
   "metadata": {
    "papermill": {
     "duration": 0.024048,
     "end_time": "2024-02-26T14:23:28.226781",
     "exception": false,
     "start_time": "2024-02-26T14:23:28.202733",
     "status": "completed"
    },
    "tags": []
   },
   "source": [
    "## **Creating a title count dictionary if multiple same title exists** "
   ]
  },
  {
   "cell_type": "code",
   "execution_count": 31,
   "id": "8a74b9b0",
   "metadata": {
    "execution": {
     "iopub.execute_input": "2024-02-26T14:23:28.278488Z",
     "iopub.status.busy": "2024-02-26T14:23:28.277714Z",
     "iopub.status.idle": "2024-02-26T14:23:28.295083Z",
     "shell.execute_reply": "2024-02-26T14:23:28.293738Z"
    },
    "papermill": {
     "duration": 0.046409,
     "end_time": "2024-02-26T14:23:28.297983",
     "exception": false,
     "start_time": "2024-02-26T14:23:28.251574",
     "status": "completed"
    },
    "tags": []
   },
   "outputs": [],
   "source": [
    "titles_dict = df['titles'].value_counts().to_dict()"
   ]
  },
  {
   "cell_type": "markdown",
   "id": "3402c77a",
   "metadata": {
    "papermill": {
     "duration": 0.024922,
     "end_time": "2024-02-26T14:23:28.347660",
     "exception": false,
     "start_time": "2024-02-26T14:23:28.322738",
     "status": "completed"
    },
    "tags": []
   },
   "source": [
    "## **Mapping title with multiple counts**"
   ]
  },
  {
   "cell_type": "code",
   "execution_count": 32,
   "id": "f2775ad5",
   "metadata": {
    "execution": {
     "iopub.execute_input": "2024-02-26T14:23:28.398804Z",
     "iopub.status.busy": "2024-02-26T14:23:28.398382Z",
     "iopub.status.idle": "2024-02-26T14:23:28.404427Z",
     "shell.execute_reply": "2024-02-26T14:23:28.403441Z"
    },
    "papermill": {
     "duration": 0.034531,
     "end_time": "2024-02-26T14:23:28.406706",
     "exception": false,
     "start_time": "2024-02-26T14:23:28.372175",
     "status": "completed"
    },
    "tags": []
   },
   "outputs": [],
   "source": [
    "multiple_same_titles = {key: 0 for key, value in titles_dict.items() if value > 1}"
   ]
  },
  {
   "cell_type": "markdown",
   "id": "a70b6d81",
   "metadata": {
    "papermill": {
     "duration": 0.024278,
     "end_time": "2024-02-26T14:23:28.456186",
     "exception": false,
     "start_time": "2024-02-26T14:23:28.431908",
     "status": "completed"
    },
    "tags": []
   },
   "source": [
    "## **Keeping one value removing rows having titles with same values** "
   ]
  },
  {
   "cell_type": "code",
   "execution_count": 33,
   "id": "fe87ea8c",
   "metadata": {
    "execution": {
     "iopub.execute_input": "2024-02-26T14:23:28.507986Z",
     "iopub.status.busy": "2024-02-26T14:23:28.507179Z",
     "iopub.status.idle": "2024-02-26T14:23:29.663888Z",
     "shell.execute_reply": "2024-02-26T14:23:29.662372Z"
    },
    "papermill": {
     "duration": 1.185982,
     "end_time": "2024-02-26T14:23:29.666799",
     "exception": false,
     "start_time": "2024-02-26T14:23:28.480817",
     "status": "completed"
    },
    "tags": []
   },
   "outputs": [
    {
     "data": {
      "text/plain": [
       "2129"
      ]
     },
     "execution_count": 33,
     "metadata": {},
     "output_type": "execute_result"
    }
   ],
   "source": [
    "indices_to_drop = []\n",
    "\n",
    "for i in range(len(df)):\n",
    "  if df.iloc[i]['titles'] in multiple_same_titles.keys() and multiple_same_titles[df.iloc[i]['titles']] == 0:\n",
    "    multiple_same_titles[df.iloc[i]['titles']] = 1\n",
    "  elif df.iloc[i]['titles'] in multiple_same_titles.keys() and multiple_same_titles[df.iloc[i]['titles']] == 1:\n",
    "    indices_to_drop.append(i)\n",
    "\n",
    "len(indices_to_drop)"
   ]
  },
  {
   "cell_type": "markdown",
   "id": "d6e42cf7",
   "metadata": {
    "papermill": {
     "duration": 0.02605,
     "end_time": "2024-02-26T14:23:29.722385",
     "exception": false,
     "start_time": "2024-02-26T14:23:29.696335",
     "status": "completed"
    },
    "tags": []
   },
   "source": [
    "## **Removing indices**"
   ]
  },
  {
   "cell_type": "code",
   "execution_count": 34,
   "id": "505b4327",
   "metadata": {
    "execution": {
     "iopub.execute_input": "2024-02-26T14:23:29.774161Z",
     "iopub.status.busy": "2024-02-26T14:23:29.773714Z",
     "iopub.status.idle": "2024-02-26T14:23:29.785249Z",
     "shell.execute_reply": "2024-02-26T14:23:29.784171Z"
    },
    "papermill": {
     "duration": 0.040633,
     "end_time": "2024-02-26T14:23:29.787779",
     "exception": false,
     "start_time": "2024-02-26T14:23:29.747146",
     "status": "completed"
    },
    "tags": []
   },
   "outputs": [],
   "source": [
    "df = df.drop(indices_to_drop).reset_index(drop=True)"
   ]
  },
  {
   "cell_type": "markdown",
   "id": "792c1bb6",
   "metadata": {
    "papermill": {
     "duration": 0.024902,
     "end_time": "2024-02-26T14:23:29.838109",
     "exception": false,
     "start_time": "2024-02-26T14:23:29.813207",
     "status": "completed"
    },
    "tags": []
   },
   "source": [
    "## **Deleting redundant columns for workings**"
   ]
  },
  {
   "cell_type": "code",
   "execution_count": 35,
   "id": "245ab498",
   "metadata": {
    "execution": {
     "iopub.execute_input": "2024-02-26T14:23:29.891777Z",
     "iopub.status.busy": "2024-02-26T14:23:29.891358Z",
     "iopub.status.idle": "2024-02-26T14:23:29.900891Z",
     "shell.execute_reply": "2024-02-26T14:23:29.899483Z"
    },
    "papermill": {
     "duration": 0.040012,
     "end_time": "2024-02-26T14:23:29.903542",
     "exception": false,
     "start_time": "2024-02-26T14:23:29.863530",
     "status": "completed"
    },
    "tags": []
   },
   "outputs": [],
   "source": [
    "df = df.drop(columns=['ids', 'artists', 'mediums', 'descriptions', 'urls'], axis=1)"
   ]
  },
  {
   "cell_type": "markdown",
   "id": "40b01f5d",
   "metadata": {
    "papermill": {
     "duration": 0.024835,
     "end_time": "2024-02-26T14:23:29.954238",
     "exception": false,
     "start_time": "2024-02-26T14:23:29.929403",
     "status": "completed"
    },
    "tags": []
   },
   "source": [
    "## **Cheking if NaN value exists in the final data**"
   ]
  },
  {
   "cell_type": "code",
   "execution_count": 36,
   "id": "8f1f62b1",
   "metadata": {
    "execution": {
     "iopub.execute_input": "2024-02-26T14:23:30.007870Z",
     "iopub.status.busy": "2024-02-26T14:23:30.006702Z",
     "iopub.status.idle": "2024-02-26T14:23:30.017749Z",
     "shell.execute_reply": "2024-02-26T14:23:30.016816Z"
    },
    "papermill": {
     "duration": 0.040423,
     "end_time": "2024-02-26T14:23:30.020174",
     "exception": false,
     "start_time": "2024-02-26T14:23:29.979751",
     "status": "completed"
    },
    "tags": []
   },
   "outputs": [
    {
     "data": {
      "text/plain": [
       "titles         3\n",
       "images_path    0\n",
       "dtype: int64"
      ]
     },
     "execution_count": 36,
     "metadata": {},
     "output_type": "execute_result"
    }
   ],
   "source": [
    "df.isna().sum()"
   ]
  },
  {
   "cell_type": "markdown",
   "id": "5626782f",
   "metadata": {
    "papermill": {
     "duration": 0.024772,
     "end_time": "2024-02-26T14:23:30.070120",
     "exception": false,
     "start_time": "2024-02-26T14:23:30.045348",
     "status": "completed"
    },
    "tags": []
   },
   "source": [
    "## **Dropping NaN value rows**"
   ]
  },
  {
   "cell_type": "code",
   "execution_count": 37,
   "id": "36c5854e",
   "metadata": {
    "execution": {
     "iopub.execute_input": "2024-02-26T14:23:30.123132Z",
     "iopub.status.busy": "2024-02-26T14:23:30.122058Z",
     "iopub.status.idle": "2024-02-26T14:23:30.131297Z",
     "shell.execute_reply": "2024-02-26T14:23:30.130131Z"
    },
    "papermill": {
     "duration": 0.038751,
     "end_time": "2024-02-26T14:23:30.134278",
     "exception": false,
     "start_time": "2024-02-26T14:23:30.095527",
     "status": "completed"
    },
    "tags": []
   },
   "outputs": [],
   "source": [
    "df = df.dropna().reset_index(drop=True)"
   ]
  },
  {
   "cell_type": "markdown",
   "id": "d7712254",
   "metadata": {
    "papermill": {
     "duration": 0.024489,
     "end_time": "2024-02-26T14:23:30.184451",
     "exception": false,
     "start_time": "2024-02-26T14:23:30.159962",
     "status": "completed"
    },
    "tags": []
   },
   "source": [
    "## **Checking final dataframe shape**"
   ]
  },
  {
   "cell_type": "code",
   "execution_count": 38,
   "id": "7aa9feaa",
   "metadata": {
    "execution": {
     "iopub.execute_input": "2024-02-26T14:23:30.235827Z",
     "iopub.status.busy": "2024-02-26T14:23:30.235386Z",
     "iopub.status.idle": "2024-02-26T14:23:30.241399Z",
     "shell.execute_reply": "2024-02-26T14:23:30.240208Z"
    },
    "papermill": {
     "duration": 0.034849,
     "end_time": "2024-02-26T14:23:30.244067",
     "exception": false,
     "start_time": "2024-02-26T14:23:30.209218",
     "status": "completed"
    },
    "tags": []
   },
   "outputs": [
    {
     "name": "stdout",
     "output_type": "stream",
     "text": [
      "Number of rows: 6146\n",
      "Number of columns: 2\n"
     ]
    }
   ],
   "source": [
    "df_shape(df)"
   ]
  },
  {
   "cell_type": "markdown",
   "id": "dc4f4bf1",
   "metadata": {
    "papermill": {
     "duration": 0.025206,
     "end_time": "2024-02-26T14:23:30.294825",
     "exception": false,
     "start_time": "2024-02-26T14:23:30.269619",
     "status": "completed"
    },
    "tags": []
   },
   "source": [
    "## **Viewing final dataframe**"
   ]
  },
  {
   "cell_type": "code",
   "execution_count": 39,
   "id": "baa56c5e",
   "metadata": {
    "execution": {
     "iopub.execute_input": "2024-02-26T14:23:30.348525Z",
     "iopub.status.busy": "2024-02-26T14:23:30.348116Z",
     "iopub.status.idle": "2024-02-26T14:23:30.359212Z",
     "shell.execute_reply": "2024-02-26T14:23:30.358196Z"
    },
    "papermill": {
     "duration": 0.040404,
     "end_time": "2024-02-26T14:23:30.361524",
     "exception": false,
     "start_time": "2024-02-26T14:23:30.321120",
     "status": "completed"
    },
    "tags": []
   },
   "outputs": [
    {
     "data": {
      "text/html": [
       "<div>\n",
       "<style scoped>\n",
       "    .dataframe tbody tr th:only-of-type {\n",
       "        vertical-align: middle;\n",
       "    }\n",
       "\n",
       "    .dataframe tbody tr th {\n",
       "        vertical-align: top;\n",
       "    }\n",
       "\n",
       "    .dataframe thead th {\n",
       "        text-align: right;\n",
       "    }\n",
       "</style>\n",
       "<table border=\"1\" class=\"dataframe\">\n",
       "  <thead>\n",
       "    <tr style=\"text-align: right;\">\n",
       "      <th></th>\n",
       "      <th>titles</th>\n",
       "      <th>images_path</th>\n",
       "    </tr>\n",
       "  </thead>\n",
       "  <tbody>\n",
       "    <tr>\n",
       "      <th>0</th>\n",
       "      <td>Lozenge Composition with Yellow, Black, Blue, Red, and Gray</td>\n",
       "      <td>/kaggle/working/images/Netherlands/Netherlands/nl_1.jpg</td>\n",
       "    </tr>\n",
       "    <tr>\n",
       "      <th>1</th>\n",
       "      <td>Judith</td>\n",
       "      <td>/kaggle/working/images/Netherlands/Netherlands/nl_2.jpg</td>\n",
       "    </tr>\n",
       "    <tr>\n",
       "      <th>2</th>\n",
       "      <td>The Battle between the Gods and the Giants</td>\n",
       "      <td>/kaggle/working/images/Netherlands/Netherlands/nl_3.jpg</td>\n",
       "    </tr>\n",
       "    <tr>\n",
       "      <th>3</th>\n",
       "      <td>Two Cows and a Young Bull beside a Fence in a Meadow</td>\n",
       "      <td>/kaggle/working/images/Netherlands/Netherlands/nl_4.jpg</td>\n",
       "    </tr>\n",
       "    <tr>\n",
       "      <th>4</th>\n",
       "      <td>Lame Beggar Asking for Alms, from T is al verwart-gaern (It’s already confusing)</td>\n",
       "      <td>/kaggle/working/images/Netherlands/Netherlands/nl_5.jpg</td>\n",
       "    </tr>\n",
       "  </tbody>\n",
       "</table>\n",
       "</div>"
      ],
      "text/plain": [
       "                                                                             titles  \\\n",
       "0                       Lozenge Composition with Yellow, Black, Blue, Red, and Gray   \n",
       "1                                                                            Judith   \n",
       "2                                        The Battle between the Gods and the Giants   \n",
       "3                              Two Cows and a Young Bull beside a Fence in a Meadow   \n",
       "4  Lame Beggar Asking for Alms, from T is al verwart-gaern (It’s already confusing)   \n",
       "\n",
       "                                               images_path  \n",
       "0  /kaggle/working/images/Netherlands/Netherlands/nl_1.jpg  \n",
       "1  /kaggle/working/images/Netherlands/Netherlands/nl_2.jpg  \n",
       "2  /kaggle/working/images/Netherlands/Netherlands/nl_3.jpg  \n",
       "3  /kaggle/working/images/Netherlands/Netherlands/nl_4.jpg  \n",
       "4  /kaggle/working/images/Netherlands/Netherlands/nl_5.jpg  "
      ]
     },
     "execution_count": 39,
     "metadata": {},
     "output_type": "execute_result"
    }
   ],
   "source": [
    "df.head()"
   ]
  },
  {
   "cell_type": "markdown",
   "id": "28557b00",
   "metadata": {
    "papermill": {
     "duration": 0.026715,
     "end_time": "2024-02-26T14:23:30.414043",
     "exception": false,
     "start_time": "2024-02-26T14:23:30.387328",
     "status": "completed"
    },
    "tags": []
   },
   "source": [
    "## **Exporting to final .csv file**"
   ]
  },
  {
   "cell_type": "code",
   "execution_count": 40,
   "id": "ee5f0501",
   "metadata": {
    "execution": {
     "iopub.execute_input": "2024-02-26T14:23:30.468048Z",
     "iopub.status.busy": "2024-02-26T14:23:30.467211Z",
     "iopub.status.idle": "2024-02-26T14:23:30.508555Z",
     "shell.execute_reply": "2024-02-26T14:23:30.507368Z"
    },
    "papermill": {
     "duration": 0.072,
     "end_time": "2024-02-26T14:23:30.511634",
     "exception": false,
     "start_time": "2024-02-26T14:23:30.439634",
     "status": "completed"
    },
    "tags": []
   },
   "outputs": [],
   "source": [
    "df.to_csv('artwork_title_generator_data.csv', index = False)"
   ]
  }
 ],
 "metadata": {
  "kaggle": {
   "accelerator": "none",
   "dataSources": [
    {
     "databundleVersionId": 7804055,
     "datasetId": 4491410,
     "sourceId": 7705409,
     "sourceType": "datasetVersion"
    }
   ],
   "dockerImageVersionId": 30646,
   "isGpuEnabled": false,
   "isInternetEnabled": true,
   "language": "python",
   "sourceType": "notebook"
  },
  "kernelspec": {
   "display_name": "Python 3",
   "language": "python",
   "name": "python3"
  },
  "language_info": {
   "codemirror_mode": {
    "name": "ipython",
    "version": 3
   },
   "file_extension": ".py",
   "mimetype": "text/x-python",
   "name": "python",
   "nbconvert_exporter": "python",
   "pygments_lexer": "ipython3",
   "version": "3.10.13"
  },
  "papermill": {
   "default_parameters": {},
   "duration": 240.452932,
   "end_time": "2024-02-26T14:23:32.882723",
   "environment_variables": {},
   "exception": null,
   "input_path": "__notebook__.ipynb",
   "output_path": "__notebook__.ipynb",
   "parameters": {},
   "start_time": "2024-02-26T14:19:32.429791",
   "version": "2.5.0"
  }
 },
 "nbformat": 4,
 "nbformat_minor": 5
}
