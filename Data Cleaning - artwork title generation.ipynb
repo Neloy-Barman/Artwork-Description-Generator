{
 "cells": [
  {
   "cell_type": "markdown",
   "id": "4cd28aec",
   "metadata": {
    "papermill": {
     "duration": 0.013567,
     "end_time": "2024-03-07T06:14:50.348193",
     "exception": false,
     "start_time": "2024-03-07T06:14:50.334626",
     "status": "completed"
    },
    "tags": []
   },
   "source": [
    "## **Required Installation**"
   ]
  },
  {
   "cell_type": "code",
   "execution_count": 1,
   "id": "40762179",
   "metadata": {
    "_cell_guid": "b1076dfc-b9ad-4769-8c92-a6c4dae69d19",
    "_uuid": "8f2839f25d086af736a60e9eeb907d3b93b6e0e5",
    "execution": {
     "iopub.execute_input": "2024-03-07T06:14:50.377039Z",
     "iopub.status.busy": "2024-03-07T06:14:50.376352Z",
     "iopub.status.idle": "2024-03-07T06:15:06.167781Z",
     "shell.execute_reply": "2024-03-07T06:15:06.166444Z"
    },
    "papermill": {
     "duration": 15.809073,
     "end_time": "2024-03-07T06:15:06.170575",
     "exception": false,
     "start_time": "2024-03-07T06:14:50.361502",
     "status": "completed"
    },
    "tags": []
   },
   "outputs": [],
   "source": [
    "!pip install -q fastai fastbook nbdev transformers"
   ]
  },
  {
   "cell_type": "markdown",
   "id": "e89b6b75",
   "metadata": {
    "papermill": {
     "duration": 0.014149,
     "end_time": "2024-03-07T06:15:06.201003",
     "exception": false,
     "start_time": "2024-03-07T06:15:06.186854",
     "status": "completed"
    },
    "tags": []
   },
   "source": [
    "## **Necessary packages**"
   ]
  },
  {
   "cell_type": "code",
   "execution_count": 2,
   "id": "27d6a7e7",
   "metadata": {
    "execution": {
     "iopub.execute_input": "2024-03-07T06:15:06.231492Z",
     "iopub.status.busy": "2024-03-07T06:15:06.231076Z",
     "iopub.status.idle": "2024-03-07T06:15:18.737379Z",
     "shell.execute_reply": "2024-03-07T06:15:18.735961Z"
    },
    "papermill": {
     "duration": 12.524336,
     "end_time": "2024-03-07T06:15:18.739958",
     "exception": false,
     "start_time": "2024-03-07T06:15:06.215622",
     "status": "completed"
    },
    "tags": []
   },
   "outputs": [],
   "source": [
    "import os\n",
    "import numpy as np\n",
    "import pandas as pd\n",
    "from fastai import *\n",
    "from PIL import Image\n",
    "from fastbook import *\n",
    "from fastai.vision.all import *\n",
    "import matplotlib.pyplot as plt\n",
    "from distutils.dir_util import copy_tree"
   ]
  },
  {
   "cell_type": "markdown",
   "id": "b5c30ffb",
   "metadata": {
    "papermill": {
     "duration": 0.012676,
     "end_time": "2024-03-07T06:15:18.766317",
     "exception": false,
     "start_time": "2024-03-07T06:15:18.753641",
     "status": "completed"
    },
    "tags": []
   },
   "source": [
    "## **Initial directory**"
   ]
  },
  {
   "cell_type": "code",
   "execution_count": 3,
   "id": "85f20487",
   "metadata": {
    "execution": {
     "iopub.execute_input": "2024-03-07T06:15:18.795293Z",
     "iopub.status.busy": "2024-03-07T06:15:18.794881Z",
     "iopub.status.idle": "2024-03-07T06:15:18.802492Z",
     "shell.execute_reply": "2024-03-07T06:15:18.801732Z"
    },
    "papermill": {
     "duration": 0.025428,
     "end_time": "2024-03-07T06:15:18.804508",
     "exception": false,
     "start_time": "2024-03-07T06:15:18.779080",
     "status": "completed"
    },
    "tags": []
   },
   "outputs": [
    {
     "name": "stdout",
     "output_type": "stream",
     "text": [
      "/kaggle/input/artwork-title-generator\n"
     ]
    }
   ],
   "source": [
    "%cd /kaggle/input/artwork-title-generator"
   ]
  },
  {
   "cell_type": "markdown",
   "id": "0b3816fa",
   "metadata": {
    "papermill": {
     "duration": 0.0131,
     "end_time": "2024-03-07T06:15:18.831350",
     "exception": false,
     "start_time": "2024-03-07T06:15:18.818250",
     "status": "completed"
    },
    "tags": []
   },
   "source": [
    "## **Fetching sub-folders**"
   ]
  },
  {
   "cell_type": "code",
   "execution_count": 4,
   "id": "4964872a",
   "metadata": {
    "execution": {
     "iopub.execute_input": "2024-03-07T06:15:18.861673Z",
     "iopub.status.busy": "2024-03-07T06:15:18.859322Z",
     "iopub.status.idle": "2024-03-07T06:15:18.873335Z",
     "shell.execute_reply": "2024-03-07T06:15:18.872608Z"
    },
    "papermill": {
     "duration": 0.031423,
     "end_time": "2024-03-07T06:15:18.875987",
     "exception": false,
     "start_time": "2024-03-07T06:15:18.844564",
     "status": "completed"
    },
    "tags": []
   },
   "outputs": [
    {
     "data": {
      "text/plain": [
       "['Italy',\n",
       " 'Japan',\n",
       " 'UnitedStates',\n",
       " 'France',\n",
       " 'Netherlands',\n",
       " 'China',\n",
       " 'Germany',\n",
       " 'England']"
      ]
     },
     "execution_count": 4,
     "metadata": {},
     "output_type": "execute_result"
    }
   ],
   "source": [
    "img_folders = os.listdir()\n",
    "img_folders.remove('csvFiles')\n",
    "img_folders.remove('artwork_title_generator_data.csv')\n",
    "img_folders"
   ]
  },
  {
   "cell_type": "markdown",
   "id": "91a082ec",
   "metadata": {
    "papermill": {
     "duration": 0.013444,
     "end_time": "2024-03-07T06:15:18.903528",
     "exception": false,
     "start_time": "2024-03-07T06:15:18.890084",
     "status": "completed"
    },
    "tags": []
   },
   "source": [
    "## **Copying files to the working directory**"
   ]
  },
  {
   "cell_type": "code",
   "execution_count": 5,
   "id": "e2791ef3",
   "metadata": {
    "execution": {
     "iopub.execute_input": "2024-03-07T06:15:18.933349Z",
     "iopub.status.busy": "2024-03-07T06:15:18.932687Z",
     "iopub.status.idle": "2024-03-07T06:20:04.893282Z",
     "shell.execute_reply": "2024-03-07T06:20:04.891395Z"
    },
    "papermill": {
     "duration": 285.980011,
     "end_time": "2024-03-07T06:20:04.897282",
     "exception": false,
     "start_time": "2024-03-07T06:15:18.917271",
     "status": "completed"
    },
    "tags": []
   },
   "outputs": [],
   "source": [
    "input_path = \"/kaggle/input/artwork-title-generator\"\n",
    "output_path = \"/kaggle/working/images/\"\n",
    "\n",
    "for folder in img_folders:\n",
    "    copy_tree(input_path+'/'+folder, output_path+folder)"
   ]
  },
  {
   "cell_type": "code",
   "execution_count": 6,
   "id": "c0bd9ef5",
   "metadata": {
    "execution": {
     "iopub.execute_input": "2024-03-07T06:20:04.929746Z",
     "iopub.status.busy": "2024-03-07T06:20:04.928946Z",
     "iopub.status.idle": "2024-03-07T06:20:05.100687Z",
     "shell.execute_reply": "2024-03-07T06:20:05.099554Z"
    },
    "papermill": {
     "duration": 0.190022,
     "end_time": "2024-03-07T06:20:05.102859",
     "exception": false,
     "start_time": "2024-03-07T06:20:04.912837",
     "status": "completed"
    },
    "tags": []
   },
   "outputs": [
    {
     "data": {
      "text/plain": [
       "['/kaggle/working/csvFiles/csvFiles/Italy.csv',\n",
       " '/kaggle/working/csvFiles/csvFiles/France.csv',\n",
       " '/kaggle/working/csvFiles/csvFiles/England.csv',\n",
       " '/kaggle/working/csvFiles/csvFiles/Japan.csv',\n",
       " '/kaggle/working/csvFiles/csvFiles/Netherlands.csv',\n",
       " '/kaggle/working/csvFiles/csvFiles/China.csv',\n",
       " '/kaggle/working/csvFiles/csvFiles/Germany.csv',\n",
       " '/kaggle/working/csvFiles/csvFiles/UnitedStates.csv']"
      ]
     },
     "execution_count": 6,
     "metadata": {},
     "output_type": "execute_result"
    }
   ],
   "source": [
    "input_path = \"/kaggle/input/artwork-title-generator/csvFiles\"\n",
    "output_path = \"/kaggle/working/csvFiles/\"\n",
    "\n",
    "copy_tree(input_path, output_path)"
   ]
  },
  {
   "cell_type": "markdown",
   "id": "4b4803bd",
   "metadata": {
    "papermill": {
     "duration": 0.015602,
     "end_time": "2024-03-07T06:20:05.132484",
     "exception": false,
     "start_time": "2024-03-07T06:20:05.116882",
     "status": "completed"
    },
    "tags": []
   },
   "source": [
    "## **Working directories initialization**"
   ]
  },
  {
   "cell_type": "code",
   "execution_count": 7,
   "id": "5a16b0dc",
   "metadata": {
    "execution": {
     "iopub.execute_input": "2024-03-07T06:20:05.164775Z",
     "iopub.status.busy": "2024-03-07T06:20:05.163650Z",
     "iopub.status.idle": "2024-03-07T06:20:05.175286Z",
     "shell.execute_reply": "2024-03-07T06:20:05.173383Z"
    },
    "papermill": {
     "duration": 0.030815,
     "end_time": "2024-03-07T06:20:05.178534",
     "exception": false,
     "start_time": "2024-03-07T06:20:05.147719",
     "status": "completed"
    },
    "tags": []
   },
   "outputs": [
    {
     "name": "stdout",
     "output_type": "stream",
     "text": [
      "/kaggle/working\n"
     ]
    }
   ],
   "source": [
    "%cd /kaggle/working/\n",
    "\n",
    "images_path = \"images/\"\n",
    "csv_path = \"csvFiles/csvFiles\""
   ]
  },
  {
   "cell_type": "markdown",
   "id": "16592dde",
   "metadata": {
    "papermill": {
     "duration": 0.017765,
     "end_time": "2024-03-07T06:20:05.211660",
     "exception": false,
     "start_time": "2024-03-07T06:20:05.193895",
     "status": "completed"
    },
    "tags": []
   },
   "source": [
    "## **Fetching sub-folders in the working directory**"
   ]
  },
  {
   "cell_type": "code",
   "execution_count": 8,
   "id": "c05a3b51",
   "metadata": {
    "execution": {
     "iopub.execute_input": "2024-03-07T06:20:05.251818Z",
     "iopub.status.busy": "2024-03-07T06:20:05.251435Z",
     "iopub.status.idle": "2024-03-07T06:20:05.262466Z",
     "shell.execute_reply": "2024-03-07T06:20:05.260916Z"
    },
    "papermill": {
     "duration": 0.031617,
     "end_time": "2024-03-07T06:20:05.264667",
     "exception": false,
     "start_time": "2024-03-07T06:20:05.233050",
     "status": "completed"
    },
    "tags": []
   },
   "outputs": [
    {
     "data": {
      "text/plain": [
       "['France',\n",
       " 'Netherlands',\n",
       " 'China',\n",
       " 'Japan',\n",
       " 'Italy',\n",
       " 'UnitedStates',\n",
       " 'Germany',\n",
       " 'England']"
      ]
     },
     "execution_count": 8,
     "metadata": {},
     "output_type": "execute_result"
    }
   ],
   "source": [
    "img_folders = os.listdir(images_path)\n",
    "img_folders"
   ]
  },
  {
   "cell_type": "markdown",
   "id": "67d2f572",
   "metadata": {
    "papermill": {
     "duration": 0.012863,
     "end_time": "2024-03-07T06:20:05.291511",
     "exception": false,
     "start_time": "2024-03-07T06:20:05.278648",
     "status": "completed"
    },
    "tags": []
   },
   "source": [
    "## **Function to view images distribution**"
   ]
  },
  {
   "cell_type": "code",
   "execution_count": 9,
   "id": "1facf3a6",
   "metadata": {
    "execution": {
     "iopub.execute_input": "2024-03-07T06:20:05.320221Z",
     "iopub.status.busy": "2024-03-07T06:20:05.319840Z",
     "iopub.status.idle": "2024-03-07T06:20:05.328140Z",
     "shell.execute_reply": "2024-03-07T06:20:05.326653Z"
    },
    "papermill": {
     "duration": 0.027022,
     "end_time": "2024-03-07T06:20:05.331795",
     "exception": false,
     "start_time": "2024-03-07T06:20:05.304773",
     "status": "completed"
    },
    "tags": []
   },
   "outputs": [],
   "source": [
    "def plot_images_distribution(dic):\n",
    "  labels = dic.keys()\n",
    "  number_of_images = list(dic.values())\n",
    "  range_y = [ i for i in range(0, 14000, 2000)]\n",
    "  plt.ylim(range_y[0], range_y[len(range_y)-1])\n",
    "  plt.bar(labels, number_of_images)\n",
    "  plt.xlabel('Labels')\n",
    "  plt.xticks(rotation=90)\n",
    "  plt.ylabel('Number of images')\n",
    "  plt.title('Images distribiution')\n",
    "    \n",
    "  for i in range(len(number_of_images)):\n",
    "    val = number_of_images[i]\n",
    "    plt.text(i, val+0.5, str(val), ha='center', va='bottom')\n",
    "\n",
    "  plt.show()"
   ]
  },
  {
   "cell_type": "markdown",
   "id": "b1cfa09b",
   "metadata": {
    "papermill": {
     "duration": 0.012909,
     "end_time": "2024-03-07T06:20:05.359794",
     "exception": false,
     "start_time": "2024-03-07T06:20:05.346885",
     "status": "completed"
    },
    "tags": []
   },
   "source": [
    "## **Number of images within folders**"
   ]
  },
  {
   "cell_type": "code",
   "execution_count": 10,
   "id": "9b87deb2",
   "metadata": {
    "execution": {
     "iopub.execute_input": "2024-03-07T06:20:05.388653Z",
     "iopub.status.busy": "2024-03-07T06:20:05.387327Z",
     "iopub.status.idle": "2024-03-07T06:20:05.393737Z",
     "shell.execute_reply": "2024-03-07T06:20:05.392829Z"
    },
    "papermill": {
     "duration": 0.022432,
     "end_time": "2024-03-07T06:20:05.395466",
     "exception": false,
     "start_time": "2024-03-07T06:20:05.373034",
     "status": "completed"
    },
    "tags": []
   },
   "outputs": [],
   "source": [
    "def img_numbers() -> dict: return { folder_name: len(get_image_files_sorted(images_path+'/'+folder_name)) for folder_name in img_folders}"
   ]
  },
  {
   "cell_type": "markdown",
   "id": "d89a1d9c",
   "metadata": {
    "papermill": {
     "duration": 0.013008,
     "end_time": "2024-03-07T06:20:05.494407",
     "exception": false,
     "start_time": "2024-03-07T06:20:05.481399",
     "status": "completed"
    },
    "tags": []
   },
   "source": [
    "## **Viewing initial images distribution**"
   ]
  },
  {
   "cell_type": "code",
   "execution_count": 11,
   "id": "634d4555",
   "metadata": {
    "execution": {
     "iopub.execute_input": "2024-03-07T06:20:05.523352Z",
     "iopub.status.busy": "2024-03-07T06:20:05.522864Z",
     "iopub.status.idle": "2024-03-07T06:20:06.421572Z",
     "shell.execute_reply": "2024-03-07T06:20:06.420199Z"
    },
    "papermill": {
     "duration": 0.916026,
     "end_time": "2024-03-07T06:20:06.423749",
     "exception": false,
     "start_time": "2024-03-07T06:20:05.507723",
     "status": "completed"
    },
    "tags": []
   },
   "outputs": [
    {
     "data": {
      "image/png": "[encoded data removed]",
      "text/plain": [
       "<Figure size 640x480 with 1 Axes>"
      ]
     },
     "metadata": {},
     "output_type": "display_data"
    }
   ],
   "source": [
    "img_dict = img_numbers()\n",
    "# print(img_dict)\n",
    "plot_images_distribution(img_dict)"
   ]
  },
  {
   "cell_type": "markdown",
   "id": "306044b0",
   "metadata": {
    "papermill": {
     "duration": 0.015092,
     "end_time": "2024-03-07T06:20:06.453392",
     "exception": false,
     "start_time": "2024-03-07T06:20:06.438300",
     "status": "completed"
    },
    "tags": []
   },
   "source": [
    "## **Function to verify images**"
   ]
  },
  {
   "cell_type": "code",
   "execution_count": 12,
   "id": "61e75ee1",
   "metadata": {
    "execution": {
     "iopub.execute_input": "2024-03-07T06:20:06.485060Z",
     "iopub.status.busy": "2024-03-07T06:20:06.484633Z",
     "iopub.status.idle": "2024-03-07T06:20:06.490272Z",
     "shell.execute_reply": "2024-03-07T06:20:06.489330Z"
    },
    "papermill": {
     "duration": 0.023897,
     "end_time": "2024-03-07T06:20:06.492171",
     "exception": false,
     "start_time": "2024-03-07T06:20:06.468274",
     "status": "completed"
    },
    "tags": []
   },
   "outputs": [],
   "source": [
    "def image_verification(path, folders):\n",
    "  for folder in folders:\n",
    "    failed = verify_images(get_image_files_sorted(path+'/'+folder))\n",
    "    for img in failed:\n",
    "      os.remove(img)"
   ]
  },
  {
   "cell_type": "markdown",
   "id": "fb0cc4ae",
   "metadata": {
    "papermill": {
     "duration": 0.014011,
     "end_time": "2024-03-07T06:20:06.520655",
     "exception": false,
     "start_time": "2024-03-07T06:20:06.506644",
     "status": "completed"
    },
    "tags": []
   },
   "source": [
    "## **Verifying images**"
   ]
  },
  {
   "cell_type": "code",
   "execution_count": 13,
   "id": "966ca470",
   "metadata": {
    "execution": {
     "iopub.execute_input": "2024-03-07T06:20:06.551126Z",
     "iopub.status.busy": "2024-03-07T06:20:06.550757Z",
     "iopub.status.idle": "2024-03-07T06:23:21.426246Z",
     "shell.execute_reply": "2024-03-07T06:23:21.425195Z"
    },
    "papermill": {
     "duration": 194.89456,
     "end_time": "2024-03-07T06:23:21.429556",
     "exception": false,
     "start_time": "2024-03-07T06:20:06.534996",
     "status": "completed"
    },
    "tags": []
   },
   "outputs": [],
   "source": [
    "image_verification(path = images_path, folders = img_folders)"
   ]
  },
  {
   "cell_type": "markdown",
   "id": "b2ea9ff9",
   "metadata": {
    "papermill": {
     "duration": 0.013436,
     "end_time": "2024-03-07T06:23:21.457607",
     "exception": false,
     "start_time": "2024-03-07T06:23:21.444171",
     "status": "completed"
    },
    "tags": []
   },
   "source": [
    "## **Images distribution after cleaning**"
   ]
  },
  {
   "cell_type": "code",
   "execution_count": 14,
   "id": "3ae343e8",
   "metadata": {
    "execution": {
     "iopub.execute_input": "2024-03-07T06:23:21.487886Z",
     "iopub.status.busy": "2024-03-07T06:23:21.487480Z",
     "iopub.status.idle": "2024-03-07T06:23:22.503804Z",
     "shell.execute_reply": "2024-03-07T06:23:22.502867Z"
    },
    "papermill": {
     "duration": 1.034169,
     "end_time": "2024-03-07T06:23:22.505702",
     "exception": false,
     "start_time": "2024-03-07T06:23:21.471533",
     "status": "completed"
    },
    "tags": []
   },
   "outputs": [
    {
     "data": {
      "image/png": "[encoded data removed]",
      "text/plain": [
       "<Figure size 640x480 with 1 Axes>"
      ]
     },
     "metadata": {},
     "output_type": "display_data"
    }
   ],
   "source": [
    "img_dict = img_numbers()\n",
    "# print(img_dict)\n",
    "plot_images_distribution(img_dict)"
   ]
  },
  {
   "cell_type": "markdown",
   "id": "9a680e4c",
   "metadata": {
    "papermill": {
     "duration": 0.014066,
     "end_time": "2024-03-07T06:23:22.534405",
     "exception": false,
     "start_time": "2024-03-07T06:23:22.520339",
     "status": "completed"
    },
    "tags": []
   },
   "source": [
    "## **Identifying grayscale images**"
   ]
  },
  {
   "cell_type": "code",
   "execution_count": 15,
   "id": "1cf60515",
   "metadata": {
    "execution": {
     "iopub.execute_input": "2024-03-07T06:23:22.565202Z",
     "iopub.status.busy": "2024-03-07T06:23:22.564530Z",
     "iopub.status.idle": "2024-03-07T06:30:49.797668Z",
     "shell.execute_reply": "2024-03-07T06:30:49.795763Z"
    },
    "papermill": {
     "duration": 447.26139,
     "end_time": "2024-03-07T06:30:49.810123",
     "exception": false,
     "start_time": "2024-03-07T06:23:22.548733",
     "status": "completed"
    },
    "tags": []
   },
   "outputs": [
    {
     "data": {
      "text/plain": [
       "56"
      ]
     },
     "execution_count": 15,
     "metadata": {},
     "output_type": "execute_result"
    }
   ],
   "source": [
    "gray_scale_images = [image_path for folder in img_folders for image_path in get_image_files_sorted(images_path+'/'+folder) if np.array(Image.open(image_path)).ndim not in [3,4]]\n",
    "len(gray_scale_images)"
   ]
  },
  {
   "cell_type": "markdown",
   "id": "e00de64f",
   "metadata": {
    "papermill": {
     "duration": 0.014475,
     "end_time": "2024-03-07T06:30:49.839259",
     "exception": false,
     "start_time": "2024-03-07T06:30:49.824784",
     "status": "completed"
    },
    "tags": []
   },
   "source": [
    "## **Removing grayscale images**"
   ]
  },
  {
   "cell_type": "code",
   "execution_count": 16,
   "id": "a5a8af2a",
   "metadata": {
    "execution": {
     "iopub.execute_input": "2024-03-07T06:30:49.870778Z",
     "iopub.status.busy": "2024-03-07T06:30:49.870430Z",
     "iopub.status.idle": "2024-03-07T06:30:49.880774Z",
     "shell.execute_reply": "2024-03-07T06:30:49.879018Z"
    },
    "papermill": {
     "duration": 0.029837,
     "end_time": "2024-03-07T06:30:49.883947",
     "exception": false,
     "start_time": "2024-03-07T06:30:49.854110",
     "status": "completed"
    },
    "tags": []
   },
   "outputs": [],
   "source": [
    "for path in gray_scale_images: \n",
    "    os.remove(path)"
   ]
  },
  {
   "cell_type": "markdown",
   "id": "db178994",
   "metadata": {
    "papermill": {
     "duration": 0.014545,
     "end_time": "2024-03-07T06:30:49.913858",
     "exception": false,
     "start_time": "2024-03-07T06:30:49.899313",
     "status": "completed"
    },
    "tags": []
   },
   "source": [
    "## **Images distribution after removal**"
   ]
  },
  {
   "cell_type": "code",
   "execution_count": 17,
   "id": "fe0c3d17",
   "metadata": {
    "execution": {
     "iopub.execute_input": "2024-03-07T06:30:49.945813Z",
     "iopub.status.busy": "2024-03-07T06:30:49.945463Z",
     "iopub.status.idle": "2024-03-07T06:30:51.008729Z",
     "shell.execute_reply": "2024-03-07T06:30:51.006953Z"
    },
    "papermill": {
     "duration": 1.082609,
     "end_time": "2024-03-07T06:30:51.011678",
     "exception": false,
     "start_time": "2024-03-07T06:30:49.929069",
     "status": "completed"
    },
    "tags": []
   },
   "outputs": [
    {
     "data": {
      "image/png": "[encoded data removed]",
      "text/plain": [
       "<Figure size 640x480 with 1 Axes>"
      ]
     },
     "metadata": {},
     "output_type": "display_data"
    }
   ],
   "source": [
    "img_dict = img_numbers()\n",
    "# print(img_dict)\n",
    "plot_images_distribution(img_dict)"
   ]
  },
  {
   "cell_type": "markdown",
   "id": "03b883f5",
   "metadata": {
    "papermill": {
     "duration": 0.014351,
     "end_time": "2024-03-07T06:30:51.042066",
     "exception": false,
     "start_time": "2024-03-07T06:30:51.027715",
     "status": "completed"
    },
    "tags": []
   },
   "source": [
    "## **Fetching csv files**"
   ]
  },
  {
   "cell_type": "code",
   "execution_count": 18,
   "id": "35f99927",
   "metadata": {
    "execution": {
     "iopub.execute_input": "2024-03-07T06:30:51.073851Z",
     "iopub.status.busy": "2024-03-07T06:30:51.073441Z",
     "iopub.status.idle": "2024-03-07T06:30:51.082241Z",
     "shell.execute_reply": "2024-03-07T06:30:51.080999Z"
    },
    "papermill": {
     "duration": 0.02821,
     "end_time": "2024-03-07T06:30:51.085029",
     "exception": false,
     "start_time": "2024-03-07T06:30:51.056819",
     "status": "completed"
    },
    "tags": []
   },
   "outputs": [
    {
     "data": {
      "text/plain": [
       "['China.csv',\n",
       " 'UnitedStates.csv',\n",
       " 'Germany.csv',\n",
       " 'Japan.csv',\n",
       " 'Netherlands.csv',\n",
       " 'France.csv',\n",
       " 'Italy.csv',\n",
       " 'England.csv']"
      ]
     },
     "execution_count": 18,
     "metadata": {},
     "output_type": "execute_result"
    }
   ],
   "source": [
    "files = os.listdir(csv_path)\n",
    "files"
   ]
  },
  {
   "cell_type": "markdown",
   "id": "364034c6",
   "metadata": {
    "papermill": {
     "duration": 0.015456,
     "end_time": "2024-03-07T06:30:51.117126",
     "exception": false,
     "start_time": "2024-03-07T06:30:51.101670",
     "status": "completed"
    },
    "tags": []
   },
   "source": [
    "## **Merging and creation of a dataframe**"
   ]
  },
  {
   "cell_type": "code",
   "execution_count": 19,
   "id": "e0e4f544",
   "metadata": {
    "execution": {
     "iopub.execute_input": "2024-03-07T06:30:51.150960Z",
     "iopub.status.busy": "2024-03-07T06:30:51.149482Z",
     "iopub.status.idle": "2024-03-07T06:30:51.415442Z",
     "shell.execute_reply": "2024-03-07T06:30:51.414469Z"
    },
    "papermill": {
     "duration": 0.285054,
     "end_time": "2024-03-07T06:30:51.417750",
     "exception": false,
     "start_time": "2024-03-07T06:30:51.132696",
     "status": "completed"
    },
    "tags": []
   },
   "outputs": [],
   "source": [
    "df = pd.DataFrame()\n",
    "for file in files:\n",
    "  data_frame = pd.read_csv(f\"{csv_path}/{file}\")\n",
    "  df = pd.concat([df, data_frame], ignore_index = True)"
   ]
  },
  {
   "cell_type": "markdown",
   "id": "6338f27c",
   "metadata": {
    "papermill": {
     "duration": 0.014412,
     "end_time": "2024-03-07T06:30:51.447614",
     "exception": false,
     "start_time": "2024-03-07T06:30:51.433202",
     "status": "completed"
    },
    "tags": []
   },
   "source": [
    "## **Viewing dataframe**"
   ]
  },
  {
   "cell_type": "code",
   "execution_count": 20,
   "id": "99a2d12e",
   "metadata": {
    "execution": {
     "iopub.execute_input": "2024-03-07T06:30:51.480003Z",
     "iopub.status.busy": "2024-03-07T06:30:51.479572Z",
     "iopub.status.idle": "2024-03-07T06:30:51.501544Z",
     "shell.execute_reply": "2024-03-07T06:30:51.500455Z"
    },
    "papermill": {
     "duration": 0.041322,
     "end_time": "2024-03-07T06:30:51.503943",
     "exception": false,
     "start_time": "2024-03-07T06:30:51.462621",
     "status": "completed"
    },
    "tags": []
   },
   "outputs": [
    {
     "data": {
      "text/html": [
       "<div>\n",
       "<style scoped>\n",
       "    .dataframe tbody tr th:only-of-type {\n",
       "        vertical-align: middle;\n",
       "    }\n",
       "\n",
       "    .dataframe tbody tr th {\n",
       "        vertical-align: top;\n",
       "    }\n",
       "\n",
       "    .dataframe thead th {\n",
       "        text-align: right;\n",
       "    }\n",
       "</style>\n",
       "<table border=\"1\" class=\"dataframe\">\n",
       "  <thead>\n",
       "    <tr style=\"text-align: right;\">\n",
       "      <th></th>\n",
       "      <th>ids</th>\n",
       "      <th>artists</th>\n",
       "      <th>mediums</th>\n",
       "      <th>titles</th>\n",
       "      <th>descriptions</th>\n",
       "      <th>urls</th>\n",
       "    </tr>\n",
       "  </thead>\n",
       "  <tbody>\n",
       "    <tr>\n",
       "      <th>0</th>\n",
       "      <td>ch_1</td>\n",
       "      <td>NaN</td>\n",
       "      <td>Qingbai ware; porcelain with underglaze molded and carved decoration</td>\n",
       "      <td>Incense Burner in the Form of a Duck</td>\n",
       "      <td>In its subtle elegance, this incense burner reflects the refined sensibility of Song dynasty China’s cultural elite—members of the imperial court as well as newly affluent and well-educated classes of merchants and government officials. The basin of this incense burner, elevated on a lobed foot, contains an artichokelike lotus that opens into two tiers of small, pointed petals and supports a delicately carved waterfowl. Fragrant smoke would have wafted gently from the bird’s mouth and from two holes perforated between its feet. As Song poets and painters praised incense for its efficacy in...</td>\n",
       "      <td>https://www.artic.edu/artworks/43060/incense-burner-in-the-form-of-a-duck</td>\n",
       "    </tr>\n",
       "    <tr>\n",
       "      <th>1</th>\n",
       "      <td>ch_2</td>\n",
       "      <td>NaN</td>\n",
       "      <td>Bronze</td>\n",
       "      <td>Cauldron</td>\n",
       "      <td>As this monumental cauldron demonstrates, the most distinctive bronze vessels of early China represent important historical documents as well as stunningly powerful works of art. Designed to contain offerings of meat in ritual ceremonies, this vessel was cast with a lengthy inscription on its interior bowl. The text commemorates a solemn ritual ceremony at the imperial court of the Zhou, the second dynasty recorded in Chinese texts, and explains that Captain Wang, a noble official who had been rewarded for his loyal service to the Zhou king, commissioned this vessel to honor his deceased f...</td>\n",
       "      <td>https://www.artic.edu/artworks/185963/cauldron</td>\n",
       "    </tr>\n",
       "    <tr>\n",
       "      <th>2</th>\n",
       "      <td>ch_3</td>\n",
       "      <td>NaN</td>\n",
       "      <td>Earthenware with polychrome pigments</td>\n",
       "      <td>Equestrienne</td>\n",
       "      <td>Chinese ceramic figures made exclusively for burial often vividly evoke the fashions and recreational activities of their aristocratic owners. This figure sensitively captures a quiet moment in the life of a matronly equestrienne, who gently guides her horse. The animal’s powerful neck and flanks, long legs, trimmed mane, and decoratively tied tail are features distinctive to the handsome breeds that were brought to China from the empire’s northwestern frontiers as well as from sites as far west as the Aral Sea. Carefully twisted strands of clay realistically depict the fur-like texture of...</td>\n",
       "      <td>https://www.artic.edu/artworks/35376/equestrienne</td>\n",
       "    </tr>\n",
       "    <tr>\n",
       "      <th>3</th>\n",
       "      <td>ch_4</td>\n",
       "      <td>NaN</td>\n",
       "      <td>Handscroll; ink and light color on paper</td>\n",
       "      <td>Yang Pu Moving His Family</td>\n",
       "      <td>With a lively combination of realism and caricature, this detail of the painting Yang Pu Moving His Family depicts a group of peasants transporting a rustic scholar and his family across a stream. Distinguished by his official government cap, with its long streamers, the otherwise disheveled, bare-legged scholar bids farewell to his neighbors on the shore. Servants valiantly attempt to carry children and the family’s belongings—scrolls, furniture, and dishes—through the water. The scholar depicted here may represent Yang Pu, a character described in stories of the Southern Song dynasty (11...</td>\n",
       "      <td>https://www.artic.edu/artworks/76279/yang-pu-moving-his-family</td>\n",
       "    </tr>\n",
       "    <tr>\n",
       "      <th>4</th>\n",
       "      <td>ch_5</td>\n",
       "      <td>NaN</td>\n",
       "      <td>Stoneware with olive-green glaze and molded and applied decoration</td>\n",
       "      <td>Funerary Urn (Hunping)</td>\n",
       "      <td>This complex and imaginatively modeled vessel is known as an “urn of the soul,” a symbolic dwelling for the spirit of the deceased. A profusion of figures was molded and applied to its sealed lid, which takes the form of a multistory pavilion. In the balcony-like mouth-rim, a tortoise supports a large vertical tablet, a common form of memorial stone. The real and mythical creatures on the vessel—birds, monkeys, bears, dragons, kneeling figures, and immortals riding dragons—all follow the iconography of early Chinese funerary art. Intermingled with these images, however, are depictions of t...</td>\n",
       "      <td>https://www.artic.edu/artworks/70003/funerary-urn-hunping</td>\n",
       "    </tr>\n",
       "  </tbody>\n",
       "</table>\n",
       "</div>"
      ],
      "text/plain": [
       "    ids artists  \\\n",
       "0  ch_1     NaN   \n",
       "1  ch_2     NaN   \n",
       "2  ch_3     NaN   \n",
       "3  ch_4     NaN   \n",
       "4  ch_5     NaN   \n",
       "\n",
       "                                                                mediums  \\\n",
       "0  Qingbai ware; porcelain with underglaze molded and carved decoration   \n",
       "1                                                                Bronze   \n",
       "2                                  Earthenware with polychrome pigments   \n",
       "3                              Handscroll; ink and light color on paper   \n",
       "4    Stoneware with olive-green glaze and molded and applied decoration   \n",
       "\n",
       "                                 titles  \\\n",
       "0  Incense Burner in the Form of a Duck   \n",
       "1                              Cauldron   \n",
       "2                          Equestrienne   \n",
       "3             Yang Pu Moving His Family   \n",
       "4                Funerary Urn (Hunping)   \n",
       "\n",
       "                                                                                                                                                                                                                                                                                                                                                                                                                                                                                                                                                                                                              descriptions  \\\n",
       "0  In its subtle elegance, this incense burner reflects the refined sensibility of Song dynasty China’s cultural elite—members of the imperial court as well as newly affluent and well-educated classes of merchants and government officials. The basin of this incense burner, elevated on a lobed foot, contains an artichokelike lotus that opens into two tiers of small, pointed petals and supports a delicately carved waterfowl. Fragrant smoke would have wafted gently from the bird’s mouth and from two holes perforated between its feet. As Song poets and painters praised incense for its efficacy in...   \n",
       "1  As this monumental cauldron demonstrates, the most distinctive bronze vessels of early China represent important historical documents as well as stunningly powerful works of art. Designed to contain offerings of meat in ritual ceremonies, this vessel was cast with a lengthy inscription on its interior bowl. The text commemorates a solemn ritual ceremony at the imperial court of the Zhou, the second dynasty recorded in Chinese texts, and explains that Captain Wang, a noble official who had been rewarded for his loyal service to the Zhou king, commissioned this vessel to honor his deceased f...   \n",
       "2  Chinese ceramic figures made exclusively for burial often vividly evoke the fashions and recreational activities of their aristocratic owners. This figure sensitively captures a quiet moment in the life of a matronly equestrienne, who gently guides her horse. The animal’s powerful neck and flanks, long legs, trimmed mane, and decoratively tied tail are features distinctive to the handsome breeds that were brought to China from the empire’s northwestern frontiers as well as from sites as far west as the Aral Sea. Carefully twisted strands of clay realistically depict the fur-like texture of...   \n",
       "3  With a lively combination of realism and caricature, this detail of the painting Yang Pu Moving His Family depicts a group of peasants transporting a rustic scholar and his family across a stream. Distinguished by his official government cap, with its long streamers, the otherwise disheveled, bare-legged scholar bids farewell to his neighbors on the shore. Servants valiantly attempt to carry children and the family’s belongings—scrolls, furniture, and dishes—through the water. The scholar depicted here may represent Yang Pu, a character described in stories of the Southern Song dynasty (11...   \n",
       "4  This complex and imaginatively modeled vessel is known as an “urn of the soul,” a symbolic dwelling for the spirit of the deceased. A profusion of figures was molded and applied to its sealed lid, which takes the form of a multistory pavilion. In the balcony-like mouth-rim, a tortoise supports a large vertical tablet, a common form of memorial stone. The real and mythical creatures on the vessel—birds, monkeys, bears, dragons, kneeling figures, and immortals riding dragons—all follow the iconography of early Chinese funerary art. Intermingled with these images, however, are depictions of t...   \n",
       "\n",
       "                                                                        urls  \n",
       "0  https://www.artic.edu/artworks/43060/incense-burner-in-the-form-of-a-duck  \n",
       "1                             https://www.artic.edu/artworks/185963/cauldron  \n",
       "2                          https://www.artic.edu/artworks/35376/equestrienne  \n",
       "3             https://www.artic.edu/artworks/76279/yang-pu-moving-his-family  \n",
       "4                  https://www.artic.edu/artworks/70003/funerary-urn-hunping  "
      ]
     },
     "execution_count": 20,
     "metadata": {},
     "output_type": "execute_result"
    }
   ],
   "source": [
    "df.head()"
   ]
  },
  {
   "cell_type": "markdown",
   "id": "a6fdefda",
   "metadata": {
    "papermill": {
     "duration": 0.01537,
     "end_time": "2024-03-07T06:30:51.535814",
     "exception": false,
     "start_time": "2024-03-07T06:30:51.520444",
     "status": "completed"
    },
    "tags": []
   },
   "source": [
    "## **Function to view shape**"
   ]
  },
  {
   "cell_type": "code",
   "execution_count": 21,
   "id": "1c641bb0",
   "metadata": {
    "execution": {
     "iopub.execute_input": "2024-03-07T06:30:51.569140Z",
     "iopub.status.busy": "2024-03-07T06:30:51.568711Z",
     "iopub.status.idle": "2024-03-07T06:30:51.573219Z",
     "shell.execute_reply": "2024-03-07T06:30:51.572236Z"
    },
    "papermill": {
     "duration": 0.023611,
     "end_time": "2024-03-07T06:30:51.574967",
     "exception": false,
     "start_time": "2024-03-07T06:30:51.551356",
     "status": "completed"
    },
    "tags": []
   },
   "outputs": [],
   "source": [
    "def df_shape(df):\n",
    "  print(f'Number of rows: {df.shape[0]}')\n",
    "  print(f'Number of columns: {df.shape[1]}')"
   ]
  },
  {
   "cell_type": "markdown",
   "id": "822af4e2",
   "metadata": {
    "papermill": {
     "duration": 0.015322,
     "end_time": "2024-03-07T06:30:51.606110",
     "exception": false,
     "start_time": "2024-03-07T06:30:51.590788",
     "status": "completed"
    },
    "tags": []
   },
   "source": [
    "## **Viewing dataframe shape**"
   ]
  },
  {
   "cell_type": "code",
   "execution_count": 22,
   "id": "3a847e25",
   "metadata": {
    "execution": {
     "iopub.execute_input": "2024-03-07T06:30:51.638800Z",
     "iopub.status.busy": "2024-03-07T06:30:51.638391Z",
     "iopub.status.idle": "2024-03-07T06:30:51.644579Z",
     "shell.execute_reply": "2024-03-07T06:30:51.642554Z"
    },
    "papermill": {
     "duration": 0.025929,
     "end_time": "2024-03-07T06:30:51.647472",
     "exception": false,
     "start_time": "2024-03-07T06:30:51.621543",
     "status": "completed"
    },
    "tags": []
   },
   "outputs": [
    {
     "name": "stdout",
     "output_type": "stream",
     "text": [
      "Number of rows: 47115\n",
      "Number of columns: 6\n"
     ]
    }
   ],
   "source": [
    "df_shape(df)"
   ]
  },
  {
   "cell_type": "markdown",
   "id": "27962cdb",
   "metadata": {
    "papermill": {
     "duration": 0.015802,
     "end_time": "2024-03-07T06:30:51.681333",
     "exception": false,
     "start_time": "2024-03-07T06:30:51.665531",
     "status": "completed"
    },
    "tags": []
   },
   "source": [
    "## **Checking NaN values**"
   ]
  },
  {
   "cell_type": "code",
   "execution_count": 23,
   "id": "510d517f",
   "metadata": {
    "execution": {
     "iopub.execute_input": "2024-03-07T06:30:51.714354Z",
     "iopub.status.busy": "2024-03-07T06:30:51.713955Z",
     "iopub.status.idle": "2024-03-07T06:30:51.735336Z",
     "shell.execute_reply": "2024-03-07T06:30:51.734660Z"
    },
    "papermill": {
     "duration": 0.040168,
     "end_time": "2024-03-07T06:30:51.737187",
     "exception": false,
     "start_time": "2024-03-07T06:30:51.697019",
     "status": "completed"
    },
    "tags": []
   },
   "outputs": [
    {
     "data": {
      "text/plain": [
       "ids                 0\n",
       "artists          7129\n",
       "mediums           307\n",
       "titles              5\n",
       "descriptions    41962\n",
       "urls                0\n",
       "dtype: int64"
      ]
     },
     "execution_count": 23,
     "metadata": {},
     "output_type": "execute_result"
    }
   ],
   "source": [
    "df.isna().sum()"
   ]
  },
  {
   "cell_type": "markdown",
   "id": "3c143b4a",
   "metadata": {
    "papermill": {
     "duration": 0.015816,
     "end_time": "2024-03-07T06:30:51.770350",
     "exception": false,
     "start_time": "2024-03-07T06:30:51.754534",
     "status": "completed"
    },
    "tags": []
   },
   "source": [
    "## **Fetching working image ids** "
   ]
  },
  {
   "cell_type": "code",
   "execution_count": 24,
   "id": "96b675f6",
   "metadata": {
    "execution": {
     "iopub.execute_input": "2024-03-07T06:30:51.804635Z",
     "iopub.status.busy": "2024-03-07T06:30:51.804167Z",
     "iopub.status.idle": "2024-03-07T06:30:52.495398Z",
     "shell.execute_reply": "2024-03-07T06:30:52.494514Z"
    },
    "papermill": {
     "duration": 0.709965,
     "end_time": "2024-03-07T06:30:52.497167",
     "exception": false,
     "start_time": "2024-03-07T06:30:51.787202",
     "status": "completed"
    },
    "tags": []
   },
   "outputs": [
    {
     "data": {
      "text/plain": [
       "46016"
      ]
     },
     "execution_count": 24,
     "metadata": {},
     "output_type": "execute_result"
    }
   ],
   "source": [
    "img_ids = []\n",
    "\n",
    "for folder in img_folders:\n",
    "  temp = [str(path).split(\"/\")[3].split(\".\")[0] for path in get_image_files_sorted(f\"{images_path}{folder}/\")]\n",
    "  img_ids.extend(temp)\n",
    "len(img_ids)"
   ]
  },
  {
   "cell_type": "markdown",
   "id": "14e6be4c",
   "metadata": {
    "papermill": {
     "duration": 0.01581,
     "end_time": "2024-03-07T06:30:52.530120",
     "exception": false,
     "start_time": "2024-03-07T06:30:52.514310",
     "status": "completed"
    },
    "tags": []
   },
   "source": [
    "## **Fetching corrupted image ids**"
   ]
  },
  {
   "cell_type": "code",
   "execution_count": 25,
   "id": "790c7362",
   "metadata": {
    "execution": {
     "iopub.execute_input": "2024-03-07T06:30:52.564443Z",
     "iopub.status.busy": "2024-03-07T06:30:52.564024Z",
     "iopub.status.idle": "2024-03-07T06:31:13.846685Z",
     "shell.execute_reply": "2024-03-07T06:31:13.843829Z"
    },
    "papermill": {
     "duration": 21.304559,
     "end_time": "2024-03-07T06:31:13.850745",
     "exception": false,
     "start_time": "2024-03-07T06:30:52.546186",
     "status": "completed"
    },
    "tags": []
   },
   "outputs": [
    {
     "data": {
      "text/plain": [
       "1099"
      ]
     },
     "execution_count": 25,
     "metadata": {},
     "output_type": "execute_result"
    }
   ],
   "source": [
    "corrupted_image_indices_to_drop = [index for index in range(len(df)) if df.iloc[index]['ids'] not in img_ids]\n",
    "len(corrupted_image_indices_to_drop)"
   ]
  },
  {
   "cell_type": "markdown",
   "id": "36399654",
   "metadata": {
    "papermill": {
     "duration": 0.016656,
     "end_time": "2024-03-07T06:31:13.886856",
     "exception": false,
     "start_time": "2024-03-07T06:31:13.870200",
     "status": "completed"
    },
    "tags": []
   },
   "source": [
    "## **Removing corrupted image rows** "
   ]
  },
  {
   "cell_type": "code",
   "execution_count": 26,
   "id": "3a6e08cd",
   "metadata": {
    "execution": {
     "iopub.execute_input": "2024-03-07T06:31:13.924661Z",
     "iopub.status.busy": "2024-03-07T06:31:13.924237Z",
     "iopub.status.idle": "2024-03-07T06:31:13.951628Z",
     "shell.execute_reply": "2024-03-07T06:31:13.949745Z"
    },
    "papermill": {
     "duration": 0.049183,
     "end_time": "2024-03-07T06:31:13.954426",
     "exception": false,
     "start_time": "2024-03-07T06:31:13.905243",
     "status": "completed"
    },
    "tags": []
   },
   "outputs": [],
   "source": [
    "df = df.drop(corrupted_image_indices_to_drop).reset_index(drop=True)"
   ]
  },
  {
   "cell_type": "markdown",
   "id": "6955abe5",
   "metadata": {
    "papermill": {
     "duration": 0.018832,
     "end_time": "2024-03-07T06:31:13.996751",
     "exception": false,
     "start_time": "2024-03-07T06:31:13.977919",
     "status": "completed"
    },
    "tags": []
   },
   "source": [
    "## **Images root path**"
   ]
  },
  {
   "cell_type": "code",
   "execution_count": 27,
   "id": "9b6d1b6f",
   "metadata": {
    "execution": {
     "iopub.execute_input": "2024-03-07T06:31:14.037219Z",
     "iopub.status.busy": "2024-03-07T06:31:14.036842Z",
     "iopub.status.idle": "2024-03-07T06:31:14.042808Z",
     "shell.execute_reply": "2024-03-07T06:31:14.041207Z"
    },
    "papermill": {
     "duration": 0.028569,
     "end_time": "2024-03-07T06:31:14.046097",
     "exception": false,
     "start_time": "2024-03-07T06:31:14.017528",
     "status": "completed"
    },
    "tags": []
   },
   "outputs": [],
   "source": [
    "images_root_path = \"/kaggle/working/images/\""
   ]
  },
  {
   "cell_type": "markdown",
   "id": "38f8c7a6",
   "metadata": {
    "papermill": {
     "duration": 0.01604,
     "end_time": "2024-03-07T06:31:14.079105",
     "exception": false,
     "start_time": "2024-03-07T06:31:14.063065",
     "status": "completed"
    },
    "tags": []
   },
   "source": [
    "## **Mapping abbreviations with root folder**"
   ]
  },
  {
   "cell_type": "code",
   "execution_count": 28,
   "id": "db6b2ef4",
   "metadata": {
    "execution": {
     "iopub.execute_input": "2024-03-07T06:31:14.119606Z",
     "iopub.status.busy": "2024-03-07T06:31:14.119203Z",
     "iopub.status.idle": "2024-03-07T06:31:14.125388Z",
     "shell.execute_reply": "2024-03-07T06:31:14.124006Z"
    },
    "papermill": {
     "duration": 0.029169,
     "end_time": "2024-03-07T06:31:14.128403",
     "exception": false,
     "start_time": "2024-03-07T06:31:14.099234",
     "status": "completed"
    },
    "tags": []
   },
   "outputs": [],
   "source": [
    "path_dict = {\n",
    "    'ch' : 'China',\n",
    "    'eng' : 'England',\n",
    "    'Fra' : 'France',\n",
    "    'ger' : 'Germany',\n",
    "    'itl' : 'Italy',\n",
    "    'jp' : 'Japan',\n",
    "    'nl' : 'Netherlands',\n",
    "    'usa' : 'UnitedStates'    \n",
    "}"
   ]
  },
  {
   "cell_type": "markdown",
   "id": "59de4e4b",
   "metadata": {
    "papermill": {
     "duration": 0.022113,
     "end_time": "2024-03-07T06:31:14.168546",
     "exception": false,
     "start_time": "2024-03-07T06:31:14.146433",
     "status": "completed"
    },
    "tags": []
   },
   "source": [
    "## **Listing image paths**"
   ]
  },
  {
   "cell_type": "code",
   "execution_count": 29,
   "id": "b85aa373",
   "metadata": {
    "execution": {
     "iopub.execute_input": "2024-03-07T06:31:14.208625Z",
     "iopub.status.busy": "2024-03-07T06:31:14.207487Z",
     "iopub.status.idle": "2024-03-07T06:31:18.270855Z",
     "shell.execute_reply": "2024-03-07T06:31:18.268437Z"
    },
    "papermill": {
     "duration": 4.085677,
     "end_time": "2024-03-07T06:31:18.273471",
     "exception": false,
     "start_time": "2024-03-07T06:31:14.187794",
     "status": "completed"
    },
    "tags": []
   },
   "outputs": [
    {
     "data": {
      "text/plain": [
       "['/kaggle/working/images/China/China/ch_1.jpg',\n",
       " '/kaggle/working/images/China/China/ch_2.jpg',\n",
       " '/kaggle/working/images/China/China/ch_3.jpg',\n",
       " '/kaggle/working/images/China/China/ch_4.jpg',\n",
       " '/kaggle/working/images/China/China/ch_5.jpg']"
      ]
     },
     "execution_count": 29,
     "metadata": {},
     "output_type": "execute_result"
    }
   ],
   "source": [
    "image_paths = [ f\"{images_root_path}{path_dict[df.iloc[i]['ids'].split('_')[0]]}/{path_dict[df.iloc[i]['ids'].split('_')[0]]}/{df.iloc[i]['ids']}.jpg\" for i in range(len(df))]\n",
    "image_paths[:5]"
   ]
  },
  {
   "cell_type": "markdown",
   "id": "a70e9c41",
   "metadata": {
    "papermill": {
     "duration": 0.015088,
     "end_time": "2024-03-07T06:31:18.304687",
     "exception": false,
     "start_time": "2024-03-07T06:31:18.289599",
     "status": "completed"
    },
    "tags": []
   },
   "source": [
    "## **New column with image paths**"
   ]
  },
  {
   "cell_type": "code",
   "execution_count": 30,
   "id": "41f91454",
   "metadata": {
    "execution": {
     "iopub.execute_input": "2024-03-07T06:31:18.340714Z",
     "iopub.status.busy": "2024-03-07T06:31:18.340354Z",
     "iopub.status.idle": "2024-03-07T06:31:18.349799Z",
     "shell.execute_reply": "2024-03-07T06:31:18.348271Z"
    },
    "papermill": {
     "duration": 0.030539,
     "end_time": "2024-03-07T06:31:18.353040",
     "exception": false,
     "start_time": "2024-03-07T06:31:18.322501",
     "status": "completed"
    },
    "tags": []
   },
   "outputs": [],
   "source": [
    "df['images_path'] = image_paths"
   ]
  },
  {
   "cell_type": "markdown",
   "id": "ec4ad4be",
   "metadata": {
    "papermill": {
     "duration": 0.01595,
     "end_time": "2024-03-07T06:31:18.385979",
     "exception": false,
     "start_time": "2024-03-07T06:31:18.370029",
     "status": "completed"
    },
    "tags": []
   },
   "source": [
    "## **Creating a title count dictionary if multiple same title exists** "
   ]
  },
  {
   "cell_type": "code",
   "execution_count": 31,
   "id": "f6ca4ee7",
   "metadata": {
    "execution": {
     "iopub.execute_input": "2024-03-07T06:31:18.420517Z",
     "iopub.status.busy": "2024-03-07T06:31:18.420100Z",
     "iopub.status.idle": "2024-03-07T06:31:18.468070Z",
     "shell.execute_reply": "2024-03-07T06:31:18.466094Z"
    },
    "papermill": {
     "duration": 0.068988,
     "end_time": "2024-03-07T06:31:18.471145",
     "exception": false,
     "start_time": "2024-03-07T06:31:18.402157",
     "status": "completed"
    },
    "tags": []
   },
   "outputs": [],
   "source": [
    "titles_dict = df['titles'].value_counts().to_dict()"
   ]
  },
  {
   "cell_type": "markdown",
   "id": "d4ca371b",
   "metadata": {
    "papermill": {
     "duration": 0.01565,
     "end_time": "2024-03-07T06:31:18.504255",
     "exception": false,
     "start_time": "2024-03-07T06:31:18.488605",
     "status": "completed"
    },
    "tags": []
   },
   "source": [
    "## **Mapping title with multiple counts**"
   ]
  },
  {
   "cell_type": "code",
   "execution_count": 32,
   "id": "45e6048d",
   "metadata": {
    "execution": {
     "iopub.execute_input": "2024-03-07T06:31:18.538135Z",
     "iopub.status.busy": "2024-03-07T06:31:18.537739Z",
     "iopub.status.idle": "2024-03-07T06:31:18.548816Z",
     "shell.execute_reply": "2024-03-07T06:31:18.547591Z"
    },
    "papermill": {
     "duration": 0.030917,
     "end_time": "2024-03-07T06:31:18.551109",
     "exception": false,
     "start_time": "2024-03-07T06:31:18.520192",
     "status": "completed"
    },
    "tags": []
   },
   "outputs": [],
   "source": [
    "multiple_same_titles = {key: 0 for key, value in titles_dict.items() if value > 1}"
   ]
  },
  {
   "cell_type": "code",
   "execution_count": 33,
   "id": "69742112",
   "metadata": {
    "execution": {
     "iopub.execute_input": "2024-03-07T06:31:18.587415Z",
     "iopub.status.busy": "2024-03-07T06:31:18.586983Z",
     "iopub.status.idle": "2024-03-07T06:31:18.595621Z",
     "shell.execute_reply": "2024-03-07T06:31:18.594321Z"
    },
    "papermill": {
     "duration": 0.029705,
     "end_time": "2024-03-07T06:31:18.597695",
     "exception": false,
     "start_time": "2024-03-07T06:31:18.567990",
     "status": "completed"
    },
    "tags": []
   },
   "outputs": [
    {
     "data": {
      "text/plain": [
       "4523"
      ]
     },
     "execution_count": 33,
     "metadata": {},
     "output_type": "execute_result"
    }
   ],
   "source": [
    "len(multiple_same_titles)"
   ]
  },
  {
   "cell_type": "markdown",
   "id": "83e6f756",
   "metadata": {
    "papermill": {
     "duration": 0.017928,
     "end_time": "2024-03-07T06:31:18.634156",
     "exception": false,
     "start_time": "2024-03-07T06:31:18.616228",
     "status": "completed"
    },
    "tags": []
   },
   "source": [
    "## **Keeping one value removing rows having titles with same values** "
   ]
  },
  {
   "cell_type": "code",
   "execution_count": 34,
   "id": "6a488e65",
   "metadata": {
    "execution": {
     "iopub.execute_input": "2024-03-07T06:31:18.671297Z",
     "iopub.status.busy": "2024-03-07T06:31:18.670844Z",
     "iopub.status.idle": "2024-03-07T06:31:22.895176Z",
     "shell.execute_reply": "2024-03-07T06:31:22.894131Z"
    },
    "papermill": {
     "duration": 4.245191,
     "end_time": "2024-03-07T06:31:22.897364",
     "exception": false,
     "start_time": "2024-03-07T06:31:18.652173",
     "status": "completed"
    },
    "tags": []
   },
   "outputs": [
    {
     "data": {
      "text/plain": [
       "11454"
      ]
     },
     "execution_count": 34,
     "metadata": {},
     "output_type": "execute_result"
    }
   ],
   "source": [
    "indices_to_drop = []\n",
    "\n",
    "for i in range(len(df)):\n",
    "  if df.iloc[i]['titles'] in multiple_same_titles.keys() and multiple_same_titles[df.iloc[i]['titles']] == 0:\n",
    "    multiple_same_titles[df.iloc[i]['titles']] = 1\n",
    "  elif df.iloc[i]['titles'] in multiple_same_titles.keys() and multiple_same_titles[df.iloc[i]['titles']] == 1:\n",
    "    indices_to_drop.append(i)\n",
    "\n",
    "len(indices_to_drop)"
   ]
  },
  {
   "cell_type": "markdown",
   "id": "8e64c58f",
   "metadata": {
    "papermill": {
     "duration": 0.016688,
     "end_time": "2024-03-07T06:31:22.931197",
     "exception": false,
     "start_time": "2024-03-07T06:31:22.914509",
     "status": "completed"
    },
    "tags": []
   },
   "source": [
    "## **Removing indices**"
   ]
  },
  {
   "cell_type": "code",
   "execution_count": 35,
   "id": "ec227b20",
   "metadata": {
    "execution": {
     "iopub.execute_input": "2024-03-07T06:31:22.969154Z",
     "iopub.status.busy": "2024-03-07T06:31:22.968474Z",
     "iopub.status.idle": "2024-03-07T06:31:23.002430Z",
     "shell.execute_reply": "2024-03-07T06:31:22.999401Z"
    },
    "papermill": {
     "duration": 0.056562,
     "end_time": "2024-03-07T06:31:23.006350",
     "exception": false,
     "start_time": "2024-03-07T06:31:22.949788",
     "status": "completed"
    },
    "tags": []
   },
   "outputs": [],
   "source": [
    "df = df.drop(indices_to_drop).reset_index(drop=True)"
   ]
  },
  {
   "cell_type": "markdown",
   "id": "e3fcec1d",
   "metadata": {
    "papermill": {
     "duration": 0.01674,
     "end_time": "2024-03-07T06:31:23.040219",
     "exception": false,
     "start_time": "2024-03-07T06:31:23.023479",
     "status": "completed"
    },
    "tags": []
   },
   "source": [
    "## **Deleting redundant columns for workings**"
   ]
  },
  {
   "cell_type": "code",
   "execution_count": 36,
   "id": "973c99e6",
   "metadata": {
    "execution": {
     "iopub.execute_input": "2024-03-07T06:31:23.075644Z",
     "iopub.status.busy": "2024-03-07T06:31:23.075004Z",
     "iopub.status.idle": "2024-03-07T06:31:23.089535Z",
     "shell.execute_reply": "2024-03-07T06:31:23.088348Z"
    },
    "papermill": {
     "duration": 0.035299,
     "end_time": "2024-03-07T06:31:23.092109",
     "exception": false,
     "start_time": "2024-03-07T06:31:23.056810",
     "status": "completed"
    },
    "tags": []
   },
   "outputs": [],
   "source": [
    "df = df.drop(columns=['ids', 'artists', 'mediums', 'descriptions', 'urls'], axis=1)"
   ]
  },
  {
   "cell_type": "markdown",
   "id": "cd14e337",
   "metadata": {
    "papermill": {
     "duration": 0.016457,
     "end_time": "2024-03-07T06:31:23.127508",
     "exception": false,
     "start_time": "2024-03-07T06:31:23.111051",
     "status": "completed"
    },
    "tags": []
   },
   "source": [
    "## **Cheking if NaN value exists in the final data**"
   ]
  },
  {
   "cell_type": "code",
   "execution_count": 37,
   "id": "a4bc9b43",
   "metadata": {
    "execution": {
     "iopub.execute_input": "2024-03-07T06:31:23.162838Z",
     "iopub.status.busy": "2024-03-07T06:31:23.162199Z",
     "iopub.status.idle": "2024-03-07T06:31:23.175924Z",
     "shell.execute_reply": "2024-03-07T06:31:23.174523Z"
    },
    "papermill": {
     "duration": 0.034492,
     "end_time": "2024-03-07T06:31:23.178521",
     "exception": false,
     "start_time": "2024-03-07T06:31:23.144029",
     "status": "completed"
    },
    "tags": []
   },
   "outputs": [
    {
     "data": {
      "text/plain": [
       "titles         5\n",
       "images_path    0\n",
       "dtype: int64"
      ]
     },
     "execution_count": 37,
     "metadata": {},
     "output_type": "execute_result"
    }
   ],
   "source": [
    "df.isna().sum()"
   ]
  },
  {
   "cell_type": "markdown",
   "id": "b1423cf8",
   "metadata": {
    "papermill": {
     "duration": 0.017012,
     "end_time": "2024-03-07T06:31:23.212994",
     "exception": false,
     "start_time": "2024-03-07T06:31:23.195982",
     "status": "completed"
    },
    "tags": []
   },
   "source": [
    "## **Dropping NaN value rows**"
   ]
  },
  {
   "cell_type": "code",
   "execution_count": 38,
   "id": "62881d15",
   "metadata": {
    "execution": {
     "iopub.execute_input": "2024-03-07T06:31:23.248915Z",
     "iopub.status.busy": "2024-03-07T06:31:23.248075Z",
     "iopub.status.idle": "2024-03-07T06:31:23.263881Z",
     "shell.execute_reply": "2024-03-07T06:31:23.263132Z"
    },
    "papermill": {
     "duration": 0.036873,
     "end_time": "2024-03-07T06:31:23.266338",
     "exception": false,
     "start_time": "2024-03-07T06:31:23.229465",
     "status": "completed"
    },
    "tags": []
   },
   "outputs": [],
   "source": [
    "df = df.dropna().reset_index(drop=True)"
   ]
  },
  {
   "cell_type": "markdown",
   "id": "4062acea",
   "metadata": {
    "papermill": {
     "duration": 0.016755,
     "end_time": "2024-03-07T06:31:23.301270",
     "exception": false,
     "start_time": "2024-03-07T06:31:23.284515",
     "status": "completed"
    },
    "tags": []
   },
   "source": [
    "## **Checking final dataframe shape**"
   ]
  },
  {
   "cell_type": "code",
   "execution_count": 39,
   "id": "bc846534",
   "metadata": {
    "execution": {
     "iopub.execute_input": "2024-03-07T06:31:23.337128Z",
     "iopub.status.busy": "2024-03-07T06:31:23.336671Z",
     "iopub.status.idle": "2024-03-07T06:31:23.341769Z",
     "shell.execute_reply": "2024-03-07T06:31:23.340788Z"
    },
    "papermill": {
     "duration": 0.026468,
     "end_time": "2024-03-07T06:31:23.344693",
     "exception": false,
     "start_time": "2024-03-07T06:31:23.318225",
     "status": "completed"
    },
    "tags": []
   },
   "outputs": [
    {
     "name": "stdout",
     "output_type": "stream",
     "text": [
      "Number of rows: 34557\n",
      "Number of columns: 2\n"
     ]
    }
   ],
   "source": [
    "df_shape(df)"
   ]
  },
  {
   "cell_type": "markdown",
   "id": "6c306b56",
   "metadata": {
    "papermill": {
     "duration": 0.016571,
     "end_time": "2024-03-07T06:31:23.378948",
     "exception": false,
     "start_time": "2024-03-07T06:31:23.362377",
     "status": "completed"
    },
    "tags": []
   },
   "source": [
    "## **Viewing final dataframe**"
   ]
  },
  {
   "cell_type": "code",
   "execution_count": 40,
   "id": "4c39a8eb",
   "metadata": {
    "execution": {
     "iopub.execute_input": "2024-03-07T06:31:23.415416Z",
     "iopub.status.busy": "2024-03-07T06:31:23.414908Z",
     "iopub.status.idle": "2024-03-07T06:31:23.424153Z",
     "shell.execute_reply": "2024-03-07T06:31:23.423479Z"
    },
    "papermill": {
     "duration": 0.02966,
     "end_time": "2024-03-07T06:31:23.425790",
     "exception": false,
     "start_time": "2024-03-07T06:31:23.396130",
     "status": "completed"
    },
    "tags": []
   },
   "outputs": [
    {
     "data": {
      "text/html": [
       "<div>\n",
       "<style scoped>\n",
       "    .dataframe tbody tr th:only-of-type {\n",
       "        vertical-align: middle;\n",
       "    }\n",
       "\n",
       "    .dataframe tbody tr th {\n",
       "        vertical-align: top;\n",
       "    }\n",
       "\n",
       "    .dataframe thead th {\n",
       "        text-align: right;\n",
       "    }\n",
       "</style>\n",
       "<table border=\"1\" class=\"dataframe\">\n",
       "  <thead>\n",
       "    <tr style=\"text-align: right;\">\n",
       "      <th></th>\n",
       "      <th>titles</th>\n",
       "      <th>images_path</th>\n",
       "    </tr>\n",
       "  </thead>\n",
       "  <tbody>\n",
       "    <tr>\n",
       "      <th>0</th>\n",
       "      <td>Incense Burner in the Form of a Duck</td>\n",
       "      <td>/kaggle/working/images/China/China/ch_1.jpg</td>\n",
       "    </tr>\n",
       "    <tr>\n",
       "      <th>1</th>\n",
       "      <td>Cauldron</td>\n",
       "      <td>/kaggle/working/images/China/China/ch_2.jpg</td>\n",
       "    </tr>\n",
       "    <tr>\n",
       "      <th>2</th>\n",
       "      <td>Equestrienne</td>\n",
       "      <td>/kaggle/working/images/China/China/ch_3.jpg</td>\n",
       "    </tr>\n",
       "    <tr>\n",
       "      <th>3</th>\n",
       "      <td>Yang Pu Moving His Family</td>\n",
       "      <td>/kaggle/working/images/China/China/ch_4.jpg</td>\n",
       "    </tr>\n",
       "    <tr>\n",
       "      <th>4</th>\n",
       "      <td>Funerary Urn (Hunping)</td>\n",
       "      <td>/kaggle/working/images/China/China/ch_5.jpg</td>\n",
       "    </tr>\n",
       "  </tbody>\n",
       "</table>\n",
       "</div>"
      ],
      "text/plain": [
       "                                 titles  \\\n",
       "0  Incense Burner in the Form of a Duck   \n",
       "1                              Cauldron   \n",
       "2                          Equestrienne   \n",
       "3             Yang Pu Moving His Family   \n",
       "4                Funerary Urn (Hunping)   \n",
       "\n",
       "                                   images_path  \n",
       "0  /kaggle/working/images/China/China/ch_1.jpg  \n",
       "1  /kaggle/working/images/China/China/ch_2.jpg  \n",
       "2  /kaggle/working/images/China/China/ch_3.jpg  \n",
       "3  /kaggle/working/images/China/China/ch_4.jpg  \n",
       "4  /kaggle/working/images/China/China/ch_5.jpg  "
      ]
     },
     "execution_count": 40,
     "metadata": {},
     "output_type": "execute_result"
    }
   ],
   "source": [
    "df.head()"
   ]
  },
  {
   "cell_type": "markdown",
   "id": "5b992457",
   "metadata": {
    "papermill": {
     "duration": 0.017172,
     "end_time": "2024-03-07T06:31:23.461794",
     "exception": false,
     "start_time": "2024-03-07T06:31:23.444622",
     "status": "completed"
    },
    "tags": []
   },
   "source": [
    "## **Exporting to final .csv file**"
   ]
  },
  {
   "cell_type": "code",
   "execution_count": 41,
   "id": "c6b259cd",
   "metadata": {
    "execution": {
     "iopub.execute_input": "2024-03-07T06:31:23.500540Z",
     "iopub.status.busy": "2024-03-07T06:31:23.499413Z",
     "iopub.status.idle": "2024-03-07T06:31:23.587028Z",
     "shell.execute_reply": "2024-03-07T06:31:23.585541Z"
    },
    "papermill": {
     "duration": 0.11118,
     "end_time": "2024-03-07T06:31:23.589858",
     "exception": false,
     "start_time": "2024-03-07T06:31:23.478678",
     "status": "completed"
    },
    "tags": []
   },
   "outputs": [],
   "source": [
    "df.to_csv('artwork_title_generator_data.csv', index = False)"
   ]
  }
 ],
 "metadata": {
  "kaggle": {
   "accelerator": "none",
   "dataSources": [
    {
     "databundleVersionId": 7867876,
     "datasetId": 4491410,
     "sourceId": 7766707,
     "sourceType": "datasetVersion"
    }
   ],
   "dockerImageVersionId": 30646,
   "isGpuEnabled": false,
   "isInternetEnabled": true,
   "language": "python",
   "sourceType": "notebook"
  },
  "kernelspec": {
   "display_name": "Python 3",
   "language": "python",
   "name": "python3"
  },
  "language_info": {
   "codemirror_mode": {
    "name": "ipython",
    "version": 3
   },
   "file_extension": ".py",
   "mimetype": "text/x-python",
   "name": "python",
   "nbconvert_exporter": "python",
   "pygments_lexer": "ipython3",
   "version": "3.10.13"
  },
  "papermill": {
   "default_parameters": {},
   "duration": 998.682917,
   "end_time": "2024-03-07T06:31:26.344015",
   "environment_variables": {},
   "exception": null,
   "input_path": "__notebook__.ipynb",
   "output_path": "__notebook__.ipynb",
   "parameters": {},
   "start_time": "2024-03-07T06:14:47.661098",
   "version": "2.5.0"
  }
 },
 "nbformat": 4,
 "nbformat_minor": 5
}
