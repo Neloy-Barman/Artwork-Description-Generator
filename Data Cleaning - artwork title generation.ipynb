{
 "cells": [
  {
   "cell_type": "markdown",
   "id": "501ba26c",
   "metadata": {
    "papermill": {
     "duration": 0.031127,
     "end_time": "2024-03-11T07:52:08.108429",
     "exception": false,
     "start_time": "2024-03-11T07:52:08.077302",
     "status": "completed"
    },
    "tags": []
   },
   "source": [
    "## **Required Installation**"
   ]
  },
  {
   "cell_type": "code",
   "execution_count": 1,
   "id": "0412f7b0",
   "metadata": {
    "_cell_guid": "b1076dfc-b9ad-4769-8c92-a6c4dae69d19",
    "_uuid": "8f2839f25d086af736a60e9eeb907d3b93b6e0e5",
    "execution": {
     "iopub.execute_input": "2024-03-11T07:52:08.174836Z",
     "iopub.status.busy": "2024-03-11T07:52:08.173789Z",
     "iopub.status.idle": "2024-03-11T07:52:30.882879Z",
     "shell.execute_reply": "2024-03-11T07:52:30.881441Z"
    },
    "papermill": {
     "duration": 22.744753,
     "end_time": "2024-03-11T07:52:30.886089",
     "exception": false,
     "start_time": "2024-03-11T07:52:08.141336",
     "status": "completed"
    },
    "tags": []
   },
   "outputs": [],
   "source": [
    "!pip install -q fastai fastbook nbdev transformers deep_translator spacy "
   ]
  },
  {
   "cell_type": "markdown",
   "id": "72f9cc73",
   "metadata": {
    "papermill": {
     "duration": 0.030483,
     "end_time": "2024-03-11T07:52:30.948970",
     "exception": false,
     "start_time": "2024-03-11T07:52:30.918487",
     "status": "completed"
    },
    "tags": []
   },
   "source": [
    "## **Necessary packages**"
   ]
  },
  {
   "cell_type": "code",
   "execution_count": 2,
   "id": "ba03f16f",
   "metadata": {
    "execution": {
     "iopub.execute_input": "2024-03-11T07:52:31.012302Z",
     "iopub.status.busy": "2024-03-11T07:52:31.011799Z",
     "iopub.status.idle": "2024-03-11T07:52:48.836568Z",
     "shell.execute_reply": "2024-03-11T07:52:48.834939Z"
    },
    "papermill": {
     "duration": 17.861639,
     "end_time": "2024-03-11T07:52:48.840726",
     "exception": false,
     "start_time": "2024-03-11T07:52:30.979087",
     "status": "completed"
    },
    "tags": []
   },
   "outputs": [],
   "source": [
    "import re\n",
    "import os\n",
    "import spacy\n",
    "import string\n",
    "import numpy as np\n",
    "import pandas as pd\n",
    "from fastai import *\n",
    "from PIL import Image\n",
    "from fastbook import *\n",
    "from fastai.vision.all import *\n",
    "import matplotlib.pyplot as plt\n",
    "from wordcloud import WordCloud\n",
    "from distutils.dir_util import copy_tree\n",
    "from deep_translator import GoogleTranslator\n",
    "\n",
    "%matplotlib inline"
   ]
  },
  {
   "cell_type": "markdown",
   "id": "e9e28ac5",
   "metadata": {
    "papermill": {
     "duration": 0.03117,
     "end_time": "2024-03-11T07:52:48.908844",
     "exception": false,
     "start_time": "2024-03-11T07:52:48.877674",
     "status": "completed"
    },
    "tags": []
   },
   "source": [
    "## **Initial directory**"
   ]
  },
  {
   "cell_type": "code",
   "execution_count": 3,
   "id": "fc7ca567",
   "metadata": {
    "execution": {
     "iopub.execute_input": "2024-03-11T07:52:48.972378Z",
     "iopub.status.busy": "2024-03-11T07:52:48.971505Z",
     "iopub.status.idle": "2024-03-11T07:52:48.980556Z",
     "shell.execute_reply": "2024-03-11T07:52:48.979557Z"
    },
    "papermill": {
     "duration": 0.044162,
     "end_time": "2024-03-11T07:52:48.983469",
     "exception": false,
     "start_time": "2024-03-11T07:52:48.939307",
     "status": "completed"
    },
    "tags": []
   },
   "outputs": [
    {
     "name": "stdout",
     "output_type": "stream",
     "text": [
      "/kaggle/input/artwork-title-generator\n"
     ]
    }
   ],
   "source": [
    "%cd /kaggle/input/artwork-title-generator"
   ]
  },
  {
   "cell_type": "markdown",
   "id": "2ec77389",
   "metadata": {
    "papermill": {
     "duration": 0.035067,
     "end_time": "2024-03-11T07:52:49.050465",
     "exception": false,
     "start_time": "2024-03-11T07:52:49.015398",
     "status": "completed"
    },
    "tags": []
   },
   "source": [
    "## **Fetching sub-folders**"
   ]
  },
  {
   "cell_type": "code",
   "execution_count": 4,
   "id": "cfc7ddcf",
   "metadata": {
    "execution": {
     "iopub.execute_input": "2024-03-11T07:52:49.115143Z",
     "iopub.status.busy": "2024-03-11T07:52:49.114345Z",
     "iopub.status.idle": "2024-03-11T07:52:49.127401Z",
     "shell.execute_reply": "2024-03-11T07:52:49.126126Z"
    },
    "papermill": {
     "duration": 0.048123,
     "end_time": "2024-03-11T07:52:49.130145",
     "exception": false,
     "start_time": "2024-03-11T07:52:49.082022",
     "status": "completed"
    },
    "tags": []
   },
   "outputs": [
    {
     "data": {
      "text/plain": [
       "['Italy',\n",
       " 'Japan',\n",
       " 'UnitedStates',\n",
       " 'France',\n",
       " 'Netherlands',\n",
       " 'China',\n",
       " 'Germany',\n",
       " 'England']"
      ]
     },
     "execution_count": 4,
     "metadata": {},
     "output_type": "execute_result"
    }
   ],
   "source": [
    "img_folders = os.listdir()\n",
    "img_folders.remove('csvFiles')\n",
    "img_folders.remove('cloud_mask')\n",
    "img_folders.remove('artwork_title_generator_data.csv')\n",
    "img_folders"
   ]
  },
  {
   "cell_type": "markdown",
   "id": "a81f0ffd",
   "metadata": {
    "papermill": {
     "duration": 0.031511,
     "end_time": "2024-03-11T07:52:49.192327",
     "exception": false,
     "start_time": "2024-03-11T07:52:49.160816",
     "status": "completed"
    },
    "tags": []
   },
   "source": [
    "## **Copying files to the working directory**"
   ]
  },
  {
   "cell_type": "code",
   "execution_count": 5,
   "id": "44b5516b",
   "metadata": {
    "execution": {
     "iopub.execute_input": "2024-03-11T07:52:49.256559Z",
     "iopub.status.busy": "2024-03-11T07:52:49.255368Z",
     "iopub.status.idle": "2024-03-11T07:57:51.682160Z",
     "shell.execute_reply": "2024-03-11T07:57:51.679615Z"
    },
    "papermill": {
     "duration": 302.463438,
     "end_time": "2024-03-11T07:57:51.686357",
     "exception": false,
     "start_time": "2024-03-11T07:52:49.222919",
     "status": "completed"
    },
    "tags": []
   },
   "outputs": [],
   "source": [
    "input_path = \"/kaggle/input/artwork-title-generator\"\n",
    "output_path = \"/kaggle/working/images/\"\n",
    "\n",
    "for folder in img_folders:\n",
    "    copy_tree(input_path+'/'+folder, output_path+folder)"
   ]
  },
  {
   "cell_type": "code",
   "execution_count": 6,
   "id": "7cb1784f",
   "metadata": {
    "execution": {
     "iopub.execute_input": "2024-03-11T07:57:51.752183Z",
     "iopub.status.busy": "2024-03-11T07:57:51.751555Z",
     "iopub.status.idle": "2024-03-11T07:57:51.944155Z",
     "shell.execute_reply": "2024-03-11T07:57:51.942845Z"
    },
    "papermill": {
     "duration": 0.228773,
     "end_time": "2024-03-11T07:57:51.947054",
     "exception": false,
     "start_time": "2024-03-11T07:57:51.718281",
     "status": "completed"
    },
    "tags": []
   },
   "outputs": [
    {
     "data": {
      "text/plain": [
       "['/kaggle/working/csvFiles/csvFiles/Italy.csv',\n",
       " '/kaggle/working/csvFiles/csvFiles/France.csv',\n",
       " '/kaggle/working/csvFiles/csvFiles/England.csv',\n",
       " '/kaggle/working/csvFiles/csvFiles/Japan.csv',\n",
       " '/kaggle/working/csvFiles/csvFiles/Netherlands.csv',\n",
       " '/kaggle/working/csvFiles/csvFiles/China.csv',\n",
       " '/kaggle/working/csvFiles/csvFiles/Germany.csv',\n",
       " '/kaggle/working/csvFiles/csvFiles/UnitedStates.csv']"
      ]
     },
     "execution_count": 6,
     "metadata": {},
     "output_type": "execute_result"
    }
   ],
   "source": [
    "input_path = \"/kaggle/input/artwork-title-generator/csvFiles\"\n",
    "output_path = \"/kaggle/working/csvFiles/\"\n",
    "\n",
    "copy_tree(input_path, output_path)"
   ]
  },
  {
   "cell_type": "markdown",
   "id": "5e7b73f2",
   "metadata": {
    "papermill": {
     "duration": 0.030556,
     "end_time": "2024-03-11T07:57:52.009798",
     "exception": false,
     "start_time": "2024-03-11T07:57:51.979242",
     "status": "completed"
    },
    "tags": []
   },
   "source": [
    "## **Working directories initialization**"
   ]
  },
  {
   "cell_type": "code",
   "execution_count": 7,
   "id": "63ce5622",
   "metadata": {
    "execution": {
     "iopub.execute_input": "2024-03-11T07:57:52.074994Z",
     "iopub.status.busy": "2024-03-11T07:57:52.073793Z",
     "iopub.status.idle": "2024-03-11T07:57:52.086103Z",
     "shell.execute_reply": "2024-03-11T07:57:52.084806Z"
    },
    "papermill": {
     "duration": 0.047987,
     "end_time": "2024-03-11T07:57:52.088971",
     "exception": false,
     "start_time": "2024-03-11T07:57:52.040984",
     "status": "completed"
    },
    "tags": []
   },
   "outputs": [
    {
     "name": "stdout",
     "output_type": "stream",
     "text": [
      "/kaggle/working\n"
     ]
    }
   ],
   "source": [
    "%cd /kaggle/working/\n",
    "\n",
    "images_path = \"images/\"\n",
    "csv_path = \"csvFiles/csvFiles\""
   ]
  },
  {
   "cell_type": "markdown",
   "id": "e35d2f71",
   "metadata": {
    "papermill": {
     "duration": 0.030457,
     "end_time": "2024-03-11T07:57:52.150318",
     "exception": false,
     "start_time": "2024-03-11T07:57:52.119861",
     "status": "completed"
    },
    "tags": []
   },
   "source": [
    "## **Fetching sub-folders in the working directory**"
   ]
  },
  {
   "cell_type": "code",
   "execution_count": 8,
   "id": "e842b458",
   "metadata": {
    "execution": {
     "iopub.execute_input": "2024-03-11T07:57:52.215894Z",
     "iopub.status.busy": "2024-03-11T07:57:52.215327Z",
     "iopub.status.idle": "2024-03-11T07:57:52.224189Z",
     "shell.execute_reply": "2024-03-11T07:57:52.222883Z"
    },
    "papermill": {
     "duration": 0.045021,
     "end_time": "2024-03-11T07:57:52.226577",
     "exception": false,
     "start_time": "2024-03-11T07:57:52.181556",
     "status": "completed"
    },
    "tags": []
   },
   "outputs": [
    {
     "data": {
      "text/plain": [
       "['Germany',\n",
       " 'Italy',\n",
       " 'Japan',\n",
       " 'UnitedStates',\n",
       " 'England',\n",
       " 'Netherlands',\n",
       " 'France',\n",
       " 'China']"
      ]
     },
     "execution_count": 8,
     "metadata": {},
     "output_type": "execute_result"
    }
   ],
   "source": [
    "img_folders = os.listdir(images_path)\n",
    "img_folders"
   ]
  },
  {
   "cell_type": "markdown",
   "id": "bf336bfe",
   "metadata": {
    "papermill": {
     "duration": 0.033654,
     "end_time": "2024-03-11T07:57:52.294767",
     "exception": false,
     "start_time": "2024-03-11T07:57:52.261113",
     "status": "completed"
    },
    "tags": []
   },
   "source": [
    "## **Function to view images distribution**"
   ]
  },
  {
   "cell_type": "code",
   "execution_count": 9,
   "id": "6c901e69",
   "metadata": {
    "execution": {
     "iopub.execute_input": "2024-03-11T07:57:52.366360Z",
     "iopub.status.busy": "2024-03-11T07:57:52.365794Z",
     "iopub.status.idle": "2024-03-11T07:57:52.378387Z",
     "shell.execute_reply": "2024-03-11T07:57:52.377120Z"
    },
    "papermill": {
     "duration": 0.054714,
     "end_time": "2024-03-11T07:57:52.382277",
     "exception": false,
     "start_time": "2024-03-11T07:57:52.327563",
     "status": "completed"
    },
    "tags": []
   },
   "outputs": [],
   "source": [
    "def plot_images_distribution(dic):\n",
    "  labels = dic.keys()\n",
    "  number_of_images = list(dic.values())\n",
    "  range_y = [ i for i in range(0, 14000, 2000)]\n",
    "  plt.ylim(range_y[0], range_y[len(range_y)-1])\n",
    "  plt.bar(labels, number_of_images)\n",
    "  plt.xlabel('Labels')\n",
    "  plt.xticks(rotation=90)\n",
    "  plt.ylabel('Number of images')\n",
    "  plt.title('Images distribiution')\n",
    "    \n",
    "  for i in range(len(number_of_images)):\n",
    "    val = number_of_images[i]\n",
    "    plt.text(i, val+0.5, str(val), ha='center', va='bottom')\n",
    "\n",
    "  plt.show()"
   ]
  },
  {
   "cell_type": "markdown",
   "id": "4ef095a6",
   "metadata": {
    "papermill": {
     "duration": 0.037024,
     "end_time": "2024-03-11T07:57:52.460381",
     "exception": false,
     "start_time": "2024-03-11T07:57:52.423357",
     "status": "completed"
    },
    "tags": []
   },
   "source": [
    "## **Number of images within folders**"
   ]
  },
  {
   "cell_type": "code",
   "execution_count": 10,
   "id": "b4c9536c",
   "metadata": {
    "execution": {
     "iopub.execute_input": "2024-03-11T07:57:52.526849Z",
     "iopub.status.busy": "2024-03-11T07:57:52.525696Z",
     "iopub.status.idle": "2024-03-11T07:57:52.533281Z",
     "shell.execute_reply": "2024-03-11T07:57:52.531839Z"
    },
    "papermill": {
     "duration": 0.043225,
     "end_time": "2024-03-11T07:57:52.535917",
     "exception": false,
     "start_time": "2024-03-11T07:57:52.492692",
     "status": "completed"
    },
    "tags": []
   },
   "outputs": [],
   "source": [
    "def img_numbers() -> dict: return { folder_name: len(get_image_files_sorted(images_path+'/'+folder_name)) for folder_name in img_folders}"
   ]
  },
  {
   "cell_type": "markdown",
   "id": "8634eb7a",
   "metadata": {
    "papermill": {
     "duration": 0.031022,
     "end_time": "2024-03-11T07:57:52.598170",
     "exception": false,
     "start_time": "2024-03-11T07:57:52.567148",
     "status": "completed"
    },
    "tags": []
   },
   "source": [
    "## **Viewing initial images distribution**"
   ]
  },
  {
   "cell_type": "code",
   "execution_count": 11,
   "id": "aefc8347",
   "metadata": {
    "execution": {
     "iopub.execute_input": "2024-03-11T07:57:52.664140Z",
     "iopub.status.busy": "2024-03-11T07:57:52.662681Z",
     "iopub.status.idle": "2024-03-11T07:57:54.610344Z",
     "shell.execute_reply": "2024-03-11T07:57:54.609075Z"
    },
    "papermill": {
     "duration": 1.984679,
     "end_time": "2024-03-11T07:57:54.613897",
     "exception": false,
     "start_time": "2024-03-11T07:57:52.629218",
     "status": "completed"
    },
    "tags": []
   },
   "outputs": [
    {
     "data": {
      "image/png": "[encoded data removed]",
      "text/plain": [
       "<Figure size 640x480 with 1 Axes>"
      ]
     },
     "metadata": {},
     "output_type": "display_data"
    }
   ],
   "source": [
    "img_dict = img_numbers()\n",
    "# print(img_dict)\n",
    "plot_images_distribution(img_dict)"
   ]
  },
  {
   "cell_type": "markdown",
   "id": "bc0daece",
   "metadata": {
    "papermill": {
     "duration": 0.031631,
     "end_time": "2024-03-11T07:57:54.678776",
     "exception": false,
     "start_time": "2024-03-11T07:57:54.647145",
     "status": "completed"
    },
    "tags": []
   },
   "source": [
    "## **Function to verify images**"
   ]
  },
  {
   "cell_type": "code",
   "execution_count": 12,
   "id": "6bf0396e",
   "metadata": {
    "execution": {
     "iopub.execute_input": "2024-03-11T07:57:54.744863Z",
     "iopub.status.busy": "2024-03-11T07:57:54.744353Z",
     "iopub.status.idle": "2024-03-11T07:57:54.750418Z",
     "shell.execute_reply": "2024-03-11T07:57:54.749289Z"
    },
    "papermill": {
     "duration": 0.04242,
     "end_time": "2024-03-11T07:57:54.752919",
     "exception": false,
     "start_time": "2024-03-11T07:57:54.710499",
     "status": "completed"
    },
    "tags": []
   },
   "outputs": [],
   "source": [
    "def image_verification(path, folders):\n",
    "  for folder in folders:\n",
    "    failed = verify_images(get_image_files_sorted(path+'/'+folder))\n",
    "    for img in failed:\n",
    "      os.remove(img)"
   ]
  },
  {
   "cell_type": "markdown",
   "id": "7a3ad79d",
   "metadata": {
    "papermill": {
     "duration": 0.031497,
     "end_time": "2024-03-11T07:57:54.816247",
     "exception": false,
     "start_time": "2024-03-11T07:57:54.784750",
     "status": "completed"
    },
    "tags": []
   },
   "source": [
    "## **Verifying images**"
   ]
  },
  {
   "cell_type": "code",
   "execution_count": 13,
   "id": "d19d8901",
   "metadata": {
    "execution": {
     "iopub.execute_input": "2024-03-11T07:57:54.883126Z",
     "iopub.status.busy": "2024-03-11T07:57:54.882253Z",
     "iopub.status.idle": "2024-03-11T08:02:25.856073Z",
     "shell.execute_reply": "2024-03-11T08:02:25.854562Z"
    },
    "papermill": {
     "duration": 271.011371,
     "end_time": "2024-03-11T08:02:25.859662",
     "exception": false,
     "start_time": "2024-03-11T07:57:54.848291",
     "status": "completed"
    },
    "tags": []
   },
   "outputs": [],
   "source": [
    "image_verification(path = images_path, folders = img_folders)"
   ]
  },
  {
   "cell_type": "markdown",
   "id": "04aff268",
   "metadata": {
    "papermill": {
     "duration": 0.032092,
     "end_time": "2024-03-11T08:02:25.925259",
     "exception": false,
     "start_time": "2024-03-11T08:02:25.893167",
     "status": "completed"
    },
    "tags": []
   },
   "source": [
    "## **Images distribution after cleaning**"
   ]
  },
  {
   "cell_type": "code",
   "execution_count": 14,
   "id": "d9071763",
   "metadata": {
    "execution": {
     "iopub.execute_input": "2024-03-11T08:02:25.993419Z",
     "iopub.status.busy": "2024-03-11T08:02:25.992360Z",
     "iopub.status.idle": "2024-03-11T08:02:27.263831Z",
     "shell.execute_reply": "2024-03-11T08:02:27.262518Z"
    },
    "papermill": {
     "duration": 1.309087,
     "end_time": "2024-03-11T08:02:27.266515",
     "exception": false,
     "start_time": "2024-03-11T08:02:25.957428",
     "status": "completed"
    },
    "tags": []
   },
   "outputs": [
    {
     "data": {
      "image/png": "[encoded data removed]",
      "text/plain": [
       "<Figure size 640x480 with 1 Axes>"
      ]
     },
     "metadata": {},
     "output_type": "display_data"
    }
   ],
   "source": [
    "img_dict = img_numbers()\n",
    "plot_images_distribution(img_dict)"
   ]
  },
  {
   "cell_type": "markdown",
   "id": "94229f2e",
   "metadata": {
    "papermill": {
     "duration": 0.03228,
     "end_time": "2024-03-11T08:02:27.331800",
     "exception": false,
     "start_time": "2024-03-11T08:02:27.299520",
     "status": "completed"
    },
    "tags": []
   },
   "source": [
    "## **Identifying grayscale images**"
   ]
  },
  {
   "cell_type": "code",
   "execution_count": 15,
   "id": "5786e68f",
   "metadata": {
    "execution": {
     "iopub.execute_input": "2024-03-11T08:02:27.402805Z",
     "iopub.status.busy": "2024-03-11T08:02:27.401808Z",
     "iopub.status.idle": "2024-03-11T08:13:51.314569Z",
     "shell.execute_reply": "2024-03-11T08:13:51.312802Z"
    },
    "papermill": {
     "duration": 683.984991,
     "end_time": "2024-03-11T08:13:51.351274",
     "exception": false,
     "start_time": "2024-03-11T08:02:27.366283",
     "status": "completed"
    },
    "tags": []
   },
   "outputs": [
    {
     "data": {
      "text/plain": [
       "56"
      ]
     },
     "execution_count": 15,
     "metadata": {},
     "output_type": "execute_result"
    }
   ],
   "source": [
    "gray_scale_images = [image_path for folder in img_folders for image_path in get_image_files_sorted(images_path+'/'+folder) if np.array(Image.open(image_path)).ndim not in [3,4]]\n",
    "len(gray_scale_images)"
   ]
  },
  {
   "cell_type": "markdown",
   "id": "2b567bd6",
   "metadata": {
    "papermill": {
     "duration": 0.033591,
     "end_time": "2024-03-11T08:13:51.419831",
     "exception": false,
     "start_time": "2024-03-11T08:13:51.386240",
     "status": "completed"
    },
    "tags": []
   },
   "source": [
    "## **Removing grayscale images**"
   ]
  },
  {
   "cell_type": "code",
   "execution_count": 16,
   "id": "f21f531a",
   "metadata": {
    "execution": {
     "iopub.execute_input": "2024-03-11T08:13:51.490550Z",
     "iopub.status.busy": "2024-03-11T08:13:51.490011Z",
     "iopub.status.idle": "2024-03-11T08:13:51.501974Z",
     "shell.execute_reply": "2024-03-11T08:13:51.500283Z"
    },
    "papermill": {
     "duration": 0.052272,
     "end_time": "2024-03-11T08:13:51.505618",
     "exception": false,
     "start_time": "2024-03-11T08:13:51.453346",
     "status": "completed"
    },
    "tags": []
   },
   "outputs": [],
   "source": [
    "for path in gray_scale_images: \n",
    "    os.remove(path)"
   ]
  },
  {
   "cell_type": "markdown",
   "id": "13d8dde1",
   "metadata": {
    "papermill": {
     "duration": 0.032736,
     "end_time": "2024-03-11T08:13:51.571911",
     "exception": false,
     "start_time": "2024-03-11T08:13:51.539175",
     "status": "completed"
    },
    "tags": []
   },
   "source": [
    "## **Images distribution after removal**"
   ]
  },
  {
   "cell_type": "code",
   "execution_count": 17,
   "id": "e1cd0a5e",
   "metadata": {
    "execution": {
     "iopub.execute_input": "2024-03-11T08:13:51.641467Z",
     "iopub.status.busy": "2024-03-11T08:13:51.640933Z",
     "iopub.status.idle": "2024-03-11T08:13:53.498835Z",
     "shell.execute_reply": "2024-03-11T08:13:53.497467Z"
    },
    "papermill": {
     "duration": 1.896656,
     "end_time": "2024-03-11T08:13:53.501731",
     "exception": false,
     "start_time": "2024-03-11T08:13:51.605075",
     "status": "completed"
    },
    "tags": []
   },
   "outputs": [
    {
     "data": {
      "image/png": "[encoded data removed]",
      "text/plain": [
       "<Figure size 640x480 with 1 Axes>"
      ]
     },
     "metadata": {},
     "output_type": "display_data"
    }
   ],
   "source": [
    "img_dict = img_numbers()\n",
    "plot_images_distribution(img_dict)"
   ]
  },
  {
   "cell_type": "markdown",
   "id": "dcb47cdd",
   "metadata": {
    "papermill": {
     "duration": 0.033656,
     "end_time": "2024-03-11T08:13:53.569673",
     "exception": false,
     "start_time": "2024-03-11T08:13:53.536017",
     "status": "completed"
    },
    "tags": []
   },
   "source": [
    "## **Fetching csv files**"
   ]
  },
  {
   "cell_type": "code",
   "execution_count": 18,
   "id": "766c4ae4",
   "metadata": {
    "execution": {
     "iopub.execute_input": "2024-03-11T08:13:53.641200Z",
     "iopub.status.busy": "2024-03-11T08:13:53.640600Z",
     "iopub.status.idle": "2024-03-11T08:13:53.649674Z",
     "shell.execute_reply": "2024-03-11T08:13:53.648660Z"
    },
    "papermill": {
     "duration": 0.047726,
     "end_time": "2024-03-11T08:13:53.652143",
     "exception": false,
     "start_time": "2024-03-11T08:13:53.604417",
     "status": "completed"
    },
    "tags": []
   },
   "outputs": [
    {
     "data": {
      "text/plain": [
       "['UnitedStates.csv',\n",
       " 'England.csv',\n",
       " 'France.csv',\n",
       " 'Italy.csv',\n",
       " 'Germany.csv',\n",
       " 'China.csv',\n",
       " 'Japan.csv',\n",
       " 'Netherlands.csv']"
      ]
     },
     "execution_count": 18,
     "metadata": {},
     "output_type": "execute_result"
    }
   ],
   "source": [
    "files = os.listdir(csv_path)\n",
    "files"
   ]
  },
  {
   "cell_type": "markdown",
   "id": "edae3535",
   "metadata": {
    "papermill": {
     "duration": 0.0363,
     "end_time": "2024-03-11T08:13:53.723159",
     "exception": false,
     "start_time": "2024-03-11T08:13:53.686859",
     "status": "completed"
    },
    "tags": []
   },
   "source": [
    "## **Merging and creation of a dataframe**"
   ]
  },
  {
   "cell_type": "code",
   "execution_count": 19,
   "id": "2624d298",
   "metadata": {
    "execution": {
     "iopub.execute_input": "2024-03-11T08:13:53.794679Z",
     "iopub.status.busy": "2024-03-11T08:13:53.794095Z",
     "iopub.status.idle": "2024-03-11T08:13:54.193547Z",
     "shell.execute_reply": "2024-03-11T08:13:54.191876Z"
    },
    "papermill": {
     "duration": 0.438731,
     "end_time": "2024-03-11T08:13:54.196871",
     "exception": false,
     "start_time": "2024-03-11T08:13:53.758140",
     "status": "completed"
    },
    "tags": []
   },
   "outputs": [],
   "source": [
    "df = pd.DataFrame()\n",
    "for file in files:\n",
    "  data_frame = pd.read_csv(f\"{csv_path}/{file}\")\n",
    "  df = pd.concat([df, data_frame], ignore_index = True)"
   ]
  },
  {
   "cell_type": "markdown",
   "id": "a24063fa",
   "metadata": {
    "papermill": {
     "duration": 0.034557,
     "end_time": "2024-03-11T08:13:54.265679",
     "exception": false,
     "start_time": "2024-03-11T08:13:54.231122",
     "status": "completed"
    },
    "tags": []
   },
   "source": [
    "## **Viewing dataframe**"
   ]
  },
  {
   "cell_type": "code",
   "execution_count": 20,
   "id": "39a49ff7",
   "metadata": {
    "execution": {
     "iopub.execute_input": "2024-03-11T08:13:54.337686Z",
     "iopub.status.busy": "2024-03-11T08:13:54.337097Z",
     "iopub.status.idle": "2024-03-11T08:13:54.367241Z",
     "shell.execute_reply": "2024-03-11T08:13:54.365576Z"
    },
    "papermill": {
     "duration": 0.071478,
     "end_time": "2024-03-11T08:13:54.371156",
     "exception": false,
     "start_time": "2024-03-11T08:13:54.299678",
     "status": "completed"
    },
    "tags": []
   },
   "outputs": [
    {
     "data": {
      "text/html": [
       "<div>\n",
       "<style scoped>\n",
       "    .dataframe tbody tr th:only-of-type {\n",
       "        vertical-align: middle;\n",
       "    }\n",
       "\n",
       "    .dataframe tbody tr th {\n",
       "        vertical-align: top;\n",
       "    }\n",
       "\n",
       "    .dataframe thead th {\n",
       "        text-align: right;\n",
       "    }\n",
       "</style>\n",
       "<table border=\"1\" class=\"dataframe\">\n",
       "  <thead>\n",
       "    <tr style=\"text-align: right;\">\n",
       "      <th></th>\n",
       "      <th>ids</th>\n",
       "      <th>artists</th>\n",
       "      <th>mediums</th>\n",
       "      <th>titles</th>\n",
       "      <th>descriptions</th>\n",
       "      <th>urls</th>\n",
       "    </tr>\n",
       "  </thead>\n",
       "  <tbody>\n",
       "    <tr>\n",
       "      <th>0</th>\n",
       "      <td>usa_1</td>\n",
       "      <td>Alma Thomas</td>\n",
       "      <td>Acrylic on canvas</td>\n",
       "      <td>Starry Night and the Astronauts</td>\n",
       "      <td>After decades as a representational painter, in her seventies Alma Thomas turned to abstraction, creating shimmering, mosaic-like fields of color with rhythmic dabs of paint that were often inspired by forms from nature. The artist had been fascinated with space exploration since the late 1960s, and her later paintings often referenced America’s manned Apollo missions to the moon. Although she had never flown, Thomas began to paint as if she were in an airplane, capturing what she described as shifting patterns of light and streaks of color. “You look down on things,” she explained. “You s...</td>\n",
       "      <td>https://www.artic.edu/artworks/129884/starry-night-and-the-astronauts</td>\n",
       "    </tr>\n",
       "    <tr>\n",
       "      <th>1</th>\n",
       "      <td>usa_2</td>\n",
       "      <td>Kerry James Marshall</td>\n",
       "      <td>Acrylic on paper mounted on canvas</td>\n",
       "      <td>Many Mansions</td>\n",
       "      <td>Many Mansions is the first in Kerry James Marshall’s series of five large-scale paintings depicting public housing projects in Chicago and Los Angeles such as Rockwell Gardens, Wentworth Gardens, or, as in Many Mansions, Stateway Gardens. Struck by the absurdity of the term “garden” to describe these failed solutions to low-income housing, Marshall was inspired to represent the profound contradictions of living in such an environment. Many Mansions is filled with ironic and startling juxtapositions of the real and artificial—from the unnaturally cheerful landscape to the three haunting, eb...</td>\n",
       "      <td>https://www.artic.edu/artworks/137125/many-mansions</td>\n",
       "    </tr>\n",
       "    <tr>\n",
       "      <th>2</th>\n",
       "      <td>usa_3</td>\n",
       "      <td>Joan Mitchell</td>\n",
       "      <td>Oil on linen</td>\n",
       "      <td>City Landscape</td>\n",
       "      <td>Although influenced by Abstract Expressionist artists in New York in the early 1950s, Joan Mitchell did not prioritize self-expression: her often exuberant abstractions were “about landscape, not about me,” she once explained. Mitchell painted large, light-filled canvases animated by loosely applied skeins of bright color—here infused with the energy of a large metropolis.The title suggests a relationship between the painting’s network of pigments and the nerves or arteries of an urban space. The sense of spontaneity conveyed in City Landscape, however, belies Mitchell’s methods. Unlike ma...</td>\n",
       "      <td>https://www.artic.edu/artworks/86385/city-landscape</td>\n",
       "    </tr>\n",
       "    <tr>\n",
       "      <th>3</th>\n",
       "      <td>usa_4</td>\n",
       "      <td>Richard Hunt</td>\n",
       "      <td>Steel</td>\n",
       "      <td>Hero Construction</td>\n",
       "      <td>Richard Hunt created Hero Construction in 1958, one year after graduating from the School of the Art Institute of Chicago. The sculpture is composed of found objects—old pipes, bits of metal, and automobile parts—that the artist discovered in junkyards and on the street. Using a torch like a paintbrush, Hunt welded these elements into a form that is abstract yet recognizable.Hunt was fascinated with mythology, and Hero Construction can be related to other sculptures past and present, from ancient statues of Greek heroes to modern monuments of statesmen. The modest but monumental stance of ...</td>\n",
       "      <td>https://www.artic.edu/artworks/8633/hero-construction</td>\n",
       "    </tr>\n",
       "    <tr>\n",
       "      <th>4</th>\n",
       "      <td>usa_5</td>\n",
       "      <td>Edward Hopper</td>\n",
       "      <td>Oil on canvas</td>\n",
       "      <td>Nighthawks</td>\n",
       "      <td>About Nighthawks Edward Hopper recollected, “unconsciously, probably, I was painting the loneliness of a large city.” In an all-night diner, three customers sit at the counter opposite a server, each appear to be lost in thought and disengaged from one another. The composition is tightly organized and spare in details: there is no entrance to the establishment, no debris on the streets. Through harmonious geometric forms and the glow of the diner’s electric lighting, Hopper created a serene, beautiful, yet enigmatic scene. Although inspired by a restaurant Hopper had seen on Greenwich Aven...</td>\n",
       "      <td>https://www.artic.edu/artworks/111628/nighthawks</td>\n",
       "    </tr>\n",
       "  </tbody>\n",
       "</table>\n",
       "</div>"
      ],
      "text/plain": [
       "     ids               artists                             mediums  \\\n",
       "0  usa_1           Alma Thomas                   Acrylic on canvas   \n",
       "1  usa_2  Kerry James Marshall  Acrylic on paper mounted on canvas   \n",
       "2  usa_3         Joan Mitchell                        Oil on linen   \n",
       "3  usa_4          Richard Hunt                               Steel   \n",
       "4  usa_5         Edward Hopper                       Oil on canvas   \n",
       "\n",
       "                            titles  \\\n",
       "0  Starry Night and the Astronauts   \n",
       "1                    Many Mansions   \n",
       "2                   City Landscape   \n",
       "3                Hero Construction   \n",
       "4                       Nighthawks   \n",
       "\n",
       "                                                                                                                                                                                                                                                                                                                                                                                                                                                                                                                                                                                                              descriptions  \\\n",
       "0  After decades as a representational painter, in her seventies Alma Thomas turned to abstraction, creating shimmering, mosaic-like fields of color with rhythmic dabs of paint that were often inspired by forms from nature. The artist had been fascinated with space exploration since the late 1960s, and her later paintings often referenced America’s manned Apollo missions to the moon. Although she had never flown, Thomas began to paint as if she were in an airplane, capturing what she described as shifting patterns of light and streaks of color. “You look down on things,” she explained. “You s...   \n",
       "1  Many Mansions is the first in Kerry James Marshall’s series of five large-scale paintings depicting public housing projects in Chicago and Los Angeles such as Rockwell Gardens, Wentworth Gardens, or, as in Many Mansions, Stateway Gardens. Struck by the absurdity of the term “garden” to describe these failed solutions to low-income housing, Marshall was inspired to represent the profound contradictions of living in such an environment. Many Mansions is filled with ironic and startling juxtapositions of the real and artificial—from the unnaturally cheerful landscape to the three haunting, eb...   \n",
       "2  Although influenced by Abstract Expressionist artists in New York in the early 1950s, Joan Mitchell did not prioritize self-expression: her often exuberant abstractions were “about landscape, not about me,” she once explained. Mitchell painted large, light-filled canvases animated by loosely applied skeins of bright color—here infused with the energy of a large metropolis.The title suggests a relationship between the painting’s network of pigments and the nerves or arteries of an urban space. The sense of spontaneity conveyed in City Landscape, however, belies Mitchell’s methods. Unlike ma...   \n",
       "3  Richard Hunt created Hero Construction in 1958, one year after graduating from the School of the Art Institute of Chicago. The sculpture is composed of found objects—old pipes, bits of metal, and automobile parts—that the artist discovered in junkyards and on the street. Using a torch like a paintbrush, Hunt welded these elements into a form that is abstract yet recognizable.Hunt was fascinated with mythology, and Hero Construction can be related to other sculptures past and present, from ancient statues of Greek heroes to modern monuments of statesmen. The modest but monumental stance of ...   \n",
       "4  About Nighthawks Edward Hopper recollected, “unconsciously, probably, I was painting the loneliness of a large city.” In an all-night diner, three customers sit at the counter opposite a server, each appear to be lost in thought and disengaged from one another. The composition is tightly organized and spare in details: there is no entrance to the establishment, no debris on the streets. Through harmonious geometric forms and the glow of the diner’s electric lighting, Hopper created a serene, beautiful, yet enigmatic scene. Although inspired by a restaurant Hopper had seen on Greenwich Aven...   \n",
       "\n",
       "                                                                    urls  \n",
       "0  https://www.artic.edu/artworks/129884/starry-night-and-the-astronauts  \n",
       "1                    https://www.artic.edu/artworks/137125/many-mansions  \n",
       "2                    https://www.artic.edu/artworks/86385/city-landscape  \n",
       "3                  https://www.artic.edu/artworks/8633/hero-construction  \n",
       "4                       https://www.artic.edu/artworks/111628/nighthawks  "
      ]
     },
     "execution_count": 20,
     "metadata": {},
     "output_type": "execute_result"
    }
   ],
   "source": [
    "df.head()"
   ]
  },
  {
   "cell_type": "markdown",
   "id": "2d0d234f",
   "metadata": {
    "papermill": {
     "duration": 0.034548,
     "end_time": "2024-03-11T08:13:54.443362",
     "exception": false,
     "start_time": "2024-03-11T08:13:54.408814",
     "status": "completed"
    },
    "tags": []
   },
   "source": [
    "## **Function to view shape**"
   ]
  },
  {
   "cell_type": "code",
   "execution_count": 21,
   "id": "b71e5e6f",
   "metadata": {
    "execution": {
     "iopub.execute_input": "2024-03-11T08:13:54.516423Z",
     "iopub.status.busy": "2024-03-11T08:13:54.515910Z",
     "iopub.status.idle": "2024-03-11T08:13:54.522464Z",
     "shell.execute_reply": "2024-03-11T08:13:54.521228Z"
    },
    "papermill": {
     "duration": 0.04615,
     "end_time": "2024-03-11T08:13:54.525197",
     "exception": false,
     "start_time": "2024-03-11T08:13:54.479047",
     "status": "completed"
    },
    "tags": []
   },
   "outputs": [],
   "source": [
    "def df_shape(df):\n",
    "  print(f'Number of rows: {df.shape[0]}')\n",
    "  print(f'Number of columns: {df.shape[1]}')"
   ]
  },
  {
   "cell_type": "markdown",
   "id": "1f5d7c0b",
   "metadata": {
    "papermill": {
     "duration": 0.034796,
     "end_time": "2024-03-11T08:13:54.594876",
     "exception": false,
     "start_time": "2024-03-11T08:13:54.560080",
     "status": "completed"
    },
    "tags": []
   },
   "source": [
    "## **Viewing dataframe shape**"
   ]
  },
  {
   "cell_type": "code",
   "execution_count": 22,
   "id": "1825a8c5",
   "metadata": {
    "execution": {
     "iopub.execute_input": "2024-03-11T08:13:54.665841Z",
     "iopub.status.busy": "2024-03-11T08:13:54.665335Z",
     "iopub.status.idle": "2024-03-11T08:13:54.671543Z",
     "shell.execute_reply": "2024-03-11T08:13:54.670275Z"
    },
    "papermill": {
     "duration": 0.044913,
     "end_time": "2024-03-11T08:13:54.674039",
     "exception": false,
     "start_time": "2024-03-11T08:13:54.629126",
     "status": "completed"
    },
    "tags": []
   },
   "outputs": [
    {
     "name": "stdout",
     "output_type": "stream",
     "text": [
      "Number of rows: 47115\n",
      "Number of columns: 6\n"
     ]
    }
   ],
   "source": [
    "df_shape(df)"
   ]
  },
  {
   "cell_type": "markdown",
   "id": "640b269f",
   "metadata": {
    "papermill": {
     "duration": 0.034247,
     "end_time": "2024-03-11T08:13:54.744043",
     "exception": false,
     "start_time": "2024-03-11T08:13:54.709796",
     "status": "completed"
    },
    "tags": []
   },
   "source": [
    "## **Checking NaN values**"
   ]
  },
  {
   "cell_type": "code",
   "execution_count": 23,
   "id": "35c5f912",
   "metadata": {
    "execution": {
     "iopub.execute_input": "2024-03-11T08:13:54.817293Z",
     "iopub.status.busy": "2024-03-11T08:13:54.816744Z",
     "iopub.status.idle": "2024-03-11T08:13:54.859289Z",
     "shell.execute_reply": "2024-03-11T08:13:54.858281Z"
    },
    "papermill": {
     "duration": 0.081522,
     "end_time": "2024-03-11T08:13:54.861860",
     "exception": false,
     "start_time": "2024-03-11T08:13:54.780338",
     "status": "completed"
    },
    "tags": []
   },
   "outputs": [
    {
     "data": {
      "text/plain": [
       "ids                 0\n",
       "artists          7129\n",
       "mediums           307\n",
       "titles              5\n",
       "descriptions    41962\n",
       "urls                0\n",
       "dtype: int64"
      ]
     },
     "execution_count": 23,
     "metadata": {},
     "output_type": "execute_result"
    }
   ],
   "source": [
    "df.isna().sum()"
   ]
  },
  {
   "cell_type": "markdown",
   "id": "e927a2db",
   "metadata": {
    "papermill": {
     "duration": 0.034463,
     "end_time": "2024-03-11T08:13:54.932119",
     "exception": false,
     "start_time": "2024-03-11T08:13:54.897656",
     "status": "completed"
    },
    "tags": []
   },
   "source": [
    "## **Fetching working image ids** "
   ]
  },
  {
   "cell_type": "code",
   "execution_count": 24,
   "id": "74993aba",
   "metadata": {
    "execution": {
     "iopub.execute_input": "2024-03-11T08:13:55.005639Z",
     "iopub.status.busy": "2024-03-11T08:13:55.004211Z",
     "iopub.status.idle": "2024-03-11T08:13:56.184046Z",
     "shell.execute_reply": "2024-03-11T08:13:56.182556Z"
    },
    "papermill": {
     "duration": 1.219656,
     "end_time": "2024-03-11T08:13:56.186935",
     "exception": false,
     "start_time": "2024-03-11T08:13:54.967279",
     "status": "completed"
    },
    "tags": []
   },
   "outputs": [
    {
     "data": {
      "text/plain": [
       "46016"
      ]
     },
     "execution_count": 24,
     "metadata": {},
     "output_type": "execute_result"
    }
   ],
   "source": [
    "img_ids = []\n",
    "\n",
    "for folder in img_folders:\n",
    "  temp = [str(path).split(\"/\")[3].split(\".\")[0] for path in get_image_files_sorted(f\"{images_path}{folder}/\")]\n",
    "  img_ids.extend(temp)\n",
    "len(img_ids)"
   ]
  },
  {
   "cell_type": "markdown",
   "id": "b68b2d85",
   "metadata": {
    "papermill": {
     "duration": 0.035771,
     "end_time": "2024-03-11T08:13:56.258677",
     "exception": false,
     "start_time": "2024-03-11T08:13:56.222906",
     "status": "completed"
    },
    "tags": []
   },
   "source": [
    "## **Fetching corrupted image ids**"
   ]
  },
  {
   "cell_type": "code",
   "execution_count": 25,
   "id": "bf425119",
   "metadata": {
    "execution": {
     "iopub.execute_input": "2024-03-11T08:13:56.332267Z",
     "iopub.status.busy": "2024-03-11T08:13:56.331690Z",
     "iopub.status.idle": "2024-03-11T08:14:22.579705Z",
     "shell.execute_reply": "2024-03-11T08:14:22.578347Z"
    },
    "papermill": {
     "duration": 26.288271,
     "end_time": "2024-03-11T08:14:22.582878",
     "exception": false,
     "start_time": "2024-03-11T08:13:56.294607",
     "status": "completed"
    },
    "tags": []
   },
   "outputs": [
    {
     "data": {
      "text/plain": [
       "1099"
      ]
     },
     "execution_count": 25,
     "metadata": {},
     "output_type": "execute_result"
    }
   ],
   "source": [
    "corrupted_image_indices_to_drop = [index for index in range(len(df)) if df.iloc[index]['ids'] not in img_ids]\n",
    "len(corrupted_image_indices_to_drop)"
   ]
  },
  {
   "cell_type": "markdown",
   "id": "835a9a5e",
   "metadata": {
    "papermill": {
     "duration": 0.035648,
     "end_time": "2024-03-11T08:14:22.656122",
     "exception": false,
     "start_time": "2024-03-11T08:14:22.620474",
     "status": "completed"
    },
    "tags": []
   },
   "source": [
    "## **Removing corrupted image rows** "
   ]
  },
  {
   "cell_type": "code",
   "execution_count": 26,
   "id": "a6a6e861",
   "metadata": {
    "execution": {
     "iopub.execute_input": "2024-03-11T08:14:22.729071Z",
     "iopub.status.busy": "2024-03-11T08:14:22.728539Z",
     "iopub.status.idle": "2024-03-11T08:14:22.755349Z",
     "shell.execute_reply": "2024-03-11T08:14:22.754271Z"
    },
    "papermill": {
     "duration": 0.066919,
     "end_time": "2024-03-11T08:14:22.758265",
     "exception": false,
     "start_time": "2024-03-11T08:14:22.691346",
     "status": "completed"
    },
    "tags": []
   },
   "outputs": [],
   "source": [
    "df = df.drop(corrupted_image_indices_to_drop).reset_index(drop=True)"
   ]
  },
  {
   "cell_type": "markdown",
   "id": "a52f27b8",
   "metadata": {
    "papermill": {
     "duration": 0.035432,
     "end_time": "2024-03-11T08:14:22.830355",
     "exception": false,
     "start_time": "2024-03-11T08:14:22.794923",
     "status": "completed"
    },
    "tags": []
   },
   "source": [
    "## **Images root path**"
   ]
  },
  {
   "cell_type": "code",
   "execution_count": 27,
   "id": "92b1fc2d",
   "metadata": {
    "execution": {
     "iopub.execute_input": "2024-03-11T08:14:22.904519Z",
     "iopub.status.busy": "2024-03-11T08:14:22.903295Z",
     "iopub.status.idle": "2024-03-11T08:14:22.909224Z",
     "shell.execute_reply": "2024-03-11T08:14:22.907968Z"
    },
    "papermill": {
     "duration": 0.045656,
     "end_time": "2024-03-11T08:14:22.912009",
     "exception": false,
     "start_time": "2024-03-11T08:14:22.866353",
     "status": "completed"
    },
    "tags": []
   },
   "outputs": [],
   "source": [
    "images_root_path = \"/kaggle/working/images/\""
   ]
  },
  {
   "cell_type": "markdown",
   "id": "1002ed36",
   "metadata": {
    "papermill": {
     "duration": 0.034958,
     "end_time": "2024-03-11T08:14:22.984186",
     "exception": false,
     "start_time": "2024-03-11T08:14:22.949228",
     "status": "completed"
    },
    "tags": []
   },
   "source": [
    "## **Mapping abbreviations with root folder**"
   ]
  },
  {
   "cell_type": "code",
   "execution_count": 28,
   "id": "233ee905",
   "metadata": {
    "execution": {
     "iopub.execute_input": "2024-03-11T08:14:23.057461Z",
     "iopub.status.busy": "2024-03-11T08:14:23.056922Z",
     "iopub.status.idle": "2024-03-11T08:14:23.063791Z",
     "shell.execute_reply": "2024-03-11T08:14:23.062436Z"
    },
    "papermill": {
     "duration": 0.047085,
     "end_time": "2024-03-11T08:14:23.066374",
     "exception": false,
     "start_time": "2024-03-11T08:14:23.019289",
     "status": "completed"
    },
    "tags": []
   },
   "outputs": [],
   "source": [
    "path_dict = {\n",
    "    'ch' : 'China',\n",
    "    'eng' : 'England',\n",
    "    'Fra' : 'France',\n",
    "    'ger' : 'Germany',\n",
    "    'itl' : 'Italy',\n",
    "    'jp' : 'Japan',\n",
    "    'nl' : 'Netherlands',\n",
    "    'usa' : 'UnitedStates'    \n",
    "}"
   ]
  },
  {
   "cell_type": "markdown",
   "id": "b04eb543",
   "metadata": {
    "papermill": {
     "duration": 0.034613,
     "end_time": "2024-03-11T08:14:23.137449",
     "exception": false,
     "start_time": "2024-03-11T08:14:23.102836",
     "status": "completed"
    },
    "tags": []
   },
   "source": [
    "## **Listing image paths**"
   ]
  },
  {
   "cell_type": "code",
   "execution_count": 29,
   "id": "faf720b3",
   "metadata": {
    "execution": {
     "iopub.execute_input": "2024-03-11T08:14:23.211091Z",
     "iopub.status.busy": "2024-03-11T08:14:23.210110Z",
     "iopub.status.idle": "2024-03-11T08:14:28.945612Z",
     "shell.execute_reply": "2024-03-11T08:14:28.944131Z"
    },
    "papermill": {
     "duration": 5.777315,
     "end_time": "2024-03-11T08:14:28.949605",
     "exception": false,
     "start_time": "2024-03-11T08:14:23.172290",
     "status": "completed"
    },
    "tags": []
   },
   "outputs": [
    {
     "data": {
      "text/plain": [
       "['/kaggle/working/images/UnitedStates/UnitedStates/usa_1.jpg',\n",
       " '/kaggle/working/images/UnitedStates/UnitedStates/usa_2.jpg',\n",
       " '/kaggle/working/images/UnitedStates/UnitedStates/usa_3.jpg',\n",
       " '/kaggle/working/images/UnitedStates/UnitedStates/usa_4.jpg',\n",
       " '/kaggle/working/images/UnitedStates/UnitedStates/usa_5.jpg']"
      ]
     },
     "execution_count": 29,
     "metadata": {},
     "output_type": "execute_result"
    }
   ],
   "source": [
    "image_paths = [ f\"{images_root_path}{path_dict[df.iloc[i]['ids'].split('_')[0]]}/{path_dict[df.iloc[i]['ids'].split('_')[0]]}/{df.iloc[i]['ids']}.jpg\" for i in range(len(df))]\n",
    "image_paths[:5]"
   ]
  },
  {
   "cell_type": "markdown",
   "id": "07eab0f7",
   "metadata": {
    "papermill": {
     "duration": 0.035293,
     "end_time": "2024-03-11T08:14:29.020541",
     "exception": false,
     "start_time": "2024-03-11T08:14:28.985248",
     "status": "completed"
    },
    "tags": []
   },
   "source": [
    "## **New column with image paths**"
   ]
  },
  {
   "cell_type": "code",
   "execution_count": 30,
   "id": "a06362f3",
   "metadata": {
    "execution": {
     "iopub.execute_input": "2024-03-11T08:14:29.095370Z",
     "iopub.status.busy": "2024-03-11T08:14:29.094425Z",
     "iopub.status.idle": "2024-03-11T08:14:29.107897Z",
     "shell.execute_reply": "2024-03-11T08:14:29.106493Z"
    },
    "papermill": {
     "duration": 0.055095,
     "end_time": "2024-03-11T08:14:29.111193",
     "exception": false,
     "start_time": "2024-03-11T08:14:29.056098",
     "status": "completed"
    },
    "tags": []
   },
   "outputs": [],
   "source": [
    "df['images_path'] = image_paths"
   ]
  },
  {
   "cell_type": "code",
   "execution_count": 31,
   "id": "18293395",
   "metadata": {
    "execution": {
     "iopub.execute_input": "2024-03-11T08:14:29.187118Z",
     "iopub.status.busy": "2024-03-11T08:14:29.185727Z",
     "iopub.status.idle": "2024-03-11T08:14:29.208318Z",
     "shell.execute_reply": "2024-03-11T08:14:29.207271Z"
    },
    "papermill": {
     "duration": 0.063983,
     "end_time": "2024-03-11T08:14:29.211133",
     "exception": false,
     "start_time": "2024-03-11T08:14:29.147150",
     "status": "completed"
    },
    "tags": []
   },
   "outputs": [
    {
     "name": "stdout",
     "output_type": "stream",
     "text": [
      "Number of rows: 46016\n",
      "Number of columns: 3\n"
     ]
    }
   ],
   "source": [
    "df = df.drop(columns=['artists', 'mediums', 'descriptions', 'urls'], axis=1)\n",
    "df_shape(df)"
   ]
  },
  {
   "cell_type": "code",
   "execution_count": 32,
   "id": "fe376fa9",
   "metadata": {
    "execution": {
     "iopub.execute_input": "2024-03-11T08:14:29.285714Z",
     "iopub.status.busy": "2024-03-11T08:14:29.284852Z",
     "iopub.status.idle": "2024-03-11T08:14:29.313073Z",
     "shell.execute_reply": "2024-03-11T08:14:29.311870Z"
    },
    "papermill": {
     "duration": 0.068661,
     "end_time": "2024-03-11T08:14:29.315598",
     "exception": false,
     "start_time": "2024-03-11T08:14:29.246937",
     "status": "completed"
    },
    "tags": []
   },
   "outputs": [
    {
     "data": {
      "text/plain": [
       "ids            0\n",
       "titles         5\n",
       "images_path    0\n",
       "dtype: int64"
      ]
     },
     "execution_count": 32,
     "metadata": {},
     "output_type": "execute_result"
    }
   ],
   "source": [
    "df.isna().sum()"
   ]
  },
  {
   "cell_type": "code",
   "execution_count": 33,
   "id": "4dbba257",
   "metadata": {
    "execution": {
     "iopub.execute_input": "2024-03-11T08:14:29.389630Z",
     "iopub.status.busy": "2024-03-11T08:14:29.388775Z",
     "iopub.status.idle": "2024-03-11T08:14:29.430474Z",
     "shell.execute_reply": "2024-03-11T08:14:29.429267Z"
    },
    "papermill": {
     "duration": 0.082148,
     "end_time": "2024-03-11T08:14:29.433459",
     "exception": false,
     "start_time": "2024-03-11T08:14:29.351311",
     "status": "completed"
    },
    "tags": []
   },
   "outputs": [],
   "source": [
    "df = df.dropna().reset_index(drop=True)"
   ]
  },
  {
   "cell_type": "code",
   "execution_count": 34,
   "id": "04318c2c",
   "metadata": {
    "execution": {
     "iopub.execute_input": "2024-03-11T08:14:29.508027Z",
     "iopub.status.busy": "2024-03-11T08:14:29.507166Z",
     "iopub.status.idle": "2024-03-11T08:14:29.516727Z",
     "shell.execute_reply": "2024-03-11T08:14:29.515487Z"
    },
    "papermill": {
     "duration": 0.049518,
     "end_time": "2024-03-11T08:14:29.519361",
     "exception": false,
     "start_time": "2024-03-11T08:14:29.469843",
     "status": "completed"
    },
    "tags": []
   },
   "outputs": [
    {
     "data": {
      "text/plain": [
       "0                                     Starry Night and the Astronauts\n",
       "1                                                       Many Mansions\n",
       "2                                                      City Landscape\n",
       "3                                                   Hero Construction\n",
       "4                                                          Nighthawks\n",
       "5                                                Blue and Green Music\n",
       "6                                                     American Gothic\n",
       "7                                                          Excavation\n",
       "8                                       Cow’s Skull with Calico Roses\n",
       "9                                                 Sky above Clouds IV\n",
       "10                                                                Mao\n",
       "11                                                           The Rock\n",
       "12                                                     Greyed Rainbow\n",
       "13              That Which I Should Have Done I Did Not Do (The Door)\n",
       "14                                                      Clown Torture\n",
       "15                        Into the World There Came a Soul Called Ida\n",
       "16          E-10: English Dining Room of the Georgian Period, 1770-90\n",
       "17                                    The Shelton with Sunspots, N.Y.\n",
       "18    Triptych Window from the Coonley Playhouse, Riverside, Illinois\n",
       "19                                  Untitled (Purple, White, and Red)\n",
       "Name: titles, dtype: object"
      ]
     },
     "execution_count": 34,
     "metadata": {},
     "output_type": "execute_result"
    }
   ],
   "source": [
    "df['titles'][:20]"
   ]
  },
  {
   "cell_type": "markdown",
   "id": "205aa5f9",
   "metadata": {
    "papermill": {
     "duration": 0.035391,
     "end_time": "2024-03-11T08:14:29.590527",
     "exception": false,
     "start_time": "2024-03-11T08:14:29.555136",
     "status": "completed"
    },
    "tags": []
   },
   "source": [
    "## **Punctuation removal**"
   ]
  },
  {
   "cell_type": "code",
   "execution_count": 35,
   "id": "c723a2a3",
   "metadata": {
    "execution": {
     "iopub.execute_input": "2024-03-11T08:14:29.665695Z",
     "iopub.status.busy": "2024-03-11T08:14:29.665136Z",
     "iopub.status.idle": "2024-03-11T08:14:29.857352Z",
     "shell.execute_reply": "2024-03-11T08:14:29.855999Z"
    },
    "papermill": {
     "duration": 0.233572,
     "end_time": "2024-03-11T08:14:29.860335",
     "exception": false,
     "start_time": "2024-03-11T08:14:29.626763",
     "status": "completed"
    },
    "tags": []
   },
   "outputs": [
    {
     "data": {
      "text/plain": [
       "0                                   Starry Night and the Astronauts\n",
       "1                                                     Many Mansions\n",
       "2                                                    City Landscape\n",
       "3                                                 Hero Construction\n",
       "4                                                        Nighthawks\n",
       "5                                              Blue and Green Music\n",
       "6                                                   American Gothic\n",
       "7                                                        Excavation\n",
       "8                                     Cow’s Skull with Calico Roses\n",
       "9                                               Sky above Clouds IV\n",
       "10                                                              Mao\n",
       "11                                                         The Rock\n",
       "12                                                   Greyed Rainbow\n",
       "13              That Which I Should Have Done I Did Not Do The Door\n",
       "14                                                    Clown Torture\n",
       "15                      Into the World There Came a Soul Called Ida\n",
       "16            E10 English Dining Room of the Georgian Period 177090\n",
       "17                                     The Shelton with Sunspots NY\n",
       "18    Triptych Window from the Coonley Playhouse Riverside Illinois\n",
       "19                                    Untitled Purple White and Red\n",
       "Name: titles, dtype: object"
      ]
     },
     "execution_count": 35,
     "metadata": {},
     "output_type": "execute_result"
    }
   ],
   "source": [
    "translation_table = str.maketrans('', '', string.punctuation)\n",
    "df['titles'] = df['titles'].apply(lambda x: x.translate(translation_table).replace('“','').replace('”', '').replace('–',''))\n",
    "df['titles'][:20]"
   ]
  },
  {
   "cell_type": "markdown",
   "id": "7aff84e8",
   "metadata": {
    "papermill": {
     "duration": 0.035825,
     "end_time": "2024-03-11T08:14:29.933255",
     "exception": false,
     "start_time": "2024-03-11T08:14:29.897430",
     "status": "completed"
    },
    "tags": []
   },
   "source": [
    "## **Digits removal**"
   ]
  },
  {
   "cell_type": "code",
   "execution_count": 36,
   "id": "5ac34862",
   "metadata": {
    "execution": {
     "iopub.execute_input": "2024-03-11T08:14:30.008021Z",
     "iopub.status.busy": "2024-03-11T08:14:30.007488Z",
     "iopub.status.idle": "2024-03-11T08:14:30.183077Z",
     "shell.execute_reply": "2024-03-11T08:14:30.181707Z"
    },
    "papermill": {
     "duration": 0.216809,
     "end_time": "2024-03-11T08:14:30.186471",
     "exception": false,
     "start_time": "2024-03-11T08:14:29.969662",
     "status": "completed"
    },
    "tags": []
   },
   "outputs": [
    {
     "data": {
      "text/plain": [
       "0                                   Starry Night and the Astronauts\n",
       "1                                                     Many Mansions\n",
       "2                                                    City Landscape\n",
       "3                                                 Hero Construction\n",
       "4                                                        Nighthawks\n",
       "5                                              Blue and Green Music\n",
       "6                                                   American Gothic\n",
       "7                                                        Excavation\n",
       "8                                     Cow’s Skull with Calico Roses\n",
       "9                                               Sky above Clouds IV\n",
       "10                                                              Mao\n",
       "11                                                         The Rock\n",
       "12                                                   Greyed Rainbow\n",
       "13              That Which I Should Have Done I Did Not Do The Door\n",
       "14                                                    Clown Torture\n",
       "15                      Into the World There Came a Soul Called Ida\n",
       "16                    E English Dining Room of the Georgian Period \n",
       "17                                     The Shelton with Sunspots NY\n",
       "18    Triptych Window from the Coonley Playhouse Riverside Illinois\n",
       "19                                    Untitled Purple White and Red\n",
       "Name: titles, dtype: object"
      ]
     },
     "execution_count": 36,
     "metadata": {},
     "output_type": "execute_result"
    }
   ],
   "source": [
    "# Removing digits\n",
    "df['titles'] = df['titles'].apply(lambda x: re.sub(r'\\d+', '', x))\n",
    "df['titles'][:20]"
   ]
  },
  {
   "cell_type": "markdown",
   "id": "4d0fa946",
   "metadata": {
    "papermill": {
     "duration": 0.036295,
     "end_time": "2024-03-11T08:14:30.261403",
     "exception": false,
     "start_time": "2024-03-11T08:14:30.225108",
     "status": "completed"
    },
    "tags": []
   },
   "source": [
    "## **Lowercasing the title**"
   ]
  },
  {
   "cell_type": "code",
   "execution_count": 37,
   "id": "0699c857",
   "metadata": {
    "execution": {
     "iopub.execute_input": "2024-03-11T08:14:30.338197Z",
     "iopub.status.busy": "2024-03-11T08:14:30.337691Z",
     "iopub.status.idle": "2024-03-11T08:14:30.378173Z",
     "shell.execute_reply": "2024-03-11T08:14:30.376813Z"
    },
    "papermill": {
     "duration": 0.082361,
     "end_time": "2024-03-11T08:14:30.381108",
     "exception": false,
     "start_time": "2024-03-11T08:14:30.298747",
     "status": "completed"
    },
    "tags": []
   },
   "outputs": [
    {
     "data": {
      "text/plain": [
       "0                                   starry night and the astronauts\n",
       "1                                                     many mansions\n",
       "2                                                    city landscape\n",
       "3                                                 hero construction\n",
       "4                                                        nighthawks\n",
       "5                                              blue and green music\n",
       "6                                                   american gothic\n",
       "7                                                        excavation\n",
       "8                                     cow’s skull with calico roses\n",
       "9                                               sky above clouds iv\n",
       "10                                                              mao\n",
       "11                                                         the rock\n",
       "12                                                   greyed rainbow\n",
       "13              that which i should have done i did not do the door\n",
       "14                                                    clown torture\n",
       "15                      into the world there came a soul called ida\n",
       "16                    e english dining room of the georgian period \n",
       "17                                     the shelton with sunspots ny\n",
       "18    triptych window from the coonley playhouse riverside illinois\n",
       "19                                    untitled purple white and red\n",
       "Name: titles, dtype: object"
      ]
     },
     "execution_count": 37,
     "metadata": {},
     "output_type": "execute_result"
    }
   ],
   "source": [
    "# Lowercasing the title\n",
    "df['titles'] = df['titles'].apply(lambda x: x.lower())\n",
    "df['titles'][:20]"
   ]
  },
  {
   "cell_type": "markdown",
   "id": "c2d6aedc",
   "metadata": {
    "papermill": {
     "duration": 0.036528,
     "end_time": "2024-03-11T08:14:30.454601",
     "exception": false,
     "start_time": "2024-03-11T08:14:30.418073",
     "status": "completed"
    },
    "tags": []
   },
   "source": [
    "## **Space Removal**"
   ]
  },
  {
   "cell_type": "code",
   "execution_count": 38,
   "id": "c750d3c1",
   "metadata": {
    "execution": {
     "iopub.execute_input": "2024-03-11T08:14:30.529645Z",
     "iopub.status.busy": "2024-03-11T08:14:30.529142Z",
     "iopub.status.idle": "2024-03-11T08:14:30.604947Z",
     "shell.execute_reply": "2024-03-11T08:14:30.603481Z"
    },
    "papermill": {
     "duration": 0.116621,
     "end_time": "2024-03-11T08:14:30.607746",
     "exception": false,
     "start_time": "2024-03-11T08:14:30.491125",
     "status": "completed"
    },
    "tags": []
   },
   "outputs": [
    {
     "data": {
      "text/plain": [
       "0                                   starry night and the astronauts\n",
       "1                                                     many mansions\n",
       "2                                                    city landscape\n",
       "3                                                 hero construction\n",
       "4                                                        nighthawks\n",
       "5                                              blue and green music\n",
       "6                                                   american gothic\n",
       "7                                                        excavation\n",
       "8                                     cow’s skull with calico roses\n",
       "9                                               sky above clouds iv\n",
       "10                                                              mao\n",
       "11                                                         the rock\n",
       "12                                                   greyed rainbow\n",
       "13              that which i should have done i did not do the door\n",
       "14                                                    clown torture\n",
       "15                      into the world there came a soul called ida\n",
       "16                     e english dining room of the georgian period\n",
       "17                                     the shelton with sunspots ny\n",
       "18    triptych window from the coonley playhouse riverside illinois\n",
       "19                                    untitled purple white and red\n",
       "Name: titles, dtype: object"
      ]
     },
     "execution_count": 38,
     "metadata": {},
     "output_type": "execute_result"
    }
   ],
   "source": [
    "# Removing spaces\n",
    "df['titles'] = df['titles'].apply(lambda x: \" \".join(x.split()))\n",
    "df['titles'][:20]"
   ]
  },
  {
   "cell_type": "markdown",
   "id": "bce92856",
   "metadata": {
    "papermill": {
     "duration": 0.036526,
     "end_time": "2024-03-11T08:14:30.681152",
     "exception": false,
     "start_time": "2024-03-11T08:14:30.644626",
     "status": "completed"
    },
    "tags": []
   },
   "source": [
    "## **Removing empty titles**"
   ]
  },
  {
   "cell_type": "code",
   "execution_count": 39,
   "id": "64af5d7b",
   "metadata": {
    "execution": {
     "iopub.execute_input": "2024-03-11T08:14:30.759341Z",
     "iopub.status.busy": "2024-03-11T08:14:30.758854Z",
     "iopub.status.idle": "2024-03-11T08:14:30.787946Z",
     "shell.execute_reply": "2024-03-11T08:14:30.786533Z"
    },
    "papermill": {
     "duration": 0.072702,
     "end_time": "2024-03-11T08:14:30.790601",
     "exception": false,
     "start_time": "2024-03-11T08:14:30.717899",
     "status": "completed"
    },
    "tags": []
   },
   "outputs": [
    {
     "data": {
      "text/plain": [
       "ids            0\n",
       "titles         0\n",
       "images_path    0\n",
       "dtype: int64"
      ]
     },
     "execution_count": 39,
     "metadata": {},
     "output_type": "execute_result"
    }
   ],
   "source": [
    "df.isna().sum()"
   ]
  },
  {
   "cell_type": "code",
   "execution_count": 40,
   "id": "7ea0e8d8",
   "metadata": {
    "execution": {
     "iopub.execute_input": "2024-03-11T08:14:30.867475Z",
     "iopub.status.busy": "2024-03-11T08:14:30.866569Z",
     "iopub.status.idle": "2024-03-11T08:14:30.907482Z",
     "shell.execute_reply": "2024-03-11T08:14:30.906218Z"
    },
    "papermill": {
     "duration": 0.083038,
     "end_time": "2024-03-11T08:14:30.910537",
     "exception": false,
     "start_time": "2024-03-11T08:14:30.827499",
     "status": "completed"
    },
    "tags": []
   },
   "outputs": [],
   "source": [
    "df = df.dropna().reset_index(drop=True)"
   ]
  },
  {
   "cell_type": "code",
   "execution_count": 41,
   "id": "a34bfe66",
   "metadata": {
    "execution": {
     "iopub.execute_input": "2024-03-11T08:14:30.987050Z",
     "iopub.status.busy": "2024-03-11T08:14:30.986089Z",
     "iopub.status.idle": "2024-03-11T08:14:31.006709Z",
     "shell.execute_reply": "2024-03-11T08:14:31.005599Z"
    },
    "papermill": {
     "duration": 0.061788,
     "end_time": "2024-03-11T08:14:31.009541",
     "exception": false,
     "start_time": "2024-03-11T08:14:30.947753",
     "status": "completed"
    },
    "tags": []
   },
   "outputs": [
    {
     "data": {
      "text/plain": [
       "26"
      ]
     },
     "execution_count": 41,
     "metadata": {},
     "output_type": "execute_result"
    }
   ],
   "source": [
    "indices_to_drop = [i for i, title in enumerate(df['titles']) if title == '']\n",
    "len(indices_to_drop)"
   ]
  },
  {
   "cell_type": "code",
   "execution_count": 42,
   "id": "1e78d34b",
   "metadata": {
    "execution": {
     "iopub.execute_input": "2024-03-11T08:14:31.087879Z",
     "iopub.status.busy": "2024-03-11T08:14:31.087040Z",
     "iopub.status.idle": "2024-03-11T08:14:31.105018Z",
     "shell.execute_reply": "2024-03-11T08:14:31.103445Z"
    },
    "papermill": {
     "duration": 0.061416,
     "end_time": "2024-03-11T08:14:31.108406",
     "exception": false,
     "start_time": "2024-03-11T08:14:31.046990",
     "status": "completed"
    },
    "tags": []
   },
   "outputs": [],
   "source": [
    "df = df.drop(indices_to_drop).reset_index(drop=True)"
   ]
  },
  {
   "cell_type": "markdown",
   "id": "41331651",
   "metadata": {
    "papermill": {
     "duration": 0.036625,
     "end_time": "2024-03-11T08:14:31.182530",
     "exception": false,
     "start_time": "2024-03-11T08:14:31.145905",
     "status": "completed"
    },
    "tags": []
   },
   "source": [
    "## **Translating all titles to English**"
   ]
  },
  {
   "cell_type": "code",
   "execution_count": 43,
   "id": "e94e95f2",
   "metadata": {
    "execution": {
     "iopub.execute_input": "2024-03-11T08:14:31.262114Z",
     "iopub.status.busy": "2024-03-11T08:14:31.261172Z",
     "iopub.status.idle": "2024-03-11T08:26:09.471553Z",
     "shell.execute_reply": "2024-03-11T08:26:09.470068Z"
    },
    "papermill": {
     "duration": 698.293394,
     "end_time": "2024-03-11T08:26:09.514361",
     "exception": false,
     "start_time": "2024-03-11T08:14:31.220967",
     "status": "completed"
    },
    "tags": []
   },
   "outputs": [
    {
     "data": {
      "text/plain": [
       "Series([], Name: titles, dtype: object)"
      ]
     },
     "execution_count": 43,
     "metadata": {},
     "output_type": "execute_result"
    }
   ],
   "source": [
    "translator = GoogleTranslator(source='auto', target='en')\n",
    "\n",
    "# Conversion all sentences to english\n",
    "\n",
    "pattern = r'[^a-z\\s]'\n",
    "\n",
    "df['titles'] = df['titles'].apply(lambda x: translator.translate(x) if bool(re.search(pattern, x)) == True else x)\n",
    "df['titles'][-1:-30]"
   ]
  },
  {
   "cell_type": "code",
   "execution_count": 44,
   "id": "662ff0d0",
   "metadata": {
    "execution": {
     "iopub.execute_input": "2024-03-11T08:26:09.595756Z",
     "iopub.status.busy": "2024-03-11T08:26:09.594852Z",
     "iopub.status.idle": "2024-03-11T08:26:09.707392Z",
     "shell.execute_reply": "2024-03-11T08:26:09.705706Z"
    },
    "papermill": {
     "duration": 0.157492,
     "end_time": "2024-03-11T08:26:09.711639",
     "exception": false,
     "start_time": "2024-03-11T08:26:09.554147",
     "status": "completed"
    },
    "tags": []
   },
   "outputs": [
    {
     "data": {
      "text/plain": [
       "{'untitled': 726,\n",
       " 'fragment': 521,\n",
       " 'protest surrounding the construction of narita airport': 246,\n",
       " 'panel': 244,\n",
       " 'pendant': 145,\n",
       " 'selfportrait': 117,\n",
       " 'border': 112,\n",
       " 'wine glass': 106,\n",
       " 'panel furnishing fabric': 104,\n",
       " 'sutra cover': 100,\n",
       " 'swatch of furnishing fabric': 99,\n",
       " 'vase': 61,\n",
       " 'sampler': 58,\n",
       " 'bowl': 58,\n",
       " 'kesa': 53,\n",
       " 'snuff bottle': 52,\n",
       " 'landscape': 50,\n",
       " 'fukusa gift cover': 45,\n",
       " 'nude': 42,\n",
       " 'splash point a stormy day sunshine after a shower': 40,\n",
       " 'chicago': 38,\n",
       " 'the software chart questionnare': 38,\n",
       " 'beaker': 34,\n",
       " 'cong': 33,\n",
       " 'design on paper': 33,\n",
       " 'study for a plate from the task': 33,\n",
       " 'study for a plate from telemachus': 33,\n",
       " 'waistcoat design': 32,\n",
       " 'plate': 30,\n",
       " 'plate from moonstrip empire news': 30,\n",
       " 'cover': 29,\n",
       " 'bidisc': 29,\n",
       " 'ring': 28,\n",
       " 'untitled from circulation october': 28,\n",
       " 'paperweight': 28,\n",
       " 'still life': 27,\n",
       " 'plate from telemachus': 26,\n",
       " 'a sheet from a shunga album': 26,\n",
       " 'bedcover': 26,\n",
       " 'goblet': 25,\n",
       " 'study': 25,\n",
       " 'trouser band': 25,\n",
       " 'dish': 25,\n",
       " 'new york': 23,\n",
       " 'untitled distortion': 23,\n",
       " 'handkerchief': 22,\n",
       " 'hanno’s death': 22,\n",
       " 'axe': 21,\n",
       " 'valance': 21,\n",
       " 'calligraphy': 21,\n",
       " 'sketchbook': 20,\n",
       " 'selfportrait no': 20,\n",
       " 'jar': 20,\n",
       " 'equivalent': 20,\n",
       " 'bead': 20,\n",
       " 'to the spring an den frühling': 20,\n",
       " 'madonna and child': 19,\n",
       " 'plate from illustrations to popular songs': 19,\n",
       " 'composition': 19,\n",
       " 'portrait of a man': 19,\n",
       " 'frauen series a': 19,\n",
       " 'handleshaped object': 19,\n",
       " 'mother and child': 18,\n",
       " 'fragment border': 18,\n",
       " 'furoshiki wrapping cloth': 18,\n",
       " 'head of a woman': 18,\n",
       " 'reclining nude': 18,\n",
       " 'portrait of a woman': 18,\n",
       " 'head': 18,\n",
       " 'panel curtain fabric': 17,\n",
       " 'shoe': 17,\n",
       " 'bottleshaped vase': 17,\n",
       " 'band from woman’s trousers or robe': 17,\n",
       " 'doublepage illustration from vol of picture book of spring brocades ehon haru no nishiki': 17,\n",
       " 'mrs craik': 17,\n",
       " 'the annunciation': 17,\n",
       " 'title unknown': 17,\n",
       " 'cloak pin knob or tieback': 16,\n",
       " 'georgia o’keeffe': 16,\n",
       " 'portrait of the poet hagiwara sakutaro author of ice island': 16,\n",
       " 'band': 16,\n",
       " 'architectural fitting gong': 16,\n",
       " 'adoration of the magi': 16,\n",
       " 'halberd': 16,\n",
       " 'flounce': 15,\n",
       " 'chasuble': 15,\n",
       " 'virgin and child': 15,\n",
       " 'cushion cover': 15,\n",
       " 'altar frontal': 15,\n",
       " 'julia jackson': 15,\n",
       " 'fringe': 14,\n",
       " 'a treatise on landscape painting and effect in water colours from the first rudiments to the finished picture no': 14,\n",
       " 'forget me not valentine': 14,\n",
       " 'haori': 14,\n",
       " 'panel dress fabric': 14,\n",
       " 'sponge box': 14,\n",
       " 'plate from xx stuck zum ornamental designs for goblets and beakers': 14,\n",
       " 'child’s shoe': 14,\n",
       " 'adoration of the shepherds': 14,\n",
       " 'ghosts': 13,\n",
       " 'saint jerome': 13,\n",
       " 'new york city': 13,\n",
       " 'fragment from an orphrey band': 13,\n",
       " 'bird pendant': 13,\n",
       " 'plate from military figures': 13,\n",
       " 'rummer': 13,\n",
       " 'side chair': 13,\n",
       " 'study for the rock': 13,\n",
       " 'miniature vase': 13,\n",
       " 'seated female nude': 13,\n",
       " 'fan': 13,\n",
       " 'panel for a screen': 13,\n",
       " 'washington skin nylon side chair': 13,\n",
       " 'nude no new york': 13,\n",
       " 'the camera conquers unknown photographic territory die kamera erobert fotografisches neuland': 13,\n",
       " 'orchids album of twelve leaves': 12,\n",
       " 'cup': 12,\n",
       " 'the holy family': 12,\n",
       " 'judith with the head of holofernes': 12,\n",
       " 'kimono': 12,\n",
       " 'saint christopher': 12,\n",
       " 'shawl': 12,\n",
       " 'assumption of the virgin': 12,\n",
       " 'spinning cloth preparing tea leaves preparing silk': 12,\n",
       " 'the submersion of pharaoh’s army in the red sea': 12,\n",
       " 'the adoration of the magi': 12,\n",
       " 'armchair': 12,\n",
       " 'rest on the flight into egypt': 11,\n",
       " 'riding school and horses': 11,\n",
       " 'the gentlewoman issue spring and summer': 11,\n",
       " 'fragment dress fabric': 11,\n",
       " 'spring': 11,\n",
       " 'evening': 11,\n",
       " 'venus and cupid': 11,\n",
       " 'toshi sen ehon': 11,\n",
       " 'panel from a skirt': 11,\n",
       " 'pendant of dragon': 11,\n",
       " 'study for a plate from the triumphs of temper in the royal engagements pocket book': 11,\n",
       " 'calligraphy accompanying xugu’s painting': 11,\n",
       " 'pair of shoes': 11,\n",
       " 'untitled from screen prints': 11,\n",
       " 'white carrot': 11,\n",
       " 'rebecca salsbury strand': 10,\n",
       " 'battersea reach': 10,\n",
       " 'abstract composition': 10,\n",
       " 'picture': 10,\n",
       " 'the gentlewoman issue autumn and winter': 10,\n",
       " 'equivalent from set a third set print': 10,\n",
       " 'anonymous histories': 10,\n",
       " 'fish pendant': 10,\n",
       " 'parody of a daimyo procession': 10,\n",
       " 'london': 10,\n",
       " 'dragon pendant': 10,\n",
       " 'fragment furnishing fabric': 10,\n",
       " 'marilyn monroe marilyn': 10,\n",
       " 'bag': 10,\n",
       " 'pillow cover': 10,\n",
       " 'portrait of a lady': 10,\n",
       " 'peony cup': 10,\n",
       " 'disc bi': 9,\n",
       " 'landscape from ten landscapes': 9,\n",
       " 'flowers black and white': 9,\n",
       " 'hendrick goltzius': 9,\n",
       " 'daggerblade ge': 9,\n",
       " 'seated nude': 9,\n",
       " 'picturesque architecture in paris ghent antwerp touen etc': 9,\n",
       " 'objects': 9,\n",
       " 'handleshaped jade': 9,\n",
       " 'phototransformation': 9,\n",
       " 'flowers handcolored': 9,\n",
       " 'pages from the illustrated book panoramic views along the banks of the sumida river ehon sumidagawa ryogan ichiran': 9,\n",
       " 'tokyo': 9,\n",
       " 'the adoration of the shepherds': 9,\n",
       " 'east sussex coast': 9,\n",
       " 'the crucifixion': 9,\n",
       " 'box': 9,\n",
       " 'triumph of caesar': 9,\n",
       " 'flute': 9,\n",
       " 'furisode': 8,\n",
       " 'slit ring jue': 8,\n",
       " 'head of a man': 8,\n",
       " 'the punishment of niobe plate': 8,\n",
       " 'triumph of maximilian': 8,\n",
       " 'delights of fishing': 8,\n",
       " 'portrait of a gentleman': 8,\n",
       " 'the bathers': 8,\n",
       " 'chalice cover': 8,\n",
       " 'illuminated manuscript leaf': 8,\n",
       " 'physiognomien': 8,\n",
       " 'campden hill london': 8,\n",
       " 'the actor segawa kikunojo iii in an unidentified role': 8,\n",
       " 'portrait of a young woman': 8,\n",
       " 'bowl with dragons': 8,\n",
       " 'bathers': 8,\n",
       " 'mace': 8,\n",
       " 'insertion': 8,\n",
       " 'cosmic symphonies': 8,\n",
       " 'standing figure': 8,\n",
       " 'compassion': 8,\n",
       " 'the last supper': 8,\n",
       " 'jug': 8,\n",
       " 'plaque with interlinked scrolls': 8,\n",
       " 'lot and his daughters': 8,\n",
       " 'winter in aizu': 8,\n",
       " 'trimming': 8,\n",
       " 'woman’s shoes': 8,\n",
       " 'bowl with floral scrolls': 8,\n",
       " 'luohan from the series set of twelve luohans': 8,\n",
       " 'fragment from a border': 8,\n",
       " 'kensington gardens no i small plate': 8,\n",
       " 'bust of a woman': 8,\n",
       " 'untitled from de bungalow ynyswidden': 7,\n",
       " 'border from a cover': 7,\n",
       " 'knoll sample': 7,\n",
       " 'woman’s head': 7,\n",
       " 'water jar mizusashi': 7,\n",
       " 'panel curtain': 7,\n",
       " 'portrait': 7,\n",
       " 'susanna and the elders': 7,\n",
       " 'lamp': 7,\n",
       " 'misunderstandings a theory of photography': 7,\n",
       " 'the loop chicago': 7,\n",
       " 'crucifixion': 7,\n",
       " 'bird': 7,\n",
       " 'nude model male': 7,\n",
       " 'rad': 7,\n",
       " 'miniature vessel': 7,\n",
       " 'ewer': 7,\n",
       " 'curtain': 7,\n",
       " 'haystacks': 7,\n",
       " 'in dove dale': 7,\n",
       " 'saint george and the dragon': 7,\n",
       " 'rapier': 7,\n",
       " 'adam and eve': 7,\n",
       " 'the resurrection': 7,\n",
       " 'sword pommel': 7,\n",
       " 'at the concert': 7,\n",
       " 'figures': 7,\n",
       " 'arcshaped pendant huang': 7,\n",
       " 'balustershaped vase': 7,\n",
       " 'tree scene': 7,\n",
       " 'the bath': 7,\n",
       " 'wheellock rifle': 7,\n",
       " 'untitled from hata': 7,\n",
       " 'reading': 7,\n",
       " 'bottle': 7,\n",
       " 'curb bit': 7,\n",
       " 'eleanor chicago': 7,\n",
       " 'slip unfinished': 7,\n",
       " 'cover furnishing fabric': 7,\n",
       " 'powder flask': 7,\n",
       " 'study for portrait of a man in an arm chair from collection of imitations of drawings after the main Dutch and Flemish masters': 7,\n",
       " 'washington skeleton aluminum side chair': 7,\n",
       " 'the entombment': 7,\n",
       " 'scenery of loch katrine': 7,\n",
       " 'the flight into egypt': 7,\n",
       " 'pearshaped vase': 7,\n",
       " 'untitled from six black manners six mezzotints': 7,\n",
       " 'canary island landscapes ii': 7,\n",
       " 'shere mill pond no ii large plate': 7,\n",
       " 'embers glow': 7,\n",
       " 'powder jar': 6,\n",
       " 'epping forest': 6,\n",
       " 'figure': 6,\n",
       " 'blade': 6,\n",
       " 'luohans': 6,\n",
       " 'mountainous landscape': 6,\n",
       " 'procession of a daimyo': 6,\n",
       " 'september': 6,\n",
       " 'plaque': 6,\n",
       " 'die befreiung der finger liberation of the fingers': 6,\n",
       " 'entrance of the ambassador of poland into rome': 6,\n",
       " 'cup and saucer': 6,\n",
       " 'flowers': 6,\n",
       " 'demonstration': 6,\n",
       " 'marigold': 6,\n",
       " 'untitled film still': 6,\n",
       " 'tankard': 6,\n",
       " 'christ carrying the cross': 6,\n",
       " 'untitled valentine flowers': 6,\n",
       " 'mary jean mitchell green': 6,\n",
       " 'teabowl': 6,\n",
       " 'te atua the god from the noa noa suite': 6,\n",
       " 'various subjects of landscape characteristic of english landscape scenery': 6,\n",
       " 'waterfall': 6,\n",
       " 'untitled ii': 6,\n",
       " 'chrysanthemums': 6,\n",
       " 'ten days': 6,\n",
       " 'picture needlework': 6,\n",
       " 'seated male nude': 6,\n",
       " 'sitting': 6,\n",
       " 'nativity': 6,\n",
       " 'arrival of the korean embassy in edo': 6,\n",
       " 'midwest landscape': 6,\n",
       " 'melrose abbey': 6,\n",
       " 'chair seat': 6,\n",
       " 'the bogeyman': 6,\n",
       " 'denarius coin depicting the goddess roma': 6,\n",
       " 'study for festival': 6,\n",
       " 'two of the eight immortals': 6,\n",
       " 'horse': 6,\n",
       " 'the visitation': 6,\n",
       " 'platter': 6,\n",
       " 'bencharong fivecolored ware covered jar': 6,\n",
       " 'chair cover': 6,\n",
       " 'sauce tureen and cover from the hood service': 6,\n",
       " 'early morning richmond park': 6,\n",
       " 'dalmatic': 6,\n",
       " 'tray': 6,\n",
       " 'two fragments': 6,\n",
       " 'mirror': 6,\n",
       " 'a sunset in ireland': 6,\n",
       " 'apron': 6,\n",
       " 'conway castle': 6,\n",
       " 'the chicago panels': 6,\n",
       " 'raped': 6,\n",
       " 'the nativity': 6,\n",
       " 'pitcher': 6,\n",
       " 'untitled garrick theater': 6,\n",
       " 'belt buckle': 6,\n",
       " 'bao shi shan luo ying gem mountain luo ying plate': 6,\n",
       " 'da hairy who foyer for ya prince': 6,\n",
       " 'glass': 6,\n",
       " 'candelabra': 6,\n",
       " 'plate from dead souls': 6,\n",
       " 'bowl with stylized leafstrokes': 6,\n",
       " 'hampton court by tram': 6,\n",
       " 'female musician': 6,\n",
       " 'maruru offerings of gratitude from the noa noa suite': 6,\n",
       " 'tobias and the angel': 6,\n",
       " 'designs for jewelry': 6,\n",
       " 'paris': 6,\n",
       " 'untitled plate nyc from the series selfpossessed': 6,\n",
       " 'untitled from l’apocalypse': 6,\n",
       " 'bao shi shan luo ying gem mountain luo ying b': 6,\n",
       " 'uchishiki altar cloth': 6,\n",
       " 'pair of shoe buckles': 6,\n",
       " 'the temptation of saint anthony': 6,\n",
       " 'beakershaped vase': 6,\n",
       " 'reclining female nude': 5,\n",
       " 'sweetmeat glass': 5,\n",
       " 'harvest': 5,\n",
       " 'saint sebastian': 5,\n",
       " 'the abduction of a sabine woman': 5,\n",
       " 'venus and adonis': 5,\n",
       " 'the shower': 5,\n",
       " 'hota beach in awa province boshu hota no kaigan from the series thirtysix views of mount fuji fuji sanjurokkei': 5,\n",
       " 'portfolio cover and wrapper with colophon and title page from war': 5,\n",
       " 'mount fuji': 5,\n",
       " 'hare pendant': 5,\n",
       " 'globular jar': 5,\n",
       " 'eleanor and barbara chicago': 5,\n",
       " 'bamboo': 5,\n",
       " 'komagata embankment komagatagashi from the series twelve scenes of tokyo tokyo junidai': 5,\n",
       " 'evening bell at ikegami ikegami no bansho from the series eight views in the environs of edo edo kinko hakkei no uchi': 5,\n",
       " 'vase in the shape of an archaic bronze vessel': 5,\n",
       " 'auti te pape women at the river from the noa noa suite': 5,\n",
       " 'vinaigrette': 5,\n",
       " 'the outskirts of koshigaya in musashi province musashi koshigaya zai from the series thirtysix views of mount fuji fuji sanjurokkei': 5,\n",
       " 'christ and the woman of samaria': 5,\n",
       " 'seated guanyin': 5,\n",
       " 'panel from a dress': 5,\n",
       " 'saint albans steeplechase': 5,\n",
       " 'hanging': 5,\n",
       " 'title missing': 5,\n",
       " 'chimney sweep': 5,\n",
       " 'altar cover': 5,\n",
       " 'breastplate': 5,\n",
       " 'candlestick': 5,\n",
       " 'panel dress or furnishing fabric': 5,\n",
       " 'pair of candlesticks': 5,\n",
       " 'bouquet from collection of new flowers of taste for the manufacture of persian cloth invented and drawn by jean pillement': 5,\n",
       " 'dusk at itako itako no yu': 5,\n",
       " 'man’s jifu semiformal court robe': 5,\n",
       " 'tea bowl': 5,\n",
       " 'garment hook': 5,\n",
       " 'the spinner': 5,\n",
       " 'mrs herbert duckworth': 5,\n",
       " 'conical bowl': 5,\n",
       " 'untitled subway portrait new york': 5,\n",
       " 'is it weakness thus to dwell valentine': 5,\n",
       " 'obi belt': 5,\n",
       " 'cope': 5,\n",
       " 'landscapes': 5,\n",
       " 'garrick and shakespeare with tragedy and comedy furnishing fabric': 5,\n",
       " 'cicada': 5,\n",
       " 'goblet with cover': 5,\n",
       " 'study for many mansions': 5,\n",
       " 'giant’s causeway': 5,\n",
       " 'venus': 5,\n",
       " 'landscape with a farmhouse': 5,\n",
       " 'wine jar hu': 5,\n",
       " 'division—work': 5,\n",
       " 'needlecase sampler': 5,\n",
       " 'panel fabric for necktie': 5,\n",
       " 'saint jerome in penitence': 5,\n",
       " 'the judgment of paris': 5,\n",
       " 'detroit': 5,\n",
       " 'dancer': 5,\n",
       " 'the massacre of the innocents': 5,\n",
       " 'moses': 5,\n",
       " 'hilltop view from yushima tenjin shrine yushima tenjin sakaue tenbo from the series one hundred famous views of edo meisho edo hyakkei': 5,\n",
       " 'champagne glass': 5,\n",
       " 'tobacco box': 5,\n",
       " 'a': 5,\n",
       " 'bowl on stem': 5,\n",
       " 'study for the royal exchange from microcosm of london': 5,\n",
       " 'miyako island okinawa': 5,\n",
       " 'massacre of the innocents': 5,\n",
       " 'winter landscape': 5,\n",
       " 'industrieruhrgebiet': 5,\n",
       " 'the bride': 5,\n",
       " 'abstract': 5,\n",
       " 'walker warehouse': 5,\n",
       " 'table cover': 5,\n",
       " 'cow': 5,\n",
       " 'afternoon tea': 5,\n",
       " 'the three graces': 5,\n",
       " 'lucretia': 5,\n",
       " 'light': 5,\n",
       " 'mary magdalene': 5,\n",
       " 'torso': 5,\n",
       " 'great prosperity at the silk farm kaikoya daihanjono zu': 5,\n",
       " 'plate four from a harlot’s progress': 5,\n",
       " 'stole': 5,\n",
       " 'sunset': 5,\n",
       " 'book illustration': 5,\n",
       " 'odalisque': 5,\n",
       " 'portrait of auguste rodin': 5,\n",
       " 'untitled from pour jorn': 5,\n",
       " 'lion': 5,\n",
       " 'deer': 5,\n",
       " 'flight into egypt': 5,\n",
       " 'manao tupapau she thinks of the ghost or the ghost thinks of her': 5,\n",
       " 'band from woman’s trousers': 5,\n",
       " 'plate from the bible': 5,\n",
       " 'seal': 5,\n",
       " 'lines of one inch four directions four colors from sixteen lithographs in color': 5,\n",
       " 'battle scene': 5,\n",
       " 'carpet': 5,\n",
       " 'hunting scene': 5,\n",
       " 'bencharong fivecolored ware jar with tiered cover': 5,\n",
       " 'bao shi shan luo ying gem mountain luo ying a': 5,\n",
       " 'last supper': 5,\n",
       " 'memorial portrait of the actor ichikawa danjuro viii': 5,\n",
       " 'the scene no': 5,\n",
       " 'irises at horikiri horikiri no hanashobu from the series one hundred famous views of edo meisho edo hyakkei': 5,\n",
       " 'standing female nude': 5,\n",
       " 'table frontal': 5,\n",
       " 'italian landscape with ruins': 5,\n",
       " 'incense burner': 5,\n",
       " 'carved lacquer box': 5,\n",
       " 'judgement of paris': 5,\n",
       " 'long shawl': 5,\n",
       " 'fortune': 4,\n",
       " 'imperial edict': 4,\n",
       " 'woman’s trouser band': 4,\n",
       " 'denarius coin depicting the god apollo': 4,\n",
       " 'the leader of the parisian blood red republic': 4,\n",
       " 'pink coated rider': 4,\n",
       " 'visitors to enoshima': 4,\n",
       " 'deposition': 4,\n",
       " 'christ on the cross': 4,\n",
       " 'flagellation of christ': 4,\n",
       " 'some thames group e': 4,\n",
       " 'passport and visa endorsement no': 4,\n",
       " 'clump of leaves and flowers': 4,\n",
       " 'armored guardian king tianwang trampling demon': 4,\n",
       " 'anemonies': 4,\n",
       " 'horse and rider with hunt beyond': 4,\n",
       " 'two women in late th century dress': 4,\n",
       " 'copy of botanical engraving of celtis': 4,\n",
       " 'sleeping girl': 4,\n",
       " 'copy of a large italian print reduced in the camera': 4,\n",
       " 'the dance of the duncan from boswell’s tour of the hebrides': 4,\n",
       " 'pleasures and terrors of levitation': 4,\n",
       " 'lai nam thong goldwashed ware covered bowl': 4,\n",
       " 'the broken toy': 4,\n",
       " 'pair of candelabra': 4,\n",
       " 'nocturne': 4,\n",
       " 'the gleaners': 4,\n",
       " 'passion of christ': 4,\n",
       " 'the storm': 4,\n",
       " 'george duke of cambridge field marshal crimea': 4,\n",
       " 'noon': 4,\n",
       " 'fragment of a bowl': 4,\n",
       " 'darlington': 4,\n",
       " 'spring evening at the otemon gate otemon no haru no yugure': 4,\n",
       " 'christ before pilate': 4,\n",
       " 'fragment of a floral inlay': 4,\n",
       " 'half shawl': 4,\n",
       " 'fragment of an inlay': 4,\n",
       " 'orange grid design series': 4,\n",
       " 'weeping allegorical female figure with putto': 4,\n",
       " 'starlit night at miyajima hoshizukiyo miyajima from the series souvenirs of travel third series tabi miyage dai sanshu': 4,\n",
       " 'adeste fideles': 4,\n",
       " 'nativity with midwife joseph standing': 4,\n",
       " 'three women': 4,\n",
       " 'panel pillar design': 4,\n",
       " 'zojoji temple in shiba shiba zojoji from the series twenty views of tokyo tokyo nijukkei': 4,\n",
       " 'trinity college dublin': 4,\n",
       " 'mars': 4,\n",
       " 'girl': 4,\n",
       " 'kleine anatomie blatt': 4,\n",
       " 'repose': 4,\n",
       " 'a water meadow': 4,\n",
       " 'the actor otani hiroji iii in an unidentified role': 4,\n",
       " 'bowl with peonies': 4,\n",
       " 'scarf': 4,\n",
       " 'one of a pair of andirons': 4,\n",
       " 'tapestries': 4,\n",
       " 'ehon azuma karage': 4,\n",
       " 'robert browning': 4,\n",
       " 'the morning of life': 4,\n",
       " 'johannes stradanus': 4,\n",
       " 'leaving the bath': 4,\n",
       " 'birth of love valentine': 4,\n",
       " 'providence': 4,\n",
       " 'dish with plum flowers': 4,\n",
       " 'nave nave fenua delightful land from the noa noa suite': 4,\n",
       " 'venus and amor from three pagan gods or goddesses': 4,\n",
       " 'unknown from on the bowery': 4,\n",
       " 'storyville portrait': 4,\n",
       " 'false image decals': 4,\n",
       " 'the lamentation': 4,\n",
       " 'martin luther': 4,\n",
       " 'hilton head island sc usa june from beach portraits': 4,\n",
       " 'remembrance of italy': 4,\n",
       " 'untitled valentine antique couple with putti': 4,\n",
       " 'there and back': 4,\n",
       " 'spain': 4,\n",
       " 'tarts': 4,\n",
       " 'two putti': 4,\n",
       " 'untitled valentine bouquet': 4,\n",
       " 'adam and eve in paradise': 4,\n",
       " 'untitled valentine gold flowers in a wreath': 4,\n",
       " 'okazaki yahagi bridge okazaki yahagi no hashi from the series fiftythree stations of the tokaido tokaido gojusan tsugi no uchi also known as the hoeido tokaido': 4,\n",
       " 'evil': 4,\n",
       " 'picturesque selections text page from picturesque selections': 4,\n",
       " 'trees': 4,\n",
       " 'brunnen from picturesque selections': 4,\n",
       " 'landscape and figure from an album of landscapes and calligraphy for liu songfu': 4,\n",
       " 'clear weather after snow at nihon bridge nihonbashi yukibare from the series one hundred famous views of edo meisho edo hyakkei': 4,\n",
       " 'penitent magdalene': 4,\n",
       " 'eleanor': 4,\n",
       " 'denham by tram': 4,\n",
       " 'studies of nudes': 4,\n",
       " 'thomas carlyle': 4,\n",
       " 'bencharong fivecolored ware bowl': 4,\n",
       " 'yanomami': 4,\n",
       " 'rectoverso': 4,\n",
       " 'march': 4,\n",
       " 'female head': 4,\n",
       " 'sound of silence': 4,\n",
       " 'hitoe': 4,\n",
       " 'autopolaroids': 4,\n",
       " 'l’univers est créé the universe is being created from the noa noa suite': 4,\n",
       " 'mill stream': 4,\n",
       " 'hokusai gakyô': 4,\n",
       " 'man’s cap': 4,\n",
       " 'applique': 4,\n",
       " 'black and white': 4,\n",
       " 'link': 4,\n",
       " 'hokusai gafu': 4,\n",
       " 'cybele on chariot drawn by lions': 4,\n",
       " 'patten overshoe': 4,\n",
       " 'coif': 4,\n",
       " 'vestment for a firstdegree taoist priest': 4,\n",
       " 'sherwood anderson': 4,\n",
       " 'tarquin and lucretia': 4,\n",
       " 'yamato province tatsuta mountain and tatsuta river yamato tatsutayama tatsutagawa from the series famous places in the sixtyodd provinces rokujuyoshu meisho zue': 4,\n",
       " 'putto with garland': 4,\n",
       " 'cup with plum and peony flowers': 4,\n",
       " 'standing attendant tomb figurine': 4,\n",
       " 'a lancashire river': 4,\n",
       " 'mount for the thames evening': 4,\n",
       " 'hungarian horseman': 4,\n",
       " 'untitled recto and verso': 4,\n",
       " 'a slice of the stone itself': 4,\n",
       " 'length of woven silk': 4,\n",
       " 'ale glass': 4,\n",
       " 'shinpen suiko gaden': 4,\n",
       " 'night view of saruwakamachi saruwakamachi yoru no kei from the series one hundred famous views of edo meisho edo hyakkei': 4,\n",
       " 'ice': 4,\n",
       " 'untitled from the series the garage': 4,\n",
       " 'pillow sham': 4,\n",
       " 'ehon saiyûki': 4,\n",
       " 'saint anthony': 4,\n",
       " 'libation cup': 4,\n",
       " 'standing guanyin': 4,\n",
       " 'white heron and iris': 4,\n",
       " 'ecce homo': 4,\n",
       " 'the divers': 4,\n",
       " 'oviri': 4,\n",
       " 'the eight views at lake biwa in the evening omi hakkei moku': 4,\n",
       " 'cricket': 4,\n",
       " 'animal locomotion plate': 4,\n",
       " 'cuphilted rapier': 4,\n",
       " 'ryakuga haya oshie': 4,\n",
       " 'panels from a funerary couch guanchuang': 4,\n",
       " 'episodes from white chapel life': 4,\n",
       " 'beibei kyōdan': 4,\n",
       " 'madonna and child with saints elizabeth and john the baptist': 4,\n",
       " 'flambeglazed vase': 4,\n",
       " 'bather': 4,\n",
       " 'the annunciation from the life of the virgin': 4,\n",
       " 'sanzen temple ohara kyoto kyoto ohara sanzenin': 4,\n",
       " 'drawing': 4,\n",
       " 'benigai horagai urauzugai wasuregai chiyonohanagai and masuhogai from the illustrated book gifts from the ebb tide shiohi no tsuto': 4,\n",
       " 'the flagellation': 4,\n",
       " 'some thames group c': 4,\n",
       " 'migrant mother nipomo california': 4,\n",
       " 'on the test': 4,\n",
       " 'saint albans grand steeple chase': 4,\n",
       " 'alfred lord tennyson': 4,\n",
       " 'view from massaki of suijin shrine uchigawa inlet and sekiya massaki hen yori suijin no mori uchigawa sekiya no sato o miru zu from the series one hundred famous views of edo meisho edo hyakkei': 4,\n",
       " 'the shepherdess': 4,\n",
       " 'butterfly': 4,\n",
       " 'cranequin winder for a crossbow': 4,\n",
       " 'the actor nakamura sukegoro ii in an unidentified role': 4,\n",
       " 'dish with butterflies and flowers': 4,\n",
       " 'eleanor aixenprovence france': 4,\n",
       " 'blacksmith': 4,\n",
       " 'gathering shells at low tide from the illustrated book gifts from the ebb tide shiohi no tsuto': 4,\n",
       " 'miroirtiroir': 4,\n",
       " 'penance of st john chrysostomus': 4,\n",
       " 'bao shi shan ban shan jewel mountain half mountain b': 4,\n",
       " 'chuck close selfportrait': 4,\n",
       " 'a water conduit a scene in sado mizuagehi sado shoken from the series souvenirs of travel second series tabi miyage dai nishu': 4,\n",
       " 'tea bowl and saucer': 4,\n",
       " 'saucer': 4,\n",
       " 'dunes oceano': 4,\n",
       " 'percy rochon jr': 4,\n",
       " 'descending geese at katada katada rakugan from the series eight views of omi omi hakkei no uchi': 4,\n",
       " 'mask': 4,\n",
       " 'sir john herschel': 4,\n",
       " 'sleeve band': 4,\n",
       " 'curlyhaired youth': 4,\n",
       " 'nuremberg': 4,\n",
       " 'noa noa fragrant from the noa noa suite': 4,\n",
       " 'ornament panels with birds plate': 4,\n",
       " 'insertion from a table cloth': 4,\n",
       " 'stone panel carved in low relief with narrative scenes': 4,\n",
       " 'cologne': 4,\n",
       " 'the conversion of saint paul': 4,\n",
       " 'aesacus and hesperie plate from liber studiorum': 4,\n",
       " 'peonies': 4,\n",
       " 'ribbon': 4,\n",
       " 'narcissus': 4,\n",
       " 'utrecht velvet': 4,\n",
       " 'the raising of lazarus': 4,\n",
       " 'solitude': 4,\n",
       " 'iris': 4,\n",
       " 'zensetsu temple sanshu from the series collection of scenic views of japan ii kansai edition nihon fukei shu ii kansai hen sanshu zensetsuji': 4,\n",
       " 'illustration to samuel richardson’s clarissa': 4,\n",
       " 'side table': 4,\n",
       " 'night rain at the paulownia grove at akasaka akasaka kiribatake uchu yukei from the series one hundred famous views of edo meisho edo hyakkei': 4,\n",
       " 'wine can': 4,\n",
       " 'work no': 4,\n",
       " 'italy': 4,\n",
       " 'june': 4,\n",
       " 'dish with images of ancient bronzes': 4,\n",
       " 'sunset on the thames': 4,\n",
       " 'the five tiger generals of the tales of the water margin suikoden goko shogun': 4,\n",
       " 'study for opera house from microcosm of london': 4,\n",
       " 'wine jug': 4,\n",
       " 'two girls': 4,\n",
       " 'seated woman': 4,\n",
       " 'bonnet veil': 4,\n",
       " 'beacon at zandvoort from views in the surroundings of haarlem plaisante plaetsen': 4,\n",
       " 'farms and bleachingfields from views in the surroundings of haarlem plaisante plaetsen': 4,\n",
       " 'heather bronze': 4,\n",
       " 'takashima ohisa': 4,\n",
       " 'brush washer': 4,\n",
       " 'windmill hill no i': 4,\n",
       " 'the assault of the shoe': 4,\n",
       " 'autumn': 4,\n",
       " 'saint john the baptist': 4,\n",
       " 'plate from new suite of notebooks of ideal flowers for use by draftsmen and painters': 4,\n",
       " 'insertion for a cover': 4,\n",
       " 'sparrows and camellia in snow': 4,\n",
       " 'collared disc': 4,\n",
       " 'distant view of azuma bridge and kinryuzan temple azumabashi kinryuzan enbo from the series one hundred famous views of edo meisho edo hyakkei': 4,\n",
       " 'landscapes for liu songfu': 4,\n",
       " 'street scene': 4,\n",
       " 'fragment of a cup': 4,\n",
       " 'brooklyn bridge': 4,\n",
       " 'building': 4,\n",
       " 'coiled dragon pendant': 4,\n",
       " 'zwinger palace dresden': 4,\n",
       " 'goten hill at shinagawa shinagawa gotenyama from the series one hundred famous views of edo meisho edo hyakkei': 4,\n",
       " 'arno brownblack': 4,\n",
       " \"father's inn from views in the surroundings of haarlem plaisante plaetsen\": 4,\n",
       " 'apollo': 4,\n",
       " 'a fisherman drinking beside his canoe': 4,\n",
       " 'st jerome': 4,\n",
       " 'headdress': 4,\n",
       " 'snow at kiyomizu hall ueno ueno kiyomizudo no yuki': 4,\n",
       " 'andromeda': 4,\n",
       " 'hibiscus': 4,\n",
       " 'tsuchizaki akita from the series souvenirs of travel third series tabi miyage dai sanshu akita tsuchizaki': 4,\n",
       " 'renaissance fringe': 4,\n",
       " 'false image postcard': 4,\n",
       " 'a barn from landscapes verscheyden aerdige lanthuysen…': 4,\n",
       " 'horse and rider': 4,\n",
       " 'woman’s sleeve band': 4,\n",
       " 'uchikake': 4,\n",
       " 'detail of horse’s head enlarged to triple size norman royal guard no': 4,\n",
       " 'mishima morning mist mishima asagiri from the series fiftythree stations of the tokaido road tokaido gojusan tsugi no uchi also known as the hoeido tokaido': 4,\n",
       " 'bacchanale': 4,\n",
       " 'kolobrzeg poland july from beach portraits': 4,\n",
       " 'kosode': 4,\n",
       " 'honmoku in musashi province musashi honmoku no hana from the series thirtysix views of mount fuji fuji sanjurokkei': 4,\n",
       " 'eve': 4,\n",
       " 'chalice': 4,\n",
       " 'peasant woman': 4,\n",
       " 'uranus': 3,\n",
       " 'near reynard’s cave dove dale': 3,\n",
       " 'in dove dale staffordshire side': 3,\n",
       " 'st mark from the four evangelists': 3,\n",
       " 'roof tile with guardian figure': 3,\n",
       " 'wurzburg': 3,\n",
       " 'bedtime': 3,\n",
       " 'putto': 3,\n",
       " 'the pity': 3,\n",
       " 'clearing weather at shibaura shibaura seiran from the series eight views in the environs of edo edo kinko hakkei no uchi': 3,\n",
       " 'the river stort': 3,\n",
       " 'visitation': 3,\n",
       " 'fukuroi tea stall fukuroi dejaya no zu from the series fiftythree stations of the tokaido tokaido gojusan tsugi no uchi also known as the hoeido tokaido': 3,\n",
       " 'tama river in musashi province musashi tamagawa from the series thirtysix views of mount fuji fuji sanjurokkei': 3,\n",
       " 'swatches of drapery wallpaper and upholstery materials': 3,\n",
       " 'view of the theaters in nichomachi nichomachi shibai no zu from the series famous places in the eastern capital toto meisho': 3,\n",
       " 'kw': 3,\n",
       " 'female attendant tomb figurine': 3,\n",
       " 'in dove dale habet': 3,\n",
       " 'mihogaseki beach in izumo province izumo mihogaseki from the series souvenirs of travel third series tabi miyage dai sanshu': 3,\n",
       " 'eight views of the xiao and xiang rivers': 3,\n",
       " 'thanksgiving': 3,\n",
       " 'lake hamana from the series selection of views of the tokaido tokaido fukei senshu hamanako': 3,\n",
       " 'giverny france': 3,\n",
       " 'satyr family walking': 3,\n",
       " 'faith': 3,\n",
       " 'maisaka the ferry at imagiri maisaka imagiri funawatashi from the series fiftythree stations of the tokaido tokaido gojusan tsugi also known as the tokaido with poem kyoka iri tokaido': 3,\n",
       " 'collar': 3,\n",
       " 'pair of mitten gauntlets': 3,\n",
       " 'christ blessing': 3,\n",
       " 'sugaring plate new england industries series': 3,\n",
       " 'shipbuilding plate new england industries series': 3,\n",
       " 'nude model reclining': 3,\n",
       " 'fox': 3,\n",
       " 'bamboo and rock': 3,\n",
       " 'near godesberg': 3,\n",
       " 'hyde park': 3,\n",
       " 'li kui kokusenpu riki ichimei ritetsugyu from the series one hundred and eight heroes of the popular water margin tsuzoku suikoden goketsu hyakuhachinin no hitori': 3,\n",
       " 'the death of the virgin': 3,\n",
       " 'covered vase': 3,\n",
       " 'two borders': 3,\n",
       " 'part of the castle at heidelberg': 3,\n",
       " 'hotel de ville brussells': 3,\n",
       " 'cape': 3,\n",
       " 'fable': 3,\n",
       " 'at rattisbone': 3,\n",
       " 'friuli spear': 3,\n",
       " 'exquisite corpse': 3,\n",
       " 'punch bowl': 3,\n",
       " 'band from sleeves of woman’s robe': 3,\n",
       " 'maline': 3,\n",
       " 'virgin and child seated on clouds': 3,\n",
       " 'katsura villa': 3,\n",
       " 'untitled selfportrait': 3,\n",
       " 'work': 3,\n",
       " 'lola de valence': 3,\n",
       " 'why should i blush valentine': 3,\n",
       " 'study for drurylane theater from microcosm of london': 3,\n",
       " 'birth of the virgin': 3,\n",
       " 'snow at the shin bridge nikko nikko shinkyo no yuki': 3,\n",
       " 'male nude': 3,\n",
       " 'study for custom house from the river thames from microcosm of london': 3,\n",
       " 'balaklava from guard’s hill': 3,\n",
       " 'landscape with cows': 3,\n",
       " 'three love birds': 3,\n",
       " 'study for exhibition of water colored drawings old bond steet from microcosm of london': 3,\n",
       " 'act part the approach to the night attack juichidanme ichi yochi oshiyose from the series the revenge of the loyal retainers chushingura': 3,\n",
       " 'study for covent garden theatre from microcosm of london': 3,\n",
       " 'the shepherdess knitting': 3,\n",
       " 'the sumida river in mist sumidagawa kiri from the series twelve scenes of tokyo tokyo junidai': 3,\n",
       " 'from my window at an american place north': 3,\n",
       " 'from': 3,\n",
       " 'study for court of exchequer from microcosm of london': 3,\n",
       " 'the actor segawa kikunojo ii': 3,\n",
       " 'owl no': 3,\n",
       " 'carpet or hanging': 3,\n",
       " 'study for common council chamber guild hall from microcosm of london': 3,\n",
       " 'martyrdom of a saint': 3,\n",
       " 'carnival figures': 3,\n",
       " 'study for astley’s theatre recto study for crystal chadeliers in astley’s amphiteatre verso': 3,\n",
       " 'summer': 3,\n",
       " 'study for king’s mews charing cross from microcosm of london': 3,\n",
       " 'ecce homo the presentation of christ from the large passion': 3,\n",
       " 'study for herald’s college the hall from microcosm of london': 3,\n",
       " 'study for guild hall from microcosm of london': 3,\n",
       " 'st john from the four evangelists': 3,\n",
       " 'shining clothespins nakanishi natsuyuki’s clothespins on a model at the artist’s studio': 3,\n",
       " 'barrage': 3,\n",
       " 'tripod jar': 3,\n",
       " 'the steerage': 3,\n",
       " 'study for fleet prison from microcosm of london': 3,\n",
       " 'tripod vessel': 3,\n",
       " 'dusk at ushibori ushibori no yugure': 3,\n",
       " 'study for the coal exchange from microcosm of london': 3,\n",
       " 'ehon azuma asobi': 3,\n",
       " 'saint john the baptist preaching': 3,\n",
       " 'pair of flintlock pistols': 3,\n",
       " 'rebirth of the nun anyo': 3,\n",
       " 'dance composition no': 3,\n",
       " 'miniature chest mingqi': 3,\n",
       " 'untitled girlfriend': 3,\n",
       " 'the reader': 3,\n",
       " 'the sign of white horse parson’s green': 3,\n",
       " 'alighiero e boetti': 3,\n",
       " 'smallsword and scabbard': 3,\n",
       " 'eiffel tower paris eiffelturm paris': 3,\n",
       " 'atsuita karaori noh costume': 3,\n",
       " 'after the bath': 3,\n",
       " 'cap': 3,\n",
       " 'camp of the th dragoon guards': 3,\n",
       " 'pine beach at miho in suruga province suruga miho no matsubara from the series thirtysix views of mount fuji fuji sanjurokkei': 3,\n",
       " 'andros': 3,\n",
       " 'head of a child': 3,\n",
       " 'plate from the set of pastorals scenes': 3,\n",
       " 'britannia': 3,\n",
       " 'the entombment of christ': 3,\n",
       " 'tabula moderna prime partis aphricae': 3,\n",
       " 'from my window at the shelton west': 3,\n",
       " 'kansanomiya shrine at tazawa lake tazawako kansanomiyagu from the series souvenirs of travel third series tabi miyage dai sanshu': 3,\n",
       " 'the chess players': 3,\n",
       " 'fireworks at ryogoku ryogoku hanabi from the series one hundred famous views of edo meisho edo hyakkei': 3,\n",
       " 'ishibe megawa village ishibe megawa no sato from the series fiftythree stations of the tokaido tokaido gojusan tsugi no uchi also known as the hoeido tokaido': 3,\n",
       " 'the actor ichikawa yaozo ii as yoshimine no munesada in the play kuni no hana ono no itsumoji performed at the nakamura theater in the eleventh month': 3,\n",
       " 'melencolia i': 3,\n",
       " 'otsuki plain in kai province kai otsuki no hara from the series thirtysix views of mount fuji fuji sanjurokkei': 3,\n",
       " 'holy family': 3,\n",
       " 'annunciation': 3,\n",
       " 'snow at shinobazu benten shrine shinobazu benten no yuki': 3,\n",
       " 'marine': 3,\n",
       " 'cinquedea': 3,\n",
       " 'two women drying themselves': 3,\n",
       " 'portrait of eakins': 3,\n",
       " 'village': 3,\n",
       " 'head one of a pair': 3,\n",
       " 'shelf clock': 3,\n",
       " 'no seba from the series sixtynine stations of the kisokaido kisokaido rokujukyu tsugi no uchi': 3,\n",
       " 'view of mount fuji from a teahouse at zoshigaya zoshigaya fujimi chaya from the series thirtysix views of mount fuji fuji sanjurokkei': 3,\n",
       " 'the leader sea piece plate from liber studiorum': 3,\n",
       " 'mgm storage lot': 3,\n",
       " 'love valentine': 3,\n",
       " 'la nuit': 3,\n",
       " 'broad pearshaped jar': 3,\n",
       " 'scabbard chape': 3,\n",
       " 'shoki the demon queller': 3,\n",
       " 'cranequin winder for a sporting crossbow': 3,\n",
       " 'myto cantilever chair': 3,\n",
       " 'design for a ceiling decoration': 3,\n",
       " 'birds and flowers': 3,\n",
       " 'teapot': 3,\n",
       " 'study for holograms': 3,\n",
       " 'viewing cherry blossoms at goten hill': 3,\n",
       " 'console table': 3,\n",
       " 'the armorhanging pine at hakkeizaka hakkeizaka yoroikakematsu from the series one hundred famous views of edo meisho edo hyakkei': 3,\n",
       " 'conical bowl with peonies and leaves': 3,\n",
       " 'black horseman': 3,\n",
       " 'mexico city': 3,\n",
       " 'two women': 3,\n",
       " 'the rape of europa': 3,\n",
       " 'portable compass sundial': 3,\n",
       " 'tahitian idol—the goddess hina': 3,\n",
       " 'mount kano in kazusa province kazusa rokusozan from the series thirtysix views of mount fuji fuji sanjurokkei': 3,\n",
       " 'kogane plain in shimosa province shimosa koganehara from the series thirtysix views of mount fuji fuji sanjurokkei': 3,\n",
       " 'reclining male nude': 3,\n",
       " 'lake at hakone hakone no kosui from the series thirtysix views of mount fuji fuji sanjurokkei': 3,\n",
       " 'saint catherine': 3,\n",
       " 'plate from twenty ornamental designs for goblets and beakers': 3,\n",
       " 'yvette guilbert': 3,\n",
       " 'orphrey': 3,\n",
       " 'salt': 3,\n",
       " 'beverly hills california': 3,\n",
       " 'erasmus of rotterdam': 3,\n",
       " 'the fitting': 3,\n",
       " 'fragment of a chair seat': 3,\n",
       " 'television room with vanishing points': 3,\n",
       " 'morning': 3,\n",
       " 'koganei in musashi province musashi koganei from the series thirtysix views of mount fuji fuji sanjurokkei': 3,\n",
       " 'connecticut': 3,\n",
       " 'saint mary magdalene': 3,\n",
       " 'lovers surprised by death': 3,\n",
       " 'apple blossoms': 3,\n",
       " 'cuff': 3,\n",
       " 'asakusa rice fields and torinomachi festival asakusa tanbo torinomachi mode from the series one hundred famous views of edo meisho edo hyakkei': 3,\n",
       " 'perv’s house chicago': 3,\n",
       " 'futatsu hall nikko nikko futatsudo': 3,\n",
       " 'fear': 3,\n",
       " 'medicine box': 3,\n",
       " 'the poetess gishumonin no tango from the series the thirtysix immortal women poets nishikizuri onna sanjurokkasen': 3,\n",
       " 'momo saezuri': 3,\n",
       " 'untitled toshie': 3,\n",
       " 'bookshaped match safe': 3,\n",
       " 'twohanded sword': 3,\n",
       " 'american gothic': 3,\n",
       " 'yoshiwara fuji marsh and ukishima plain yoshiwara fuji no numa ukishima ga hara no from the series famous sights of the fiftythree stations gojusan tsugi meisho zue also known as the vertical tokaido': 3,\n",
       " 'evening shower at the bank of tadasu river tadasugawara no yudachi from the series famous places in kyoto kyoto meisho no uchi': 3,\n",
       " 'piñon grand canyon': 3,\n",
       " 'woman': 3,\n",
       " 'lobed dish': 3,\n",
       " 'clouds': 3,\n",
       " 'evening snow at edo river kure no yuki edogawa': 3,\n",
       " 'kites of fukuroi and distant view of akiba in totomi province enshu akiba enkei fukuroi tako from the series one hundred famous views in the various provinces shokoku meisho hyakkei': 3,\n",
       " 'target': 3,\n",
       " 'waiting': 3,\n",
       " 'no spring': 3,\n",
       " 'raigō ajari kaiso den': 3,\n",
       " 'suijin shrine and massaki on the sumida river sumidagawa suijin no mori massaki from the series one hundred famous views of edo meisho edo hyakkei': 3,\n",
       " 'shigarakiware jar': 3,\n",
       " 'oumayagashi from the series one hundred famous views of edo meisho edo hyakkei': 3,\n",
       " 'the lovers': 3,\n",
       " 'returning sails at gyotoku gyotoku no kihan from the series eight views in the environs of edo edo kinko hakkei no uchi': 3,\n",
       " 'the actor ichikawa yaozo ii': 3,\n",
       " 'chester': 3,\n",
       " 'in the mountains of izu province izu no sanchu from the series thirtysix views of mount fuji fuji sanjurokkei': 3,\n",
       " 'into the world there came a soul called ida': 3,\n",
       " 'evening moon at nakanoshima sapporo sapporo nakanoshima no yuzuki from the series collection of views of japan eastern japan edition nihon fukei shu higashi nihon hen': 3,\n",
       " 'memorial portrait of the actor onoe kikugoro iv': 3,\n",
       " 'mirozu wakayama prefecture mirozu wakayama ken': 3,\n",
       " 'no midono from the series sixtynine stations of the kisokaido kisokaido rokujukyu tsugi no uchi': 3,\n",
       " 'cottages at balaklava': 3,\n",
       " 'plaque with animal mask': 3,\n",
       " 'the pastoral play': 3,\n",
       " 'asakusa river great riverbank miyato river asakusagawa okawabata miyatogawa from the series one hundred famous views of edo meisho edo hyakkei': 3,\n",
       " 'ehon teikin ōrai': 3,\n",
       " 'coach changing horses': 3,\n",
       " 'jupiter and mercury in the house of philemon and baucis': 3,\n",
       " 'futami bay in ise province ise futamigaura from the series thirtysix views of mount fuji fuji sanjurokkei': 3,\n",
       " 'reclining woman': 3,\n",
       " 'apn no tameno kousei composition for apn': 3,\n",
       " 'covered urn': 3,\n",
       " 'kuro tomesode': 3,\n",
       " 'the riverbank at sukiya in the eastern capital toto sukiyagashi from the series thirtysix views of mount fuji fuji sanjurokkei': 3,\n",
       " 'the card game': 3,\n",
       " 'untitled nude': 3,\n",
       " 'ippitsu gafu': 3,\n",
       " 'ogura hyakku': 3,\n",
       " 'fox hunt': 3,\n",
       " 'shipwreck': 3,\n",
       " 'landscape of the four seasons': 3,\n",
       " 'court scene': 3,\n",
       " 'arc': 3,\n",
       " 'head of a young woman': 3,\n",
       " 'portrait of marcel duchamp': 3,\n",
       " 'lake chuzenji nikko nikko chuzenjiko': 3,\n",
       " 'venus and mercury': 3,\n",
       " 'april': 3,\n",
       " 'tureen with cover': 3,\n",
       " 'harbor': 3,\n",
       " 'southendonsea': 3,\n",
       " 'kelmscott manor in the tapestry room': 3,\n",
       " 'stem cup': 3,\n",
       " 'covered box': 3,\n",
       " 'towel': 3,\n",
       " 'the yellow mountain': 3,\n",
       " 'fugaku hyakkei': 3,\n",
       " 'salome dancing before herod': 3,\n",
       " 'ehon toshi sen': 3,\n",
       " 'tile': 3,\n",
       " 'the milliner': 3,\n",
       " 'water glass': 3,\n",
       " 'sagami river sagamigawa from the series thirtysix views of mount fuji fuji sanjurokkei': 3,\n",
       " 'pittsburgh': 3,\n",
       " 'nude model standing': 3,\n",
       " 'the gazebo': 3,\n",
       " 'marczinsky': 3,\n",
       " 'wall clock': 3,\n",
       " 'canterbury pilgrims': 3,\n",
       " 'the chicago stock exchange later north lasalle building': 3,\n",
       " 'burton dunglinson house ealing england scheme elevation': 3,\n",
       " 'iyo province saijo iyo saijo from the series famous places in the sixty provinces rokujuyoshu meisho zue': 3,\n",
       " 'cigarette no new york': 3,\n",
       " 'what made you take up art as a profession': 3,\n",
       " 'salome triptych': 3,\n",
       " 'portrait of a woman with black hat': 3,\n",
       " 'kinosaki tajima from the series souvenirs of travel third series tabi miyage dai sanshu tajima kinosaki': 3,\n",
       " 'sketches at the association cup football match': 3,\n",
       " 'pearshaped vase with buddhist symbols and a landscape scene in cartouches': 3,\n",
       " 'young girl': 3,\n",
       " 'beatrice': 3,\n",
       " 'pieta': 3,\n",
       " 'mahna no varua ino the devil speaks from the noa noa suite': 3,\n",
       " 'abraham bloemaert': 3,\n",
       " 'man of sorrows': 3,\n",
       " 'mary cassatt at the louvre the etruscan gallery': 3,\n",
       " 'adam': 3,\n",
       " 'sympton': 3,\n",
       " ...}"
      ]
     },
     "execution_count": 44,
     "metadata": {},
     "output_type": "execute_result"
    }
   ],
   "source": [
    "df['titles'].value_counts().to_dict()"
   ]
  },
  {
   "cell_type": "markdown",
   "id": "9cf93ce3",
   "metadata": {
    "papermill": {
     "duration": 0.038396,
     "end_time": "2024-03-11T08:26:09.790307",
     "exception": false,
     "start_time": "2024-03-11T08:26:09.751911",
     "status": "completed"
    },
    "tags": []
   },
   "source": [
    "## **Removing Stopwords**"
   ]
  },
  {
   "cell_type": "code",
   "execution_count": 45,
   "id": "a5102653",
   "metadata": {
    "execution": {
     "iopub.execute_input": "2024-03-11T08:26:09.874338Z",
     "iopub.status.busy": "2024-03-11T08:26:09.873787Z",
     "iopub.status.idle": "2024-03-11T08:32:55.299020Z",
     "shell.execute_reply": "2024-03-11T08:32:55.297397Z"
    },
    "papermill": {
     "duration": 405.471047,
     "end_time": "2024-03-11T08:32:55.302671",
     "exception": false,
     "start_time": "2024-03-11T08:26:09.831624",
     "status": "completed"
    },
    "tags": []
   },
   "outputs": [],
   "source": [
    "nlp = spacy.load('en_core_web_sm')\n",
    "df['titles'] = df['titles'].apply(lambda x: ' '.join([token.text for token in nlp(x) if not token.is_stop]))"
   ]
  },
  {
   "cell_type": "markdown",
   "id": "8cbcb90e",
   "metadata": {
    "papermill": {
     "duration": 0.04007,
     "end_time": "2024-03-11T08:32:55.383741",
     "exception": false,
     "start_time": "2024-03-11T08:32:55.343671",
     "status": "completed"
    },
    "tags": []
   },
   "source": [
    "## **Creating a title count dictionary if multiple same title exists** "
   ]
  },
  {
   "cell_type": "code",
   "execution_count": 46,
   "id": "512730e5",
   "metadata": {
    "execution": {
     "iopub.execute_input": "2024-03-11T08:32:55.464559Z",
     "iopub.status.busy": "2024-03-11T08:32:55.464022Z",
     "iopub.status.idle": "2024-03-11T08:32:55.532328Z",
     "shell.execute_reply": "2024-03-11T08:32:55.530815Z"
    },
    "papermill": {
     "duration": 0.112404,
     "end_time": "2024-03-11T08:32:55.535631",
     "exception": false,
     "start_time": "2024-03-11T08:32:55.423227",
     "status": "completed"
    },
    "tags": []
   },
   "outputs": [],
   "source": [
    "titles_dict = df['titles'].value_counts().to_dict()"
   ]
  },
  {
   "cell_type": "code",
   "execution_count": 47,
   "id": "a68aed01",
   "metadata": {
    "execution": {
     "iopub.execute_input": "2024-03-11T08:32:55.615359Z",
     "iopub.status.busy": "2024-03-11T08:32:55.614452Z",
     "iopub.status.idle": "2024-03-11T08:32:55.661294Z",
     "shell.execute_reply": "2024-03-11T08:32:55.659689Z"
    },
    "papermill": {
     "duration": 0.090662,
     "end_time": "2024-03-11T08:32:55.664983",
     "exception": false,
     "start_time": "2024-03-11T08:32:55.574321",
     "status": "completed"
    },
    "tags": []
   },
   "outputs": [
    {
     "data": {
      "text/plain": [
       "{'untitled': 733,\n",
       " 'fragment': 521,\n",
       " 'protest surrounding construction narita airport': 246,\n",
       " 'panel': 244,\n",
       " 'pendant': 145,\n",
       " 'selfportrait': 138,\n",
       " 'border': 112,\n",
       " 'wine glass': 106,\n",
       " 'panel furnishing fabric': 104,\n",
       " 'sutra cover': 100,\n",
       " 'swatch furnishing fabric': 99,\n",
       " 'vase': 62,\n",
       " 'sampler': 58,\n",
       " 'bowl': 58,\n",
       " 'kesa': 53,\n",
       " 'snuff bottle': 52,\n",
       " 'landscape': 52,\n",
       " '': 47,\n",
       " 'fukusa gift cover': 45,\n",
       " 'nude': 43,\n",
       " 'splash point stormy day sunshine shower': 40,\n",
       " 'software chart questionnare': 38,\n",
       " 'chicago': 38,\n",
       " 'beaker': 34,\n",
       " 'design paper': 33,\n",
       " 'cong': 33,\n",
       " 'study plate telemachus': 33,\n",
       " 'study plate task': 33,\n",
       " 'waistcoat design': 32,\n",
       " 'cover': 30,\n",
       " 'life': 30,\n",
       " 'plate moonstrip empire news': 30,\n",
       " 'plate': 30,\n",
       " 'bidisc': 29,\n",
       " 'ring': 28,\n",
       " 'untitled circulation october': 28,\n",
       " 'paperweight': 28,\n",
       " 'adoration magi': 28,\n",
       " 'bedcover': 26,\n",
       " 'sheet shunga album': 26,\n",
       " 'fragment border': 26,\n",
       " 'plate telemachus': 26,\n",
       " 'study': 25,\n",
       " 'dish': 25,\n",
       " 'goblet': 25,\n",
       " 'trouser band': 25,\n",
       " 'untitled distortion': 23,\n",
       " 'adoration shepherds': 23,\n",
       " 'new york': 23,\n",
       " 'valance': 22,\n",
       " 'handkerchief': 22,\n",
       " 'hanno death': 22,\n",
       " 'axe': 21,\n",
       " 'calligraphy': 21,\n",
       " 'madonna child': 21,\n",
       " 'equivalent': 20,\n",
       " 'portrait man': 20,\n",
       " 'head': 20,\n",
       " 'portrait woman': 20,\n",
       " 'sketchbook': 20,\n",
       " 'spring den frühling': 20,\n",
       " 'annunciation': 20,\n",
       " 'jar': 20,\n",
       " 'chasuble': 20,\n",
       " 'bead': 20,\n",
       " 'band woman trousers robe': 19,\n",
       " 'handleshaped object': 19,\n",
       " 'frauen series': 19,\n",
       " 'mother child': 19,\n",
       " 'composition': 19,\n",
       " 'plate illustrations popular songs': 19,\n",
       " 'rest flight egypt': 18,\n",
       " 'reclining nude': 18,\n",
       " 'furoshiki wrapping cloth': 18,\n",
       " 'head woman': 18,\n",
       " 'bottleshaped vase': 17,\n",
       " 'spring': 17,\n",
       " 'doublepage illustration vol picture book spring brocades ehon haru nishiki': 17,\n",
       " 'title unknown': 17,\n",
       " 'panel curtain fabric': 17,\n",
       " 'virgin child': 17,\n",
       " 'chair': 17,\n",
       " 'shoe': 17,\n",
       " 'mrs craik': 17,\n",
       " 'crucifixion': 16,\n",
       " 'bathers': 16,\n",
       " 'architectural fitting gong': 16,\n",
       " 'band': 16,\n",
       " 'georgia o’keeffe': 16,\n",
       " 'halberd': 16,\n",
       " 'cloak pin knob tieback': 16,\n",
       " 'portrait poet hagiwara sakutaro author ice island': 16,\n",
       " 'plate harlot progress': 16,\n",
       " 'altar frontal': 15,\n",
       " 'cushion cover': 15,\n",
       " 'forget valentine': 15,\n",
       " 'holy family': 15,\n",
       " 'julia jackson': 15,\n",
       " 'flounce': 15,\n",
       " 'sponge box': 14,\n",
       " 'plate xx stuck zum ornamental designs goblets beakers': 14,\n",
       " 'haori': 14,\n",
       " 'panel dress fabric': 14,\n",
       " 'nude new york': 14,\n",
       " 'assumption virgin': 14,\n",
       " 'fringe': 14,\n",
       " 'treatise landscape painting effect water colours rudiments finished picture': 14,\n",
       " 'child shoe': 14,\n",
       " 'fan': 13,\n",
       " 'plate military figures': 13,\n",
       " 'saint jerome': 13,\n",
       " 'shawl': 13,\n",
       " 'washington skin nylon chair': 13,\n",
       " 'panel screen': 13,\n",
       " 'miniature vase': 13,\n",
       " 'new york city': 13,\n",
       " 'bird pendant': 13,\n",
       " 'fragment orphrey band': 13,\n",
       " 'rummer': 13,\n",
       " 'supper': 13,\n",
       " 'ghosts': 13,\n",
       " 'study rock': 13,\n",
       " 'seated female nude': 13,\n",
       " 'camera conquers unknown photographic territory die kamera erobert fotografisches neuland': 13,\n",
       " 'saint christopher': 12,\n",
       " 'spinning cloth preparing tea leaves preparing silk': 12,\n",
       " 'submersion pharaoh army red sea': 12,\n",
       " 'venus cupid': 12,\n",
       " 'kimono': 12,\n",
       " 'cup': 12,\n",
       " 'nativity': 12,\n",
       " 'judith head holofernes': 12,\n",
       " 'bag': 12,\n",
       " 'orchids album leaves': 12,\n",
       " 'untitled screen prints': 12,\n",
       " 'flight egypt': 12,\n",
       " 'armchair': 12,\n",
       " 'panel skirt': 12,\n",
       " 'evening': 11,\n",
       " 'toshi sen ehon': 11,\n",
       " 'study plate triumphs temper royal engagements pocket book': 11,\n",
       " 'portrait lady': 11,\n",
       " 'figures': 11,\n",
       " 'pair shoes': 11,\n",
       " 'gentlewoman issue spring summer': 11,\n",
       " 'riding school horses': 11,\n",
       " 'white carrot': 11,\n",
       " 'pendant dragon': 11,\n",
       " 'fragment dress fabric': 11,\n",
       " 'calligraphy accompanying xugu painting': 11,\n",
       " 'massacre innocents': 10,\n",
       " 'bath': 10,\n",
       " 'abstract composition': 10,\n",
       " 'picture': 10,\n",
       " 'gentlewoman issue autumn winter': 10,\n",
       " 'london': 10,\n",
       " 'equivalent set set print': 10,\n",
       " 'fish pendant': 10,\n",
       " 'battersea reach': 10,\n",
       " 'marilyn monroe marilyn': 10,\n",
       " 'rebecca salsbury strand': 10,\n",
       " 'resurrection': 10,\n",
       " 'peony cup': 10,\n",
       " 'parody daimyo procession': 10,\n",
       " 'dragon pendant': 10,\n",
       " 'lamp': 10,\n",
       " 'pillow cover': 10,\n",
       " 'fragment furnishing fabric': 10,\n",
       " 'anonymous histories': 10,\n",
       " 'handleshaped jade': 9,\n",
       " 'flowers black white': 9,\n",
       " 'concert': 9,\n",
       " 'picturesque architecture paris ghent antwerp touen etc': 9,\n",
       " 'portrait': 9,\n",
       " 'tree scene': 9,\n",
       " 'tokyo': 9,\n",
       " 'visitation': 9,\n",
       " 'hendrick goltzius': 9,\n",
       " 'east sussex coast': 9,\n",
       " 'objects': 9,\n",
       " 'seated nude': 9,\n",
       " 'phototransformation': 9,\n",
       " 'daggerblade ge': 9,\n",
       " 'pages illustrated book panoramic views banks sumida river ehon sumidagawa ryogan ichiran': 9,\n",
       " 'triumph caesar': 9,\n",
       " 'flute': 9,\n",
       " 'fragments': 9,\n",
       " 'bust woman': 9,\n",
       " 'horse': 9,\n",
       " 'disc bi': 9,\n",
       " 'mirror': 9,\n",
       " 'flowers handcolored': 9,\n",
       " 'landscape landscapes': 9,\n",
       " 'box': 9,\n",
       " 'actor segawa kikunojo iii unidentified role': 8,\n",
       " 'insertion': 8,\n",
       " 'furisode': 8,\n",
       " 'bird': 8,\n",
       " 'winter aizu': 8,\n",
       " 'mace': 8,\n",
       " 'bowl floral scrolls': 8,\n",
       " 'untitled plate america': 8,\n",
       " 'portrait young woman': 8,\n",
       " 'punishment niobe plate': 8,\n",
       " 'head man': 8,\n",
       " 'slit ring jue': 8,\n",
       " 'compassion': 8,\n",
       " 'bowl dragons': 8,\n",
       " 'luohan series set luohans': 8,\n",
       " 'campden hill london': 8,\n",
       " 'bottle': 8,\n",
       " 'temptation saint anthony': 8,\n",
       " 'illuminated manuscript leaf': 8,\n",
       " 'woman shoes': 8,\n",
       " 'kensington gardens small plate': 8,\n",
       " 'chalice cover': 8,\n",
       " 'plaque interlinked scrolls': 8,\n",
       " 'jug': 8,\n",
       " 'physiognomien': 8,\n",
       " 'plate long live fashion art': 8,\n",
       " 'standing figure': 8,\n",
       " 'cosmic symphonies': 8,\n",
       " 'trimming': 8,\n",
       " 'table': 8,\n",
       " 'candelabra': 8,\n",
       " 'portrait gentleman': 8,\n",
       " 'triumph maximilian': 8,\n",
       " 'curtain': 8,\n",
       " 'delights fishing': 8,\n",
       " 'plate drawings movements soldiers': 8,\n",
       " 'haystacks': 8,\n",
       " 'lot daughters': 8,\n",
       " 'wheellock rifle': 7,\n",
       " 'embers glow': 7,\n",
       " 'women': 7,\n",
       " 'rapier': 7,\n",
       " 'untitled de bungalow ynyswidden': 7,\n",
       " 'woman head': 7,\n",
       " 'loop chicago': 7,\n",
       " 'ewer': 7,\n",
       " 'study festival': 7,\n",
       " 'waterfall': 7,\n",
       " 'entombment': 7,\n",
       " 'water jar mizusashi': 7,\n",
       " 'pearshaped vase': 7,\n",
       " 'study portrait man arm chair collection imitations drawings main Dutch Flemish masters': 7,\n",
       " 'nude model male': 7,\n",
       " 'untitled hata': 7,\n",
       " 'dance': 7,\n",
       " 'misunderstandings theory photography': 7,\n",
       " 'rad': 7,\n",
       " 'slip unfinished': 7,\n",
       " 'panel curtain': 7,\n",
       " 'plate rake progress': 7,\n",
       " 'reading': 7,\n",
       " 'powder flask': 7,\n",
       " 'washington skeleton aluminum chair': 7,\n",
       " 'balustershaped vase': 7,\n",
       " 'arcshaped pendant huang': 7,\n",
       " 'border cover': 7,\n",
       " 'curb bit': 7,\n",
       " 'eleanor chicago': 7,\n",
       " 'shere mill pond ii large plate': 7,\n",
       " 'chair seat': 7,\n",
       " 'knoll sample': 7,\n",
       " 'luohans': 7,\n",
       " 'sword pommel': 7,\n",
       " 'work': 7,\n",
       " 'canary island landscapes ii': 7,\n",
       " 'scenery loch katrine': 7,\n",
       " 'flowers': 7,\n",
       " 'susanna elders': 7,\n",
       " 'dove dale': 7,\n",
       " 'love valentine': 7,\n",
       " 'miniature vessel': 7,\n",
       " 'dancing couple plate large weddingdancers': 7,\n",
       " 'cover furnishing fabric': 7,\n",
       " 'saint george dragon': 7,\n",
       " 'band woman trousers': 7,\n",
       " 'plate bible': 7,\n",
       " 'untitled black manners mezzotints': 7,\n",
       " 'adam eve': 7,\n",
       " 'hanging': 7,\n",
       " 'subjects landscape characteristic english landscape scenery': 6,\n",
       " 'belt buckle': 6,\n",
       " 'incense burner': 6,\n",
       " 'die befreiung der finger liberation fingers': 6,\n",
       " 'landscapes': 6,\n",
       " 'glass': 6,\n",
       " 'marigold': 6,\n",
       " 'demonstration': 6,\n",
       " 'plate dead souls': 6,\n",
       " 'platter': 6,\n",
       " 'untitled garrick theater': 6,\n",
       " 'uchishiki altar cloth': 6,\n",
       " 'dancer': 6,\n",
       " 'designs jewelry': 6,\n",
       " 'light': 6,\n",
       " 'arrival korean embassy edo': 6,\n",
       " 'blade': 6,\n",
       " 'bogeyman': 6,\n",
       " 'conway castle': 6,\n",
       " 'tray': 6,\n",
       " 'plate radierversuche': 6,\n",
       " 'pair shoe buckles': 6,\n",
       " 'man cap': 6,\n",
       " 'bao shi shan luo ying gem mountain luo ying plate': 6,\n",
       " 'days': 6,\n",
       " 'teabowl': 6,\n",
       " 'bowl stylized leafstrokes': 6,\n",
       " 'untitled film': 6,\n",
       " 'entrance ambassador poland rome': 6,\n",
       " 'dalmatic': 6,\n",
       " 'sunset ireland': 6,\n",
       " 'immortals': 6,\n",
       " 'baptism christ': 6,\n",
       " 'untitled ii': 6,\n",
       " 'denarius coin depicting goddess roma': 6,\n",
       " 'melrose abbey': 6,\n",
       " 'tiger generals tales water margin suikoden goko shogun': 6,\n",
       " 'untitled plate nyc series selfpossessed': 6,\n",
       " 'raising lazarus': 6,\n",
       " 'mary jean mitchell green': 6,\n",
       " 'apron': 6,\n",
       " 'powder jar': 6,\n",
       " 'judgment paris': 6,\n",
       " 'female musician': 6,\n",
       " 'beakershaped vase': 6,\n",
       " 'tobias angel': 6,\n",
       " 'sauce tureen cover hood service': 6,\n",
       " 'insertion cover': 6,\n",
       " 'chicago panels': 6,\n",
       " 'pitcher': 6,\n",
       " 'chrysanthemums': 6,\n",
       " 'bao shi shan luo ying gem mountain luo ying b': 6,\n",
       " 'bencharong fivecolored ware covered jar': 6,\n",
       " 'mountainous landscape': 6,\n",
       " 'chair cover': 6,\n",
       " 'hampton court tram': 6,\n",
       " 'sitting': 6,\n",
       " 'seated male nude': 6,\n",
       " 'early morning richmond park': 6,\n",
       " 'figure': 6,\n",
       " 'da hairy foyer ya prince': 6,\n",
       " 'cup saucer': 6,\n",
       " 'weakness dwell valentine': 6,\n",
       " 'raped': 6,\n",
       " 'epping forest': 6,\n",
       " 'midwest landscape': 6,\n",
       " 'plaque': 6,\n",
       " 'te atua god noa noa suite': 6,\n",
       " 'untitled valentine flowers': 6,\n",
       " 'sisters': 6,\n",
       " 'procession daimyo': 6,\n",
       " 'september': 6,\n",
       " 'garden': 6,\n",
       " 'maruru offerings gratitude noa noa suite': 6,\n",
       " 'episodes white chapel life': 6,\n",
       " 'picture needlework': 6,\n",
       " 'paris': 6,\n",
       " 'tankard': 6,\n",
       " 'christ carrying cross': 6,\n",
       " 'flagellation christ': 6,\n",
       " 'plate raccolta di vasi diversi di stef de la bella fiorentino': 6,\n",
       " 'plate passion desert': 6,\n",
       " 'untitled l’apocalypse': 6,\n",
       " 'altar cover': 5,\n",
       " 'bamboo': 5,\n",
       " 'title missing': 5,\n",
       " 'cow': 5,\n",
       " 'saint sebastian': 5,\n",
       " 'butterfly': 5,\n",
       " 'entombment christ': 5,\n",
       " 'deposition': 5,\n",
       " 'marine': 5,\n",
       " 'vase shape archaic bronze vessel': 5,\n",
       " 'battle scene': 5,\n",
       " 'venus adonis': 5,\n",
       " 'abduction sabine woman': 5,\n",
       " 'italian landscape ruins': 5,\n",
       " 'bowl stem': 5,\n",
       " 'eleanor barbara chicago': 5,\n",
       " 'mystic marriage saint catherine': 5,\n",
       " 'giant causeway': 5,\n",
       " 'bencharong fivecolored ware jar tiered cover': 5,\n",
       " 'study mansions': 5,\n",
       " 'storm': 5,\n",
       " 'lamentation': 5,\n",
       " 'man sorrows': 5,\n",
       " 'cicada': 5,\n",
       " 'mary magdalene': 5,\n",
       " 'cape': 5,\n",
       " 'panel dress furnishing fabric': 5,\n",
       " 'girls': 5,\n",
       " 'garrick shakespeare tragedy comedy furnishing fabric': 5,\n",
       " 'zen studies plate cold mountain series': 5,\n",
       " 'untitled pour jorn': 5,\n",
       " 'deer': 5,\n",
       " 'industrieruhrgebiet': 5,\n",
       " 'carved lacquer box': 5,\n",
       " 'table frontal': 5,\n",
       " 'hilltop view yushima tenjin shrine yushima tenjin sakaue tenbo series famous views edo meisho edo hyakkei': 5,\n",
       " 'judgement paris': 5,\n",
       " 'flood': 5,\n",
       " 'laborers': 5,\n",
       " 'harvest': 5,\n",
       " 'standard bearer': 5,\n",
       " 'memorial portrait actor ichikawa danjuro viii': 5,\n",
       " 'jacob rachel': 5,\n",
       " 'mother': 5,\n",
       " 'winter': 5,\n",
       " 'plate evenings rome': 5,\n",
       " 'great prosperity silk farm kaikoya daihanjono zu': 5,\n",
       " 'candlestick': 5,\n",
       " 'lion': 5,\n",
       " 'portfolio cover wrapper colophon title page war': 5,\n",
       " 'graces': 5,\n",
       " 'obi belt': 5,\n",
       " 'auti te pape women river noa noa suite': 5,\n",
       " 'mount fuji': 5,\n",
       " 'plate collection vases': 5,\n",
       " 'scene': 5,\n",
       " 'seal': 5,\n",
       " 'odalisque': 5,\n",
       " 'carpet': 5,\n",
       " 'sunset': 5,\n",
       " 'pair candlesticks': 5,\n",
       " 'lines inch directions colors sixteen lithographs color': 5,\n",
       " 'putti': 5,\n",
       " 'shower': 5,\n",
       " 'landscape farmhouse': 5,\n",
       " 'irises horikiri horikiri hanashobu series famous views edo meisho edo hyakkei': 5,\n",
       " 'bao shi shan luo ying gem mountain luo ying': 5,\n",
       " 'globular jar': 5,\n",
       " 'panel fabric necktie': 5,\n",
       " 'hare pendant': 5,\n",
       " 'long shawl': 5,\n",
       " 'bouquet collection new flowers taste manufacture persian cloth invented drawn jean pillement': 5,\n",
       " 'needlecase sampler': 5,\n",
       " 'bridge': 5,\n",
       " 'detroit': 5,\n",
       " 'portrait auguste rodin': 5,\n",
       " 'komagata embankment komagatagashi series scenes tokyo tokyo junidai': 5,\n",
       " 'outskirts koshigaya musashi province musashi koshigaya zai series thirtysix views mount fuji fuji sanjurokkei': 5,\n",
       " 'cope': 5,\n",
       " 'dancers': 5,\n",
       " 'untitled subway portrait new york': 5,\n",
       " 'plate wise foolish virgins': 5,\n",
       " 'lovers': 5,\n",
       " 'woman': 5,\n",
       " 'christ woman samaria': 5,\n",
       " 'balcony': 5,\n",
       " 'vinaigrette': 5,\n",
       " 'garment hook': 5,\n",
       " 'standing female nude': 5,\n",
       " 'borders': 5,\n",
       " 'landscape figure album landscapes calligraphy liu songfu': 5,\n",
       " 'dusk itako itako yu': 5,\n",
       " 'sweetmeat glass': 5,\n",
       " 'mrs herbert duckworth': 5,\n",
       " 'venus': 5,\n",
       " 'hota beach awa province boshu hota kaigan series thirtysix views mount fuji fuji sanjurokkei': 5,\n",
       " 'panel dress': 5,\n",
       " 'spinner': 5,\n",
       " 'champagne glass': 5,\n",
       " 'wine jar hu': 5,\n",
       " 'torso': 5,\n",
       " 'rape europa': 5,\n",
       " 'saint albans steeplechase': 5,\n",
       " 'reclining female nude': 5,\n",
       " 'miyako island okinawa': 5,\n",
       " 'tobacco box': 5,\n",
       " 'letter': 5,\n",
       " 'evening bell ikegami ikegami bansho series views environs edo edo kinko hakkei uchi': 5,\n",
       " 'plate embarkments': 5,\n",
       " 'conical bowl': 5,\n",
       " 'afternoon tea': 5,\n",
       " 'moses': 5,\n",
       " 'card game': 5,\n",
       " 'winter landscape': 5,\n",
       " 'abstract': 5,\n",
       " 'study royal exchange microcosm london': 5,\n",
       " 'tea bowl': 5,\n",
       " 'saint jerome penitence': 5,\n",
       " 'chimney sweep': 5,\n",
       " 'drawing': 5,\n",
       " 'lucretia': 5,\n",
       " 'stole': 5,\n",
       " 'night': 5,\n",
       " 'walker warehouse': 5,\n",
       " 'table cover': 5,\n",
       " 'breastplate': 5,\n",
       " 'christ cross': 5,\n",
       " 'manao tupapau thinks ghost ghost thinks': 5,\n",
       " 'hunting scene': 5,\n",
       " 'man jifu semiformal court robe': 5,\n",
       " 'conversion saint paul': 5,\n",
       " 'division — work': 5,\n",
       " 'book illustration': 5,\n",
       " 'seated guanyin': 5,\n",
       " 'bride': 5,\n",
       " 'shipwreck': 5,\n",
       " 'shepherdess': 5,\n",
       " 'virgin child angels': 5,\n",
       " 'goblet cover': 5,\n",
       " 'divers': 4,\n",
       " 'birth virgin': 4,\n",
       " 'evil': 4,\n",
       " 'juno goddesses': 4,\n",
       " 'coif': 4,\n",
       " 'mount thames evening': 4,\n",
       " 'sleeve band': 4,\n",
       " 'harbor': 4,\n",
       " 'cup plum peony flowers': 4,\n",
       " 'slice stone': 4,\n",
       " 'sherwood anderson': 4,\n",
       " 'animal locomotion plate': 4,\n",
       " 'noon': 4,\n",
       " 'flambeglazed vase': 4,\n",
       " 'untitled recto verso': 4,\n",
       " 'curlyhaired youth': 4,\n",
       " 'bowl peonies': 4,\n",
       " 'oviri': 4,\n",
       " 'zojoji temple shiba shiba zojoji series views tokyo tokyo nijukkei': 4,\n",
       " 'venus amor pagan gods goddesses': 4,\n",
       " 'johannes stradanus': 4,\n",
       " 'cape cod': 4,\n",
       " 'starlit night miyajima hoshizukiyo miyajima series souvenirs travel series tabi miyage dai sanshu': 4,\n",
       " 'birth love valentine': 4,\n",
       " 'fragment cup': 4,\n",
       " 'insertion table cloth': 4,\n",
       " 'night rain paulownia grove akasaka akasaka kiribatake uchu yukei series famous views edo meisho edo hyakkei': 4,\n",
       " 'annunciation life virgin': 4,\n",
       " 'village road plate pictures farms country houses rustic villages praediorum villarum et rusticarum casularum icones': 4,\n",
       " 'descending geese katada katada rakugan series views omi omi hakkei uchi': 4,\n",
       " 'ehon azuma karage': 4,\n",
       " 'martyrdom saint sebastian': 4,\n",
       " 'link': 4,\n",
       " 'heather bronze': 4,\n",
       " 'cuphilted rapier': 4,\n",
       " 'aesacus hesperie plate liber studiorum': 4,\n",
       " 'actor otani hiroji iii unidentified role': 4,\n",
       " 'arno brownblack': 4,\n",
       " 'windmill': 4,\n",
       " 'lai nam thong goldwashed ware covered bowl': 4,\n",
       " 'martin luther': 4,\n",
       " 'fisherman drinking canoe': 4,\n",
       " 'narcissus': 4,\n",
       " 'comic scene': 4,\n",
       " 'canterbury pilgrims': 4,\n",
       " 'saint john baptist': 4,\n",
       " 'door': 4,\n",
       " 'beibei kyōdan': 4,\n",
       " 'ice': 4,\n",
       " 'alfred lord tennyson': 4,\n",
       " 'eleanor aixenprovence france': 4,\n",
       " 'mill stream': 4,\n",
       " 'horse rider': 4,\n",
       " 'target': 4,\n",
       " 'hokusai gafu': 4,\n",
       " 'hokusai gakyô': 4,\n",
       " 'test': 4,\n",
       " 'tarquin lucretia': 4,\n",
       " 'ale glass': 4,\n",
       " 'ehon saiyûki': 4,\n",
       " 'shinpen suiko gaden': 4,\n",
       " 'lancashire river': 4,\n",
       " 'flowers seasons': 4,\n",
       " 'saint anthony': 4,\n",
       " 'sir john herschel': 4,\n",
       " 'wine jug': 4,\n",
       " 'utrecht velvet': 4,\n",
       " 'plate mallarmé suite': 4,\n",
       " 'denham tram': 4,\n",
       " 'tea bowl saucer': 4,\n",
       " 'resurrection christ': 4,\n",
       " 'night rain karasaki karasaki yau series views omi omi hakkei uchi': 4,\n",
       " 'standing guanyin': 4,\n",
       " 'zwinger palace dresden': 4,\n",
       " 'cricket': 4,\n",
       " 'stream': 4,\n",
       " 'adoration christ child': 4,\n",
       " 'musicians': 4,\n",
       " 'madonna child saints elizabeth john baptist': 4,\n",
       " 'thames group c': 4,\n",
       " 'rectoverso': 4,\n",
       " 'pond': 4,\n",
       " 'nuremberg': 4,\n",
       " 'pair andirons': 4,\n",
       " 'cologne': 4,\n",
       " 'okazaki yahagi bridge okazaki yahagi hashi series fiftythree stations tokaido tokaido gojusan tsugi uchi known hoeido tokaido': 4,\n",
       " 'peonies': 4,\n",
       " 'kolobrzeg poland july beach portraits': 4,\n",
       " 'panels funerary couch guanchuang': 4,\n",
       " 'libation cup': 4,\n",
       " 'sanzen temple ohara kyoto kyoto ohara sanzenin': 4,\n",
       " 'black white': 4,\n",
       " 'visitors enoshima': 4,\n",
       " 'orange grid design series': 4,\n",
       " 'penitent magdalene': 4,\n",
       " 'clear weather snow nihon bridge nihonbashi yukibare series famous views edo meisho edo hyakkei': 4,\n",
       " 'summer': 4,\n",
       " 'adam eve paradise': 4,\n",
       " 'stone panel carved low relief narrative scenes': 4,\n",
       " 'thomas carlyle': 4,\n",
       " 'eve': 4,\n",
       " 'blacksmith': 4,\n",
       " 'peasant woman': 4,\n",
       " 'death virgin': 4,\n",
       " 'morning life': 4,\n",
       " 'hungarian horseman': 4,\n",
       " 'water conduit scene sado mizuagehi sado shoken series souvenirs travel second series tabi miyage dai nishu': 4,\n",
       " 'man': 4,\n",
       " 'study opera house microcosm london': 4,\n",
       " 'hibiscus': 4,\n",
       " 'armored guardian king tianwang trampling demon': 4,\n",
       " 'patten overshoe': 4,\n",
       " 'uchikake': 4,\n",
       " 'sagami river sagamigawa series thirtysix views mount fuji fuji sanjurokkei': 4,\n",
       " 'views lake biwa evening omi hakkei moku': 4,\n",
       " 'hilton head island sc usa june beach portraits': 4,\n",
       " 'wine': 4,\n",
       " 'clump leaves flowers': 4,\n",
       " 'building': 4,\n",
       " 'leader parisian blood red republic': 4,\n",
       " 'ribbon': 4,\n",
       " 'pink coated rider': 4,\n",
       " 'horse rider hunt': 4,\n",
       " 'solitude': 4,\n",
       " 'copy botanical engraving celtis': 4,\n",
       " 'copy large italian print reduced camera': 4,\n",
       " 'dance duncan boswell tour hebrides': 4,\n",
       " 'bao shi shan ban shan jewel mountain half mountain b': 4,\n",
       " 'trinity college dublin': 4,\n",
       " 'tarts': 4,\n",
       " 'standing attendant tomb figurine': 4,\n",
       " 'female head': 4,\n",
       " 'untitled valentine bouquet': 4,\n",
       " 'untitled valentine gold flowers wreath': 4,\n",
       " 'untitled valentine antique couple putti': 4,\n",
       " 'picturesque selections text page picturesque selections': 4,\n",
       " 'nocturne': 4,\n",
       " 'tsuchizaki akita series souvenirs travel series tabi miyage dai sanshu akita tsuchizaki': 4,\n",
       " 'view massaki suijin shrine uchigawa inlet sekiya massaki hen yori suijin mori uchigawa sekiya sato o miru zu series famous views edo meisho edo hyakkei': 4,\n",
       " 'scarf': 4,\n",
       " 'street': 4,\n",
       " 'detail horse head enlarged triple size norman royal guard': 4,\n",
       " 'broken toy': 4,\n",
       " 'panel pillar design': 4,\n",
       " 'nativity midwife joseph standing': 4,\n",
       " 'robert browning': 4,\n",
       " 'vestment firstdegree taoist priest': 4,\n",
       " 'bencharong fivecolored ware bowl': 4,\n",
       " 'christ pilate': 4,\n",
       " 'denarius coin depicting god apollo': 4,\n",
       " 'unknown bowery': 4,\n",
       " 'anemonies': 4,\n",
       " 'girl': 4,\n",
       " 'holy family infant saint john baptist': 4,\n",
       " 'sheet sketches': 4,\n",
       " 'women late th century dress': 4,\n",
       " 'st jerome': 4,\n",
       " 'printing blocks': 4,\n",
       " 'ornament panels birds plate': 4,\n",
       " 'dish butterflies flowers': 4,\n",
       " 'circumcision': 4,\n",
       " 'repose': 4,\n",
       " 'george duke cambridge field marshal crimea': 4,\n",
       " 'darlington': 4,\n",
       " 'weeping allegorical female figure putto': 4,\n",
       " 'adeste fideles': 4,\n",
       " 'ryakuga haya oshie': 4,\n",
       " 'landscapes liu songfu': 4,\n",
       " 'length woven silk': 4,\n",
       " 'noa noa fragrant noa noa suite': 4,\n",
       " 'kosode': 4,\n",
       " 'yamato province tatsuta mountain tatsuta river yamato tatsutayama tatsutagawa series famous places sixtyodd provinces rokujuyoshu meisho zue': 4,\n",
       " 'father inn views surroundings haarlem plaisante plaetsen': 4,\n",
       " 'fragment bowl': 4,\n",
       " 'beacon zandvoort views surroundings haarlem plaisante plaetsen': 4,\n",
       " 'peasants': 4,\n",
       " 'night view saruwakamachi saruwakamachi yoru kei series famous views edo meisho edo hyakkei': 4,\n",
       " 'fortune': 4,\n",
       " 'benigai horagai urauzugai wasuregai chiyonohanagai masuhogai illustrated book gifts ebb tide shiohi tsuto': 4,\n",
       " 'girl cat': 4,\n",
       " 'barn landscapes verscheyden aerdige lanthuysen …': 4,\n",
       " 'storyville portrait': 4,\n",
       " 'fragment floral inlay': 4,\n",
       " 'view temple sibyl tivoli views rome': 4,\n",
       " 'sacrifice isaac': 4,\n",
       " 'farms bleachingfields views surroundings haarlem plaisante plaetsen': 4,\n",
       " 'hitoe': 4,\n",
       " 'thames group e': 4,\n",
       " 'untitled series garage': 4,\n",
       " 'june': 4,\n",
       " 'putto garland': 4,\n",
       " 'dish plum flowers': 4,\n",
       " 'dish images ancient bronzes': 4,\n",
       " 'brunnen picturesque selections': 4,\n",
       " 'italy': 4,\n",
       " 'landscape waterfall': 4,\n",
       " 'earth': 4,\n",
       " 'spain': 4,\n",
       " 'applique': 4,\n",
       " 'owl': 4,\n",
       " 'trees': 4,\n",
       " 'gleaners': 4,\n",
       " 'passport visa endorsement': 4,\n",
       " 'sleeping girl': 4,\n",
       " 'brooklyn bridge': 4,\n",
       " 'collared disc': 4,\n",
       " 'bacchanale': 4,\n",
       " 'windmill hill': 4,\n",
       " 'march': 4,\n",
       " 'white heron iris': 4,\n",
       " 'saucer': 4,\n",
       " 'ecce homo': 4,\n",
       " 'plate new suite notebooks ideal flowers use draftsmen painters': 4,\n",
       " 'bather': 4,\n",
       " 'fates': 4,\n",
       " 'providence': 4,\n",
       " 'battle lapiths centaurs': 4,\n",
       " 'sunset thames': 4,\n",
       " 'apollo': 4,\n",
       " 'chuck close selfportrait': 4,\n",
       " 'water meadow': 4,\n",
       " 'summer shower': 4,\n",
       " 'day': 4,\n",
       " 'penance st john chrysostomus': 4,\n",
       " 'autumn': 4,\n",
       " 'village': 4,\n",
       " 'pleasures terrors levitation': 4,\n",
       " 'mishima morning mist mishima asagiri series fiftythree stations tokaido road tokaido gojusan tsugi uchi known hoeido tokaido': 4,\n",
       " 'woman sleeve band': 4,\n",
       " 'fragment inlay': 4,\n",
       " 'finding moses': 4,\n",
       " 'mars': 4,\n",
       " 'honmoku musashi province musashi honmoku hana series thirtysix views mount fuji fuji sanjurokkei': 4,\n",
       " 'poppies': 4,\n",
       " 'sparrows camellia snow': 4,\n",
       " 'remembrance italy': 4,\n",
       " 'coiled dragon pendant': 4,\n",
       " 'brush washer': 4,\n",
       " 'l’univers est créé universe created noa noa suite': 4,\n",
       " 'goten hill shinagawa shinagawa gotenyama series famous views edo meisho edo hyakkei': 4,\n",
       " 'street scene': 4,\n",
       " 'kleine anatomie blatt': 4,\n",
       " 'pillow sham': 4,\n",
       " 'vision': 4,\n",
       " 'day plate creation world': 4,\n",
       " 'pine success oumayagashi asakusa river asakusagawa shubi matsu oumayagashi series famous views edo meisho edo hyakkei': 4,\n",
       " 'mask': 4,\n",
       " 'tapestries': 4,\n",
       " 'sound silence': 4,\n",
       " 'flagellation': 4,\n",
       " 'cranequin winder crossbow': 4,\n",
       " 'migrant mother nipomo california': 4,\n",
       " 'half shawl': 4,\n",
       " 'imperial edict': 4,\n",
       " 'pair candelabra': 4,\n",
       " 'snow kiyomizu hall ueno ueno kiyomizudo yuki': 4,\n",
       " 'chalice': 4,\n",
       " 'gathering shells low tide illustrated book gifts ebb tide shiohi tsuto': 4,\n",
       " 'seated woman': 4,\n",
       " 'assault shoe': 4,\n",
       " 'bonnet veil': 4,\n",
       " 'renaissance fringe': 4,\n",
       " 'tale genji': 4,\n",
       " 'zensetsu temple sanshu series collection scenic views japan ii kansai edition nihon fukei shu ii kansai hen sanshu zensetsuji': 4,\n",
       " 'leaving bath': 4,\n",
       " 'eleanor': 4,\n",
       " 'actor nakamura sukegoro ii unidentified role': 4,\n",
       " 'false image decals': 4,\n",
       " 'descent cross': 4,\n",
       " 'studies nudes': 4,\n",
       " 'percy rochon jr': 4,\n",
       " 'nave nave fenua delightful land noa noa suite': 4,\n",
       " 'andromeda': 4,\n",
       " 'passion christ': 4,\n",
       " 'woman trouser band': 4,\n",
       " 'illustration samuel richardson clarissa': 4,\n",
       " 'dunes oceano': 4,\n",
       " 'reclining male nude': 4,\n",
       " 'bull': 4,\n",
       " 'cybele chariot drawn lions': 4,\n",
       " 'takashima ohisa': 4,\n",
       " 'distant view azuma bridge kinryuzan temple azumabashi kinryuzan enbo series famous views edo meisho edo hyakkei': 4,\n",
       " 'spring evening otemon gate otemon haru yugure': 4,\n",
       " 'iris': 4,\n",
       " 'yanomami': 4,\n",
       " 'headdress': 4,\n",
       " 'miroirtiroir': 4,\n",
       " 'saint albans grand steeple chase': 4,\n",
       " 'autopolaroids': 4,\n",
       " 'life flowers': 4,\n",
       " 'false image postcard': 4,\n",
       " 'mirozu wakayama prefecture mirozu wakayama ken': 3,\n",
       " 'evening moon nakanoshima sapporo sapporo nakanoshima yuzuki series collection views japan eastern japan edition nihon fukei shu higashi nihon hen': 3,\n",
       " 'harima province maiko beach harima maiko hama series famous places sixtyodd provinces rokujuyoshu meisho zue': 3,\n",
       " 'benten shrine inokashira pond inokashira ike benten yashiro series famous views edo meisho edo hyakkei': 3,\n",
       " 'sparrow hanging planter': 3,\n",
       " 'actor ichikawa yaozo ii': 3,\n",
       " 'preface illustrated book gifts ebb tide shiohi tsuto': 3,\n",
       " 'fisherman family': 3,\n",
       " 'laundresses': 3,\n",
       " 'girl reading': 3,\n",
       " 'abstraction': 3,\n",
       " 'hyde park': 3,\n",
       " 'bust man': 3,\n",
       " 'futatsu hall nikko nikko futatsudo': 3,\n",
       " 'returning sails gyotoku gyotoku kihan series views environs edo edo kinko hakkei uchi': 3,\n",
       " 'boy dog': 3,\n",
       " 'bedcover crazy quilt': 3,\n",
       " 'conversation': 3,\n",
       " 'beverly hills california': 3,\n",
       " 'kanaya far bank oi river kanaya oigawa engan series fiftythree stations tokaido road tokaido gojusan tsugi uchi known hoeido tokaido': 3,\n",
       " 'miniature chest mingqi': 3,\n",
       " 'fragment inlay depicting rosette': 3,\n",
       " 'smallsword': 3,\n",
       " 'memorial portrait actor bando shuka': 3,\n",
       " 'hatfield route sundays': 3,\n",
       " 'design ceiling decoration': 3,\n",
       " 'la propagation ronde': 3,\n",
       " 'rainy night': 3,\n",
       " 'summer morning': 3,\n",
       " 'stoke neyland suffolk': 3,\n",
       " 'reader': 3,\n",
       " 'waistcoat': 3,\n",
       " 'café des ambassadors': 3,\n",
       " 'study holograms': 3,\n",
       " 'protest kawasaki': 3,\n",
       " 'plastics kujukuri beach chiba': 3,\n",
       " 'unidentified woman high forehead thin eyebrows': 3,\n",
       " 'kuro tomesode': 3,\n",
       " 'parting': 3,\n",
       " 'bodhisattva': 3,\n",
       " 'monkey performing sanbaso dance': 3,\n",
       " 'twohanded sword': 3,\n",
       " 'yoshiwara fuji marsh ukishima plain yoshiwara fuji numa ukishima ga hara series famous sights fiftythree stations gojusan tsugi meisho zue known vertical tokaido': 3,\n",
       " 'melencolia': 3,\n",
       " 'dubrovnik croatia july beach portraits': 3,\n",
       " 'hercules cacus': 3,\n",
       " 'snow shin bridge nikko nikko shinkyo yuki': 3,\n",
       " 'visitation book hours': 3,\n",
       " 'egrets snow': 3,\n",
       " 'leader sea piece plate liber studiorum': 3,\n",
       " 'sphinx': 3,\n",
       " 'cuff': 3,\n",
       " 'head christ': 3,\n",
       " 'title page imaginary prisons': 3,\n",
       " 'bacchanal': 3,\n",
       " 'mariko famous tea shop mariko meibutsu chamise series fiftythree stations tokaido road tokaido gojusan tsugi uchi known hoeido tokaido': 3,\n",
       " 'samson delilah': 3,\n",
       " 'early morning': 3,\n",
       " 'genji drawn different styles view akashi bay kakiwake genji akashi ura kei': 3,\n",
       " 'covered goblet pokal': 3,\n",
       " 'soyez amoureuses vous serez heureuses love happy suite late woodblock prints': 3,\n",
       " 'minori suzuki saemon shigeyuki series japanese chinese comparisons chapters genji wakan nazorae genji': 3,\n",
       " 'fragment obi': 3,\n",
       " 'wine container': 3,\n",
       " 'italianate landscape': 3,\n",
       " 'shiojiri pass shinano province shinano shiojiri toge series thirtysix views mount fuji fuji sanjurokkei': 3,\n",
       " 'saint catherine': 3,\n",
       " 'shepherdess knitting': 3,\n",
       " 'april': 3,\n",
       " 'war hammer': 3,\n",
       " 'fear': 3,\n",
       " 'fragment chair seat': 3,\n",
       " 'louis seize': 3,\n",
       " 'burton dunglinson house ealing england scheme elevation': 3,\n",
       " 'suijin shrine massaki sumida river sumidagawa suijin mori massaki series famous views edo meisho edo hyakkei': 3,\n",
       " 'sumiyoshi festival tsukuda island tsukudajima sumiyoshi matsuri series famous views edo meisho edo hyakkei': 3,\n",
       " 'television room vanishing points': 3,\n",
       " 'coach changing horses': 3,\n",
       " 'fireworks ryogoku ryogoku hanabi series famous views edo meisho edo hyakkei': 3,\n",
       " 'betrayal christ large passion': 3,\n",
       " 'lake hakone hakone kosui series thirtysix views mount fuji fuji sanjurokkei': 3,\n",
       " 'shigarakiware jar': 3,\n",
       " 'passenger cabin — cruise': 3,\n",
       " 'console table': 3,\n",
       " 'clearing weather shibaura shibaura seiran series views environs edo edo kinko hakkei uchi': 3,\n",
       " 'shelf clock': 3,\n",
       " 'bearing cross large passion': 3,\n",
       " 'solomon idolatry': 3,\n",
       " 'miracle loaves': 3,\n",
       " 'head young man': 3,\n",
       " 'jupiter mercury house philemon baucis': 3,\n",
       " 'mount kano kazusa province kazusa rokusozan series thirtysix views mount fuji fuji sanjurokkei': 3,\n",
       " 'te faruru love noa noa suite': 3,\n",
       " 'clouds': 3,\n",
       " 'southendonsea': 3,\n",
       " 'absinthe drinker': 3,\n",
       " 'sample furnishing fabric': 3,\n",
       " 'memento mori': 3,\n",
       " 'salome triptych': 3,\n",
       " 'limehouse': 3,\n",
       " 'yoshiwara licensed quarters dawn kakuchu shinonome series famous views edo meisho edo hyakkei': 3,\n",
       " 'bedtime': 3,\n",
       " 'women bathing': 3,\n",
       " 'fitting': 3,\n",
       " 'gathering orchid pavilion': 3,\n",
       " 'st mark evangelists': 3,\n",
       " 'standing woman': 3,\n",
       " 'abduction proserpine unicorn': 3,\n",
       " 'monk': 3,\n",
       " 'fukuroi tea stall fukuroi dejaya zu series fiftythree stations tokaido tokaido gojusan tsugi uchi known hoeido tokaido': 3,\n",
       " 'view theaters nichomachi nichomachi shibai zu series famous places eastern capital toto meisho': 3,\n",
       " 'swatches drapery wallpaper upholstery materials': 3,\n",
       " 'carpet hanging': 3,\n",
       " 'bookshaped match safe': 3,\n",
       " 'tama river musashi province musashi tamagawa series thirtysix views mount fuji fuji sanjurokkei': 3,\n",
       " 'exhibition': 3,\n",
       " 'dusk ushibori ushibori yugure': 3,\n",
       " 'chickens': 3,\n",
       " 'pine beach miho suruga province suruga miho matsubara series thirtysix views mount fuji fuji sanjurokkei': 3,\n",
       " 'kogane plain shimosa province shimosa koganehara series thirtysix views mount fuji fuji sanjurokkei': 3,\n",
       " 'love': 3,\n",
       " 'surugacho series famous views edo meisho edo hyakkei': 3,\n",
       " 'uranus': 3,\n",
       " 'schlesinger mayer department later carson pirie scott co store chicago illinois': 3,\n",
       " 'iyo province saijo iyo saijo series famous places provinces rokujuyoshu meisho zue': 3,\n",
       " 'portrait young man': 3,\n",
       " 'mgm storage lot': 3,\n",
       " 'kinosaki tajima series souvenirs travel series tabi miyage dai sanshu tajima kinosaki': 3,\n",
       " 'waiting': 3,\n",
       " 'portrait marcel duchamp': 3,\n",
       " 'view shiba bay shibaura fukei series famous views edo meisho edo hyakkei': 3,\n",
       " 'mary cassatt louvre etruscan gallery': 3,\n",
       " 'st luke evangelists': 3,\n",
       " 'masks faces': 3,\n",
       " 'visitation life virgin': 3,\n",
       " 'embrace': 3,\n",
       " 'armorhanging pine hakkeizaka hakkeizaka yoroikakematsu series famous views edo meisho edo hyakkei': 3,\n",
       " 'stem cup': 3,\n",
       " 'koganei musashi province musashi koganei series thirtysix views mount fuji fuji sanjurokkei': 3,\n",
       " 'covered box': 3,\n",
       " 'david playing harp saul': 3,\n",
       " 'sudden shower shin ohashi bridge atake ohashi atake yudachi series famous views edo meisho edo hyakkei': 3,\n",
       " 'rain maekawa sagami province soshu maekawa ame series selection views tokaido tokaido fukei senshu': 3,\n",
       " 'satyr family walking': 3,\n",
       " 'flagellation large passion': 3,\n",
       " 'death': 3,\n",
       " 'laeco': 3,\n",
       " 'street paris': 3,\n",
       " 'fragment sleeve band': 3,\n",
       " 'mocking ceres': 3,\n",
       " 'eyes': 3,\n",
       " 'poetess gishumonin tango series thirtysix immortal women poets nishikizuri onna sanjurokkasen': 3,\n",
       " 'yvette guilbert': 3,\n",
       " 'lake hamana series selection views tokaido tokaido fukei senshu hamanako': 3,\n",
       " 'echo': 3,\n",
       " 'approaching storm': 3,\n",
       " 'ecce homo presentation christ large passion': 3,\n",
       " 'asakusa river great riverbank miyato river asakusagawa okawabata miyatogawa series famous views edo meisho edo hyakkei': 3,\n",
       " 'clock': 3,\n",
       " 'ballet students': 3,\n",
       " 'lioness cubs': 3,\n",
       " 'female attendant tomb figurine': 3,\n",
       " 'judith': 3,\n",
       " 'nihon embankment yoshiwara yoshiwara nihonzutsumi series famous views edo meisho edo hyakkei': 3,\n",
       " 'cranequin winder sporting crossbow': 3,\n",
       " 'punch bowl': 3,\n",
       " 'agony garden large passion': 3,\n",
       " 'sketches': 3,\n",
       " 'teapot': 3,\n",
       " 'milliner': 3,\n",
       " 'woman reading': 3,\n",
       " 'head young woman': 3,\n",
       " 'tango province amanohashidate tango amanohashidate series famous places sixtyodd provinces rokujuyoshu meisho zue': 3,\n",
       " 'festival': 3,\n",
       " 'stone': 3,\n",
       " 'portable compass sundial': 3,\n",
       " 'uri geller welcomes unknown beings realm fables': 3,\n",
       " 'skokie': 3,\n",
       " 'night view matsuchi hill san’ya canal matsuchiyama san’yabori yakei series famous views edo meisho edo hyakkei': 3,\n",
       " 'untitled women looking direction': 3,\n",
       " 'boats harbor': 3,\n",
       " 'round shadow': 3,\n",
       " 'figure studies': 3,\n",
       " 'shining clothespins nakanishi natsuyuki clothespins model artist studio': 3,\n",
       " 'hi red center dropping event ikenobō kaikan': 3,\n",
       " 'actor asao tamejuro drunken gotobei play yoshitsune koshigoe jo performed ichimura theater ninth month': 3,\n",
       " 'cap': 3,\n",
       " 'landscape cattle': 3,\n",
       " 'window shelton west': 3,\n",
       " 'game cards': 3,\n",
       " 'black lion wharf': 3,\n",
       " 'fountain': 3,\n",
       " 'yahagi bridge okazaki tokaido tokaido okazaki yahagi hashi series unusual views famous bridges provinces shokoku meikyo kiran': 3,\n",
       " 'ride general ride': 3,\n",
       " 'home': 3,\n",
       " 'kw': 3,\n",
       " 'tahitian idol — goddess hina': 3,\n",
       " 'fugaku hyakkei': 3,\n",
       " 'iceberg lake': 3,\n",
       " 'ehon toshi sen': 3,\n",
       " 'mahna varua ino devil speaks noa noa suite': 3,\n",
       " 'ehon teikin ōrai': 3,\n",
       " 'ippitsu gafu': 3,\n",
       " 'ogura hyakku': 3,\n",
       " ...}"
      ]
     },
     "execution_count": 47,
     "metadata": {},
     "output_type": "execute_result"
    }
   ],
   "source": [
    "titles_dict"
   ]
  },
  {
   "cell_type": "markdown",
   "id": "b898531d",
   "metadata": {
    "papermill": {
     "duration": 0.040571,
     "end_time": "2024-03-11T08:32:55.747383",
     "exception": false,
     "start_time": "2024-03-11T08:32:55.706812",
     "status": "completed"
    },
    "tags": []
   },
   "source": [
    "## **Mapping title with multiple counts**"
   ]
  },
  {
   "cell_type": "code",
   "execution_count": 48,
   "id": "df16dc55",
   "metadata": {
    "execution": {
     "iopub.execute_input": "2024-03-11T08:32:55.832059Z",
     "iopub.status.busy": "2024-03-11T08:32:55.831538Z",
     "iopub.status.idle": "2024-03-11T08:32:55.845908Z",
     "shell.execute_reply": "2024-03-11T08:32:55.844619Z"
    },
    "papermill": {
     "duration": 0.060136,
     "end_time": "2024-03-11T08:32:55.848873",
     "exception": false,
     "start_time": "2024-03-11T08:32:55.788737",
     "status": "completed"
    },
    "tags": []
   },
   "outputs": [],
   "source": [
    "multiple_same_titles = {key: 0 for key, value in titles_dict.items() if value > 1}"
   ]
  },
  {
   "cell_type": "code",
   "execution_count": 49,
   "id": "5ff8986c",
   "metadata": {
    "execution": {
     "iopub.execute_input": "2024-03-11T08:32:55.932955Z",
     "iopub.status.busy": "2024-03-11T08:32:55.932375Z",
     "iopub.status.idle": "2024-03-11T08:32:55.939870Z",
     "shell.execute_reply": "2024-03-11T08:32:55.938946Z"
    },
    "papermill": {
     "duration": 0.052346,
     "end_time": "2024-03-11T08:32:55.942113",
     "exception": false,
     "start_time": "2024-03-11T08:32:55.889767",
     "status": "completed"
    },
    "tags": []
   },
   "outputs": [
    {
     "data": {
      "text/plain": [
       "4870"
      ]
     },
     "execution_count": 49,
     "metadata": {},
     "output_type": "execute_result"
    }
   ],
   "source": [
    "len(multiple_same_titles)"
   ]
  },
  {
   "cell_type": "markdown",
   "id": "f0c0dd0b",
   "metadata": {
    "papermill": {
     "duration": 0.040576,
     "end_time": "2024-03-11T08:32:56.023938",
     "exception": false,
     "start_time": "2024-03-11T08:32:55.983362",
     "status": "completed"
    },
    "tags": []
   },
   "source": [
    "## **Keeping one value removing rows having titles with same values** "
   ]
  },
  {
   "cell_type": "code",
   "execution_count": 50,
   "id": "896c8154",
   "metadata": {
    "execution": {
     "iopub.execute_input": "2024-03-11T08:32:56.109222Z",
     "iopub.status.busy": "2024-03-11T08:32:56.108730Z",
     "iopub.status.idle": "2024-03-11T08:33:02.626282Z",
     "shell.execute_reply": "2024-03-11T08:33:02.624837Z"
    },
    "papermill": {
     "duration": 6.565544,
     "end_time": "2024-03-11T08:33:02.629509",
     "exception": false,
     "start_time": "2024-03-11T08:32:56.063965",
     "status": "completed"
    },
    "tags": []
   },
   "outputs": [
    {
     "data": {
      "text/plain": [
       "12762"
      ]
     },
     "execution_count": 50,
     "metadata": {},
     "output_type": "execute_result"
    }
   ],
   "source": [
    "indices_to_drop = []\n",
    "\n",
    "for i in range(len(df)):\n",
    "  if df.iloc[i]['titles'] in multiple_same_titles.keys() and multiple_same_titles[df.iloc[i]['titles']] == 0:\n",
    "    multiple_same_titles[df.iloc[i]['titles']] = 1\n",
    "  elif df.iloc[i]['titles'] in multiple_same_titles.keys() and multiple_same_titles[df.iloc[i]['titles']] == 1:\n",
    "    indices_to_drop.append(i)\n",
    "\n",
    "len(indices_to_drop)"
   ]
  },
  {
   "cell_type": "markdown",
   "id": "3a058613",
   "metadata": {
    "papermill": {
     "duration": 0.040368,
     "end_time": "2024-03-11T08:33:02.712136",
     "exception": false,
     "start_time": "2024-03-11T08:33:02.671768",
     "status": "completed"
    },
    "tags": []
   },
   "source": [
    "## **Removing indices**"
   ]
  },
  {
   "cell_type": "code",
   "execution_count": 51,
   "id": "97ff5b04",
   "metadata": {
    "execution": {
     "iopub.execute_input": "2024-03-11T08:33:02.796646Z",
     "iopub.status.busy": "2024-03-11T08:33:02.795301Z",
     "iopub.status.idle": "2024-03-11T08:33:02.824159Z",
     "shell.execute_reply": "2024-03-11T08:33:02.822846Z"
    },
    "papermill": {
     "duration": 0.074225,
     "end_time": "2024-03-11T08:33:02.827137",
     "exception": false,
     "start_time": "2024-03-11T08:33:02.752912",
     "status": "completed"
    },
    "tags": []
   },
   "outputs": [],
   "source": [
    "df = df.drop(indices_to_drop).reset_index(drop=True)"
   ]
  },
  {
   "cell_type": "markdown",
   "id": "43a86fb9",
   "metadata": {
    "papermill": {
     "duration": 0.040396,
     "end_time": "2024-03-11T08:33:02.910485",
     "exception": false,
     "start_time": "2024-03-11T08:33:02.870089",
     "status": "completed"
    },
    "tags": []
   },
   "source": [
    "## **Deleting redundant columns for workings**"
   ]
  },
  {
   "cell_type": "code",
   "execution_count": 52,
   "id": "fb611159",
   "metadata": {
    "execution": {
     "iopub.execute_input": "2024-03-11T08:33:02.995169Z",
     "iopub.status.busy": "2024-03-11T08:33:02.994343Z",
     "iopub.status.idle": "2024-03-11T08:33:03.007145Z",
     "shell.execute_reply": "2024-03-11T08:33:03.005651Z"
    },
    "papermill": {
     "duration": 0.058632,
     "end_time": "2024-03-11T08:33:03.009896",
     "exception": false,
     "start_time": "2024-03-11T08:33:02.951264",
     "status": "completed"
    },
    "tags": []
   },
   "outputs": [
    {
     "data": {
      "text/html": [
       "<div>\n",
       "<style scoped>\n",
       "    .dataframe tbody tr th:only-of-type {\n",
       "        vertical-align: middle;\n",
       "    }\n",
       "\n",
       "    .dataframe tbody tr th {\n",
       "        vertical-align: top;\n",
       "    }\n",
       "\n",
       "    .dataframe thead th {\n",
       "        text-align: right;\n",
       "    }\n",
       "</style>\n",
       "<table border=\"1\" class=\"dataframe\">\n",
       "  <thead>\n",
       "    <tr style=\"text-align: right;\">\n",
       "      <th></th>\n",
       "      <th>ids</th>\n",
       "      <th>titles</th>\n",
       "      <th>images_path</th>\n",
       "    </tr>\n",
       "  </thead>\n",
       "  <tbody>\n",
       "    <tr>\n",
       "      <th>0</th>\n",
       "      <td>usa_1</td>\n",
       "      <td>starry night astronauts</td>\n",
       "      <td>/kaggle/working/images/UnitedStates/UnitedStates/usa_1.jpg</td>\n",
       "    </tr>\n",
       "    <tr>\n",
       "      <th>1</th>\n",
       "      <td>usa_2</td>\n",
       "      <td>mansions</td>\n",
       "      <td>/kaggle/working/images/UnitedStates/UnitedStates/usa_2.jpg</td>\n",
       "    </tr>\n",
       "    <tr>\n",
       "      <th>2</th>\n",
       "      <td>usa_3</td>\n",
       "      <td>city landscape</td>\n",
       "      <td>/kaggle/working/images/UnitedStates/UnitedStates/usa_3.jpg</td>\n",
       "    </tr>\n",
       "    <tr>\n",
       "      <th>3</th>\n",
       "      <td>usa_4</td>\n",
       "      <td>hero construction</td>\n",
       "      <td>/kaggle/working/images/UnitedStates/UnitedStates/usa_4.jpg</td>\n",
       "    </tr>\n",
       "    <tr>\n",
       "      <th>4</th>\n",
       "      <td>usa_5</td>\n",
       "      <td>nighthawks</td>\n",
       "      <td>/kaggle/working/images/UnitedStates/UnitedStates/usa_5.jpg</td>\n",
       "    </tr>\n",
       "  </tbody>\n",
       "</table>\n",
       "</div>"
      ],
      "text/plain": [
       "     ids                   titles  \\\n",
       "0  usa_1  starry night astronauts   \n",
       "1  usa_2                 mansions   \n",
       "2  usa_3           city landscape   \n",
       "3  usa_4        hero construction   \n",
       "4  usa_5               nighthawks   \n",
       "\n",
       "                                                  images_path  \n",
       "0  /kaggle/working/images/UnitedStates/UnitedStates/usa_1.jpg  \n",
       "1  /kaggle/working/images/UnitedStates/UnitedStates/usa_2.jpg  \n",
       "2  /kaggle/working/images/UnitedStates/UnitedStates/usa_3.jpg  \n",
       "3  /kaggle/working/images/UnitedStates/UnitedStates/usa_4.jpg  \n",
       "4  /kaggle/working/images/UnitedStates/UnitedStates/usa_5.jpg  "
      ]
     },
     "execution_count": 52,
     "metadata": {},
     "output_type": "execute_result"
    }
   ],
   "source": [
    "# df = df.drop(columns=['artists', 'mediums', 'descriptions', 'urls'], axis=1)\n",
    "df.head()"
   ]
  },
  {
   "cell_type": "code",
   "execution_count": 53,
   "id": "4a727aaa",
   "metadata": {
    "execution": {
     "iopub.execute_input": "2024-03-11T08:33:03.095443Z",
     "iopub.status.busy": "2024-03-11T08:33:03.094929Z",
     "iopub.status.idle": "2024-03-11T08:33:03.101380Z",
     "shell.execute_reply": "2024-03-11T08:33:03.099947Z"
    },
    "papermill": {
     "duration": 0.052945,
     "end_time": "2024-03-11T08:33:03.104449",
     "exception": false,
     "start_time": "2024-03-11T08:33:03.051504",
     "status": "completed"
    },
    "tags": []
   },
   "outputs": [
    {
     "name": "stdout",
     "output_type": "stream",
     "text": [
      "Number of rows: 33223\n",
      "Number of columns: 3\n"
     ]
    }
   ],
   "source": [
    "df_shape(df)"
   ]
  },
  {
   "cell_type": "markdown",
   "id": "f6e4720a",
   "metadata": {
    "papermill": {
     "duration": 0.04182,
     "end_time": "2024-03-11T08:33:03.189612",
     "exception": false,
     "start_time": "2024-03-11T08:33:03.147792",
     "status": "completed"
    },
    "tags": []
   },
   "source": [
    "## **Cheking if NaN value exists in the final data**"
   ]
  },
  {
   "cell_type": "code",
   "execution_count": 54,
   "id": "d1b90048",
   "metadata": {
    "execution": {
     "iopub.execute_input": "2024-03-11T08:33:03.275280Z",
     "iopub.status.busy": "2024-03-11T08:33:03.274785Z",
     "iopub.status.idle": "2024-03-11T08:33:03.299901Z",
     "shell.execute_reply": "2024-03-11T08:33:03.298629Z"
    },
    "papermill": {
     "duration": 0.071149,
     "end_time": "2024-03-11T08:33:03.302450",
     "exception": false,
     "start_time": "2024-03-11T08:33:03.231301",
     "status": "completed"
    },
    "tags": []
   },
   "outputs": [
    {
     "data": {
      "text/plain": [
       "ids            0\n",
       "titles         0\n",
       "images_path    0\n",
       "dtype: int64"
      ]
     },
     "execution_count": 54,
     "metadata": {},
     "output_type": "execute_result"
    }
   ],
   "source": [
    "df.isna().sum()"
   ]
  },
  {
   "cell_type": "code",
   "execution_count": 55,
   "id": "7d6549ce",
   "metadata": {
    "execution": {
     "iopub.execute_input": "2024-03-11T08:33:03.390844Z",
     "iopub.status.busy": "2024-03-11T08:33:03.390311Z",
     "iopub.status.idle": "2024-03-11T08:33:03.420959Z",
     "shell.execute_reply": "2024-03-11T08:33:03.419704Z"
    },
    "papermill": {
     "duration": 0.078819,
     "end_time": "2024-03-11T08:33:03.423712",
     "exception": false,
     "start_time": "2024-03-11T08:33:03.344893",
     "status": "completed"
    },
    "tags": []
   },
   "outputs": [],
   "source": [
    "df = df.dropna().reset_index(drop=True)"
   ]
  },
  {
   "cell_type": "markdown",
   "id": "a0d86e8c",
   "metadata": {
    "papermill": {
     "duration": 0.041542,
     "end_time": "2024-03-11T08:33:03.507516",
     "exception": false,
     "start_time": "2024-03-11T08:33:03.465974",
     "status": "completed"
    },
    "tags": []
   },
   "source": [
    "## **Dropping NaN value rows**"
   ]
  },
  {
   "cell_type": "code",
   "execution_count": 56,
   "id": "5bfdca2a",
   "metadata": {
    "execution": {
     "iopub.execute_input": "2024-03-11T08:33:03.592191Z",
     "iopub.status.busy": "2024-03-11T08:33:03.591654Z",
     "iopub.status.idle": "2024-03-11T08:33:03.627047Z",
     "shell.execute_reply": "2024-03-11T08:33:03.625738Z"
    },
    "papermill": {
     "duration": 0.081403,
     "end_time": "2024-03-11T08:33:03.630178",
     "exception": false,
     "start_time": "2024-03-11T08:33:03.548775",
     "status": "completed"
    },
    "tags": []
   },
   "outputs": [],
   "source": [
    "indices_to_drop = [i for i, title in enumerate(df['titles']) if title == '']\n",
    "len(indices_to_drop)\n",
    "\n",
    "df = df.drop(indices_to_drop).reset_index(drop=True)"
   ]
  },
  {
   "cell_type": "markdown",
   "id": "5f1a166e",
   "metadata": {
    "papermill": {
     "duration": 0.040956,
     "end_time": "2024-03-11T08:33:03.713528",
     "exception": false,
     "start_time": "2024-03-11T08:33:03.672572",
     "status": "completed"
    },
    "tags": []
   },
   "source": [
    "## **Checking final dataframe shape**"
   ]
  },
  {
   "cell_type": "code",
   "execution_count": 57,
   "id": "adfed4d0",
   "metadata": {
    "execution": {
     "iopub.execute_input": "2024-03-11T08:33:03.798617Z",
     "iopub.status.busy": "2024-03-11T08:33:03.798061Z",
     "iopub.status.idle": "2024-03-11T08:33:03.894515Z",
     "shell.execute_reply": "2024-03-11T08:33:03.893537Z"
    },
    "papermill": {
     "duration": 0.144949,
     "end_time": "2024-03-11T08:33:03.899484",
     "exception": false,
     "start_time": "2024-03-11T08:33:03.754535",
     "status": "completed"
    },
    "tags": []
   },
   "outputs": [
    {
     "data": {
      "text/plain": [
       "{'starry night astronauts': 1,\n",
       " 'stag chamois': 1,\n",
       " 'rocks trees river': 1,\n",
       " 'rape proserpine': 1,\n",
       " 'seated man mantle thatched hut': 1,\n",
       " 'travellers landscape': 1,\n",
       " 'men traveling hills mules packs dog': 1,\n",
       " 'landscape herdsman sheep goat cattle': 1,\n",
       " 'rocks water': 1,\n",
       " 'shegoat': 1,\n",
       " 'virgin mary st john evangelist beholding vision cross held angels': 1,\n",
       " 'bust male saint praying': 1,\n",
       " 'market woman horseback': 1,\n",
       " 'sheep lying': 1,\n",
       " 'shepherdess sheep': 1,\n",
       " 'cowherd bull dog ruins': 1,\n",
       " 'peasant apple peddler': 1,\n",
       " 'bust man hat': 1,\n",
       " 'danae shower gold': 1,\n",
       " 'standing prophet arm raised': 1,\n",
       " 'vulcan making arms achilles venus cupid look': 1,\n",
       " 'salt box': 1,\n",
       " 'basin possibly use lavabo': 1,\n",
       " 'illuminated initial h prayerbook': 1,\n",
       " 'duchess': 1,\n",
       " 'meadow': 1,\n",
       " 'young woman reading': 1,\n",
       " 'battle scene overdoor decoration': 1,\n",
       " 'decorative groups putti trumpets fruit': 1,\n",
       " 'lion lioness': 1,\n",
       " 'carving medusa head': 1,\n",
       " 'saint peter visiting saint agatha prison healing wounds': 1,\n",
       " 'landscape house wooded hill': 1,\n",
       " 'woman nude young boy surrounded figures': 1,\n",
       " 'square level': 1,\n",
       " 'pair altar candlesticks': 1,\n",
       " 'pope martin conducting mass conciliumbuch recto greek bishop servant hearing mass verso': 1,\n",
       " 'girl leaning right arm': 1,\n",
       " 'frontispiece passion desert': 1,\n",
       " 'landscape b': 1,\n",
       " 'teapot form rooster': 1,\n",
       " 'apartment building wohnhaus richthofengasse vienna austria floor plan': 1,\n",
       " 'procris greek heroines': 1,\n",
       " 'ornament armor genii vignettes': 1,\n",
       " 'seated man scratching leg': 1,\n",
       " 'st joseph': 1,\n",
       " 'profile portrait man wearing cap': 1,\n",
       " 'seal': 1,\n",
       " 'mallet': 1,\n",
       " 'fountain tower old city': 1,\n",
       " 'christ falling cross': 1,\n",
       " 'squatting monster human head wings': 1,\n",
       " 'view town overlooking river': 1,\n",
       " 'men carrying wood': 1,\n",
       " 'hilly landscape figure foreground': 1,\n",
       " 'shady grove nymph seated tree': 1,\n",
       " 'rococo tomb ruins': 1,\n",
       " 'warrior conversing lady banquet dead man feet': 1,\n",
       " 'feast gods ceiling design': 1,\n",
       " 'fourteen auxiliary saints': 1,\n",
       " 'cupid women lighting torch': 1,\n",
       " 'discovery erichthonius': 1,\n",
       " 'hercules cerberus mares diomedes': 1,\n",
       " 'putti armor': 1,\n",
       " 'sampler unfinished': 1,\n",
       " 'doublehandled footed tray': 1,\n",
       " 'dagger sheath warrior': 1,\n",
       " 'hubbe house magdeburg germany design sketch sculpture': 1,\n",
       " 'signpost plate sheets lever Alemannic poems': 1,\n",
       " 'new inventions ...': 1,\n",
       " 'woman healed issue blood plenarium called deutsche evangelien und episteln german gospels epistles plate woodcuts books th century': 1,\n",
       " 'pope installing bishop speculu humane vite mirror human life plate woodcuts books th century': 1,\n",
       " 'pair stirrups': 1,\n",
       " 'miss quantin standing': 1,\n",
       " 'portfolio case black manners mezzotints': 1,\n",
       " 'bless n ° todayingbant issue': 1,\n",
       " 'heather cooper': 1,\n",
       " 'dies irae': 1,\n",
       " 'untitled hata': 1,\n",
       " 'neptune triton': 1,\n",
       " 'hubbe house magdeberg germany plan sketches': 1,\n",
       " 'act scene götz van berlichingen': 1,\n",
       " 'symphony illuminated advertisements symphonie der lichtreklame': 1,\n",
       " 'untitled tanja sleeping': 1,\n",
       " 'anton graff': 1,\n",
       " 'ruin godesberg socalled high cross rhine': 1,\n",
       " 'ascent': 1,\n",
       " 'saint conrad der heiligen leben winterteil lives saints wintertime plate woodcuts books th century': 1,\n",
       " 'ebro oliveaqua': 1,\n",
       " 'cato mistle': 1,\n",
       " 'gavina group oatmeal': 1,\n",
       " 'lana moss': 1,\n",
       " 'fedja sascha': 1,\n",
       " 'landscape house distance': 1,\n",
       " 'mountainside fallen tree': 1,\n",
       " 'st ludovicus': 1,\n",
       " 'hubbe house magdeberg germany floor plan studies': 1,\n",
       " 'hubbe house magdeberg germany plan study furniture layout': 1,\n",
       " 'tempter': 1,\n",
       " 'portrait rembrandt': 1,\n",
       " 'tablecloth': 1,\n",
       " 'cafe garden': 1,\n",
       " 'remembrance spain': 1,\n",
       " 'maries tomb': 1,\n",
       " 'penitence saint jerome': 1,\n",
       " 'thuringia travel pictures italysouth seas': 1,\n",
       " 'flounce border': 1,\n",
       " 'headdress': 1,\n",
       " 'ruth boaz': 1,\n",
       " 'fable wolf lamb': 1,\n",
       " 'young woman galloping horse': 1,\n",
       " 'circumcision christ': 1,\n",
       " 'sleeping woman head arms': 1,\n",
       " 'healing paralytic': 1,\n",
       " 'plowman': 1,\n",
       " 'hans verene plate sheets Hebel Alemannic poems': 1,\n",
       " 'entrance narrow pass': 1,\n",
       " 'ebro pineaqua': 1,\n",
       " 'gavina group tan': 1,\n",
       " 'plate seven passion desert': 1,\n",
       " 'double goblet': 1,\n",
       " 'study seated figure woman': 1,\n",
       " 'hammer': 1,\n",
       " 'street osterode hartz mountains': 1,\n",
       " 'marriage chest': 1,\n",
       " 'robbers secret sack': 1,\n",
       " 'ottoman sofa': 1,\n",
       " 'titles emperor maximilian historical scenes life emperor maximilian triumphal arch': 1,\n",
       " 'charger': 1,\n",
       " '... loins standing ...': 1,\n",
       " 'trotting': 1,\n",
       " 'parfum ad': 1,\n",
       " 'grain leather dark tan': 1,\n",
       " 'grain leather natural': 1,\n",
       " 'grain leather beige': 1,\n",
       " 'grain leather tan': 1,\n",
       " 'grain leather medium brown': 1,\n",
       " 'grain leather dark brown': 1,\n",
       " 'gavina group dark brown': 1,\n",
       " 'notus green': 1,\n",
       " 'notus black': 1,\n",
       " 'notus dark brown': 1,\n",
       " 'notus olive': 1,\n",
       " 'notus brown': 1,\n",
       " 'notus ochre': 1,\n",
       " 'notus purple': 1,\n",
       " 'notus blue': 1,\n",
       " 'notus tan': 1,\n",
       " 'notus copper': 1,\n",
       " 'notus orange': 1,\n",
       " 'notus gold': 1,\n",
       " 'arno brownblack': 1,\n",
       " 'arno blueblack': 1,\n",
       " 'arno whiteblack': 1,\n",
       " 'elastic naugahyde navy': 1,\n",
       " 'elastic naugahyde blue': 1,\n",
       " 'elastic naugahyde royal': 1,\n",
       " 'elastic naugahyde bone': 1,\n",
       " 'elastic naugahyde white': 1,\n",
       " 'elastic naugahyde dark brown': 1,\n",
       " 'elastic naugahyde mocha': 1,\n",
       " 'sampler tiber': 1,\n",
       " 'sampler harrow': 1,\n",
       " 'knoll sample': 1,\n",
       " 'dynamic white': 1,\n",
       " 'cato persimmon': 1,\n",
       " 'cato henna': 1,\n",
       " 'cato copper': 1,\n",
       " 'cato saffron': 1,\n",
       " 'cato avocado': 1,\n",
       " 'cato navyteal': 1,\n",
       " 'heather red': 1,\n",
       " 'heather saffron': 1,\n",
       " 'dynamic oatmeal': 1,\n",
       " 'dynamic green': 1,\n",
       " 'dynamic tan': 1,\n",
       " 'dynamic blue': 1,\n",
       " 'dynamic dark blue': 1,\n",
       " 'dynamic tangerine': 1,\n",
       " 'heather bronze': 1,\n",
       " 'dynamic gold': 1,\n",
       " 'prince louis hesse': 1,\n",
       " 'title colophon page graeff variationen zu zeichnungen von': 1,\n",
       " 'london olympics': 1,\n",
       " 'cato terra cotta': 1,\n",
       " 'cato gold': 1,\n",
       " 'cato stone': 1,\n",
       " 'cato red': 1,\n",
       " 'cato tobacoo': 1,\n",
       " 'cato ivory': 1,\n",
       " 'cato wheat': 1,\n",
       " 'heather blue': 1,\n",
       " 'heather brown': 1,\n",
       " 'auditorium exhibition space': 1,\n",
       " 'spring den frühling': 1,\n",
       " 'portrait jean baptiste massé': 1,\n",
       " 'sanssouci schloss charlottenhof': 1,\n",
       " 'wozzeck marie plate wozzeck': 1,\n",
       " 'Guadalquivir near San Luca de Baramedar Plate Spain': 1,\n",
       " 'woodland path coach': 1,\n",
       " 'entrance guttensteiner valley': 1,\n",
       " 'ruins frauenstein': 1,\n",
       " 'church tsarskoésélo palace': 1,\n",
       " 'server': 1,\n",
       " 'man seashore plate das gesicht': 1,\n",
       " 'boy head plate face': 1,\n",
       " 'tired girl head plate seven das gesicht': 1,\n",
       " 'man room plate das gesicht': 1,\n",
       " 'pair plate das gesicht': 1,\n",
       " 'tired face plate das gesicht': 1,\n",
       " 'laughing head plate das gesicht': 1,\n",
       " 'roman bulls resting die zwiete thierfolge': 1,\n",
       " 'young laborer arbeiterjunge': 1,\n",
       " 'castle gandolfo': 1,\n",
       " 'dortmund highrise proposal design drawings': 1,\n",
       " 'porringer lid': 1,\n",
       " 'roundel hunting scene': 1,\n",
       " 'beaker feet': 1,\n",
       " 'cup': 1,\n",
       " 'cup cover': 1,\n",
       " 'composer sonia friedman': 1,\n",
       " 'sonia head resting hand': 1,\n",
       " 'lamentation virgin fall redemption man': 1,\n",
       " 'suez canal travel pictures italysouth seas': 1,\n",
       " 'passion christ': 1,\n",
       " 'churchyard distant view': 1,\n",
       " 'marie child arms plate wozzeck': 1,\n",
       " 'marie deep prayer plate wozzeck': 1,\n",
       " 'wozzeck street hand man beckons forward plate seven wozzeck': 1,\n",
       " 'reclining women samland ode': 1,\n",
       " 'cuirassiers incline': 1,\n",
       " 'token dead young brother recto father mucius cell verso altvaeterleben life patriarchs plate woodcuts books th century': 1,\n",
       " 'head young bull die zweite thierfolge': 1,\n",
       " 'standing goat die zweite thierfolge': 1,\n",
       " 'feeding mule die zweite thierfolge': 1,\n",
       " 'carbuncle plate sheets Hebel Alemannic poems': 1,\n",
       " 'forward sheets Hebel Alemannic poems': 1,\n",
       " 'fedja maschas ’ visit': 1,\n",
       " 'plate xx stuck zum ornamental designs goblets beakers': 1,\n",
       " 'joseph sold brothers jealousy': 1,\n",
       " 'la confiada plate frau': 1,\n",
       " 'studious plate frau': 1,\n",
       " 'dein leben befter valentine': 1,\n",
       " 'wave bath samland ode': 1,\n",
       " 'wozzeck large head completely despair plate wozzeck': 1,\n",
       " 'lighthouse samland ode': 1,\n",
       " 'illustration das heldenbuch plate woodcuts books xvi century': 1,\n",
       " 'illustration romische historien plate woodcuts books xvi century': 1,\n",
       " 'illustration virgilius opera plate fourteen woodcuts books xvi century': 1,\n",
       " 'circumstances found path mountains … plate lenz': 1,\n",
       " 'days later oberlin arrived switzerland … plate lenz': 1,\n",
       " 'came home night passed … plate lenz': 1,\n",
       " 'want life possibility existence … plate lenz': 1,\n",
       " 'pleased lenz went room … plate lenz': 1,\n",
       " 'skeleton gamekeeper appeared … plate lenz': 1,\n",
       " 'burghers hurrying hear sinister sound plate wozzeck': 1,\n",
       " 'wozzeck drunk plate wozzeck': 1,\n",
       " 'wozzeck falls pond plate wozzeck': 1,\n",
       " 'kleine anatomie titelblatt': 1,\n",
       " 'kleine anatomie blatt': 1,\n",
       " 'wife Cologne painter Peter Abelen wife Cologne painter Peter Abelen': 1,\n",
       " 'sampler copy': 1,\n",
       " 'leg multiplizierte kunst': 1,\n",
       " 'auch ein todtentanz plate ii': 1,\n",
       " 'cover day dream': 1,\n",
       " 'monday rosenecker garden salzburg': 1,\n",
       " 'whip die peitsche': 1,\n",
       " 'glass palm glaspalme': 1,\n",
       " 'status l phenomenon': 1,\n",
       " 'untitled graeff variationen zu zeichnungen von': 1,\n",
       " 'bacchanalian scene allegorical figures': 1,\n",
       " 'athletes': 1,\n",
       " 'striding man': 1,\n",
       " 'saint benedict initial ‘ o ’ border fragments missal': 1,\n",
       " 'landscape large tree': 1,\n",
       " 'illustration th german bible plate woodcuts books xvi century': 1,\n",
       " 'tuesday castle salzburg seen south': 1,\n",
       " 'cattle sheep herdsman rocky landscape': 1,\n",
       " 'raising cross': 1,\n",
       " 'horse training': 1,\n",
       " 'untitled c graeff variationen zu zeichnungen von': 1,\n",
       " 'bread palm brotpalme': 1,\n",
       " 'christ high priest annas plenarium': 1,\n",
       " 'spiral lands chapter': 1,\n",
       " 'head bearded man halfprofile': 1,\n",
       " 'hungarian woman standing door': 1,\n",
       " 'hind multiplizierte kunst': 1,\n",
       " 'portfolio cover multiplizierte kunst': 1,\n",
       " 'copingstone': 1,\n",
       " 'skaters woods': 1,\n",
       " 'canal amsterdam unpublished drypoints': 1,\n",
       " 'christiane henriette koch': 1,\n",
       " 'covered tureen stand pair': 1,\n",
       " 'annunciation book hours': 1,\n",
       " 'passimi il sale tableware un attimo': 1,\n",
       " 'review troops': 1,\n",
       " 'passanten passersby': 1,\n",
       " 'babylon schedel weltchronik schedel world history plate woodcuts books th century': 1,\n",
       " 'passimi il sale tableware va bene cosi': 1,\n",
       " 'tiber gold': 1,\n",
       " 'portrait e g': 1,\n",
       " 'sultan armor': 1,\n",
       " 'diana bath': 1,\n",
       " 'myrsinaceae blume': 1,\n",
       " 'eisentrager mit steckknotakt und lichschalter': 1,\n",
       " 'geneva schedel weltchronik schedel world history plate woodcuts books th century': 1,\n",
       " 'parable unjust steward plenarium plate woodcuts books th century': 1,\n",
       " 'auch ein todtentanz plate iii': 1,\n",
       " 'werner graef galerie czwiklitzer': 1,\n",
       " 'mountain landscape waterfall figures': 1,\n",
       " 'beaker prunts metal rings': 1,\n",
       " 'covered goblet silhouette bust king frederich great': 1,\n",
       " 'le mercure de france': 1,\n",
       " 'stove tile saint george dragon': 1,\n",
       " 'illustration fabulae aesopi plate woodcuts books xvi century': 1,\n",
       " 'family picnic baskets': 1,\n",
       " 'rudolph habsburg priest': 1,\n",
       " 'höllenthal': 1,\n",
       " 'untitled album': 1,\n",
       " 'feast calendar pictures songs sacred secular festkalender bildern und liedern geistlich und weltlich': 1,\n",
       " 'sergit': 1,\n",
       " 'life saint pirminius heiligenleben winterteil lives saints wintertime plate woodcuts books th century': 1,\n",
       " 'holy family dove holy ghost': 1,\n",
       " 'death mask': 1,\n",
       " 'kudamm building competition presentation drawing': 1,\n",
       " 'menu honor max lieberman': 1,\n",
       " 'hubbe house magdeberg germany house study': 1,\n",
       " 'prick spur': 1,\n",
       " 'untitled ear': 1,\n",
       " 'tango plate day dream': 1,\n",
       " 'monument glorious memory emperor nicholas': 1,\n",
       " 'weeping willow': 1,\n",
       " 'thesissheet showing saint ignatius loyola': 1,\n",
       " 'frauen series': 1,\n",
       " 'yardstick palm portfolio higher beings command': 1,\n",
       " 'venus chair': 1,\n",
       " 'werner graeff roy boyd gallery': 1,\n",
       " 'ruku iii': 1,\n",
       " 'badenbaden': 1,\n",
       " 'duty buy war bonds': 1,\n",
       " 'girl hat': 1,\n",
       " 'floristan': 1,\n",
       " 'sketch family group seated women young man standing': 1,\n",
       " 'illustration kunst des messens art measurement plate woodcuts books xvi century': 1,\n",
       " 'dromedary camel': 1,\n",
       " 'temple serapide palestrina': 1,\n",
       " 'fox rooster fabulae et vita fables life plate woodcuts books th century': 1,\n",
       " 'auch ein todtentanz plate': 1,\n",
       " 'church grand palace petrodvorets': 1,\n",
       " 'kipfenberg castle valley altmühl': 1,\n",
       " 'fir tree': 1,\n",
       " 'selfportrait skull unpublished drypoints': 1,\n",
       " 'sea saw': 1,\n",
       " 'werner graeff museum simeonstift trier': 1,\n",
       " 'serbluhu': 1,\n",
       " '… hamburg port … hamburg port': 1,\n",
       " 'raising lazarus recto travelers cart outside inn verso': 1,\n",
       " 'lampenkranz lamp circle': 1,\n",
       " 'industrie ruhrgebiet industry ruhr region': 1,\n",
       " 'routine landschaft vor holm': 1,\n",
       " 'wrigley building night chicago wrigley building night chicago': 1,\n",
       " 'unknown possibly muetre': 1,\n",
       " 'dress': 1,\n",
       " 'path vineyards near eller moselle river weinbergweg bei eller der mosel': 1,\n",
       " 'trees rocks water': 1,\n",
       " 'shallows multiplizierte kunst': 1,\n",
       " 'weathervane plate day dream': 1,\n",
       " 'bouquet collection new flowers taste manufacture persian cloth invented drawn jean pillement': 1,\n",
       " 'christ cross mary john magdalen stephen': 1,\n",
       " 'russian peasant': 1,\n",
       " 'decentralized city business administration zone perspective': 1,\n",
       " 'eisentor verriegelt zur elbseite': 1,\n",
       " 'treatise fortification treatise measurement': 1,\n",
       " 'head buffalo die zweite thierfolge': 1,\n",
       " 'longchamp paris': 1,\n",
       " 'coats arms bishops recto verso das concilium zu constantz plate woodcuts books xvi century': 1,\n",
       " 'washing , industrial Ruhr area': 1,\n",
       " 'sheepshearing': 1,\n",
       " 'untitled interior view table chairs': 1,\n",
       " 'death scipio': 1,\n",
       " 'swatch furnishing fabric': 1,\n",
       " 'dog laying die zweite thierfolge': 1,\n",
       " 'student notebook containing notes diagrams swatches': 1,\n",
       " 'myto cantilever chair': 1,\n",
       " 'plaque geese brother phillippe les oies du frere philippe': 1,\n",
       " 'christ apostles': 1,\n",
       " 'ruhrlandischer kunstlerbund': 1,\n",
       " 'houses amsterdam unpublished drypoints': 1,\n",
       " 'title page day dream': 1,\n",
       " 'national gallery shortly renovation vk': 1,\n",
       " 'weekend iii': 1,\n",
       " 'farmhouse bavarian alps': 1,\n",
       " 'mandle leaves thoughts , Valentine': 1,\n",
       " 'granada plate españa': 1,\n",
       " 'lying goat die zweite thierfolge': 1,\n",
       " 'telephone': 1,\n",
       " 'ruins temple jupiter agrigente': 1,\n",
       " 'tree hollowed der baum der meinetwegen hohl gewachsen ist': 1,\n",
       " 'monza chair': 1,\n",
       " 'subscribe sixth austrian war loan': 1,\n",
       " 'sampler cato': 1,\n",
       " 'plate passion desert': 1,\n",
       " 'sudarium': 1,\n",
       " 'begger': 1,\n",
       " 'sonia': 1,\n",
       " 'der fischverkauf': 1,\n",
       " 'pair spurs': 1,\n",
       " 'james hamilton lewis senator illinois meeting senate foreign affairs committee': 1,\n",
       " 'balloon palm luftballonpalme': 1,\n",
       " 'cato fire red': 1,\n",
       " 'caro bronze': 1,\n",
       " 'workshop werkstatt': 1,\n",
       " 'tamiris greek heroines': 1,\n",
       " 'sheltering strangers seven acts mercy': 1,\n",
       " 'queen sheba avoiding wooden bridge': 1,\n",
       " 'leopoldo magno caesar triumphus novem saeculorum imperii romano germanici leopoldo magno': 1,\n",
       " 'buffalo head facing left die zweite thierfolge': 1,\n",
       " 'grave plate sheets Hebel Alemannic poems': 1,\n",
       " 'milkmaid path': 1,\n",
       " 'ravine': 1,\n",
       " 'region aricia': 1,\n",
       " 'plate raccolta di vasi diversi di stef de la bella fiorentino': 1,\n",
       " 'woman staff phrygian cap': 1,\n",
       " 'frontispiece wozzeck': 1,\n",
       " 'cadiz plate seven españa': 1,\n",
       " 'das kleine formenalphabet small form alphabet': 1,\n",
       " 'baden baden grand hotel de russie': 1,\n",
       " 'sampler heather': 1,\n",
       " 'sampler arno': 1,\n",
       " 'huelva plate spain': 1,\n",
       " 'crowning thorns': 1,\n",
       " 'paris oenone greek heroines': 1,\n",
       " 'david observing bathsheba': 1,\n",
       " 'city wall': 1,\n",
       " 'porcelain object': 1,\n",
       " 'montechristo': 1,\n",
       " 'hubbe house magdeberg germany plan studies': 1,\n",
       " 'hubbe house magdeberg germany floor plan grid': 1,\n",
       " 'calf feeding die zweite thierfolge': 1,\n",
       " 'cats bauhaus prints new european graphics portfolio': 1,\n",
       " 'infantry demi lancer armor': 1,\n",
       " 'ge lessing': 1,\n",
       " 'removing leaves tree das entblättern eines baumes': 1,\n",
       " 'physiognomien': 1,\n",
       " 'protection cold': 1,\n",
       " 'bless contemporary remediation toc pillowdo': 1,\n",
       " 'landscape boy horse': 1,\n",
       " 'christ table mary martha': 1,\n",
       " 'youth playing lyre maiden fountain': 1,\n",
       " 'tall cylinder': 1,\n",
       " 'old church': 1,\n",
       " 'costume design creation man': 1,\n",
       " 'er wird es nie begreifen understand plate ypsilon': 1,\n",
       " 'button palm knopfpalme': 1,\n",
       " 'capture christ': 1,\n",
       " 'graeff olbilder und farbige grafik': 1,\n",
       " 'covered goblet male female silhouettes': 1,\n",
       " 'death lucretia': 1,\n",
       " 'nude standing': 1,\n",
       " 'awl': 1,\n",
       " 'ruins birg castle': 1,\n",
       " 'ernest saxon dukes electors': 1,\n",
       " 'Berlin Humboldtstraße seen Berlin Humboldtstraße': 1,\n",
       " 'houses windows houses windows': 1,\n",
       " 'ruku iv': 1,\n",
       " 'human palm menschenpalme': 1,\n",
       " 'hand providence strew flowers path life valentine': 1,\n",
       " 'plate radierversuche': 1,\n",
       " 'auch ein todtentanz title page text': 1,\n",
       " 'solomom adoring idols': 1,\n",
       " 'tired man': 1,\n",
       " 'feeding hungry seven acts mercy': 1,\n",
       " 'weekend ii': 1,\n",
       " 'street night nightly street': 1,\n",
       " 'executioner': 1,\n",
       " 'plowers': 1,\n",
       " 'david chosen men israel accompanying ark bible called ninth german bible plate woodcuts books th century': 1,\n",
       " 'forge multiplizierte kunst': 1,\n",
       " 'portfolio cover wrapper colophon title page war': 1,\n",
       " 'cover die decke': 1,\n",
       " 'man machine chair': 1,\n",
       " 'sternbild cogito ergo credo constellation think believe': 1,\n",
       " 'lookout platform aussichtsplattform': 1,\n",
       " 'throat orchid rachen einer orchidee': 1,\n",
       " 'heather moss': 1,\n",
       " 'graeff essener forum bildender kunstler': 1,\n",
       " 'virgil suspended basket copy': 1,\n",
       " 'teapot diffuser lid': 1,\n",
       " 'lenz': 1,\n",
       " 'untitled e graeff variationen zu zeichnungen von': 1,\n",
       " 'landscape figures horseback': 1,\n",
       " 'combat horseman footsoldier': 1,\n",
       " 'portrait szlezak actor': 1,\n",
       " 'death woman child': 1,\n",
       " 'illustration von dem nutz der ding plate seventeen woodcuts books xvi century': 1,\n",
       " 'granada plate spain': 1,\n",
       " 'fedja plays suicide time': 1,\n",
       " 'weekend': 1,\n",
       " 'glacier multiplizierte kunst': 1,\n",
       " 'doppelganger doppelganger': 1,\n",
       " 'glove palm handschuhpalme': 1,\n",
       " 'cotton palm wattepalme': 1,\n",
       " 'passimi il sale tableware alle cinque': 1,\n",
       " 'tourists': 1,\n",
       " 'wine jug lamb god': 1,\n",
       " 'man horse': 1,\n",
       " 'beautiful fountain near schönburg': 1,\n",
       " 'horizont berlin ii': 1,\n",
       " 'sampler ebro': 1,\n",
       " 'rad': 1,\n",
       " 'holy roman empire coat arms cologne coat arms koelner chronik cologne chronicle plate woodcuts books th century': 1,\n",
       " 'duke otto saxony wife theokemia sachsenchronik saxon chronicle plate woodcuts books th century': 1,\n",
       " 'german triumph': 1,\n",
       " 'saint john cemetery view city nuremberg collection memorable medieval buildings germany': 1,\n",
       " 'illustration das leben der heiligen plate sixteen woodcuts books xvi century': 1,\n",
       " 'auch ein todtentanz plate iv': 1,\n",
       " 'cover collection new flowers taste manufacture persian cloth invented drawn jean pillement': 1,\n",
       " 'industryruhr region industrieruhrgebiet': 1,\n",
       " 'cato oyster': 1,\n",
       " 'cato olive': 1,\n",
       " 'cato black': 1,\n",
       " 'saint wilbolt heiligenleben winterteil lives saints — wintertime plate woodcuts books th century': 1,\n",
       " 'fisherman shield': 1,\n",
       " 'dogs attacking bull': 1,\n",
       " 'construction site baustelle': 1,\n",
       " 'tappit hen': 1,\n",
       " 'pageant honor pope pius vi': 1,\n",
       " 'studies lowrise hospital': 1,\n",
       " 'st laurence': 1,\n",
       " 'artist motherinlaw plate fourteen bei den corinthern': 1,\n",
       " 'work drawing werkzeichnung': 1,\n",
       " 'drawing nachzeichnung': 1,\n",
       " 'listener speaks': 1,\n",
       " 'tiber orange': 1,\n",
       " 'elastic naugahyde putty': 1,\n",
       " 'herzog ludwig ludmilla': 1,\n",
       " 'sunday going church near berchtesgaden': 1,\n",
       " 'shield unicorn held lady': 1,\n",
       " 'dogs die zweite thierfolge': 1,\n",
       " 'governor schopfheim plate seven sheets Hebel Alemannic poems': 1,\n",
       " 'Ghost Kandern Road Plate Sheets Lever Alemannic Poems': 1,\n",
       " 'governor schopfheim plate sheets Hebel Alemannic poems': 1,\n",
       " 'songs painters etchings': 1,\n",
       " 'painter wandering song': 1,\n",
       " 'madonna christ child': 1,\n",
       " 'beggars vanities recto irate women verso navis stultifera ship fools plate woodcuts books th century': 1,\n",
       " 'man preached reeds recto armed noble presumed little verso fabulae et vita fables life plate woodcuts books th century': 1,\n",
       " 'martyrdom saint lucy heiligenleben sommerteil lives saints summertime plate woodcuts books th century': 1,\n",
       " 'saint ciriaco heiligenleben lives saints plate woodcuts books th century': 1,\n",
       " 'figwort recto bloodroot verso gart der gesundheit garden health plate woodcuts books th century': 1,\n",
       " 'bishops prophets kings schedel weltchronik schedel world history plate woodcuts books th century': 1,\n",
       " 'cathedral churchyard near old rectory minster regensberg': 1,\n",
       " 'drinking cup maigelein': 1,\n",
       " 'bridge salaro': 1,\n",
       " 'white carrot title page': 1,\n",
       " 'harrow copper': 1,\n",
       " 'cato orange': 1,\n",
       " 'trick glass': 1,\n",
       " 'title page xx stuck zum ornamental designs goblets beakers': 1,\n",
       " 'smoothing plane': 1,\n",
       " 'shaping plane': 1,\n",
       " 'congress double betrothal vienna plate historical scenes life emperor maximilian triumphal arch': 1,\n",
       " 'jansons schubert mozark haydn': 1,\n",
       " 'sacrifice plate creation — death — perish': 1,\n",
       " 'world plate creation — death — perish': 1,\n",
       " 'church neviges velbert germany': 1,\n",
       " 'untitled lord nelson': 1,\n",
       " 'eberholzen hildesheim': 1,\n",
       " 'marie wild embrace drum major plate wozzeck': 1,\n",
       " 'expulsion hungarians plate historical scenes life emperor maximilian triumphal arch': 1,\n",
       " 'church pilgrimage tirol': 1,\n",
       " 'battle lechfeld recto duke wolpy bavaria wife atheyt verso sachsenchronik saxon chronicle plate woodcuts books th century': 1,\n",
       " 'saint quiriaco heiligenleben lives saints plate woodcuts books th century': 1,\n",
       " 'cleaver': 1,\n",
       " 'pair cuisses poleyns': 1,\n",
       " 'vegetable dish lid': 1,\n",
       " 'relay post autumn battle champagne war': 1,\n",
       " 'dedication plate love': 1,\n",
       " 'Cologne Hohenzollern Bridge': 1,\n",
       " 'marabu navymauve': 1,\n",
       " 'dynamic terra cotta': 1,\n",
       " 'untitled zachary taylor th president': 1,\n",
       " 'altar frontal depicting resurrection saints': 1,\n",
       " 'jesus preaching disciples plenarium plate woodcuts books th century': 1,\n",
       " 'saint policarpus lives heiligenleben sommerteil saints summertime plate woodcuts books th century': 1,\n",
       " 'man kneeling veiled woman mosque background': 1,\n",
       " 'suckling foal samland ode': 1,\n",
       " 'caro burnt orange': 1,\n",
       " 'notus red': 1,\n",
       " 'elastic naugahyde gray': 1,\n",
       " 'plane moss': 1,\n",
       " 'cavalier fawn': 1,\n",
       " 'cavalier apple green': 1,\n",
       " 'lana sand': 1,\n",
       " 'lana royal': 1,\n",
       " 'prestini charcoal': 1,\n",
       " 'dynamic tobacco': 1,\n",
       " 'dynamic red': 1,\n",
       " 'monoli ii s': 1,\n",
       " 'ruku v': 1,\n",
       " 'second war guelders plate historical scenes life emperor maximilian triumphal arch': 1,\n",
       " 'bavarian war plate historical scenes life emperor maximilian triumphal arch': 1,\n",
       " 'conquest naples plate historical scenes life emperor maximilian triumphal arch': 1,\n",
       " 'swiss war plate historical scenes life emperor maximilian triumphal arch': 1,\n",
       " 'capitulation french city plate historical scenes life emperor maximilian triumphal arch': 1,\n",
       " 'second flemish rebellion plate historical scenes life emperor maximilian triumphal arch': 1,\n",
       " 'battle liège plate historical scenes life emperor maximilian triumphal arch': 1,\n",
       " 'war guelders plate historical scenes life emperor maximilian triumphal arch': 1,\n",
       " 'battle guinegate plate historical scenes life emperor maximilian triumphal arch': 1,\n",
       " 'victoria building design competition design studies': 1,\n",
       " 'christ limbo': 1,\n",
       " 'death christ': 1,\n",
       " 'hagen leaves siegfried body carried home forest': 1,\n",
       " 'waterfall cascade': 1,\n",
       " 'unterschiedliche neue inventionen': 1,\n",
       " 'disembarking travel pictures italysouth seas': 1,\n",
       " 'cato moss': 1,\n",
       " 'ebro yelloworange': 1,\n",
       " 'poly stripes orangegoldcopper': 1,\n",
       " 'roll returned soldiers war': 1,\n",
       " 'reinforce left pauldron': 1,\n",
       " 'smallsword': 1,\n",
       " 'wheellock spanner': 1,\n",
       " 'codpiece': 1,\n",
       " 'saint philipp neri cross book': 1,\n",
       " 'title page radierversuche': 1,\n",
       " 'dancing couple plate seven day dream': 1,\n",
       " 'mountain landscape staffage': 1,\n",
       " 'children recto sketches head eyes lips flowers verso': 1,\n",
       " 'colonnade tzarskoésélo palace': 1,\n",
       " 'panel jacket': 1,\n",
       " 'bust roman emperor': 1,\n",
       " 'auction cupids': 1,\n",
       " 'house destroyed air bombs tournai war': 1,\n",
       " 'quartet royalsapphireskyice blue': 1,\n",
       " 'canteen haplincourt war': 1,\n",
       " 'meal sap trench loretto heights war': 1,\n",
       " 'airplanes dress furnishing fabric': 1,\n",
       " 'fight hunger war elect thälmann fight hunger war elect thälmann': 1,\n",
       " 'lacock abbey': 1,\n",
       " 'daily': 1,\n",
       " 'studies trees beginning landscape artists tree studies aspiring landscape artists': 1,\n",
       " 'fifth war loan': 1,\n",
       " 'industrious hunter spring': 1,\n",
       " 'portfolio hata': 1,\n",
       " 'marabu redorange': 1,\n",
       " 'inca gold': 1,\n",
       " 'quartet coppergoldyellowlemon': 1,\n",
       " 'stave tankard': 1,\n",
       " 'women soldiers dancing village square': 1,\n",
       " 'caro amber': 1,\n",
       " 'parish church boppard rhine': 1,\n",
       " 'equestrienne': 1,\n",
       " 'cauldron': 1,\n",
       " 'incense burner form duck': 1,\n",
       " 'cavaliers taking leave sweethearts': 1,\n",
       " 'fourth foolish virgin': 1,\n",
       " 'moors conversation': 1,\n",
       " 'hubbe house magdeberg germany plan study': 1,\n",
       " 'hubbe house magdeberg germany early plan sketch': 1,\n",
       " 'grain leather black': 1,\n",
       " 'salonen grieg sibelius': 1,\n",
       " 'solisten': 1,\n",
       " 'bayerische staatsoper la forza del destino': 1,\n",
       " 'jansons stab mater': 1,\n",
       " 'boiler house assembly plant construction berlin municipal electricity works power plant west kesselhaussttutzen montegeanlage bewag berlin kraftwerk west': 1,\n",
       " 'going destruction plate creation — death — perish': 1,\n",
       " 'memorial sheet memorial sheet plate creation — death — perish': 1,\n",
       " 'death space death plate creation — death — perish': 1,\n",
       " 'untitled christ hs': 1,\n",
       " 'nach der arbeit industrieruhrgebiet': 1,\n",
       " 'landscape river town castle': 1,\n",
       " 'bayerische staatsoper lucia di lammermoor': 1,\n",
       " 'schumannberian courtier': 1,\n",
       " 'bayerische staatsoper die sache makropulos': 1,\n",
       " 'boiler house berlin municipal electricity works vor den kesseln bewag berlin': 1,\n",
       " 'eternity eternity plate creation — death — perish': 1,\n",
       " 'dream night rügen': 1,\n",
       " 'death mark antony': 1,\n",
       " 'humpen': 1,\n",
       " 'baptismal hall cloisters cathedral mainz collection memorable medieval buildings germany': 1,\n",
       " 'yang pu moving family': 1,\n",
       " 'funerary urn hunping': 1,\n",
       " 'head luohan': 1,\n",
       " 'man boots': 1,\n",
       " 'mirror tlv pattern': 1,\n",
       " 'armored guardian': 1,\n",
       " 'dish paired dragons cloudscrolls flaiming pearl': 1,\n",
       " 'mountainshaped incense burner boshan xianglu': 1,\n",
       " 'bamboocovered stream spring rain': 1,\n",
       " 'wine flask bian hu': 1,\n",
       " 'foliate cup stand': 1,\n",
       " 'suspension bell bo Eastern Zhou Dynasty bronze bo': 1,\n",
       " 'foliate dish crane deer amid clouds': 1,\n",
       " 'hunt mountains heaven': 1,\n",
       " 'cup shape archaic bronze vessel lizards': 1,\n",
       " 'green tara seated pose royal ease lalitasana lotus stalks right shoulder hands gestures reasoning vitarkamudra gift conferring varadamudra': 1,\n",
       " 'bowl medallionsof butterflies peonies chrysanthemums peaches plums orchidsf butterflies': 1,\n",
       " 'tea bowl': 1,\n",
       " 'pillars country': 1,\n",
       " 'covered ewer lizardshaped handle': 1,\n",
       " 'dish dragons writhing amid floral scrolls': 1,\n",
       " 'tripod dish handles': 1,\n",
       " 'buddhist votive stele': 1,\n",
       " 'bodhisattva': 1,\n",
       " 'camel rider': 1,\n",
       " 'storage jar hu hunting scenes': 1,\n",
       " 'large bowl lotus scrolls interior overlapping petals exterior': 1,\n",
       " 'bottleshaped vase': 1,\n",
       " 'melonshaped water pot': 1,\n",
       " 'lacquer tea bowl carved lacquer bowl Emperor Qianlong': 1,\n",
       " 'jar tubular handles peonies endless knot pendant balls pendant lozenges': 1,\n",
       " 'pair cups': 1,\n",
       " 'ruin church lady tombstones genevieve count palatine siegfried mosel valley near andernach collection memorable medieval buildings germany': 1,\n",
       " 'frederick ii roi de prusse': 1,\n",
       " 'horses fighting dog': 1,\n",
       " 'folio box': 1,\n",
       " 'title page': 1,\n",
       " 'winged glass winged glass': 1,\n",
       " 'girl sea': 1,\n",
       " 'night scene': 1,\n",
       " 'sitting girl unpublished drypoints': 1,\n",
       " 'nurse child': 1,\n",
       " 'untitled landscape old buildings bridge': 1,\n",
       " 'master photographer Cologne': 1,\n",
       " 'plate totentanz': 1,\n",
       " 'apartment building wohnhaus richthofengasse vienna austria plan': 1,\n",
       " 'flower holder': 1,\n",
       " 'cows pasture rheinsberg': 1,\n",
       " 'rocky landscape figures dog path': 1,\n",
       " 'wooded pond bathing figures vista river bridge farms': 1,\n",
       " 'valley early spring mountains': 1,\n",
       " 'nymphs bathing near waterfalls mountain landscape': 1,\n",
       " 'scene revelations': 1,\n",
       " 'molding plane': 1,\n",
       " 'bearded male head steel helmet': 1,\n",
       " 'distant view': 1,\n",
       " 'bridge pedestrians bridge pedestrians': 1,\n",
       " 'lawndale commons site plan': 1,\n",
       " 'oil lamp': 1,\n",
       " 'farm men cows': 1,\n",
       " 'scene chekhov cherry orchard': 1,\n",
       " 'horse trail tiergarten berlin': 1,\n",
       " 'study head': 1,\n",
       " 'm raum': 1,\n",
       " 'riding avenue': 1,\n",
       " 'stove tile': 1,\n",
       " 'landscape vineyard middle chariot loaded poles': 1,\n",
       " 'leese nienburg': 1,\n",
       " 'tiber azure': 1,\n",
       " 'water rises': 1,\n",
       " 'johann georg iii elector saxony': 1,\n",
       " 'illustration coronijke van hollandt plate woodcuts books xvi century': 1,\n",
       " 'chairone': 1,\n",
       " 'tamtam table': 1,\n",
       " 'tower man walking': 1,\n",
       " 'study boy': 1,\n",
       " 'pope miltiades recto saint gereon basilica verso koelner chronik cologne chronicle plate woodcuts books th century': 1,\n",
       " 'saint lupo heiligenleben lives saints plate woodcuts books th century': 1,\n",
       " 'lisbon ponte de abril': 1,\n",
       " 'bless n ° present perfect continuous n ° contenttendersmany volume iv': 1,\n",
       " 'gateway river tribune tower': 1,\n",
       " 'mona champagne': 1,\n",
       " 'cato royalpurple': 1,\n",
       " 'soltau falling bostel september': 1,\n",
       " 'plane dark brown': 1,\n",
       " 'prestini pinkplum': 1,\n",
       " 'heather greengold': 1,\n",
       " 'sergit ii': 1,\n",
       " 'sergit iii': 1,\n",
       " 'untitled g graeff variationen zu zeichnungen von': 1,\n",
       " 'untitled f graeff variationen zu zeichnungen von': 1,\n",
       " 'untitled b graeff variationen zu zeichnungen von': 1,\n",
       " 'hungarian campaign plate historical scenes life emperor maximilian triumphal arch': 1,\n",
       " 'maximilian henry vii england plate historical scenes life emperor maximilian triumphal arch': 1,\n",
       " 'flemish rebellion plate historical scenes life emperor maximilian triumphal arch': 1,\n",
       " 'siege utrecht plate historical scenes life emperor maximilian triumphal arch': 1,\n",
       " 'thimister b': 1,\n",
       " 'monte rosso bay travel pictures italysouth seas': 1,\n",
       " 'box cover': 1,\n",
       " 'hotel walchensee walchensee': 1,\n",
       " 'cavalier cinnamon': 1,\n",
       " 'hommage los angeles': 1,\n",
       " 'bojen buoys': 1,\n",
       " 'johann friedrich saxon dukes electors': 1,\n",
       " 'kutscher repariert peitsche coachman repairing whip': 1,\n",
       " 'elastic naugahyde tan': 1,\n",
       " 'elastic naugahyde lime': 1,\n",
       " 'elastic naugahyde burnt olive': 1,\n",
       " 'elastic naugahyde olive': 1,\n",
       " 'elastic naugahyde mustard': 1,\n",
       " 'elastic naugahyde citron': 1,\n",
       " 'oxford bankers grey': 1,\n",
       " 'plane red rust': 1,\n",
       " 'plane avacado': 1,\n",
       " 'plane dark purple': 1,\n",
       " 'plane plum': 1,\n",
       " 'plane blue': 1,\n",
       " 'plane copper': 1,\n",
       " 'executive tweed ii yellow tweed': 1,\n",
       " 'executive tweed ii blue tweed': 1,\n",
       " 'executive tweed ii flame tweed': 1,\n",
       " 'executive tweed ii charcoal tweed': 1,\n",
       " 'executive tweed ii tobacco tweed': 1,\n",
       " 'executive tweed ii hazel black tweed': 1,\n",
       " 'executive tweed ii beige charcoal tweed': 1,\n",
       " 'executive tweed persimmonbrown tweed': 1,\n",
       " 'executive tweed olivesand tweed': 1,\n",
       " 'executive tweed moss tweed': 1,\n",
       " 'tiber camel': 1,\n",
       " 'tiber oyster': 1,\n",
       " 'untitled heads': 1,\n",
       " 'der nasweise': 1,\n",
       " 'spring seasons': 1,\n",
       " 'vietnam peace factfinding mission peace marchers vietnamese student wipes teargas eyes peace march broken saigon police': 1,\n",
       " 'humility demut': 1,\n",
       " 'title page spring den frühling': 1,\n",
       " 'portrait writer sascha anderson': 1,\n",
       " 'bayerische staatsoper die frau ohne schatten': 1,\n",
       " 'brahmsnielsendebussy': 1,\n",
       " 'untitled diagonals': 1,\n",
       " 'boys bathing near bad kösen': 1,\n",
       " 'untitled dog ax': 1,\n",
       " 'pietà angels descent cross': 1,\n",
       " 'glorification veteran association apotheose des kriegervereins': 1,\n",
       " 'face das dritte gesicht': 1,\n",
       " 'little buffoon': 1,\n",
       " 'mural photographer mural photographer': 1,\n",
       " 'winter seasons': 1,\n",
       " 'girolamo da siena': 1,\n",
       " 'autumn seasons': 1,\n",
       " 'summer seasons': 1,\n",
       " 'Portrait Albrecht Dürer': 1,\n",
       " 'plate military figures': 1,\n",
       " 'apollo marsyasjudgment midas': 1,\n",
       " 'emperor matthias empress anna': 1,\n",
       " 'mythological marine suject roundel': 1,\n",
       " 'hans kellerthaler': 1,\n",
       " 'mars seven planetary gods': 1,\n",
       " 'georg silbermann concillor neuburg': 1,\n",
       " 'blue lake der blaue': 1,\n",
       " 'static drift': 1,\n",
       " 'till cows come home study till cows come home': 1,\n",
       " 'cavalier purple': 1,\n",
       " 'warrior dog resting rocky rapids': 1,\n",
       " 'panels curtain fabric': 1,\n",
       " 'pink white roses': 1,\n",
       " 'morocco white': 1,\n",
       " 'tacoma bluerust': 1,\n",
       " 'tacoma bluetan': 1,\n",
       " 'tacoma brownplum': 1,\n",
       " 'tacoma plum': 1,\n",
       " 'tacoma rustplum': 1,\n",
       " 'tacoma brown': 1,\n",
       " 'tacoma browntan': 1,\n",
       " 'tacoma tanrust': 1,\n",
       " 'marabu royalnavy': 1,\n",
       " 'marabu navypurple': 1,\n",
       " 'marabu blackgray': 1,\n",
       " 'marabu blackwhite': 1,\n",
       " 'marabu coppertabacco': 1,\n",
       " 'marabu brownbeige': 1,\n",
       " 'marabu greenmistle': 1,\n",
       " 'marabu goldgray': 1,\n",
       " 'marabu goldyellow': 1,\n",
       " 'marabu yellowwhite': 1,\n",
       " 'ebro goldcopper': 1,\n",
       " 'ebro persimmon': 1,\n",
       " 'harrow olive': 1,\n",
       " 'harrow light green': 1,\n",
       " 'harrow bronze': 1,\n",
       " 'harrow saffron': 1,\n",
       " 'harrow tobacco': 1,\n",
       " 'harrow charcoal': 1,\n",
       " 'harrow brown': 1,\n",
       " 'harrow oyster': 1,\n",
       " 'morocco oyster': 1,\n",
       " 'morocco brown': 1,\n",
       " 'morocco persimmon': 1,\n",
       " 'prestini tangerine': 1,\n",
       " 'peasants cattle crossing ford': 1,\n",
       " 'marczinsky': 1,\n",
       " 'sampler morocco': 1,\n",
       " 'untitled schweizerlat st goarshausen': 1,\n",
       " 'untitled bergün': 1,\n",
       " 'peat boat hamme river': 1,\n",
       " 'gazebo': 1,\n",
       " 'puppet theater': 1,\n",
       " 'portfolio cover krüppel': 1,\n",
       " 'ber von albano bei rom': 1,\n",
       " 'hunting hanger scabbard locket': 1,\n",
       " 'folder hata': 1,\n",
       " 'prestini olive': 1,\n",
       " 'mona copper': 1,\n",
       " 'morocco gold': 1,\n",
       " 'mona oyster': 1,\n",
       " 'tiber kelly green': 1,\n",
       " 'tiber charcoal': 1,\n",
       " 'tiber purple': 1,\n",
       " 'tiber fuchsia': 1,\n",
       " 'tiber citron': 1,\n",
       " 'tiber olive': 1,\n",
       " 'tiber mistle': 1,\n",
       " 'tiber brown': 1,\n",
       " 'morocco black': 1,\n",
       " 'morocco copper': 1,\n",
       " 'morocco saffron': 1,\n",
       " 'morocco olive': 1,\n",
       " 'holy family young john baptist': 1,\n",
       " 'mr knife miss fork': 1,\n",
       " 'christ cross angels': 1,\n",
       " 'la liseuse woman reading': 1,\n",
       " 'woman doorway': 1,\n",
       " 'basin': 1,\n",
       " 'triumphal arch order golden fleece center': 1,\n",
       " 'houses ruined wall overlooking river': 1,\n",
       " 'wife artist': 1,\n",
       " 'house walchensee': 1,\n",
       " 'virgin grassy bank': 1,\n",
       " 'bayerische staatsoper boris godunow': 1,\n",
       " 'inca red': 1,\n",
       " 'executive tweed ii red tweed': 1,\n",
       " 'cavalier orange': 1,\n",
       " 'hrh prince prussia princeregent': 1,\n",
       " 'wine': 1,\n",
       " 'maximilian maria burgundy plate historical scenes life emperor maximilian triumphal arch': 1,\n",
       " 'hubbe house magdeberg germany floor plan study': 1,\n",
       " 'eiffel tower paris eiffelturm paris': 1,\n",
       " 'karmel dachau': 1,\n",
       " 'maximilian henry viii england plate historical scenes life emperor maximilian triumphal arch': 1,\n",
       " 'camera conquers unknown photographic territory die kamera erobert fotografisches neuland': 1,\n",
       " 'bless n ° worker delight n ° daycationsur volume': 1,\n",
       " 'seven sleepers der heiligen leben sommerteil lives saints summertime plate woodcuts books th century': 1,\n",
       " 'untitled valentine pink flower': 1,\n",
       " 'oberlin gazed animosity … plate lenz': 1,\n",
       " 'herdsman sharpening scythe cattle': 1,\n",
       " 'sailors antwerp war': 1,\n",
       " 'church kobern mosel': 1,\n",
       " 'bless n ° presuturelaura issue': 1,\n",
       " 'almanach white': 1,\n",
       " 'cato aquamarine': 1,\n",
       " 'beata humbelina crucifix': 1,\n",
       " 'set wine glasses': 1,\n",
       " 'oil lamp measuring time': 1,\n",
       " 'plate silenus putti': 1,\n",
       " 'puzzle mug': 1,\n",
       " 'mr mrs goerits': 1,\n",
       " 'covered bowl': 1,\n",
       " 'armorial covered tankard': 1,\n",
       " 'arioviste unterredung mit caezar': 1,\n",
       " 'girl hand': 1,\n",
       " 'coal station amsterdam': 1,\n",
       " 'reichstag': 1,\n",
       " 'man m schilf': 1,\n",
       " 'cassel': 1,\n",
       " 'die holle das abc': 1,\n",
       " 'fortress lake': 1,\n",
       " 'figure man dog': 1,\n",
       " 'portrait arnold holz': 1,\n",
       " 'pricket candlestick pair': 1,\n",
       " 'castle hilltop': 1,\n",
       " 'resting bacchante': 1,\n",
       " 'plate ornamental designs goblets beakers': 1,\n",
       " 'flinches st crayfish': 1,\n",
       " 'painter max ernst paris': 1,\n",
       " 'swiss lake': 1,\n",
       " 'design epitaph family members kneeling tomb': 1,\n",
       " 'design swiss heraldic arms': 1,\n",
       " 'herd coming arch rock': 1,\n",
       " 'clothing naked seven acts mercy': 1,\n",
       " 'saint sebald': 1,\n",
       " 'composition bulls': 1,\n",
       " 'portrait head man profile': 1,\n",
       " 'untitled d graeff variationen zu zeichnungen von': 1,\n",
       " 'gruftblatt plate historical scenes life emperor maximilian triumphal arch': 1,\n",
       " 'war venice plate historical scenes life emperor maximilian triumphal arch': 1,\n",
       " 'mountain lake figures': 1,\n",
       " 'winged goblet': 1,\n",
       " 'study portrait goeritz wife': 1,\n",
       " 'kingdom flora': 1,\n",
       " 'children gathering grapes': 1,\n",
       " 'biscuit mold adam eve expelled gates eden': 1,\n",
       " 'collegiate church lady castle schoenberg oberwesel rhine': 1,\n",
       " 'man purging fluid lungs recto plant abdominal pain verso hortus sanitatis garden health plate woodcuts books th century': 1,\n",
       " 'jesus foretelling destruction jerusalem spiegel menschlicher behältnis mirror human salvation plate woodcuts books th century': 1,\n",
       " 'untitled view radiotower berlin': 1,\n",
       " 'ebro natural': 1,\n",
       " 'cato royal': 1,\n",
       " 'esther ahasuerus': 1,\n",
       " 'jeu de paume': 1,\n",
       " 'circus artists zirkusartisten': 1,\n",
       " 'battle hainaut plate historical scenes life emperor maximilian triumphal arch': 1,\n",
       " 'st simon apostles': 1,\n",
       " 'mediator': 1,\n",
       " 'woman goose': 1,\n",
       " 'blind woman forest': 1,\n",
       " 'shepherd': 1,\n",
       " 'neptune riding chariot sea': 1,\n",
       " 'aeneas leaving burning city troy': 1,\n",
       " 'passage corps troops near village': 1,\n",
       " ...}"
      ]
     },
     "execution_count": 57,
     "metadata": {},
     "output_type": "execute_result"
    }
   ],
   "source": [
    "df['titles'].value_counts().to_dict()"
   ]
  },
  {
   "cell_type": "code",
   "execution_count": 58,
   "id": "c9253162",
   "metadata": {
    "execution": {
     "iopub.execute_input": "2024-03-11T08:33:03.990377Z",
     "iopub.status.busy": "2024-03-11T08:33:03.989852Z",
     "iopub.status.idle": "2024-03-11T08:33:03.996514Z",
     "shell.execute_reply": "2024-03-11T08:33:03.994936Z"
    },
    "papermill": {
     "duration": 0.054774,
     "end_time": "2024-03-11T08:33:03.998853",
     "exception": false,
     "start_time": "2024-03-11T08:33:03.944079",
     "status": "completed"
    },
    "tags": []
   },
   "outputs": [
    {
     "name": "stdout",
     "output_type": "stream",
     "text": [
      "Number of rows: 33222\n",
      "Number of columns: 3\n"
     ]
    }
   ],
   "source": [
    "df_shape(df)"
   ]
  },
  {
   "cell_type": "code",
   "execution_count": 59,
   "id": "012a1359",
   "metadata": {
    "execution": {
     "iopub.execute_input": "2024-03-11T08:33:04.089396Z",
     "iopub.status.busy": "2024-03-11T08:33:04.088795Z",
     "iopub.status.idle": "2024-03-11T08:33:04.098745Z",
     "shell.execute_reply": "2024-03-11T08:33:04.097319Z"
    },
    "papermill": {
     "duration": 0.058113,
     "end_time": "2024-03-11T08:33:04.101448",
     "exception": false,
     "start_time": "2024-03-11T08:33:04.043335",
     "status": "completed"
    },
    "tags": []
   },
   "outputs": [
    {
     "data": {
      "text/plain": [
       "{'China': 0,\n",
       " 'England': 0,\n",
       " 'France': 0,\n",
       " 'Germany': 0,\n",
       " 'Italy': 0,\n",
       " 'Japan': 0,\n",
       " 'Netherlands': 0,\n",
       " 'UnitedStates': 0}"
      ]
     },
     "execution_count": 59,
     "metadata": {},
     "output_type": "execute_result"
    }
   ],
   "source": [
    "final_image_count = {value: 0 for key, value in path_dict.items()}\n",
    "final_image_count"
   ]
  },
  {
   "cell_type": "code",
   "execution_count": 60,
   "id": "d8f2b627",
   "metadata": {
    "execution": {
     "iopub.execute_input": "2024-03-11T08:33:04.194187Z",
     "iopub.status.busy": "2024-03-11T08:33:04.193693Z",
     "iopub.status.idle": "2024-03-11T08:33:04.232385Z",
     "shell.execute_reply": "2024-03-11T08:33:04.230920Z"
    },
    "papermill": {
     "duration": 0.087612,
     "end_time": "2024-03-11T08:33:04.235321",
     "exception": false,
     "start_time": "2024-03-11T08:33:04.147709",
     "status": "completed"
    },
    "tags": []
   },
   "outputs": [
    {
     "data": {
      "text/plain": [
       "{'China': 1774,\n",
       " 'England': 5321,\n",
       " 'France': 3798,\n",
       " 'Germany': 2853,\n",
       " 'Italy': 2837,\n",
       " 'Japan': 7272,\n",
       " 'Netherlands': 1372,\n",
       " 'UnitedStates': 7995}"
      ]
     },
     "execution_count": 60,
     "metadata": {},
     "output_type": "execute_result"
    }
   ],
   "source": [
    "for id in df['ids']:\n",
    "  final_image_count[path_dict[id.split(\"_\")[0]]] += 1\n",
    "final_image_count"
   ]
  },
  {
   "cell_type": "code",
   "execution_count": 61,
   "id": "2ad26607",
   "metadata": {
    "execution": {
     "iopub.execute_input": "2024-03-11T08:33:04.324981Z",
     "iopub.status.busy": "2024-03-11T08:33:04.324430Z",
     "iopub.status.idle": "2024-03-11T08:33:04.609448Z",
     "shell.execute_reply": "2024-03-11T08:33:04.608071Z"
    },
    "papermill": {
     "duration": 0.333908,
     "end_time": "2024-03-11T08:33:04.612835",
     "exception": false,
     "start_time": "2024-03-11T08:33:04.278927",
     "status": "completed"
    },
    "tags": []
   },
   "outputs": [
    {
     "data": {
      "image/png": "[encoded data removed]",
      "text/plain": [
       "<Figure size 640x480 with 1 Axes>"
      ]
     },
     "metadata": {},
     "output_type": "display_data"
    }
   ],
   "source": [
    "plot_images_distribution(final_image_count)"
   ]
  },
  {
   "cell_type": "markdown",
   "id": "77dba9d4",
   "metadata": {
    "papermill": {
     "duration": 0.044316,
     "end_time": "2024-03-11T08:33:04.701520",
     "exception": false,
     "start_time": "2024-03-11T08:33:04.657204",
     "status": "completed"
    },
    "tags": []
   },
   "source": [
    "## **Viewing final dataframe**"
   ]
  },
  {
   "cell_type": "code",
   "execution_count": 62,
   "id": "f9dbdc50",
   "metadata": {
    "execution": {
     "iopub.execute_input": "2024-03-11T08:33:04.793090Z",
     "iopub.status.busy": "2024-03-11T08:33:04.792547Z",
     "iopub.status.idle": "2024-03-11T08:33:04.806799Z",
     "shell.execute_reply": "2024-03-11T08:33:04.805474Z"
    },
    "papermill": {
     "duration": 0.063414,
     "end_time": "2024-03-11T08:33:04.809664",
     "exception": false,
     "start_time": "2024-03-11T08:33:04.746250",
     "status": "completed"
    },
    "tags": []
   },
   "outputs": [
    {
     "data": {
      "text/html": [
       "<div>\n",
       "<style scoped>\n",
       "    .dataframe tbody tr th:only-of-type {\n",
       "        vertical-align: middle;\n",
       "    }\n",
       "\n",
       "    .dataframe tbody tr th {\n",
       "        vertical-align: top;\n",
       "    }\n",
       "\n",
       "    .dataframe thead th {\n",
       "        text-align: right;\n",
       "    }\n",
       "</style>\n",
       "<table border=\"1\" class=\"dataframe\">\n",
       "  <thead>\n",
       "    <tr style=\"text-align: right;\">\n",
       "      <th></th>\n",
       "      <th>ids</th>\n",
       "      <th>titles</th>\n",
       "      <th>images_path</th>\n",
       "    </tr>\n",
       "  </thead>\n",
       "  <tbody>\n",
       "    <tr>\n",
       "      <th>0</th>\n",
       "      <td>usa_1</td>\n",
       "      <td>starry night astronauts</td>\n",
       "      <td>/kaggle/working/images/UnitedStates/UnitedStates/usa_1.jpg</td>\n",
       "    </tr>\n",
       "    <tr>\n",
       "      <th>1</th>\n",
       "      <td>usa_2</td>\n",
       "      <td>mansions</td>\n",
       "      <td>/kaggle/working/images/UnitedStates/UnitedStates/usa_2.jpg</td>\n",
       "    </tr>\n",
       "    <tr>\n",
       "      <th>2</th>\n",
       "      <td>usa_3</td>\n",
       "      <td>city landscape</td>\n",
       "      <td>/kaggle/working/images/UnitedStates/UnitedStates/usa_3.jpg</td>\n",
       "    </tr>\n",
       "    <tr>\n",
       "      <th>3</th>\n",
       "      <td>usa_4</td>\n",
       "      <td>hero construction</td>\n",
       "      <td>/kaggle/working/images/UnitedStates/UnitedStates/usa_4.jpg</td>\n",
       "    </tr>\n",
       "    <tr>\n",
       "      <th>4</th>\n",
       "      <td>usa_5</td>\n",
       "      <td>nighthawks</td>\n",
       "      <td>/kaggle/working/images/UnitedStates/UnitedStates/usa_5.jpg</td>\n",
       "    </tr>\n",
       "  </tbody>\n",
       "</table>\n",
       "</div>"
      ],
      "text/plain": [
       "     ids                   titles  \\\n",
       "0  usa_1  starry night astronauts   \n",
       "1  usa_2                 mansions   \n",
       "2  usa_3           city landscape   \n",
       "3  usa_4        hero construction   \n",
       "4  usa_5               nighthawks   \n",
       "\n",
       "                                                  images_path  \n",
       "0  /kaggle/working/images/UnitedStates/UnitedStates/usa_1.jpg  \n",
       "1  /kaggle/working/images/UnitedStates/UnitedStates/usa_2.jpg  \n",
       "2  /kaggle/working/images/UnitedStates/UnitedStates/usa_3.jpg  \n",
       "3  /kaggle/working/images/UnitedStates/UnitedStates/usa_4.jpg  \n",
       "4  /kaggle/working/images/UnitedStates/UnitedStates/usa_5.jpg  "
      ]
     },
     "execution_count": 62,
     "metadata": {},
     "output_type": "execute_result"
    }
   ],
   "source": [
    "df.head()"
   ]
  },
  {
   "cell_type": "code",
   "execution_count": 63,
   "id": "26eacb13",
   "metadata": {
    "execution": {
     "iopub.execute_input": "2024-03-11T08:33:04.902019Z",
     "iopub.status.busy": "2024-03-11T08:33:04.901480Z",
     "iopub.status.idle": "2024-03-11T08:33:04.942902Z",
     "shell.execute_reply": "2024-03-11T08:33:04.941312Z"
    },
    "papermill": {
     "duration": 0.090967,
     "end_time": "2024-03-11T08:33:04.946044",
     "exception": false,
     "start_time": "2024-03-11T08:33:04.855077",
     "status": "completed"
    },
    "tags": []
   },
   "outputs": [],
   "source": [
    "text = \"\"\n",
    "for title in df['titles']:\n",
    "  text += \" \"+title"
   ]
  },
  {
   "cell_type": "code",
   "execution_count": 64,
   "id": "5e8c9cca",
   "metadata": {
    "execution": {
     "iopub.execute_input": "2024-03-11T08:33:05.038810Z",
     "iopub.status.busy": "2024-03-11T08:33:05.038231Z",
     "iopub.status.idle": "2024-03-11T08:33:05.157403Z",
     "shell.execute_reply": "2024-03-11T08:33:05.156384Z"
    },
    "papermill": {
     "duration": 0.171348,
     "end_time": "2024-03-11T08:33:05.162534",
     "exception": false,
     "start_time": "2024-03-11T08:33:04.991186",
     "status": "completed"
    },
    "tags": []
   },
   "outputs": [
    {
     "name": "stdout",
     "output_type": "stream",
     "text": [
      "/kaggle/input/artwork-title-generator\n"
     ]
    },
    {
     "data": {
      "image/png": "[encoded data removed]",
      "text/plain": [
       "<PIL.PngImagePlugin.PngImageFile image mode=RGB size=417x626>"
      ]
     },
     "execution_count": 64,
     "metadata": {},
     "output_type": "execute_result"
    }
   ],
   "source": [
    "%cd /kaggle/input/artwork-title-generator\n",
    "image = Image.open('cloud_mask/artifact_1.png')\n",
    "image"
   ]
  },
  {
   "cell_type": "code",
   "execution_count": 65,
   "id": "58d1c83b",
   "metadata": {
    "execution": {
     "iopub.execute_input": "2024-03-11T08:33:05.263967Z",
     "iopub.status.busy": "2024-03-11T08:33:05.263389Z",
     "iopub.status.idle": "2024-03-11T08:33:05.272735Z",
     "shell.execute_reply": "2024-03-11T08:33:05.271499Z"
    },
    "papermill": {
     "duration": 0.061541,
     "end_time": "2024-03-11T08:33:05.275301",
     "exception": false,
     "start_time": "2024-03-11T08:33:05.213760",
     "status": "completed"
    },
    "tags": []
   },
   "outputs": [],
   "source": [
    "mask = np.array(image)"
   ]
  },
  {
   "cell_type": "code",
   "execution_count": 66,
   "id": "33d83768",
   "metadata": {
    "execution": {
     "iopub.execute_input": "2024-03-11T08:33:05.377250Z",
     "iopub.status.busy": "2024-03-11T08:33:05.376657Z",
     "iopub.status.idle": "2024-03-11T08:33:05.385886Z",
     "shell.execute_reply": "2024-03-11T08:33:05.384481Z"
    },
    "papermill": {
     "duration": 0.06342,
     "end_time": "2024-03-11T08:33:05.388579",
     "exception": false,
     "start_time": "2024-03-11T08:33:05.325159",
     "status": "completed"
    },
    "tags": []
   },
   "outputs": [
    {
     "name": "stdout",
     "output_type": "stream",
     "text": [
      "/kaggle/working\n"
     ]
    }
   ],
   "source": [
    "%cd /kaggle/working/"
   ]
  },
  {
   "cell_type": "code",
   "execution_count": 67,
   "id": "a0df786f",
   "metadata": {
    "execution": {
     "iopub.execute_input": "2024-03-11T08:33:05.493224Z",
     "iopub.status.busy": "2024-03-11T08:33:05.491999Z",
     "iopub.status.idle": "2024-03-11T08:33:06.822010Z",
     "shell.execute_reply": "2024-03-11T08:33:06.820676Z"
    },
    "papermill": {
     "duration": 1.38768,
     "end_time": "2024-03-11T08:33:06.825332",
     "exception": false,
     "start_time": "2024-03-11T08:33:05.437652",
     "status": "completed"
    },
    "tags": []
   },
   "outputs": [],
   "source": [
    "word_cloud = WordCloud(\n",
    "    collocations = False,\n",
    "    background_color = 'white',\n",
    "    mask = mask,\n",
    "    contour_color = 'white',\n",
    "    contour_width = 1\n",
    ").generate(text)"
   ]
  },
  {
   "cell_type": "code",
   "execution_count": 68,
   "id": "08aefab4",
   "metadata": {
    "execution": {
     "iopub.execute_input": "2024-03-11T08:33:06.924552Z",
     "iopub.status.busy": "2024-03-11T08:33:06.924040Z",
     "iopub.status.idle": "2024-03-11T08:33:07.858178Z",
     "shell.execute_reply": "2024-03-11T08:33:07.856829Z"
    },
    "papermill": {
     "duration": 0.990122,
     "end_time": "2024-03-11T08:33:07.864415",
     "exception": false,
     "start_time": "2024-03-11T08:33:06.874293",
     "status": "completed"
    },
    "tags": []
   },
   "outputs": [
    {
     "data": {
      "image/png": "[encoded data removed]",
      "text/plain": [
       "<Figure size 1500x800 with 1 Axes>"
      ]
     },
     "metadata": {},
     "output_type": "display_data"
    }
   ],
   "source": [
    "plt.figure(figsize=(15,8))\n",
    "plt.imshow(word_cloud, interpolation='bilinear')\n",
    "plt.axis(\"off\")\n",
    "plt.savefig('word_cloud.png')\n",
    "plt.show()"
   ]
  },
  {
   "cell_type": "markdown",
   "id": "06fb76fa",
   "metadata": {
    "papermill": {
     "duration": 0.050459,
     "end_time": "2024-03-11T08:33:07.969264",
     "exception": false,
     "start_time": "2024-03-11T08:33:07.918805",
     "status": "completed"
    },
    "tags": []
   },
   "source": [
    "## **Exporting to final .csv file**"
   ]
  },
  {
   "cell_type": "code",
   "execution_count": 69,
   "id": "e89baef5",
   "metadata": {
    "execution": {
     "iopub.execute_input": "2024-03-11T08:33:08.076703Z",
     "iopub.status.busy": "2024-03-11T08:33:08.075575Z",
     "iopub.status.idle": "2024-03-11T08:33:08.292547Z",
     "shell.execute_reply": "2024-03-11T08:33:08.291179Z"
    },
    "papermill": {
     "duration": 0.27455,
     "end_time": "2024-03-11T08:33:08.295651",
     "exception": false,
     "start_time": "2024-03-11T08:33:08.021101",
     "status": "completed"
    },
    "tags": []
   },
   "outputs": [],
   "source": [
    "df.to_csv('artwork_title_generator_data_noise_removed.csv', index = False)"
   ]
  }
 ],
 "metadata": {
  "kaggle": {
   "accelerator": "none",
   "dataSources": [
    {
     "datasetId": 4491410,
     "sourceId": 7808860,
     "sourceType": "datasetVersion"
    }
   ],
   "dockerImageVersionId": 30646,
   "isGpuEnabled": false,
   "isInternetEnabled": true,
   "language": "python",
   "sourceType": "notebook"
  },
  "kernelspec": {
   "display_name": "Python 3",
   "language": "python",
   "name": "python3"
  },
  "language_info": {
   "codemirror_mode": {
    "name": "ipython",
    "version": 3
   },
   "file_extension": ".py",
   "mimetype": "text/x-python",
   "name": "python",
   "nbconvert_exporter": "python",
   "pygments_lexer": "ipython3",
   "version": "3.10.13"
  },
  "papermill": {
   "default_parameters": {},
   "duration": 2467.397068,
   "end_time": "2024-03-11T08:33:11.880978",
   "environment_variables": {},
   "exception": null,
   "input_path": "__notebook__.ipynb",
   "output_path": "__notebook__.ipynb",
   "parameters": {},
   "start_time": "2024-03-11T07:52:04.483910",
   "version": "2.5.0"
  }
 },
 "nbformat": 4,
 "nbformat_minor": 5
}
